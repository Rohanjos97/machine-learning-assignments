{
  "nbformat": 4,
  "nbformat_minor": 0,
  "metadata": {
    "colab": {
      "provenance": []
    },
    "kernelspec": {
      "name": "python3",
      "display_name": "Python 3"
    },
    "language_info": {
      "name": "python"
    }
  },
  "cells": [
    {
      "cell_type": "markdown",
      "source": [
        "# 1. Generate 100 real number for the variable X from the uniform distribution U [0, 1].\n",
        "\n",
        "# 2. Construct the training set T = { ($x_1$,$y_1$), ($x_2$,$y_2$), ... , ($x_{100}$,$y_{100}$)} using the relation\n",
        "\n",
        "# $Y_i$ = sin(2 π $x_i$) + $ε_i$ where $ε_i$ ~ N(0,0.25).\n",
        "\n",
        "# In the similar way construct a testing set of size 50 Test = { ($x'_1$,$y'_1$),($x'_2$,$y'_2$),......,($x'_{50}$,$y'_{50}$)}."
      ],
      "metadata": {
        "id": "2QhzxRd0ocy-"
      }
    },
    {
      "cell_type": "code",
      "source": [
        "import pandas as pd\n",
        "import random as random\n",
        "import numpy as np\n",
        "import math\n",
        "import matplotlib.pyplot as plt\n",
        "from numpy.linalg import norm\n",
        "\n",
        "\n",
        "# Train data\n",
        "\n",
        "# Uniform distribution of training data\n",
        "X_train = np.random.uniform(0, 1, 100)\n",
        "\n",
        "Y_train = []\n",
        "for xval in X_train:\n",
        "  res = math.sin(2 * math.pi * xval) + np.random.uniform(0, 0.25)\n",
        "  Y_train.append(res)\n",
        "\n",
        "\n",
        "\n",
        "# Test data\n",
        "\n",
        "# Uniform distribution of testing data\n",
        "X_test = np.random.uniform(0, 1, 50)\n",
        "\n",
        "Y_test = []\n",
        "for xval in X_test:\n",
        "  res = math.sin(2 * math.pi * xval) + np.random.uniform(0, 0.25)\n",
        "  Y_test.append(res)\n",
        "\n",
        "\n",
        "# Plotting the graph of train and test data\n",
        "fig, ax = plt.subplots(1, 2, figsize=(15, 5))\n",
        "ax[0].scatter(X_train, Y_train)\n",
        "ax[0].set_title('Training Data')\n",
        "ax[1].scatter(X_test, Y_test)\n",
        "ax[1].set_title('Testing Data')"
      ],
      "metadata": {
        "colab": {
          "base_uri": "https://localhost:8080/",
          "height": 0
        },
        "id": "_OPIdk7xpOnO",
        "outputId": "7d3464d3-43c7-45ee-a919-3674ca6d35c4"
      },
      "execution_count": 83,
      "outputs": [
        {
          "output_type": "execute_result",
          "data": {
            "text/plain": [
              "Text(0.5, 1.0, 'Testing Data')"
            ]
          },
          "metadata": {},
          "execution_count": 83
        },
        {
          "output_type": "display_data",
          "data": {
            "text/plain": [
              "<Figure size 1080x360 with 2 Axes>"
            ],
            "image/png": "[encoded data removed]"
          },
          "metadata": {
            "needs_background": "light"
          }
        }
      ]
    },
    {
      "cell_type": "markdown",
      "source": [
        "# 3. Estimate the regularized Least Squares Polynomial Regression model of order M= 9, using the training set T using direct method. You also need to tune the regularization parameter λ which corresponds to minimum RMSE. After tuning the parameter λ, evaluate your estimated function using NMSE, RMSE, MAE and R2 on test set.\n",
        "\n",
        "## NOTE: Tuning for λ = 0.1, 0.05, $2^{-7}$, 0.0002 values."
      ],
      "metadata": {
        "id": "P5szq_SkqbgQ"
      }
    },
    {
      "cell_type": "code",
      "source": [
        "# Least Square Polynomial Regression\n",
        "def regularized_LSPR(x_dataset, y_dataset, degree, Lambda):\n",
        "  no_of_rows = len(x_dataset)\n",
        "  no_of_cols = degree+1\n",
        "\n",
        "  # finding the X matrix\n",
        "\n",
        "  # initialize X matrix with 0 initially\n",
        "  X = np.zeros((no_of_rows, no_of_cols))\n",
        "  lam_I = np.identity(degree+1)*Lambda\n",
        "  for xi in range (no_of_rows):\n",
        "    for deg in range (no_of_cols):\n",
        "      X[xi][deg] += math.pow(x_dataset[xi], deg)\n",
        "  \n",
        "  # calculating ((X^T . X)^(−1)) . X^T . Y\n",
        "  X_Trans_X = np.matrix((np.dot(X.T, X)))\n",
        "  X_Trans_X = np.add(X_Trans_X, lam_I)\n",
        "  X_Trans_X_Inv = X_Trans_X.I\n",
        "  temp = np.matrix(np.dot(X_Trans_X_Inv, X.T))\n",
        "  return np.dot(temp, y_dataset)\n",
        "\n",
        "reg_LSP_ord_9 = np.array(regularized_LSPR(X_train, Y_train, 9, 0))\n",
        "reg_LSP_ord_9_1 = np.array(regularized_LSPR(X_train, Y_train, 9, 0.1))\n",
        "reg_LSP_ord_9_05 = np.array(regularized_LSPR(X_train, Y_train, 9, 0.05))\n",
        "reg_LSP_ord_9_27 = np.array(regularized_LSPR(X_train, Y_train, 9, math.pow(2, -7)))\n",
        "reg_LSP_ord_9_0002 = np.array(regularized_LSPR(X_train, Y_train, 9, 0.0002))\n",
        "\n",
        "print(f'coefficient value with regularization and λ = 0: {reg_LSP_ord_9_1}')\n",
        "print(f'coefficient value with regularization and λ = 1: {reg_LSP_ord_9_05}')\n",
        "print(f'coefficient value with regularization and λ = 2^-7: {reg_LSP_ord_9_27}')\n",
        "print(f'coefficient value with regularization and λ = 2^-7: {reg_LSP_ord_9_0002}')"
      ],
      "metadata": {
        "colab": {
          "base_uri": "https://localhost:8080/"
        },
        "id": "I4MI_kwx7KGp",
        "outputId": "ab5af347-2c04-484e-ed6c-507ea38e76ab"
      },
      "execution_count": 84,
      "outputs": [
        {
          "output_type": "stream",
          "name": "stdout",
          "text": [
            "coefficient value with regularization and λ = 0: [[ 0.78341676  0.80183517 -3.23701712 -2.07321679 -0.44905135  0.61939538\n",
            "   1.11693804  1.21143144  1.05795121  0.76676459]]\n",
            "coefficient value with regularization and λ = 1: [[ 0.69317388  1.71671541 -4.5815429  -2.59528452 -0.12514532  1.28813658\n",
            "   1.7174912   1.49349962  0.89682332  0.11814956]]\n",
            "coefficient value with regularization and λ = 2^-7: [[  0.39200287   5.08025944 -10.42319121  -4.23038433   2.06009416\n",
            "    4.72633392   4.44499431   2.40710631  -0.48399233  -3.66047502]]\n",
            "coefficient value with regularization and λ = 2^-7: [[  0.14341361   8.03339032 -15.82428968  -6.67975834   6.20585697\n",
            "    9.36471515   5.85407668   0.61783891  -3.25654789  -4.47385168]]\n"
          ]
        }
      ]
    },
    {
      "cell_type": "code",
      "source": [
        "y_predicted_m9, y_predicted_m9_1, y_predicted_m9_05, y_predicted_m9_27, y_predicted_m9_0002 = [], [], [], [], []\n",
        "X = X_train\n",
        "\n",
        "for val in X:\n",
        "  y_val = 0\n",
        "  y1_val = 0\n",
        "  y05_val = 0\n",
        "  y27_val = 0\n",
        "  y0002val = 0\n",
        "  for deg in range(9, -1, -1):\n",
        "    y_val += reg_LSP_ord_9[0][deg] * math.pow(val, deg)\n",
        "    y1_val += reg_LSP_ord_9_1[0][deg] * math.pow(val, deg)\n",
        "    y05_val += reg_LSP_ord_9_05[0][deg] * math.pow(val, deg)\n",
        "    y27_val += reg_LSP_ord_9_27[0][deg] * math.pow(val, deg)\n",
        "    y0002val += reg_LSP_ord_9_0002[0][deg] * math.pow(val, deg)\n",
        "  y_predicted_m9.append(y_val)\n",
        "  y_predicted_m9_1.append(y1_val)\n",
        "  y_predicted_m9_05.append(y05_val)\n",
        "  y_predicted_m9_27.append(y27_val)\n",
        "  y_predicted_m9_0002.append(y0002val)\n",
        "\n",
        "# Sorting the data to plot line graph\n",
        "df_predicted_m9 = pd.DataFrame(data=(X, y_predicted_m9),index=['X', 'Y_predicted']).T.sort_values(by='X')\n",
        "df_predicted_m9_1 = pd.DataFrame(data=(X, y_predicted_m9_1),index=['X', 'Y_predicted']).T.sort_values(by='X')\n",
        "df_predicted_m9_05 = pd.DataFrame(data=(X, y_predicted_m9_05),index=['X', 'Y_predicted']).T.sort_values(by='X')\n",
        "df_predicted_m9_27 = pd.DataFrame(data=(X, y_predicted_m9_27),index=['X', 'Y_predicted']).T.sort_values(by='X')\n",
        "df_predicted_m9_0002 = pd.DataFrame(data=(X, y_predicted_m9_0002),index=['X', 'Y_predicted']).T.sort_values(by='X')\n",
        "\n",
        "\n",
        "# Plotting all the points to compare the regression graph\n",
        "\n",
        "fig, axes = plt.subplots(1, 1, figsize=(18, 10))\n",
        "axes.scatter(X_train, Y_train, color='blue')\n",
        "axes.plot(df_predicted_m9['X'], df_predicted_m9['Y_predicted'], color='red', linewidth=7, alpha=0.5)\n",
        "axes.plot(df_predicted_m9_1['X'], df_predicted_m9_1['Y_predicted'], color='purple', linewidth=3)\n",
        "axes.plot(df_predicted_m9_05['X'], df_predicted_m9_05['Y_predicted'], color='green', linewidth=3)\n",
        "axes.plot(df_predicted_m9_27['X'], df_predicted_m9_27['Y_predicted'], color='orange', linewidth=3)\n",
        "axes.plot(df_predicted_m9_0002['X'], df_predicted_m9_0002['Y_predicted'], color='black', linewidth=3)\n",
        "axes.legend(['λ=0 predicted values', 'λ=0.1 predicted values', 'λ=0.05 predicted values', 'λ=$2^{-7}$ predicted values', 'λ=0.0002 predicted values', 'Training Data'])\n",
        "axes.set_title('Polynomial Regression for Testing Set')"
      ],
      "metadata": {
        "colab": {
          "base_uri": "https://localhost:8080/",
          "height": 0
        },
        "id": "CCgKXtA2AMdi",
        "outputId": "02961891-a854-4636-90eb-a5e0221e04a5"
      },
      "execution_count": 85,
      "outputs": [
        {
          "output_type": "execute_result",
          "data": {
            "text/plain": [
              "Text(0.5, 1.0, 'Polynomial Regression for Testing Set')"
            ]
          },
          "metadata": {},
          "execution_count": 85
        },
        {
          "output_type": "display_data",
          "data": {
            "text/plain": [
              "<Figure size 1296x720 with 1 Axes>"
            ],
            "image/png": "[encoded data removed]"
          },
          "metadata": {
            "needs_background": "light"
          }
        }
      ]
    },
    {
      "cell_type": "markdown",
      "source": [
        "## NMSE (Normalized Mean Square Error)"
      ],
      "metadata": {
        "id": "wfjOLrENux76"
      }
    },
    {
      "cell_type": "code",
      "source": [
        "y_vs_y_hat_m9 = pd.DataFrame(data=(np.array(df_predicted_m9_1['Y_predicted']), Y_train),index=['y predicted m9 λ1','Y_train']).T\n",
        "\n",
        "# Normalizing the dataset\n",
        "max_pred = y_vs_y_hat_m9['y predicted m9 λ1'].max()\n",
        "max_train = y_vs_y_hat_m9['Y_train'].max()\n",
        "\n",
        "min_pred = y_vs_y_hat_m9['y predicted m9 λ1'].min()\n",
        "min_train = y_vs_y_hat_m9['Y_train'].min()\n",
        "\n",
        "normalized_y_pred = (y_vs_y_hat_m9['y predicted m9 λ1'] - min_pred)/(max_pred - min_pred)\n",
        "normalized_y_train = (y_vs_y_hat_m9['Y_train'] - min_train)/(max_train - min_train)\n",
        "\n",
        "normalized_square_error = (normalized_y_pred - normalized_y_train)**2\n",
        "\n",
        "nmse_m9_λ1 = 0\n",
        "\n",
        "rmse_m9_λ1 = normalized_square_error.sum() / len(normalized_square_error)\n",
        "rmse_m9_λ1"
      ],
      "metadata": {
        "colab": {
          "base_uri": "https://localhost:8080/"
        },
        "id": "mr98Abv1jX47",
        "outputId": "3a12cc29-7bae-459f-d32b-337203edccde"
      },
      "execution_count": 86,
      "outputs": [
        {
          "output_type": "execute_result",
          "data": {
            "text/plain": [
              "0.22355944550532048"
            ]
          },
          "metadata": {},
          "execution_count": 86
        }
      ]
    },
    {
      "cell_type": "code",
      "source": [
        "y_vs_y_hat_m9 = pd.DataFrame(data=(np.array(df_predicted_m9_05['Y_predicted']), Y_train),index=['y predicted m9 λ05','Y_train']).T\n",
        "\n",
        "# Normalizing the dataset\n",
        "max_pred = y_vs_y_hat_m9['y predicted m9 λ05'].max()\n",
        "max_train = y_vs_y_hat_m9['Y_train'].max()\n",
        "\n",
        "min_pred = y_vs_y_hat_m9['y predicted m9 λ05'].min()\n",
        "min_train = y_vs_y_hat_m9['Y_train'].min()\n",
        "\n",
        "normalized_y_pred = (y_vs_y_hat_m9['y predicted m9 λ05'] - min_pred)/(max_pred - min_pred)\n",
        "normalized_y_train = (y_vs_y_hat_m9['Y_train'] - min_train)/(max_train - min_train)\n",
        "\n",
        "normalized_square_error = (normalized_y_pred - normalized_y_train)**2\n",
        "\n",
        "nmse_m9_λ05 = 0\n",
        "\n",
        "rmse_m9_λ05 = normalized_square_error.sum() / len(normalized_square_error)\n",
        "rmse_m9_λ05"
      ],
      "metadata": {
        "colab": {
          "base_uri": "https://localhost:8080/"
        },
        "id": "RvR3urfNl_OE",
        "outputId": "490654fa-098e-4e88-bfc1-295053d8d13b"
      },
      "execution_count": 87,
      "outputs": [
        {
          "output_type": "execute_result",
          "data": {
            "text/plain": [
              "0.22333635719912806"
            ]
          },
          "metadata": {},
          "execution_count": 87
        }
      ]
    },
    {
      "cell_type": "code",
      "source": [
        "y_vs_y_hat_m9 = pd.DataFrame(data=(np.array(df_predicted_m9_27['Y_predicted']), Y_train),index=['y predicted m9 λ2^-7','Y_train']).T\n",
        "\n",
        "# Normalizing the dataset\n",
        "max_pred = y_vs_y_hat_m9['y predicted m9 λ2^-7'].max()\n",
        "max_train = y_vs_y_hat_m9['Y_train'].max()\n",
        "\n",
        "min_pred = y_vs_y_hat_m9['y predicted m9 λ2^-7'].min()\n",
        "min_train = y_vs_y_hat_m9['Y_train'].min()\n",
        "\n",
        "normalized_y_pred = (y_vs_y_hat_m9['y predicted m9 λ2^-7'] - min_pred)/(max_pred - min_pred)\n",
        "normalized_y_train = (y_vs_y_hat_m9['Y_train'] - min_train)/(max_train - min_train)\n",
        "\n",
        "normalized_square_error = (normalized_y_pred - normalized_y_train)**2\n",
        "\n",
        "nmse_m9_λ1 = 0\n",
        "\n",
        "rmse_m9_λ1 = normalized_square_error.sum() / len(normalized_square_error)\n",
        "rmse_m9_λ1"
      ],
      "metadata": {
        "colab": {
          "base_uri": "https://localhost:8080/"
        },
        "id": "mdRnt5fFmMHV",
        "outputId": "e540ac68-9de7-44e9-e399-c8c2bff760b4"
      },
      "execution_count": 88,
      "outputs": [
        {
          "output_type": "execute_result",
          "data": {
            "text/plain": [
              "0.20908599757168855"
            ]
          },
          "metadata": {},
          "execution_count": 88
        }
      ]
    },
    {
      "cell_type": "code",
      "source": [
        "y_vs_y_hat_m9 = pd.DataFrame(data=(np.array(df_predicted_m9_0002['Y_predicted']), Y_train),index=['y predicted m9 λ0002','Y_train']).T\n",
        "\n",
        "# Normalizing the dataset\n",
        "max_pred = y_vs_y_hat_m9['y predicted m9 λ0002'].max()\n",
        "max_train = y_vs_y_hat_m9['Y_train'].max()\n",
        "\n",
        "min_pred = y_vs_y_hat_m9['y predicted m9 λ0002'].min()\n",
        "min_train = y_vs_y_hat_m9['Y_train'].min()\n",
        "\n",
        "normalized_y_pred = (y_vs_y_hat_m9['y predicted m9 λ0002'] - min_pred)/(max_pred - min_pred)\n",
        "normalized_y_train = (y_vs_y_hat_m9['Y_train'] - min_train)/(max_train - min_train)\n",
        "\n",
        "normalized_square_error = (normalized_y_pred - normalized_y_train)**2\n",
        "\n",
        "nmse_m9_λ0002 = 0\n",
        "\n",
        "rmse_m9_λ0002 = normalized_square_error.sum() / len(normalized_square_error)\n",
        "rmse_m9_λ0002"
      ],
      "metadata": {
        "colab": {
          "base_uri": "https://localhost:8080/"
        },
        "id": "xI2FsGyosBUc",
        "outputId": "795cda63-12dd-490e-8b18-33b0f373b426"
      },
      "execution_count": 89,
      "outputs": [
        {
          "output_type": "execute_result",
          "data": {
            "text/plain": [
              "0.19984373346197917"
            ]
          },
          "metadata": {},
          "execution_count": 89
        }
      ]
    },
    {
      "cell_type": "markdown",
      "source": [
        "## RMSE (Root Mean Square error)"
      ],
      "metadata": {
        "id": "nC9GOLJAv8LV"
      }
    },
    {
      "cell_type": "code",
      "source": [
        "y_vs_y_hat_m9 = pd.DataFrame(data=(np.array(df_predicted_m9_1['Y_predicted']), Y_test),index=['y predicted m9 λ1','Y_train']).T\n",
        "y_vs_y_hat_m9['sum of square error'] = (y_vs_y_hat_m9['y predicted m9 λ1'] - y_vs_y_hat_m9['Y_train'])**2\n",
        "\n",
        "rmse_m9_λ1 = 0\n",
        "\n",
        "rmse_m9_λ1 = y_vs_y_hat_m9['sum of square error'].sum() / len(y_vs_y_hat_m9)\n",
        "rmse_m9_λ1 = math.sqrt(rmse_m9_λ1)\n",
        "rmse_m9_λ1"
      ],
      "metadata": {
        "colab": {
          "base_uri": "https://localhost:8080/"
        },
        "id": "pSFepayyB-Ca",
        "outputId": "b510260e-8297-41b5-8b10-10aa651c396c"
      },
      "execution_count": 90,
      "outputs": [
        {
          "output_type": "execute_result",
          "data": {
            "text/plain": [
              "0.6397370108533159"
            ]
          },
          "metadata": {},
          "execution_count": 90
        }
      ]
    },
    {
      "cell_type": "code",
      "source": [
        "y_vs_y_hat_m9 = pd.DataFrame(data=(np.array(df_predicted_m9_05['Y_predicted']), Y_test),index=['y predicted m9 λ05','Y_train']).T\n",
        "y_vs_y_hat_m9['sum of square error'] = (y_vs_y_hat_m9['y predicted m9 λ05'] - y_vs_y_hat_m9['Y_train'])**2\n",
        "\n",
        "rmse_m9_λ05 = 0\n",
        "\n",
        "rmse_m9_λ05 = y_vs_y_hat_m9['sum of square error'].sum() / len(y_vs_y_hat_m9)\n",
        "rmse_m9_λ05 = math.sqrt(rmse_m9_λ05)\n",
        "rmse_m9_λ05"
      ],
      "metadata": {
        "colab": {
          "base_uri": "https://localhost:8080/"
        },
        "id": "rkYPReyzD4_M",
        "outputId": "a65a436b-950c-4f64-9250-7f6491e8f698"
      },
      "execution_count": 91,
      "outputs": [
        {
          "output_type": "execute_result",
          "data": {
            "text/plain": [
              "0.644354208709113"
            ]
          },
          "metadata": {},
          "execution_count": 91
        }
      ]
    },
    {
      "cell_type": "code",
      "source": [
        "y_vs_y_hat_m9 = pd.DataFrame(data=(np.array(df_predicted_m9_27['Y_predicted']), Y_test),index=['y predicted m9 λ2^-7','Y_train']).T\n",
        "y_vs_y_hat_m9['sum of square error'] = (y_vs_y_hat_m9['y predicted m9 λ2^-7'] - y_vs_y_hat_m9['Y_train'])**2\n",
        "\n",
        "rmse_m9_λ27 = 0\n",
        "\n",
        "rmse_m9_λ27 = y_vs_y_hat_m9['sum of square error'].sum() / len(y_vs_y_hat_m9)\n",
        "rmse_m9_λ27 = math.sqrt(rmse_m9_λ27)\n",
        "rmse_m9_λ27"
      ],
      "metadata": {
        "colab": {
          "base_uri": "https://localhost:8080/"
        },
        "id": "AJ5mXHy3D-Ks",
        "outputId": "bcd658b0-386f-4869-b70e-6185f366269f"
      },
      "execution_count": 92,
      "outputs": [
        {
          "output_type": "execute_result",
          "data": {
            "text/plain": [
              "0.6660850862338152"
            ]
          },
          "metadata": {},
          "execution_count": 92
        }
      ]
    },
    {
      "cell_type": "code",
      "source": [
        "y_vs_y_hat_m9 = pd.DataFrame(data=(np.array(df_predicted_m9_0002['Y_predicted']), Y_test),index=['y predicted m9 λ0002','Y_train']).T\n",
        "y_vs_y_hat_m9['sum of square error'] = (y_vs_y_hat_m9['y predicted m9 λ0002'] - y_vs_y_hat_m9['Y_train'])**2\n",
        "\n",
        "rmse_m9_λ0002 = 0\n",
        "\n",
        "rmse_m9_λ0002 = y_vs_y_hat_m9['sum of square error'].sum() / len(y_vs_y_hat_m9)\n",
        "rmse_m9_λ0002 = math.sqrt(rmse_m9_λ0002)\n",
        "rmse_m9_λ0002"
      ],
      "metadata": {
        "colab": {
          "base_uri": "https://localhost:8080/"
        },
        "id": "G17x6kwMscJG",
        "outputId": "80913724-ff09-4546-dd33-7dcf2f8f8a45"
      },
      "execution_count": 93,
      "outputs": [
        {
          "output_type": "execute_result",
          "data": {
            "text/plain": [
              "0.6914924655439924"
            ]
          },
          "metadata": {},
          "execution_count": 93
        }
      ]
    },
    {
      "cell_type": "markdown",
      "source": [
        "## MAE (Mean Absolute Error)"
      ],
      "metadata": {
        "id": "25B2dI2nwC4q"
      }
    },
    {
      "cell_type": "code",
      "source": [
        "y_vs_y_hat_m9 = pd.DataFrame(data=(np.array(df_predicted_m9_1['Y_predicted']), Y_train),index=['y predicted m9 λ1','Y_train']).T\n",
        "y_vs_y_hat_m9['absolute error'] = abs(y_vs_y_hat_m9['y predicted m9 λ1'] - y_vs_y_hat_m9['Y_train'])\n",
        "\n",
        "rmse_m9_λ1 = 0\n",
        "rmse_m9_λ1 = y_vs_y_hat_m9['absolute error'].sum() / len(y_vs_y_hat_m9)\n",
        "rmse_m9_λ1"
      ],
      "metadata": {
        "colab": {
          "base_uri": "https://localhost:8080/"
        },
        "outputId": "332a182e-71b4-4e8f-d891-5149a212487f",
        "id": "PqBO6J8rxGox"
      },
      "execution_count": 94,
      "outputs": [
        {
          "output_type": "execute_result",
          "data": {
            "text/plain": [
              "0.7091338109281247"
            ]
          },
          "metadata": {},
          "execution_count": 94
        }
      ]
    },
    {
      "cell_type": "code",
      "source": [
        "y_vs_y_hat_m9 = pd.DataFrame(data=(np.array(df_predicted_m9_05['Y_predicted']), Y_train),index=['y predicted m9 λ05','Y_train']).T\n",
        "y_vs_y_hat_m9['absolute error'] = abs(y_vs_y_hat_m9['y predicted m9 λ05'] - y_vs_y_hat_m9['Y_train'])\n",
        "\n",
        "rmse_m9_λ05 = 0\n",
        "rmse_m9_λ05 = y_vs_y_hat_m9['absolute error'].sum() / len(y_vs_y_hat_m9)\n",
        "rmse_m9_λ05"
      ],
      "metadata": {
        "colab": {
          "base_uri": "https://localhost:8080/"
        },
        "outputId": "1558af74-c5e7-4608-be42-cc4d48f27217",
        "id": "jCZWi6mJxGo4"
      },
      "execution_count": 95,
      "outputs": [
        {
          "output_type": "execute_result",
          "data": {
            "text/plain": [
              "0.7141495855436643"
            ]
          },
          "metadata": {},
          "execution_count": 95
        }
      ]
    },
    {
      "cell_type": "code",
      "source": [
        "y_vs_y_hat_m9 = pd.DataFrame(data=(np.array(df_predicted_m9_27['Y_predicted']), Y_train),index=['y predicted m9 λ2^-7','Y_train']).T\n",
        "y_vs_y_hat_m9['absolute error'] = abs(y_vs_y_hat_m9['y predicted m9 λ2^-7'] - y_vs_y_hat_m9['Y_train'])\n",
        "\n",
        "rmse_m9_λ27 = 0\n",
        "rmse_m9_λ27 = y_vs_y_hat_m9['absolute error'].sum() / len(y_vs_y_hat_m9)\n",
        "rmse_m9_λ27"
      ],
      "metadata": {
        "colab": {
          "base_uri": "https://localhost:8080/"
        },
        "outputId": "e3a9248c-3604-42bb-c5fa-5f63dec350f0",
        "id": "dQERxGLtxGo4"
      },
      "execution_count": 96,
      "outputs": [
        {
          "output_type": "execute_result",
          "data": {
            "text/plain": [
              "0.7136512095656313"
            ]
          },
          "metadata": {},
          "execution_count": 96
        }
      ]
    },
    {
      "cell_type": "code",
      "source": [
        "y_vs_y_hat_m9 = pd.DataFrame(data=(np.array(df_predicted_m9_0002['Y_predicted']), Y_train),index=['y predicted m9 λ0002','Y_train']).T\n",
        "y_vs_y_hat_m9['absolute error'] = abs(y_vs_y_hat_m9['y predicted m9 λ0002'] - y_vs_y_hat_m9['Y_train'])\n",
        "\n",
        "rmse_m9_λ0002 = 0\n",
        "rmse_m9_λ0002 = y_vs_y_hat_m9['absolute error'].sum() / len(y_vs_y_hat_m9)\n",
        "rmse_m9_λ0002"
      ],
      "metadata": {
        "colab": {
          "base_uri": "https://localhost:8080/"
        },
        "id": "IO72jhBLstW8",
        "outputId": "c1964160-c644-4a79-96bb-c9c2dbc0d90e"
      },
      "execution_count": 97,
      "outputs": [
        {
          "output_type": "execute_result",
          "data": {
            "text/plain": [
              "0.7167600678884201"
            ]
          },
          "metadata": {},
          "execution_count": 97
        }
      ]
    },
    {
      "cell_type": "markdown",
      "source": [
        "## R2 (R-square Error)\n",
        "\n",
        "### R2= 1 − $\\frac{sum \\; squared \\; regression \\; (SSR)}{total \\; sum \\; of \\; squares \\; (SST)}$\n",
        "\n",
        "\n",
        "### R2 = $1− \\frac{∑(y_i− \\bar{y_i})^2}{∑(y_i−\\bar{y})^2}$"
      ],
      "metadata": {
        "id": "vzPn-DL3wEZo"
      }
    },
    {
      "cell_type": "code",
      "source": [
        "y_vs_y_hat_m9 = pd.DataFrame(data=(np.array(df_predicted_m9_1['Y_predicted']), Y_train),index=['y predicted m9 λ1','Y_train']).T\n",
        "y_mean = (y_vs_y_hat_m9['Y_train'].sum())/len(Y_train)\n",
        "\n",
        "y_vs_y_hat_m9['SSR'] = (y_vs_y_hat_m9['y predicted m9 λ1'] - y_vs_y_hat_m9['Y_train'])**2\n",
        "y_vs_y_hat_m9['SST'] = (y_vs_y_hat_m9['Y_train'] - y_mean)**2\n",
        "\n",
        "SST = y_vs_y_hat_m9['SSR'].sum()\n",
        "SSR = y_vs_y_hat_m9['SST'].sum()\n",
        "\n",
        "R_square_λ1 = SSR/SST\n",
        "R_square_λ1"
      ],
      "metadata": {
        "colab": {
          "base_uri": "https://localhost:8080/"
        },
        "outputId": "e9d39d75-17f2-4f11-f627-566d96e6f8d5",
        "id": "wYof6gva1INn"
      },
      "execution_count": 98,
      "outputs": [
        {
          "output_type": "execute_result",
          "data": {
            "text/plain": [
              "0.5971874905690416"
            ]
          },
          "metadata": {},
          "execution_count": 98
        }
      ]
    },
    {
      "cell_type": "code",
      "source": [
        "y_vs_y_hat_m9 = pd.DataFrame(data=(np.array(df_predicted_m9_05['Y_predicted']), Y_train),index=['y predicted m9 λ05','Y_train']).T\n",
        "y_mean = (y_vs_y_hat_m9['Y_train'].sum())/len(Y_train)\n",
        "\n",
        "y_vs_y_hat_m9['SSR'] = (y_vs_y_hat_m9['y predicted m9 λ05'] - y_vs_y_hat_m9['Y_train'])**2\n",
        "y_vs_y_hat_m9['SST'] = (y_vs_y_hat_m9['Y_train'] - y_mean)**2\n",
        "\n",
        "SST = y_vs_y_hat_m9['SSR'].sum()\n",
        "SSR = y_vs_y_hat_m9['SST'].sum()\n",
        "\n",
        "R_square_λ05 = SSR/SST\n",
        "R_square_λ05"
      ],
      "metadata": {
        "colab": {
          "base_uri": "https://localhost:8080/"
        },
        "outputId": "d656ab49-84d1-4a26-9318-f280e53e247b",
        "id": "l5RFt9o31INo"
      },
      "execution_count": 99,
      "outputs": [
        {
          "output_type": "execute_result",
          "data": {
            "text/plain": [
              "0.5871832794632598"
            ]
          },
          "metadata": {},
          "execution_count": 99
        }
      ]
    },
    {
      "cell_type": "code",
      "source": [
        "y_vs_y_hat_m9 = pd.DataFrame(data=(np.array(df_predicted_m9_27['Y_predicted']), Y_train),index=['y predicted m9 λ27','Y_train']).T\n",
        "y_mean = (y_vs_y_hat_m9['Y_train'].sum())/len(Y_train)\n",
        "\n",
        "y_vs_y_hat_m9['SSR'] = (y_vs_y_hat_m9['y predicted m9 λ27'] - y_vs_y_hat_m9['Y_train'])**2\n",
        "y_vs_y_hat_m9['SST'] = (y_vs_y_hat_m9['Y_train'] - y_mean)**2\n",
        "\n",
        "SST = y_vs_y_hat_m9['SSR'].sum()\n",
        "SSR = y_vs_y_hat_m9['SST'].sum()\n",
        "\n",
        "R_square_λ0 = SSR/SST\n",
        "R_square_λ0"
      ],
      "metadata": {
        "colab": {
          "base_uri": "https://localhost:8080/"
        },
        "outputId": "8582dff3-595d-4655-dad7-e07f5fbc8cf9",
        "id": "yui2Ah931INp"
      },
      "execution_count": 100,
      "outputs": [
        {
          "output_type": "execute_result",
          "data": {
            "text/plain": [
              "0.5705498161258589"
            ]
          },
          "metadata": {},
          "execution_count": 100
        }
      ]
    },
    {
      "cell_type": "code",
      "source": [
        "y_vs_y_hat_m9 = pd.DataFrame(data=(np.array(df_predicted_m9_0002['Y_predicted']), Y_train),index=['y predicted m9 λ0002','Y_train']).T\n",
        "y_mean = (y_vs_y_hat_m9['Y_train'].sum())/len(Y_train)\n",
        "\n",
        "y_vs_y_hat_m9['SSR'] = (y_vs_y_hat_m9['y predicted m9 λ0002'] - y_vs_y_hat_m9['Y_train'])**2\n",
        "y_vs_y_hat_m9['SST'] = (y_vs_y_hat_m9['Y_train'] - y_mean)**2\n",
        "\n",
        "SST = y_vs_y_hat_m9['SSR'].sum()\n",
        "SSR = y_vs_y_hat_m9['SST'].sum()\n",
        "\n",
        "R_square_λ0 = SSR/SST\n",
        "R_square_λ0"
      ],
      "metadata": {
        "colab": {
          "base_uri": "https://localhost:8080/"
        },
        "id": "OxVVgaBLtABj",
        "outputId": "457b30de-bdc9-4f4a-a2f6-3253f02b2a16"
      },
      "execution_count": 101,
      "outputs": [
        {
          "output_type": "execute_result",
          "data": {
            "text/plain": [
              "0.5530416558296753"
            ]
          },
          "metadata": {},
          "execution_count": 101
        }
      ]
    },
    {
      "cell_type": "markdown",
      "source": [
        "# 4. Estimate the regularized Least Squares Polynomial Regression model of order M= 9, on the training set T using gradient descent method with the tuned value of λ obtained in question 3 by selecting an appropriate step length η. Compare the solution obtained by direct method and gradient descent method. Evaluate your estimated function using NMSE, RMSE, MAE and R2 on test set."
      ],
      "metadata": {
        "id": "8Y_x3dE6JH4f"
      }
    },
    {
      "cell_type": "markdown",
      "source": [
        "## In polynomial regression, the coefficients of our $9^{th}$ degree polynomial, $w_0$, $w_1$, $w_2$, $w_3$, $w_4$, $w_5$, $w_6$, $w_7$, $w_9$, $w_{10}$ will be estimated, evaluated and altered until we can accurately fit a line to the input x data. Gradient descent is the optimization step in this process that alters and improves on the values of these coefficients.\n",
        "\n",
        "## We can start be choosing coefficients for a $9^{th}$ degree polynomial equation ($w_0$ + $w_1$$x$ + $w_2$$x^2$ + $w_3$$x^3$ + $w_4$$x^4$ + $w_5$$x^5$ + $w_6$$x^6$ + $w_7$$x^7$ + $w_8$$x^8$ + $w_9$$x^9$ ) that will distribute the data we will try to model. These will be the coefficients for our base/ground truth model we hope to get our predictive model as close as possible to."
      ],
      "metadata": {
        "id": "4SU5dFeZ72ry"
      }
    },
    {
      "cell_type": "code",
      "execution_count": 102,
      "metadata": {
        "colab": {
          "base_uri": "https://localhost:8080/",
          "height": 0
        },
        "id": "5a6427da",
        "outputId": "8e8bb948-f940-4223-95a7-93f937274fb2"
      },
      "outputs": [
        {
          "output_type": "stream",
          "name": "stdout",
          "text": [
            " \n",
            "0\n"
          ]
        },
        {
          "output_type": "display_data",
          "data": {
            "text/plain": [
              "<Figure size 432x288 with 1 Axes>"
            ],
            "image/png": "[encoded data removed]"
          },
          "metadata": {
            "needs_background": "light"
          }
        }
      ],
      "source": [
        "co = 9\n",
        "A = np.vander(X_test, co, increasing = True)\n",
        "A_trans = np.transpose(A)\n",
        "\n",
        "I = np.identity(co, dtype = float)\n",
        "alpha = 1/(2**7)\n",
        "\n",
        "\n",
        "A_trans_A = np.dot(A_trans, A)\n",
        "\n",
        "for i in range(len(A_trans_A)):\n",
        "  for j in range(len(A_trans_A[0])):\n",
        "    A_trans_A[i][j] = A_trans_A[i][j] + (alpha*I[i][j])\n",
        "\n",
        "A_trans_A_inv = np.linalg.inv(A_trans_A)\n",
        "\n",
        "c = np.dot(A_trans_A_inv, np.dot(A_trans,Y_test))\n",
        "\n",
        "coefficient = []\n",
        "for i in c:\n",
        "    coefficient.append(i)\n",
        "\n",
        "coefficient = coefficient[::-1]\n",
        "coefficient = np.array(coefficient)\n",
        "coefficient = coefficient.ravel()\n",
        "f = np.poly1d(coefficient)\n",
        "# print(f)\n",
        "\n",
        "y_pred = []\n",
        "for i in range(len(X_test)):\n",
        "  y_pred.append(f(X_test[i]))\n",
        "\n",
        "test_pd1 = pd.DataFrame(data = [X_test, y_pred], index=['x', 'y']).T.sort_values(by='x')\n",
        "\n",
        "plt.scatter(X_test,Y_test)\n",
        "plt.plot(test_pd1['x'] ,test_pd1['y'] ,color=\"red\")\n",
        "\n",
        "init_coeff = [0,0,0,0,0,0,0,0,0]\n",
        "new_f = np.poly1d(init_coeff)\n",
        "print(new_f)\n",
        "\n",
        "grad_y = []\n",
        "for i in range(len(Y_test)):\n",
        "  grad_y.append(new_f(X_test[i]))\n",
        "plt.plot(X_test,grad_y, color='purple')\n",
        "\n",
        "loss_mse = 0\n",
        "for i in range(len(Y_test)):\n",
        "  loss_mse = loss_mse + (Y_test[i]- grad_y[i])**2\n",
        "\n",
        "loss_mse = loss_mse/len(Y_test)\n",
        "# print(loss_mse)"
      ]
    },
    {
      "cell_type": "markdown",
      "source": [
        "## E = $\\frac{λ}{2}$$w^Tw$ + $\\frac{1}{2}$ $\\sum_{i=0}^{n}$$(y_i - \\bar{y_i})^2$\n",
        "\n",
        "## where $\\bar{y_i}$ = $w_0$ + $w_1$$x_i$ + $w_2$$x_i^2$ + $w_3$$x_i^3$ + $w_4$$x_i^4$ + $w_5$$x_i^5$ + $w_6$$x_i^6$ + $w_7$$x_i^7$ + $w_8$$x_i^8$ + $w_9$$x_i^9$ \n",
        "\n",
        "## In this specific case, our partial derivatives for that loss function are the following:\n",
        "\n",
        "## Partial derivative wrt $w_0$ = $λw_1$ + $(-1)$ $\\sum_{i=0}^{n}$ $(y_i - \\bar{y_i})$\n",
        "\n",
        "## Partial derivative wrt $w_1$ = $λw_1$ + $(-1)$ $\\sum_{i=0}^{n}$ $x_i$ $(y_i - \\bar{y_i})$\n",
        "\n",
        "## Partial derivative wrt $w_2$ = $λw_2$ + $(-1)$ $\\sum_{i=0}^{n}$ $x_i^2$ $(y_i - \\bar{y_i})$\n",
        "\n",
        "## Partial derivative wrt $w_3$ = $λw_3$ + $(-1)$ $\\sum_{i=0}^{n}$ $x_i^3$ $(y_i - \\bar{y_i})$\n",
        "\n",
        "\n",
        ".\n",
        ".\n",
        ".\n",
        "\n",
        "## Partial derivative wrt $w_9$ = 2$λw_9$ + $(-1)$ $\\sum_{i=0}^{n}$ $x_i^9$ $(y_i - \\bar{y_i})$\n"
      ],
      "metadata": {
        "id": "7MOqLFPx8Dsu"
      }
    },
    {
      "cell_type": "code",
      "execution_count": 103,
      "metadata": {
        "colab": {
          "base_uri": "https://localhost:8080/",
          "height": 0
        },
        "id": "953b211a",
        "outputId": "e6c15586-fd6b-4bde-d3f1-fa0c8c347950"
      },
      "outputs": [
        {
          "output_type": "stream",
          "name": "stdout",
          "text": [
            "[-0.0005670311846237649, -0.0006706240853193142, -0.0007951479795991122, -0.0009432077082582147, -0.001113350951860076, -0.0012889605748991537, -0.0013975638462956552, -0.0011231911749238113, 0.0013787944951590078]\n"
          ]
        },
        {
          "output_type": "execute_result",
          "data": {
            "text/plain": [
              "<matplotlib.legend.Legend at 0x7f308a161550>"
            ]
          },
          "metadata": {},
          "execution_count": 103
        },
        {
          "output_type": "display_data",
          "data": {
            "text/plain": [
              "<Figure size 1080x504 with 1 Axes>"
            ],
            "image/png": "[encoded data removed]"
          },
          "metadata": {
            "needs_background": "light"
          }
        }
      ],
      "source": [
        "n=100\n",
        "def calc_grad1(init_coeff, X_test, Y_test):\n",
        "  a_s =[]\n",
        "  b_s =[]\n",
        "  c_s =[]\n",
        "  d_s =[]\n",
        "  e_s =[]\n",
        "  f_s =[]\n",
        "  g_s =[]\n",
        "  h_s =[]\n",
        "  i_s =[]\n",
        "  \n",
        "  new_f = np.poly1d(init_coeff)\n",
        "  # print(new_f)\n",
        "  grad_y = []\n",
        "  for i in range(len(X_test)):\n",
        "    grad_y.append(new_f(X_test[i]))\n",
        "  \n",
        "  for x,y,y_bar in list(zip(X_test, Y_test, grad_y)):\n",
        "    a_s.append(x**8 * (y-y_bar))\n",
        "    b_s.append(x**7 * (y-y_bar))\n",
        "    c_s.append(x**6 * (y-y_bar))\n",
        "    d_s.append(x**5 * (y-y_bar))\n",
        "    e_s.append(x**4 * (y-y_bar))\n",
        "    f_s.append(x**3 * (y-y_bar))\n",
        "    g_s.append(x**2 * (y-y_bar))\n",
        "    h_s.append(x**1 * (y-y_bar))\n",
        "    i_s.append((y-y_bar))\n",
        "  \n",
        "  gradient_a = (-2 / n) * sum(a_s)\n",
        "  gradient_b = (-2 / n) * sum(b_s)\n",
        "  gradient_c = (-2 / n) * sum(c_s)\n",
        "  gradient_d = (-2 / n) * sum(d_s)\n",
        "  gradient_e = (-2 / n) * sum(e_s)\n",
        "  gradient_f = (-2 / n) * sum(f_s)\n",
        "  gradient_g = (-2 / n) * sum(g_s)\n",
        "  gradient_h = (-2 / n) * sum(h_s)\n",
        "  gradient_i = (-2 / n) * sum(i_s)\n",
        "\n",
        "  return(gradient_a, gradient_b, gradient_c, gradient_d, gradient_e, gradient_f, gradient_g, gradient_h, gradient_i)\n",
        "\n",
        "\n",
        "calc_grad = calc_grad1(init_coeff,X_test,y_pred) \n",
        "\n",
        "lr = 0.01\n",
        "a_new = init_coeff[0] - lr * calc_grad[0]\n",
        "b_new = init_coeff[1] - lr * calc_grad[1]\n",
        "c_new = init_coeff[2] - lr * calc_grad[2]\n",
        "d_new = init_coeff[3] - lr * calc_grad[3]\n",
        "e_new = init_coeff[4] - lr * calc_grad[4]\n",
        "f_new = init_coeff[5] - lr * calc_grad[5]\n",
        "g_new = init_coeff[6] - lr * calc_grad[6]\n",
        "h_new = init_coeff[7] - lr * calc_grad[7]\n",
        "i_new = init_coeff[8] - lr * calc_grad[8]\n",
        "\n",
        "new_coeff = [a_new, b_new, c_new, d_new, e_new, f_new, g_new, h_new, i_new]\n",
        "print(new_coeff)\n",
        "\n",
        "f_updated = np.poly1d(new_coeff)\n",
        "\n",
        "last_y = []\n",
        "for i in range(len(Y_test)):\n",
        "  last_y.append(f_updated(X_test[i]))\n",
        "\n",
        "new_loss = 0\n",
        "for i in range(len(Y_test)):\n",
        "  new_loss = new_loss + (Y_test[i]- last_y[i])**2\n",
        "\n",
        "new_loss = new_loss/len(Y_test)\n",
        "\n",
        "test_pd2 = pd.DataFrame(data = [X_test, y_pred], index=['x', 'y']).T.sort_values(by='x')\n",
        "test_pd3 = pd.DataFrame(data = [X_test, last_y], index=['x', 'y']).T.sort_values(by='x')\n",
        "\n",
        "fig, axes = plt.subplots(1,1, figsize=(15,7))\n",
        "\n",
        "axes.scatter(X_test,Y_test, color = 'blue')\n",
        "axes.plot(test_pd2['x'],test_pd2['y'], color = 'red')\n",
        "axes.plot(test_pd3['x'],test_pd3['y'], color='green')\n",
        "axes.legend(['Predicted points', 'Base mode for initial coefficients set as 0', 'Test data'])"
      ]
    },
    {
      "cell_type": "code",
      "execution_count": 104,
      "metadata": {
        "id": "8bd2634d"
      },
      "outputs": [],
      "source": [
        "def calc_grad1(init_coeff, x, y, lr):\n",
        "  a_s =[]\n",
        "  b_s =[]\n",
        "  c_s =[]\n",
        "  d_s =[]\n",
        "  e_s =[]\n",
        "  f_s =[]\n",
        "  g_s =[]\n",
        "  h_s =[]\n",
        "  i_s =[]\n",
        "  \n",
        "  new_f = np.poly1d(init_coeff)\n",
        "  grad_y = []\n",
        "  for i in range(len(x)):\n",
        "    grad_y.append(new_f(x[i]))\n",
        "  for x,y,y_bar in list(zip(x, y, grad_y)):\n",
        "    \n",
        "\n",
        "    a_s.append(x**8 * (y-y_bar))\n",
        "    b_s.append(x**7 * (y-y_bar))\n",
        "    c_s.append(x**6 * (y-y_bar))\n",
        "    d_s.append(x**5 * (y-y_bar))\n",
        "    e_s.append(x**4 * (y-y_bar))\n",
        "    f_s.append(x**3 * (y-y_bar))\n",
        "    g_s.append(x**2 * (y-y_bar))\n",
        "    h_s.append(x**1 * (y-y_bar))\n",
        "    i_s.append((y-y_bar))\n",
        "  \n",
        "  gradient_a = (-2 / n) * sum(a_s)\n",
        "  gradient_b = (-2 / n) * sum(b_s)\n",
        "  gradient_c = (-2 / n) * sum(c_s)\n",
        "  gradient_d = (-2 / n) * sum(d_s)\n",
        "  gradient_e = (-2 / n) * sum(e_s)\n",
        "  gradient_f = (-2 / n) * sum(f_s)\n",
        "  gradient_g = (-2 / n) * sum(g_s)\n",
        "  gradient_h = (-2 / n) * sum(h_s)\n",
        "  gradient_i = (-2 / n) * sum(i_s)\n",
        "\n",
        "  calc_grad = [gradient_a, gradient_b, gradient_c, gradient_d, gradient_e, gradient_f, gradient_g, gradient_h, gradient_i]\n",
        "\n",
        "  a_new = init_coeff[0] - lr * calc_grad[0]\n",
        "  b_new = init_coeff[1] - lr * calc_grad[1]\n",
        "  c_new = init_coeff[2] - lr * calc_grad[2]\n",
        "  d_new = init_coeff[3] - lr * calc_grad[3]\n",
        "  e_new = init_coeff[4] - lr * calc_grad[4]\n",
        "  f_new = init_coeff[5] - lr * calc_grad[5]\n",
        "  g_new = init_coeff[6] - lr * calc_grad[6]\n",
        "  h_new = init_coeff[7] - lr * calc_grad[7]\n",
        "  i_new = init_coeff[8] - lr * calc_grad[8]\n",
        "\n",
        "  new_coeff = [a_new, b_new, c_new, d_new, e_new, f_new, g_new, h_new, i_new]\n",
        "\n",
        "  return new_coeff\n"
      ]
    },
    {
      "cell_type": "code",
      "execution_count": 105,
      "metadata": {
        "colab": {
          "base_uri": "https://localhost:8080/"
        },
        "id": "e162b111",
        "outputId": "865367e1-31fa-4362-fd0a-b2ef3ba74d72"
      },
      "outputs": [
        {
          "output_type": "stream",
          "name": "stdout",
          "text": [
            "[-0.005661406770323878, -0.006678134051433482, -0.007911540572452238, -0.009396230448160776, -0.011128649026689287, -0.012946577075525377, -0.014081061398102552, -0.011179111799573987, 0.013796743537192594]\n"
          ]
        }
      ],
      "source": [
        "coeff = calc_grad1(init_coeff,X_test,Y_test,0.1)\n",
        "print(coeff)"
      ]
    },
    {
      "cell_type": "code",
      "execution_count": 106,
      "metadata": {
        "colab": {
          "base_uri": "https://localhost:8080/"
        },
        "id": "f66d15e2",
        "outputId": "7f268fb3-542a-41c8-caf3-a167fdbfb378"
      },
      "outputs": [
        {
          "output_type": "stream",
          "name": "stdout",
          "text": [
            "[-0.8729242758452674, 1.5568044450088083, 3.3882704518767754, 3.743895265457412, 1.434207025272281, -4.185116148446433, -9.243897155124762, 4.802357586741054, 0.4182021051012866]\n"
          ]
        }
      ],
      "source": [
        "for i in range(100000):\n",
        "  coeff = calc_grad1(coeff,X_test,Y_test,0.1)\n",
        "\n",
        "print(coeff)"
      ]
    },
    {
      "cell_type": "code",
      "execution_count": 107,
      "metadata": {
        "colab": {
          "base_uri": "https://localhost:8080/",
          "height": 0
        },
        "id": "380eaa9a",
        "outputId": "f43f6748-b892-4c14-b054-79477bf809e6",
        "scrolled": true
      },
      "outputs": [
        {
          "output_type": "execute_result",
          "data": {
            "text/plain": [
              "<matplotlib.legend.Legend at 0x7f3096d34450>"
            ]
          },
          "metadata": {},
          "execution_count": 107
        },
        {
          "output_type": "display_data",
          "data": {
            "text/plain": [
              "<Figure size 1080x504 with 1 Axes>"
            ],
            "image/png": "[encoded data removed]"
          },
          "metadata": {
            "needs_background": "light"
          }
        }
      ],
      "source": [
        "new_f = np.poly1d(coeff)\n",
        "\n",
        "grad_y = []\n",
        "for i in range(len(Y_test)):\n",
        "  grad_y.append(new_f(X_test[i]))\n",
        "\n",
        "test_pd4 = pd.DataFrame(data = [X_test, grad_y], index=['x', 'y']).T.sort_values(by='x')\n",
        "test_pd5 = pd.DataFrame(data = [X_test, last_y], index=['x', 'y']).T.sort_values(by='x')\n",
        "test_pd6 = pd.DataFrame(data = [X_test, y_pred], index=['x', 'y']).T.sort_values(by='x')\n",
        "\n",
        "fig, axes = plt.subplots(1,1, figsize=(15,7))\n",
        "\n",
        "axes.scatter(X_test,Y_test, color='blue')\n",
        "axes.plot(test_pd4['x'],test_pd4['y'], color='red')\n",
        "axes.plot(test_pd6['x'],test_pd6['y'], color='black')\n",
        "axes.legend(['Predicted points', 'Curve after $10^5$ iterations of gradient descent', 'Test data'])"
      ]
    },
    {
      "cell_type": "code",
      "execution_count": 108,
      "metadata": {
        "colab": {
          "base_uri": "https://localhost:8080/"
        },
        "id": "e39118cc",
        "outputId": "a3daa770-b6bf-49a2-9cbb-2f1067df5113"
      },
      "outputs": [
        {
          "output_type": "stream",
          "name": "stdout",
          "text": [
            "MEAN ABSOLUTE ERROR IS  0.13962932105032413\n",
            "MEAN SQUARED ERROR IS  0.026268039677766503\n",
            "ROOT MEAN SQUARED ERROR IS  0.16207417955296427\n",
            "NORMALIZED ROOT MEAN SQUARED ERROR IS  0.048834100074294264\n"
          ]
        }
      ],
      "source": [
        "# MAE - Mean Absolute Error\n",
        "\n",
        "MAE = 0\n",
        "for i in range(len(y_pred)):\n",
        "    MAE = MAE + abs(Y_test[i] - y_pred[i])\n",
        "MAE = MAE/len(Y_test)\n",
        "print(\"MEAN ABSOLUTE ERROR IS \", MAE)\n",
        "\n",
        "  # MSE - Mean Squared Error\n",
        "\n",
        "MSE = 0\n",
        "for i in range(len(y_pred)):\n",
        "    MSE = MSE + (Y_test[i] - y_pred[i])**2\n",
        "MSE = MSE/len(y_pred)\n",
        "print(\"MEAN SQUARED ERROR IS \", MSE)\n",
        "\n",
        "  # RMSE - Mean Squared Error\n",
        "\n",
        "RMSE = 0\n",
        "for i in range(len(y_pred)):\n",
        "    RMSE = RMSE + (Y_test[i] - y_pred[i])**2\n",
        "\n",
        "RMSE = (RMSE/len(y_pred))**(1/2)\n",
        "print(\"ROOT MEAN SQUARED ERROR IS \", RMSE)\n",
        "\n",
        "  # NMSE - Normalized Mean Squared Error\n",
        "  \n",
        "NMSE = 0\n",
        "avg_y = sum(Y_test)/len(y_pred)\n",
        "up = 0\n",
        "down = 0\n",
        "for i in range(len(y_pred)):\n",
        "    up = up + (Y_test[i] - y_pred[i])**2\n",
        "    down = down + (Y_test[i] - avg_y)**2\n",
        "NMSE = up/down\n",
        "print(\"NORMALIZED ROOT MEAN SQUARED ERROR IS \", NMSE)"
      ]
    },
    {
      "cell_type": "markdown",
      "source": [
        "# 5. Estimate the regularized Least Squares Polynomial Regression model of order M= 9 on the training set T using stochastic gradient descent method with the tuned value of λ obtained in question 3 by selecting an appropriate step lengths ηi. Compare the solution with the solution obtained by the direct method and gradient descent method. Evaluate your estimated function using NMSE, RMSE, MAE and R2 on test set.\n",
        "\n",
        "# Also obtain the norm of the obtained gradient at each iteration (epoch) of stochastic gradient descent method and plot it."
      ],
      "metadata": {
        "id": "kdBvky3y_7qP"
      }
    },
    {
      "cell_type": "markdown",
      "source": [
        "## Training and Testing set values"
      ],
      "metadata": {
        "id": "1PI7wS4dH8R7"
      }
    },
    {
      "cell_type": "code",
      "source": [
        "x_train = np.sort(np.random.uniform(0,1 , 100))\n",
        "x_test =  np.sort(np.random.uniform(0,1,50))\n",
        "\n",
        "def normal_dist(x , mean = 0, sd = 0.25):\n",
        "    prob_density = (np.pi*sd) * np.exp(-0.5*((x-mean)/sd)**2)\n",
        "    return prob_density\n",
        "\n",
        "def func(x,si):\n",
        "  return(np.sin(6.28*x)+si)\n",
        "\n",
        "\n",
        "y_train=[]\n",
        "\n",
        "for i in range(100):\n",
        "  y_train.append(func(x_train[i],normal_dist(x_train[i])))\n",
        " \n",
        "y_test=[]\n",
        "\n",
        "for i in range(50):\n",
        "  y_test.append(func(x_test[i],normal_dist(x_test[i])))\n",
        "y_test"
      ],
      "metadata": {
        "id": "drABT6BHGmGh",
        "colab": {
          "base_uri": "https://localhost:8080/"
        },
        "outputId": "2d7f1029-5498-4410-d30a-2d197b76f15f"
      },
      "execution_count": 109,
      "outputs": [
        {
          "output_type": "execute_result",
          "data": {
            "text/plain": [
              "[0.8038031563412833,\n",
              " 0.9239981346236908,\n",
              " 0.9849372174839428,\n",
              " 1.294684216162382,\n",
              " 1.2963248432664827,\n",
              " 1.3133546570558723,\n",
              " 1.4176145807510392,\n",
              " 1.4253498066845323,\n",
              " 1.4548730137278418,\n",
              " 1.5061877623198021,\n",
              " 1.5079077632619602,\n",
              " 1.519198517063026,\n",
              " 1.52084513307692,\n",
              " 1.2968088259654582,\n",
              " 1.2796326887958398,\n",
              " 0.7952819714405717,\n",
              " 0.5686844910802374,\n",
              " 0.5257493998744387,\n",
              " 0.48688471987205995,\n",
              " 0.4274459917839771,\n",
              " 0.2469978640405909,\n",
              " 0.23870938284415946,\n",
              " 0.18805680484487686,\n",
              " 0.12233673833902838,\n",
              " 0.06513061785831656,\n",
              " -0.15921695988235837,\n",
              " -0.28249529668874696,\n",
              " -0.28804329260463046,\n",
              " -0.33937732559020084,\n",
              " -0.5635931753390611,\n",
              " -0.6215462449687269,\n",
              " -0.6619224844738774,\n",
              " -0.6977032125507232,\n",
              " -0.7376941838541997,\n",
              " -0.7881254765799998,\n",
              " -0.8114059430545989,\n",
              " -0.8617611487159005,\n",
              " -0.957750046833299,\n",
              " -0.9731228693382447,\n",
              " -0.981729548503416,\n",
              " -0.9890742819999516,\n",
              " -0.9494831489354476,\n",
              " -0.9463523445646075,\n",
              " -0.8399292552478254,\n",
              " -0.6912910243721374,\n",
              " -0.3659718460919085,\n",
              " -0.22390084554255382,\n",
              " -0.1855239018904126,\n",
              " -0.05293907287267515,\n",
              " -0.04377015684823191]"
            ]
          },
          "metadata": {},
          "execution_count": 109
        }
      ]
    },
    {
      "cell_type": "code",
      "source": [
        "U=np.zeros(10)\n",
        "\n",
        "def matrixA(m,training_set):\n",
        "  A=[]\n",
        "  for i in range(len(training_set)):\n",
        "    A.append([])\n",
        "    for j in reversed(range(m+1)):\n",
        "      A[i].append((training_set[i])**j)\n",
        "  return A\n",
        "\n",
        "M9_train = matrixA(9, x_train)\n",
        "M9_test = matrixA(9, x_test)\n",
        "\n",
        "def fun_y_cap(train_mat,co_mat):\n",
        "  y_cap=[]\n",
        "  y_cap.append(np.dot(train_mat,co_mat))\n",
        "  return y_cap\n",
        "\n",
        "# min-max normalization\n",
        "def NormalizeData(data):\n",
        "    return (data - np.min(data)) / (np.max(data) - np.min(data))\n"
      ],
      "metadata": {
        "id": "1M4CV0PO-GNP"
      },
      "execution_count": 110,
      "outputs": []
    },
    {
      "cell_type": "code",
      "source": [
        "step_size = 0.01\n",
        "Lamda = math.pow(2, -7)\n",
        "\n",
        "for i in range(200):\n",
        "  \n",
        "  for j in range(len(U)):\n",
        "    p1=0\n",
        "    k=10\n",
        "    for kz in range(10):      \n",
        "      NormalizeData(U)\n",
        "      y_trainl=y_train[p1:k]\n",
        "      val=np.dot(Lamda,U) - np.dot(np.transpose(M9_train[p1:k]), (y_train[p1:k]-np.dot(M9_train[p1:k], U)))  \n",
        "      \n",
        "      p1 = p1+10\n",
        "      k = k+10\n",
        "      U = U-np.dot(step_size,val)\n",
        "  M9_U=U"
      ],
      "metadata": {
        "id": "9UgAXyvNHOoZ",
        "colab": {
          "base_uri": "https://localhost:8080/"
        },
        "outputId": "f62eaa3c-cda3-43b6-d0a8-a7c6a532f689"
      },
      "execution_count": 111,
      "outputs": [
        {
          "output_type": "stream",
          "name": "stderr",
          "text": [
            "/usr/local/lib/python3.7/dist-packages/ipykernel_launcher.py:21: RuntimeWarning: invalid value encountered in true_divide\n"
          ]
        }
      ]
    },
    {
      "cell_type": "markdown",
      "source": [
        "## Testing set Stochastic Gradient Descent"
      ],
      "metadata": {
        "id": "MDBpC5DOIB6S"
      }
    },
    {
      "cell_type": "code",
      "source": [
        "step_size=0.01\n",
        "Lamda = math.pow(2, -7)\n",
        "\n",
        "for i in range(200):  \n",
        "  for j in range(len(U)):\n",
        "    p1 = 0\n",
        "    k = 10\n",
        "    for kz in range(10):      \n",
        "      NormalizeData(U)\n",
        "      val = np.dot(Lamda, U) - np.dot(np.transpose(M9_test[p1:k]), (y_test[p1:k] - np.dot(M9_test[p1:k], U)))  \n",
        "      \n",
        "      p1 = p1+5\n",
        "      k = k+5\n",
        "      U = U - np.dot(step_size,val)\n",
        "  M9_test_U=U"
      ],
      "metadata": {
        "id": "qcfNp2HHIHDl"
      },
      "execution_count": 112,
      "outputs": []
    },
    {
      "cell_type": "code",
      "source": [
        "M9_y_pred=np.transpose(fun_y_cap(M9_train, M9_U))\n",
        "M9_y_pred_t=np.transpose(fun_y_cap(M9_test,M9_test_U))"
      ],
      "metadata": {
        "id": "cvMhxQPMZMCX"
      },
      "execution_count": 113,
      "outputs": []
    },
    {
      "cell_type": "markdown",
      "source": [
        "## RMSE"
      ],
      "metadata": {
        "id": "HWGD2etPIFoB"
      }
    },
    {
      "cell_type": "code",
      "source": [
        "def fun_rmse(y_pred,y_train):\n",
        "  sum=0\n",
        "  for i in range(100):\n",
        "    mt_minus=(y_pred[i]-y_train[i]) ** 2\n",
        "    sum = sum + mt_minus\n",
        "  error=np.sqrt(sum/100)\n",
        "  return error\n",
        "\n",
        "\n",
        "def fun_rmse_t(y_pred,y_train):\n",
        "  sum=0\n",
        "  for i in range(50):\n",
        "    mt_minus=(y_pred[i]-y_train[i]) ** 2\n",
        "    sum = sum + mt_minus\n",
        "  error=np.sqrt(sum/50)\n",
        "  return error\n",
        "\n",
        "M9_rmse=fun_rmse(M9_y_pred,y_train)\n",
        "print(f'RMSE for train data: {M9_rmse}')\n",
        "\n",
        "M9_rmse_t=fun_rmse_t(M9_y_pred_t,y_test)\n",
        "print(f'RMSE for test data: {M9_rmse_t}')"
      ],
      "metadata": {
        "id": "9clU8ZI_cDHx",
        "colab": {
          "base_uri": "https://localhost:8080/"
        },
        "outputId": "b34fe949-add4-4ce5-f415-3706cf7aa67c"
      },
      "execution_count": 114,
      "outputs": [
        {
          "output_type": "stream",
          "name": "stdout",
          "text": [
            "RMSE for train data: [0.23334446]\n",
            "RMSE for test data: [0.23020769]\n"
          ]
        }
      ]
    },
    {
      "cell_type": "markdown",
      "source": [
        "## NMSE"
      ],
      "metadata": {
        "id": "PopMUETIIIJF"
      }
    },
    {
      "cell_type": "code",
      "source": [
        "def fun_nmse(y_pred,y_train):\n",
        "  sumup=0\n",
        "  sumlo=0\n",
        "  y_pred1=np.array(y_pred)\n",
        "  for i in range(100):\n",
        "    mt_minus=(y_pred[i]-y_train[i]) ** 2\n",
        "    sumup = sumup + mt_minus\n",
        "    ym=np.mean(y_pred)\n",
        "    sumlo = sumlo + ((ym-y_pred[i])**2)\n",
        "  error=sumup/sumlo\n",
        "  return error\n",
        "\n",
        "\n",
        "def fun_nmse_t(y_pred_t,y_test):\n",
        "  sumup=0\n",
        "  sumlo=0\n",
        "  y_pred1=np.array(y_pred_t)\n",
        "  for i in range(50):\n",
        "    mt_minus=(y_pred_t[i]-y_train[i]) ** 2\n",
        "    sumup = sumup + mt_minus\n",
        "    ym=np.mean(y_pred_t)\n",
        "    sumlo = sumlo + ((ym-y_pred_t[i])**2)\n",
        "  error=sumup/sumlo\n",
        "  return error\n",
        "\n",
        "M9_nmse=fun_nmse(M9_y_pred,y_train)\n",
        "print(f'Training rmse: {M9_nmse}')\n",
        "\n",
        "M9_nmse_t=fun_nmse_t(M9_y_pred_t,y_test)\n",
        "print(f'training_rmse: {M9_nmse_t}')"
      ],
      "metadata": {
        "id": "_4th2y5NElzp",
        "colab": {
          "base_uri": "https://localhost:8080/"
        },
        "outputId": "96914c42-9292-4d5a-bc98-ad2489233bc4"
      },
      "execution_count": 115,
      "outputs": [
        {
          "output_type": "stream",
          "name": "stdout",
          "text": [
            "Training rmse: [0.07954406]\n",
            "training_rmse: [1.91090138]\n"
          ]
        }
      ]
    },
    {
      "cell_type": "markdown",
      "source": [
        "## MAE"
      ],
      "metadata": {
        "id": "IL2CatCsILJ_"
      }
    },
    {
      "cell_type": "code",
      "source": [
        "def fun_mae(y_pred,y_train):\n",
        "  sum=0\n",
        "  for i in range(100):\n",
        "    mt_minus=abs(y_pred[i]-y_train[i])\n",
        "    sum = sum + mt_minus\n",
        "  error=sum/100\n",
        "  return error\n",
        "\n",
        "def fun_mae_t(y_pred,y_test):\n",
        "  sum=0\n",
        "  for i in range(50):\n",
        "    mt_minus=abs(y_pred[i]-y_test[i])\n",
        "    sum = sum + mt_minus\n",
        "  error=sum/50\n",
        "  return error\n",
        "\n",
        "M9_mae=fun_mae(M9_y_pred,y_train)\n",
        "print(f'MAE for train data: {M9_mae}')\n",
        "\n",
        "M9_mae_t=fun_mae_t(M9_y_pred,y_test)\n",
        "print(f'MAE for trest data: {M9_mae_t}')"
      ],
      "metadata": {
        "id": "cV003LkBFtHh",
        "colab": {
          "base_uri": "https://localhost:8080/"
        },
        "outputId": "88236949-22f5-402a-9c29-c09af23bfc6f"
      },
      "execution_count": 116,
      "outputs": [
        {
          "output_type": "stream",
          "name": "stdout",
          "text": [
            "MAE for train data: [0.20371113]\n",
            "MAE for trest data: [0.83561047]\n"
          ]
        }
      ]
    },
    {
      "cell_type": "markdown",
      "source": [
        "## R-Square Error"
      ],
      "metadata": {
        "id": "0O1mKEPgIOz5"
      }
    },
    {
      "cell_type": "code",
      "source": [
        "def fun_r2(y_pred,y_train):\n",
        "  sumup=0\n",
        "  sumlo=0\n",
        "  y_pred1=np.array(y_pred)\n",
        "  for i in range(100):\n",
        "    ym1=np.mean(y_train)\n",
        "    sumup = sumup + ((ym1-y_pred[i])**2)\n",
        "    ym=np.mean(y_pred)\n",
        "    sumlo = sumlo + ((ym-y_pred[i])**2)\n",
        "  error=sumup/sumlo\n",
        "  return error\n",
        "\n",
        "def fun_r2_t(y_pred,y_test):\n",
        "  sumup=0\n",
        "  sumlo=0\n",
        "  y_pred1=np.array(y_pred)\n",
        "  for i in range(50):\n",
        "    ym1=np.mean(y_test)\n",
        "    sumup = sumup + ((ym1-y_pred[i])**2)\n",
        "    ym=np.mean(y_pred)\n",
        "    sumlo = sumlo + ((ym-y_pred[i])**2)\n",
        "  error=sumup/sumlo\n",
        "  return error\n",
        "\n",
        "M9_r2=fun_r2(M9_y_pred,y_train)\n",
        "print(f'R-Square error for train: {M9_r2}')\n",
        "\n",
        "M9_r2_t=fun_r2_t(M9_y_pred,y_test)\n",
        "print(f'R_square error for test: {M9_r2_t}')"
      ],
      "metadata": {
        "id": "UNLm1qOBGm4C",
        "colab": {
          "base_uri": "https://localhost:8080/"
        },
        "outputId": "dcb18183-5336-48a3-9410-a43ba0d0215b"
      },
      "execution_count": 117,
      "outputs": [
        {
          "output_type": "stream",
          "name": "stdout",
          "text": [
            "R-Square error for train: [1.00008235]\n",
            "R_square error for test: [1.1937598]\n"
          ]
        }
      ]
    },
    {
      "cell_type": "markdown",
      "source": [
        "## Plots for Training data and Testing data"
      ],
      "metadata": {
        "id": "pQ1awo1yIT2n"
      }
    },
    {
      "cell_type": "code",
      "source": [
        "fig, axes = plt.subplots(1, 2, figsize=(18, 6))\n",
        "\n",
        "axes[0].scatter(x_train,y_train, color='red', label='Training Data')\n",
        "axes[0].scatter(x_train, M9_y_pred, color='blue', label='Predicted Data')\n",
        "axes[0].legend(['Training Data', 'Predicted Data'])\n",
        "\n",
        "axes[1].scatter(x_test,y_test,  color='magenta', label='Testing data')\n",
        "axes[1].scatter(x_test,M9_y_pred_t,  color='green', label='Predicted Data')\n",
        "axes[1].legend(['Testing Data', 'Predicted Data'])"
      ],
      "metadata": {
        "id": "sIBTvMpUxKEG",
        "colab": {
          "base_uri": "https://localhost:8080/",
          "height": 0
        },
        "outputId": "1c2af477-acf2-415c-8620-7dc19268451f"
      },
      "execution_count": 118,
      "outputs": [
        {
          "output_type": "execute_result",
          "data": {
            "text/plain": [
              "<matplotlib.legend.Legend at 0x7f308a042710>"
            ]
          },
          "metadata": {},
          "execution_count": 118
        },
        {
          "output_type": "display_data",
          "data": {
            "text/plain": [
              "<Figure size 1296x432 with 2 Axes>"
            ],
            "image/png": "[encoded data removed]"
          },
          "metadata": {
            "needs_background": "light"
          }
        }
      ]
    },
    {
      "cell_type": "markdown",
      "source": [
        "# 6. Estimate the regularized Least Squares Kernel Regression model by using the Gaussian (RBF) kernel which is given by\n",
        "\n",
        "# K ($x_i$, $x_j$) = e$\\frac{−||x_i − x_j||^2}{σ^2}$\n",
        "\n",
        "\n",
        "# Also, tune the value of the regularization parameter λ and kernel parameter σ and obtain the best possible estimate using NMSE, RMSE, MAE and R2 on test set."
      ],
      "metadata": {
        "id": "yhph9UP7IZ-N"
      }
    },
    {
      "cell_type": "code",
      "execution_count": 119,
      "metadata": {
        "id": "eeb59c60"
      },
      "outputs": [],
      "source": [
        "def get_kernel(xi,xj,sigma):\n",
        "  kernel=math.exp(-(np.linalg.norm(xi-xj)**2)/sigma**2)\n",
        "  return kernel  "
      ]
    },
    {
      "cell_type": "code",
      "execution_count": 120,
      "metadata": {
        "id": "5c1c2f6c"
      },
      "outputs": [],
      "source": [
        "def get_weights(x,y,sigma,lambd):\n",
        "  kernels=np.zeros((len(x),len(x)+1))\n",
        "  weights=np.zeros(len(x)+1)\n",
        "  for i in range(len(x)):\n",
        "    for j in range(len(x)):\n",
        "      kernels[i,j] = get_kernel(x[i],x[j],sigma)\n",
        "  #Adding Bias\n",
        "  kernels[:,len(x):len(x)+1]=1\n",
        "  identity=np.identity(kernels.shape[1])\n",
        "  weights=np.linalg.inv((kernels.T).dot(kernels)+lambd*identity).dot((kernels.T).dot(y))\n",
        "  return [weights,kernels]"
      ]
    },
    {
      "cell_type": "code",
      "execution_count": 121,
      "metadata": {
        "id": "507faa35"
      },
      "outputs": [],
      "source": [
        "def get_test_kernel(x,test_x,w,sigma):\n",
        "  kernel2=np.zeros([len(test_x),len(x)+1])\n",
        "  y_predicted=np.zeros(len(test_x))\n",
        "  for i in range(len(test_x)):\n",
        "    for j in range(len(x)):\n",
        "      kernel2[i,j]=get_kernel(x[j],test_x[i],sigma)\n",
        "  kernel2[:,len(x):len(x)+1]=1        \n",
        "  return kernel2\n"
      ]
    },
    {
      "cell_type": "code",
      "execution_count": 122,
      "metadata": {
        "id": "5db76a73"
      },
      "outputs": [],
      "source": [
        "def get_rms_kernel(kernel2,y,w): \n",
        "  y_predicted=np.dot(kernel2,w)\n",
        "  rms=((np.sum((y_predicted-y)**2))/len(y))**0.5\n",
        "  return [rms,y_predicted]"
      ]
    },
    {
      "cell_type": "code",
      "execution_count": 123,
      "metadata": {
        "colab": {
          "base_uri": "https://localhost:8080/"
        },
        "id": "c0596a9e",
        "outputId": "2219f497-c4a3-4880-fb91-d076baec6ffc"
      },
      "outputs": [
        {
          "output_type": "stream",
          "name": "stdout",
          "text": [
            "Predicted values for direct kernel\n",
            "[ 0.76811815 -0.5788465  -0.52694602 -0.84483085  0.65161557  0.71430467\n",
            "  1.1313706  -0.54875641 -0.34282135  0.51085949  0.82172712 -0.51567539\n",
            "  1.03510903  0.90252773  1.12393323 -0.22020178  1.11362241 -0.84187152\n",
            " -0.86040313 -0.85621813  1.14364931  0.28308317 -0.63020556  1.02402493\n",
            "  0.85777072  0.72178619  0.65192281  0.5489567  -0.85750875 -0.74951979\n",
            "  1.0066684   0.57715918 -0.81120459  0.67275156 -0.68640924  0.25877831\n",
            " -0.45895703  0.99840468 -0.38202586 -0.33000065 -0.76652717 -0.27375166\n",
            "  0.12605298 -0.68634952  0.71289841 -0.81362433  0.01507554  1.12205252\n",
            "  0.40483125  0.18857886]\n",
            "rms for direct kernel: 0.07414316883917858\n"
          ]
        }
      ],
      "source": [
        "sigma=0.2\n",
        "lambd=0.0001\n",
        "[weight, train_kernel] = get_weights(X_train, Y_train,sigma,lambd)\n",
        "test_kernel=get_test_kernel(X_train,X_test,weight,sigma)\n",
        "[rms_kernel,y_predicted_kernel]=get_rms_kernel(test_kernel,Y_test,weight)\n",
        "print(\"Predicted values for direct kernel\")\n",
        "print(y_predicted_kernel)\n",
        "print(\"rms for direct kernel:\",rms_kernel)"
      ]
    },
    {
      "cell_type": "code",
      "execution_count": 124,
      "metadata": {
        "id": "3c0e5c90"
      },
      "outputs": [],
      "source": [
        "def get_mae_kernel(kernel2,y,w): \n",
        "  y_predicted=np.dot(kernel2,w)\n",
        "  mae=(np.sum(np.absolute((y_predicted-y))))/len(y)\n",
        "  return [mae,y_predicted]"
      ]
    },
    {
      "cell_type": "code",
      "execution_count": 125,
      "metadata": {
        "colab": {
          "base_uri": "https://localhost:8080/"
        },
        "id": "3fec5680",
        "outputId": "8b695d3f-2ea9-49c7-c78b-b3eebc6609cf"
      },
      "outputs": [
        {
          "output_type": "stream",
          "name": "stdout",
          "text": [
            "Predicted values for direct kernel\n",
            "[-0.80107423 -1.53017721 -1.5285793  -1.53130214 -0.85038408 -0.86093814\n",
            " -0.15695686 -1.53130529 -1.46084219 -0.46022632 -0.86087522 -1.52730991\n",
            " -0.27718192  0.02074816 -0.15480309 -0.75853185 -0.98090815 -1.53130237\n",
            " -1.53130214 -1.53130214 -0.83586984  0.89528063 -1.53131054 -0.14742402\n",
            " -0.16068896 -0.75622928 -0.79975192 -0.43281251 -1.53130214 -1.53130214\n",
            "  0.02151165 -0.74935605 -1.53130214 -0.46448023 -1.53130306  0.93494402\n",
            " -1.53123688 -0.34078933 -1.53077749 -1.53008177 -1.53130219 -1.50657087\n",
            "  0.99888383 -1.53130994 -0.8576899  -1.53130214  0.62535058 -0.86711971\n",
            "  0.85739052  0.79897248]\n",
            "mae for direct kernel: 1.0836533198550051\n"
          ]
        }
      ],
      "source": [
        "sigma=0.2\n",
        "lambd=0.0001\n",
        "[weight,train_kernel]=get_weights(X_train,Y_train,sigma,lambd)\n",
        "test_kernel=get_test_kernel(X_train,Y_test,weight,sigma)\n",
        "[mae_kernel,y_predicted_kernel]=get_mae_kernel(test_kernel,Y_test,weight)\n",
        "print(\"Predicted values for direct kernel\")\n",
        "print(y_predicted_kernel)\n",
        "print(\"mae for direct kernel:\",mae_kernel)"
      ]
    },
    {
      "cell_type": "code",
      "execution_count": 126,
      "metadata": {
        "id": "7c767b0b"
      },
      "outputs": [],
      "source": [
        "from sklearn.metrics import r2_score\n",
        "\n",
        "def get_r2_kernel(kernel2,y,w): \n",
        "  y_predicted=np.dot(kernel2,w)\n",
        "  r2_score1=r2_score(y_predicted,y)\n",
        "  return [r2_score1,y_predicted]"
      ]
    },
    {
      "cell_type": "code",
      "execution_count": 127,
      "metadata": {
        "colab": {
          "base_uri": "https://localhost:8080/"
        },
        "id": "fd11bdb1",
        "outputId": "959c038a-14c3-414a-e617-cf594615612b"
      },
      "outputs": [
        {
          "output_type": "stream",
          "name": "stdout",
          "text": [
            "Predicted values for direct kernel\n",
            "[ 0.76811815 -0.5788465  -0.52694602 -0.84483085  0.65161557  0.71430467\n",
            "  1.1313706  -0.54875641 -0.34282135  0.51085949  0.82172712 -0.51567539\n",
            "  1.03510903  0.90252773  1.12393323 -0.22020178  1.11362241 -0.84187152\n",
            " -0.86040313 -0.85621813  1.14364931  0.28308317 -0.63020556  1.02402493\n",
            "  0.85777072  0.72178619  0.65192281  0.5489567  -0.85750875 -0.74951979\n",
            "  1.0066684   0.57715918 -0.81120459  0.67275156 -0.68640924  0.25877831\n",
            " -0.45895703  0.99840468 -0.38202586 -0.33000065 -0.76652717 -0.27375166\n",
            "  0.12605298 -0.68634952  0.71289841 -0.81362433  0.01507554  1.12205252\n",
            "  0.40483125  0.18857886]\n",
            "r2 score for direct kernel: 0.9893777095712798\n"
          ]
        }
      ],
      "source": [
        "sigma=0.2\n",
        "lambd=0.0001\n",
        "[weight,train_kernel]=get_weights(X_train,Y_train,sigma,lambd)\n",
        "test_kernel=get_test_kernel(X_train,X_test,weight,sigma)\n",
        "[r2_kernel,y_predicted_kernel]=get_r2_kernel(test_kernel,Y_test,weight)\n",
        "print(\"Predicted values for direct kernel\")\n",
        "print(y_predicted_kernel)\n",
        "print(\"r2 score for direct kernel:\",r2_kernel)"
      ]
    },
    {
      "cell_type": "code",
      "execution_count": 128,
      "metadata": {
        "id": "15412d1a"
      },
      "outputs": [],
      "source": [
        "def get_nmse_kernel(kernel2,y,w): \n",
        "  y_predicted=np.dot(kernel2,w)\n",
        "  NMSE = 0\n",
        "  avg_y = sum(y)/len(y)\n",
        "  up = 0\n",
        "  down = 0\n",
        "  for i in range(len(y)):\n",
        "    up = up + (y[i] - y_predicted)**2\n",
        "    down = down + (y[i] - avg_y)**2\n",
        "  NMSE = up/down\n",
        "  return [NMSE,y_predicted]"
      ]
    },
    {
      "cell_type": "code",
      "execution_count": 129,
      "metadata": {
        "colab": {
          "base_uri": "https://localhost:8080/"
        },
        "id": "f6c6a753",
        "outputId": "3ef1e6f3-0208-43b0-bb5a-b34124482331"
      },
      "outputs": [
        {
          "output_type": "stream",
          "name": "stdout",
          "text": [
            "Predicted values for direct kernel\n",
            "[ 0.76811815 -0.5788465  -0.52694602 -0.84483085  0.65161557  0.71430467\n",
            "  1.1313706  -0.54875641 -0.34282135  0.51085949  0.82172712 -0.51567539\n",
            "  1.03510903  0.90252773  1.12393323 -0.22020178  1.11362241 -0.84187152\n",
            " -0.86040313 -0.85621813  1.14364931  0.28308317 -0.63020556  1.02402493\n",
            "  0.85777072  0.72178619  0.65192281  0.5489567  -0.85750875 -0.74951979\n",
            "  1.0066684   0.57715918 -0.81120459  0.67275156 -0.68640924  0.25877831\n",
            " -0.45895703  0.99840468 -0.38202586 -0.33000065 -0.76652717 -0.27375166\n",
            "  0.12605298 -0.68634952  0.71289841 -0.81362433  0.01507554  1.12205252\n",
            "  0.40483125  0.18857886]\n",
            "NMSE for direct kernel: 0.06639264954499598\n"
          ]
        }
      ],
      "source": [
        "sigma=0.2\n",
        "lambd=0.0001\n",
        "[weight,train_kernel]=get_weights(X_train,Y_train,sigma,lambd)\n",
        "test_kernel=get_test_kernel(X_train,X_test,weight,sigma)\n",
        "[NMSE_kernel,y_predicted_kernel]=get_mae_kernel(test_kernel,Y_test,weight)\n",
        "print(\"Predicted values for direct kernel\")\n",
        "print(y_predicted_kernel)\n",
        "print(\"NMSE for direct kernel:\",NMSE_kernel)"
      ]
    },
    {
      "cell_type": "markdown",
      "source": [
        "# 7. Estimate the regularized Least Squares Kernel Regression model by using the Gaussian (RBF) kernel with stochastic gradient descent method. Make use of the tuned value of regularization parameter λ and kernel parameter σ of question 6. Compare the obtained solution with the solution obtained at question 6."
      ],
      "metadata": {
        "id": "oAnGDobOLQxn"
      }
    },
    {
      "cell_type": "markdown",
      "metadata": {
        "id": "VWSOK0mi2G69"
      },
      "source": [
        "## Training and Test set values"
      ]
    },
    {
      "cell_type": "code",
      "execution_count": 130,
      "metadata": {
        "colab": {
          "base_uri": "https://localhost:8080/"
        },
        "outputId": "efa9dc89-27d9-4c5a-c0c2-74c976e1f63e",
        "id": "0GwrjDUhSwr7"
      },
      "outputs": [
        {
          "output_type": "execute_result",
          "data": {
            "text/plain": [
              "[1.0432722021490448,\n",
              " 1.1996861334191409,\n",
              " 1.3371663036612973,\n",
              " 1.3439126943186221,\n",
              " 1.345869137411399,\n",
              " 1.4055970804386262,\n",
              " 1.419716526661774,\n",
              " 1.4858079846361674,\n",
              " 1.496483983465985,\n",
              " 1.5134437617918548,\n",
              " 1.4979127497196134,\n",
              " 1.4489305125351895,\n",
              " 1.383225056278537,\n",
              " 1.3261138087347255,\n",
              " 1.2857829196505681,\n",
              " 1.2182233323406093,\n",
              " 1.208404897598216,\n",
              " 0.9841586122308326,\n",
              " 0.8535179915522976,\n",
              " 0.8099186754902408,\n",
              " 0.7802263437567516,\n",
              " 0.687546850530184,\n",
              " 0.5752605115689711,\n",
              " 0.4657242500453574,\n",
              " 0.2280427322781261,\n",
              " 0.0809243374350701,\n",
              " 0.033218577017672654,\n",
              " 0.0015919476633435847,\n",
              " -0.12792321816970248,\n",
              " -0.612906386764746,\n",
              " -0.7282874371266694,\n",
              " -0.7828304143359692,\n",
              " -0.8121006078230779,\n",
              " -0.8345441395766672,\n",
              " -0.8970773977377157,\n",
              " -0.9293842354952201,\n",
              " -0.9910704807469474,\n",
              " -0.9830100950721982,\n",
              " -0.9623009058557349,\n",
              " -0.9454760480699053,\n",
              " -0.9111152117316585,\n",
              " -0.8992681939881011,\n",
              " -0.8152064578815851,\n",
              " -0.7768499645169665,\n",
              " -0.7683610248627866,\n",
              " -0.7544373214505546,\n",
              " -0.7392712327438833,\n",
              " -0.38903318215064686,\n",
              " -0.37074242285432085,\n",
              " -0.3359046039912533]"
            ]
          },
          "metadata": {},
          "execution_count": 130
        }
      ],
      "source": [
        "x_train = np.sort(np.random.uniform(0,1,100))\n",
        "x_test =  np.sort(np.random.uniform(0,1,50))\n",
        "\n",
        "def normal_dist(x , mean = 0, sd = 0.25):\n",
        "    prob_density = (np.pi*sd) * np.exp(-0.5*((x-mean)/sd)**2)\n",
        "    return prob_density\n",
        "\n",
        "def func(x,si):\n",
        "  return(np.sin(6.28*x)+si)\n",
        "\n",
        "y_train=[]\n",
        "\n",
        "for i in range(100):\n",
        "  y_train.append(func(x_train[i],normal_dist(x_train[i])))\n",
        " \n",
        "y_test=[]\n",
        "\n",
        "for i in range(50):\n",
        "  y_test.append(func(x_test[i],normal_dist(x_test[i])))\n",
        "y_test"
      ]
    },
    {
      "cell_type": "code",
      "execution_count": 133,
      "metadata": {
        "id": "pXRzc_kGSwr8"
      },
      "outputs": [],
      "source": [
        "U=np.zeros(101)\n",
        "U1=np.zeros(51)\n",
        "\n",
        "def fun_matrixA(training_set):\n",
        "  M=[]\n",
        "  sigma=0.5\n",
        "  for i in range(len(training_set)):\n",
        "    M.append([])\n",
        "    for j in range(len(training_set)):\n",
        "      arr = np.array([training_set[i],training_set[j]])\n",
        "      norm_l2 = norm(arr)\n",
        "      M[i].append(np.exp(-((norm_l2)/(sigma**2))))\n",
        "  return M \n",
        "\n",
        "def NormalizeData(data):\n",
        "  return (data - np.min(data)) / (np.max(data) - np.min(data))\n",
        "\n",
        "\n",
        "# Function Matrix\n",
        "M9= fun_matrixA(x_train)\n",
        "\n",
        "X0=np.ones((len(x_train),1))\n",
        "\n",
        "M9=np.hstack((M9,X0))\n",
        "\n",
        "M9_t=fun_matrixA(x_test)\n",
        "X01 = np.ones((len(x_test),1))\n",
        "M9_t = np.hstack((M9_t,X01))\n",
        "\n",
        "M=np.array(M9)"
      ]
    },
    {
      "cell_type": "markdown",
      "metadata": {
        "id": "cT1x85ZOG7Ix"
      },
      "source": [
        "## Gradient Descent"
      ]
    },
    {
      "cell_type": "code",
      "execution_count": 134,
      "metadata": {
        "colab": {
          "base_uri": "https://localhost:8080/"
        },
        "outputId": "a0e4e0b6-cc02-470b-f300-f600f07ac4d4",
        "id": "Yw48vdXfSwr8"
      },
      "outputs": [
        {
          "output_type": "stream",
          "name": "stdout",
          "text": [
            "[-0.96851108 -0.91806537 -0.67590085 -0.65654264 -0.57076346 -0.49408307\n",
            " -0.43010472 -0.03545234 -0.0123659   0.12147818  0.19298702  0.25563113\n",
            "  0.33262978  0.42758611  0.44978325  0.47247579  0.48336903  0.48958169\n",
            "  0.50700788  0.5183796   0.53324748  0.53898911  0.53945188  0.54201912\n",
            "  0.54184076  0.53802829  0.53659542  0.53466422  0.53137592  0.52976812\n",
            "  0.52726413  0.52609179  0.49956447  0.4844752   0.47666601  0.44037706\n",
            "  0.4342698   0.39488647  0.38392214  0.38114942  0.29580681  0.28786248\n",
            "  0.27392305  0.2638204   0.25923147  0.25690353  0.24697093  0.21592887\n",
            "  0.21220533  0.2052749   0.19798352  0.19722282  0.1900914   0.18782273\n",
            "  0.18572091  0.17883511  0.16911831  0.16424619  0.1533251   0.1456186\n",
            "  0.1256574   0.12147941  0.11934411  0.10393299  0.10003523  0.09262063\n",
            "  0.07862914  0.07687487  0.07639346  0.07398064  0.06972242  0.06806376\n",
            "  0.06619082  0.06329444  0.05282796  0.0521602   0.04831861  0.04809138\n",
            "  0.04662958  0.04340327  0.03084987  0.02385324  0.02362387  0.02282028\n",
            "  0.02258776  0.01828185  0.01791375  0.01687131  0.01634641  0.01504899\n",
            "  0.01430206  0.01404263  0.01278097  0.01133664  0.01086158  0.00958604\n",
            "  0.00923511  0.00856113  0.00851865  0.0078796  -1.04116634]\n",
            "[-0.60404702 -0.31173308 -0.01849301 -0.00357364  0.00076202  0.13545038\n",
            "  0.1681671   0.33247668  0.3632515   0.42187057  0.53771753  0.55543602\n",
            "  0.55655558  0.55103126  0.54545403  0.53442678  0.53270819  0.49026388\n",
            "  0.46490535  0.45652119  0.45084501  0.43332972  0.4125612   0.39280016\n",
            "  0.35154306  0.32698262  0.31915161  0.31399126  0.29307668  0.21495298\n",
            "  0.19487507  0.18471103  0.17896954  0.17438282  0.16031293  0.15175232\n",
            "  0.11758983  0.10967712  0.10158821  0.09732774  0.09089378  0.08907793\n",
            "  0.07915518  0.07566376  0.07494844  0.07381383  0.0726282   0.0534298\n",
            "  0.05268375  0.05130636 -0.42435288]\n"
          ]
        },
        {
          "output_type": "stream",
          "name": "stderr",
          "text": [
            "/usr/local/lib/python3.7/dist-packages/ipykernel_launcher.py:16: RuntimeWarning: invalid value encountered in true_divide\n",
            "  app.launch_new_instance()\n"
          ]
        }
      ],
      "source": [
        "# Gradient Descent Training Set\n",
        "eta=0.01\n",
        "lamda=0.0078125\n",
        "for i in range(2):\n",
        "  for j in range(len(U)):\n",
        "    p1=0\n",
        "    k=10\n",
        "    for kz in range(10):      \n",
        "      NormalizeData(U)\n",
        "      y_trainl = y_train[p1:k]\n",
        "      val=np.dot(lamda,U)-np.dot(np.transpose(M9[p1:k]),(y_train[p1:k]-np.dot(M9[p1:k],U)))  \n",
        "      \n",
        "      p1 = p1+10\n",
        "      k = k+10\n",
        "      U=U-np.dot(eta,val)\n",
        "  M9_U=U\n",
        "print(M9_U)\n",
        "\n",
        "\n",
        "# Gradient Descent Testing Set\n",
        "eta=0.02\n",
        "lamda=0.0078125\n",
        "for i in range(2):  \n",
        "  for j in range(len(U)):\n",
        "    p1 = 0\n",
        "    k = 10 \n",
        "    for kz in range(5):      \n",
        "      NormalizeData(U1)\n",
        "\n",
        "      val = np.dot(lamda,U1) - np.dot(np.transpose(M9_t[p1:k]), (y_test[p1:k] - np.dot(M9_t[p1:k], U1)))\n",
        "      \n",
        "      p1 = p1 + 5\n",
        "      k = k + 5\n",
        "      U1 = U1 - np.dot(eta,val)\n",
        "  M9_U_t=U1\n",
        "print(M9_U_t)"
      ]
    },
    {
      "cell_type": "code",
      "execution_count": 135,
      "metadata": {
        "id": "l0bZV6ckXPwb"
      },
      "outputs": [],
      "source": [
        "def fun_y_cap(train_mat,co_mat):\n",
        "  y_cap=[]\n",
        "  y_cap.append(np.dot(train_mat,co_mat))\n",
        "  return y_cap\n"
      ]
    },
    {
      "cell_type": "code",
      "source": [
        "M9_y_pred=np.transpose(fun_y_cap(M9,M9_U))\n",
        "M9_y_pred_t=np.transpose(fun_y_cap(M9_t,M9_U_t))"
      ],
      "metadata": {
        "id": "sBG5-msARHXJ"
      },
      "execution_count": 136,
      "outputs": []
    },
    {
      "cell_type": "markdown",
      "metadata": {
        "id": "BjNooczS8FE9"
      },
      "source": [
        "## RMSE"
      ]
    },
    {
      "cell_type": "code",
      "execution_count": 137,
      "metadata": {
        "id": "ReyhJoKSSwr9"
      },
      "outputs": [],
      "source": [
        "def fun_rmse(y_pred,y_train):\n",
        "  sum=0\n",
        "  for i in range(100):\n",
        "    mt_minus=(y_pred[i]-y_train[i]) ** 2\n",
        "    sum = sum + mt_minus\n",
        "  error=np.sqrt(sum/100)\n",
        "  return error\n",
        "\n",
        "\n",
        "def fun_rmse_t(y_pred,y_train):\n",
        "  sum=0\n",
        "  for i in range(50):\n",
        "    mt_minus=(y_pred[i]-y_train[i]) ** 2\n",
        "    sum = sum + mt_minus\n",
        "  error=np.sqrt(sum/50)\n",
        "  return error"
      ]
    },
    {
      "cell_type": "code",
      "execution_count": 138,
      "metadata": {
        "id": "75CTSshFk3NE",
        "colab": {
          "base_uri": "https://localhost:8080/"
        },
        "outputId": "3a22a238-84d9-4719-aa77-0f9172e374a5"
      },
      "outputs": [
        {
          "output_type": "stream",
          "name": "stdout",
          "text": [
            "[0.31908159]\n",
            "[0.51767663]\n"
          ]
        }
      ],
      "source": [
        "\n",
        "M9_rmse=fun_rmse(M9_y_pred,y_train)\n",
        "\n",
        "print(M9_rmse)\n",
        "\n",
        "M9_rmse_t=fun_rmse_t(M9_y_pred_t,y_test)\n",
        "\n",
        "print(M9_rmse_t)\n"
      ]
    },
    {
      "cell_type": "markdown",
      "metadata": {
        "id": "yRrt2rwa9Qcm"
      },
      "source": [
        "## NMSE"
      ]
    },
    {
      "cell_type": "code",
      "execution_count": 139,
      "metadata": {
        "id": "AN7ZUBMx9Vjs"
      },
      "outputs": [],
      "source": [
        "def fun_nmse(y_pred,y_train):\n",
        "  sumup=0\n",
        "  sumlo=0\n",
        "  y_pred1=np.array(y_pred)\n",
        "  for i in range(100):\n",
        "    mt_minus=(y_pred[i]-y_train[i]) ** 2\n",
        "    sumup = sumup + mt_minus\n",
        "    ym=np.mean(y_pred)\n",
        "    sumlo = sumlo + ((ym-y_pred[i])**2)\n",
        "  error=sumup/sumlo\n",
        "  return error\n",
        "\n",
        "\n",
        "def fun_nmse_t(y_pred_t,y_test):\n",
        "  sumup=0\n",
        "  sumlo=0\n",
        "  y_pred1=np.array(y_pred_t)\n",
        "  for i in range(50):\n",
        "    mt_minus=(y_pred_t[i]-y_train[i]) ** 2\n",
        "    sumup = sumup + mt_minus\n",
        "    ym=np.mean(y_pred_t)\n",
        "    sumlo = sumlo + ((ym-y_pred_t[i])**2)\n",
        "  error=sumup/sumlo\n",
        "  return error"
      ]
    },
    {
      "cell_type": "code",
      "source": [
        "M9_nmse=fun_nmse(M9_y_pred,y_train)\n",
        "\n",
        "print(\"training_nmse: \",M9_nmse)\n",
        "\n",
        "M9_nmse_t=fun_nmse_t(M9_y_pred_t,y_test)\n",
        "\n",
        "print(\"testing_nmse: \",M9_nmse_t)"
      ],
      "metadata": {
        "colab": {
          "base_uri": "https://localhost:8080/"
        },
        "id": "7kD2kMn_Pqbm",
        "outputId": "641f69f6-3858-4371-f0fe-8355400909ee"
      },
      "execution_count": 140,
      "outputs": [
        {
          "output_type": "stream",
          "name": "stdout",
          "text": [
            "training_nmse:  [0.13693031]\n",
            "testing_nmse:  [1.5373145]\n"
          ]
        }
      ]
    },
    {
      "cell_type": "markdown",
      "metadata": {
        "id": "337BANES9R0H"
      },
      "source": [
        "## MAE"
      ]
    },
    {
      "cell_type": "code",
      "source": [
        "def fun_mae(y_pred,y_train):\n",
        "  sum=0\n",
        "  for i in range(100):\n",
        "    mt_minus=abs(y_pred[i]-y_train[i])\n",
        "    sum = sum + mt_minus\n",
        "  error=sum/100\n",
        "  return error\n",
        "\n",
        "def fun_mae_t(y_pred,y_test):\n",
        "  sum=0\n",
        "  for i in range(50):\n",
        "    mt_minus=abs(y_pred[i]-y_test[i])\n",
        "    sum = sum + mt_minus\n",
        "  error=sum/50\n",
        "  return error"
      ],
      "metadata": {
        "id": "Bg3_xbc4PtLy"
      },
      "execution_count": 141,
      "outputs": []
    },
    {
      "cell_type": "code",
      "source": [
        "M9_mae=fun_mae(M9_y_pred,y_train)\n",
        "\n",
        "print(M9_mae)\n",
        "\n",
        "M9_mae_t=fun_mae_t(M9_y_pred,y_test)\n",
        "\n",
        "print(M9_mae_t)"
      ],
      "metadata": {
        "colab": {
          "base_uri": "https://localhost:8080/"
        },
        "id": "texLnIFYPsw2",
        "outputId": "24c39b03-b5ce-4e62-d347-e5c42bc10848"
      },
      "execution_count": 142,
      "outputs": [
        {
          "output_type": "stream",
          "name": "stdout",
          "text": [
            "[0.26261178]\n",
            "[0.85743597]\n"
          ]
        }
      ]
    },
    {
      "cell_type": "markdown",
      "metadata": {
        "id": "hWcJev8p9Te4"
      },
      "source": [
        "## R_Square"
      ]
    },
    {
      "cell_type": "code",
      "source": [
        "def fun_r2(y_pred,y_train):\n",
        "  sumup=0\n",
        "  sumlo=0\n",
        "  y_pred1=np.array(y_pred)\n",
        "  for i in range(100):\n",
        "    ym1=np.mean(y_train)\n",
        "    sumup = sumup + ((ym1-y_pred[i])**2)\n",
        "    ym=np.mean(y_pred)\n",
        "    sumlo = sumlo + ((ym-y_pred[i])**2)\n",
        "  error=sumup/sumlo\n",
        "  return error\n",
        "\n",
        "def fun_r2_t(y_pred,y_test):\n",
        "  sumup=0\n",
        "  sumlo=0\n",
        "  y_pred1=np.array(y_pred)\n",
        "  for i in range(50):\n",
        "    ym1=np.mean(y_test)\n",
        "    sumup = sumup + ((ym1-y_pred[i])**2)\n",
        "    ym=np.mean(y_pred)\n",
        "    sumlo = sumlo + ((ym-y_pred[i])**2)\n",
        "  error=sumup/sumlo\n",
        "  return error"
      ],
      "metadata": {
        "id": "HSH_4QdVPz4x"
      },
      "execution_count": 143,
      "outputs": []
    },
    {
      "cell_type": "code",
      "source": [
        "M9_r2=fun_r2(M9_y_pred,y_train)\n",
        "\n",
        "print(M9_r2)\n",
        "\n",
        "M9_r2_t=fun_r2_t(M9_y_pred,y_test)\n",
        "\n",
        "print(M9_r2_t)"
      ],
      "metadata": {
        "colab": {
          "base_uri": "https://localhost:8080/"
        },
        "id": "9S9mp7QdP8Mx",
        "outputId": "9018a288-3ad6-4093-b0b5-bfba7df4235d"
      },
      "execution_count": 144,
      "outputs": [
        {
          "output_type": "stream",
          "name": "stdout",
          "text": [
            "[1.00085129]\n",
            "[1.09562179]\n"
          ]
        }
      ]
    },
    {
      "cell_type": "markdown",
      "metadata": {
        "id": "QGBdMCGUNo2-"
      },
      "source": [
        "## Training data plot"
      ]
    },
    {
      "cell_type": "code",
      "execution_count": 149,
      "metadata": {
        "colab": {
          "base_uri": "https://localhost:8080/",
          "height": 445
        },
        "outputId": "e6203d0e-d6bd-4b56-f03d-3cc11a7dbcd7",
        "id": "6sBq-CkxSwr-"
      },
      "outputs": [
        {
          "output_type": "execute_result",
          "data": {
            "text/plain": [
              "<matplotlib.legend.Legend at 0x7f3089a69610>"
            ]
          },
          "metadata": {},
          "execution_count": 149
        },
        {
          "output_type": "display_data",
          "data": {
            "text/plain": [
              "<Figure size 1080x504 with 2 Axes>"
            ],
            "image/png": "[encoded data removed]"
          },
          "metadata": {
            "needs_background": "light"
          }
        }
      ],
      "source": [
        "fig, axes = plt.subplots(1, 2, figsize=(15,7))\n",
        "\n",
        "axes[0].scatter(x_train,y_train, color='red', label='original')\n",
        "axes[0].scatter(x_train, M9_y_pred, color='blue', label='predicted')\n",
        "axes[0].legend(['Training Data', 'Predicted Data on training set'])\n",
        "\n",
        "axes[1].scatter(x_test,y_test,  color='green', label='original')\n",
        "axes[1].scatter(x_test,M9_y_pred_t,  color='violet', label='predicted')\n",
        "axes[1].legend(['Testing Data', 'Predicted Data on testing set'])"
      ]
    },
    {
      "cell_type": "markdown",
      "source": [
        "# 8. Modify the training set T by picking up randomly 5 data points from the training set T and scale their yi values by 20. Now, find the estimate of Least Squares Polynomial Regression model of order M= 9 with modified training set. Plot the estimated function along with data points of modified training set. Also, write down your observations."
      ],
      "metadata": {
        "id": "eKsCULlXLWxL"
      }
    },
    {
      "cell_type": "code",
      "source": [
        "Y_pred_stochastic_kernel=np.dot(rbf_array,U_stochastic_kernel)\n",
        "  U_stochastic_kernel=U_stochastic_kernel-((0.0001)*(Y_pred_stochastic_kernel[i]-Y_training[i])*rbf_array[i])\n",
        "[ ]\n",
        "Y_pred_stochastic_kernel=np.dot(rbf_array,U_stochastic_kernel)\n",
        "print(Y_pred_stochastic_kernel) \n",
        "\n",
        "[ ]\n",
        "root_mean_squared_error(Y_training,Y_pred_stochastic_kernel)\n",
        "0.4542355124549967\n",
        "[ ]\n",
        "mae(Y_training,Y_pred_stochastic_kernel)\n",
        "0.38513182309765226\n",
        "[ ]\n",
        "mean_square(Y_training,Y_pred_stochastic_kernel)\n",
        "\n",
        "0.20632990077525346\n",
        "[ ]\n",
        "r_squared_error(Y_training,Y_pred_stochastic_kernel)\n",
        "\n",
        "0.8515184218987184\n",
        "[ ]\n",
        "NMSE_fun(Y_training,Y_pred_stochastic_kernel)\n",
        "0.20859632053842903\n",
        "8. Modify the training set T by picking up randomly 5 data points from the training set T and scale their yi values by 20. Now, find the estimate of Least Squares Polynomial Regression model of order M= 9 with modified training set. Plot the estimated function along with data points of modified training set. Also, write down your observations.\n",
        "[ ]\n",
        "train_set=np.c_[X_training,Y_training]\n",
        "train_set=pd.DataFrame(train_set)\n",
        "[ ]\n",
        "sample_train_set=train_set.sample(n=5)\n",
        "[ ]\n",
        "sample_train_set[1]=4*sample_train_set[1]\n",
        "[ ]\n",
        "sample_train_set\n",
        "\n",
        "[ ]\n",
        "train_set.loc[sample_train_set.index,:]=sample_train_set[:]\n",
        "[ ]\n",
        "x=train_set[0]\n",
        "y=train_set[1]\n",
        "[ ]\n",
        "plt.scatter(x,y)\n",
        "\n",
        "[ ]\n",
        "A=(np.vstack([pow(x,9),pow(x,8),pow(x,7),pow(x,6),pow(x,5),pow(x,4),pow(x,3),pow(x,2),x,np.ones(len(x))]))\n",
        "[ ]\n",
        "A=A.T\n",
        "[ ]\n",
        "U=np.dot(np.linalg.pinv(np.dot(A.T,A)),np.dot((A.T),y))\n",
        "[ ]\n",
        "Y_pred=np.dot(A,U)\n",
        "[ ]\n",
        "plt.scatter(x,y)\n",
        "plt.scatter(x,Y_pred)\n",
        "plt.xlabel('x')\n",
        "plt.ylabel('y')\n",
        "plt.show()\n",
        "\n",
        "[ ]\n",
        "root_mean_squared_error(y,Y_pred)\n",
        "0.546620266636204\n",
        "We can see scaling causes outliers, and they are unable to fit to curve"
      ],
      "metadata": {
        "id": "Cc803pJULZu4"
      },
      "execution_count": null,
      "outputs": []
    },
    {
      "cell_type": "code",
      "source": [],
      "metadata": {
        "id": "nFm1355UT9e9"
      },
      "execution_count": null,
      "outputs": []
    }
  ]
}