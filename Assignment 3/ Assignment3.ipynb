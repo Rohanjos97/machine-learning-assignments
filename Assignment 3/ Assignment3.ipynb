{
  "nbformat": 4,
  "nbformat_minor": 0,
  "metadata": {
    "colab": {
      "provenance": [],
      "authorship_tag": "ABX9TyM9d64YHeqpYWfsYiZYqJbv",
      "include_colab_link": true
    },
    "kernelspec": {
      "name": "python3",
      "display_name": "Python 3"
    },
    "language_info": {
      "name": "python"
    }
  },
  "cells": [
    {
      "cell_type": "markdown",
      "metadata": {
        "id": "view-in-github",
        "colab_type": "text"
      },
      "source": [
        "<a href=\"https://colab.research.google.com/github/Rohanjos97/machine-learning-assignments/blob/main/Assignment%203/%20Assignment3.ipynb\" target=\"_parent\"><img src=\"https://colab.research.google.com/assets/colab-badge.svg\" alt=\"Open In Colab\"/></a>"
      ]
    },
    {
      "cell_type": "markdown",
      "source": [
        "# 1. Generate 100 real number for the variable X from the uniform distribution U [0, 1].\n",
        "\n",
        "# 2. Construct the training set T = { ($x_1$,$y_1$), ($x_2$,$y_2$), ... , ($x_{100}$,$y_{100}$)} using the relation\n",
        "\n",
        "# $Y_i$ = sin(2 π $x_i$) + $ε_i$ where $ε_i$ ~ N(0,0.25).\n",
        "\n",
        "# In the similar way construct a testing set of size 50 Test = { ($x'_1$,$y'_1$),($x'_2$,$y'_2$),......,($x'_{50}$,$y'_{50}$)}."
      ],
      "metadata": {
        "id": "2QhzxRd0ocy-"
      }
    },
    {
      "cell_type": "code",
      "source": [
        "import pandas as pd\n",
        "import random as random\n",
        "import numpy as np\n",
        "import math\n",
        "import matplotlib.pyplot as plt\n",
        "\n",
        "\n",
        "# Train data\n",
        "\n",
        "# Uniform distribution of training data\n",
        "X_train = np.random.uniform(0, 1, 100)\n",
        "\n",
        "Y_train = []\n",
        "for xval in X_train:\n",
        "  res = math.sin(2 * math.pi * xval) + np.random.uniform(0, 0.25)\n",
        "  Y_train.append(res)\n",
        "\n",
        "\n",
        "\n",
        "# Test data\n",
        "\n",
        "# Uniform distribution of testing data\n",
        "X_test = np.random.uniform(0, 1, 50)\n",
        "\n",
        "Y_test = []\n",
        "for xval in X_test:\n",
        "  res = math.sin(2 * math.pi * xval) + np.random.uniform(0, 0.25)\n",
        "  Y_test.append(res)\n",
        "\n",
        "\n",
        "# Plotting the graph of train and test data\n",
        "fig, ax = plt.subplots(1, 2, figsize=(15, 5))\n",
        "ax[0].scatter(X_train, Y_train)\n",
        "ax[0].set_title('Training Data')\n",
        "ax[1].scatter(X_test, Y_test)\n",
        "ax[1].set_title('Testing Data')"
      ],
      "metadata": {
        "colab": {
          "base_uri": "https://localhost:8080/",
          "height": 353
        },
        "id": "_OPIdk7xpOnO",
        "outputId": "4dd952a5-e6ee-4165-cf31-aabc89ac3ef9"
      },
      "execution_count": 226,
      "outputs": [
        {
          "output_type": "execute_result",
          "data": {
            "text/plain": [
              "Text(0.5, 1.0, 'Testing Data')"
            ]
          },
          "metadata": {},
          "execution_count": 226
        },
        {
          "output_type": "display_data",
          "data": {
            "text/plain": [
              "<Figure size 1080x360 with 2 Axes>"
            ],
            "image/png": "[encoded data removed]"
          },
          "metadata": {
            "needs_background": "light"
          }
        }
      ]
    },
    {
      "cell_type": "markdown",
      "source": [
        "# 3. Estimate the regularized Least Squares Polynomial Regression model of order M= 9, using the training set T using direct method. You also need to tune the regularization parameter λ which corresponds to minimum RMSE. After tuning the parameter λ, evaluate your estimated function using NMSE, RMSE, MAE and R2 on test set.\n",
        "\n",
        "## NOTE: Tuning for λ = 0.1, 0.05, $2^{-7}$, 0.0002 values."
      ],
      "metadata": {
        "id": "P5szq_SkqbgQ"
      }
    },
    {
      "cell_type": "code",
      "source": [
        "# Least Square Polynomial Regression\n",
        "def regularized_LSPR(x_dataset, y_dataset, degree, Lambda):\n",
        "  no_of_rows = len(x_dataset)\n",
        "  no_of_cols = degree+1\n",
        "\n",
        "  # finding the X matrix\n",
        "\n",
        "  # initialize X matrix with 0 initially\n",
        "  X = np.zeros((no_of_rows, no_of_cols))\n",
        "  lam_I = np.identity(degree+1)*Lambda\n",
        "  for xi in range (no_of_rows):\n",
        "    for deg in range (no_of_cols):\n",
        "      X[xi][deg] += math.pow(x_dataset[xi], deg)\n",
        "  \n",
        "  # calculating ((X^T . X)^(−1)) . X^T . Y\n",
        "  X_Trans_X = np.matrix((np.dot(X.T, X)))\n",
        "  X_Trans_X = np.add(X_Trans_X, lam_I)\n",
        "  X_Trans_X_Inv = X_Trans_X.I\n",
        "  temp = np.ma+trix(np.dot(X_Trans_X_Inv, X.T))\n",
        "  return np.dot(temp, y_dataset)\n",
        "\n",
        "reg_LSP_ord_9 = np.array(regularized_LSPR(X_train, Y_train, 9, 0))\n",
        "reg_LSP_ord_9_1 = np.array(regularized_LSPR(X_train, Y_train, 9, 0.1))\n",
        "reg_LSP_ord_9_05 = np.array(regularized_LSPR(X_train, Y_train, 9, 0.05))\n",
        "reg_LSP_ord_9_27 = np.array(regularized_LSPR(X_train, Y_train, 9, math.pow(2, -7)))\n",
        "reg_LSP_ord_9_0002 = np.array(regularized_LSPR(X_train, Y_train, 9, 0.0002))\n",
        "\n",
        "print(f'coefficient value with regularization and λ = 0: {reg_LSP_ord_9_1}')\n",
        "print(f'coefficient value with regularization and λ = 1: {reg_LSP_ord_9_05}')\n",
        "print(f'coefficient value with regularization and λ = 2^-7: {reg_LSP_ord_9_27}')\n",
        "print(f'coefficient value with regularization and λ = 2^-7: {reg_LSP_ord_9_0002}')"
      ],
      "metadata": {
        "colab": {
          "base_uri": "https://localhost:8080/"
        },
        "id": "I4MI_kwx7KGp",
        "outputId": "fec2148e-66bc-43cb-cc33-cc2e55a0885c"
      },
      "execution_count": 227,
      "outputs": [
        {
          "output_type": "stream",
          "name": "stdout",
          "text": [
            "coefficient value with regularization and λ = 0: [[ 0.73299886  1.39719408 -3.66937369 -2.34841359 -0.49947256  0.67960268\n",
            "   1.19265028  1.24680136  1.02472832  0.6526724 ]]\n",
            "coefficient value with regularization and λ = 1: [[ 0.62844188  2.40814437 -5.23650387 -2.8981693  -0.06721568  1.48731003\n",
            "   1.89537456  1.55981471  0.807937   -0.14388384]]\n",
            "coefficient value with regularization and λ = 2^-7: [[  0.31372971   5.85869965 -11.54328622  -4.48525646   2.42421337\n",
            "    5.22880611   4.80605836   2.50420594  -0.69613671  -4.19687746]]\n",
            "coefficient value with regularization and λ = 2^-7: [[  0.08483469   8.5843088  -16.82790206  -6.85136071   7.01856942\n",
            "    9.92230373   5.75968264   0.16743857  -3.58071627  -4.28591795]]\n"
          ]
        }
      ]
    },
    {
      "cell_type": "code",
      "source": [
        "y_predicted_m9, y_predicted_m9_1, y_predicted_m9_05, y_predicted_m9_27, y_predicted_m9_0002 = [], [], [], [], []\n",
        "X = X_train\n",
        "\n",
        "for val in X:\n",
        "  y_val = 0\n",
        "  y1_val = 0\n",
        "  y05_val = 0\n",
        "  y27_val = 0\n",
        "  y0002val = 0\n",
        "  for deg in range(9, -1, -1):\n",
        "    y_val += reg_LSP_ord_9[0][deg] * math.pow(val, deg)\n",
        "    y1_val += reg_LSP_ord_9_1[0][deg] * math.pow(val, deg)\n",
        "    y05_val += reg_LSP_ord_9_05[0][deg] * math.pow(val, deg)\n",
        "    y27_val += reg_LSP_ord_9_27[0][deg] * math.pow(val, deg)\n",
        "    y0002val += reg_LSP_ord_9_0002[0][deg] * math.pow(val, deg)\n",
        "  y_predicted_m9.append(y_val)\n",
        "  y_predicted_m9_1.append(y1_val)\n",
        "  y_predicted_m9_05.append(y05_val)\n",
        "  y_predicted_m9_27.append(y27_val)\n",
        "  y_predicted_m9_0002.append(y0002val)\n",
        "\n",
        "# Sorting the data to plot line graph\n",
        "df_predicted_m9 = pd.DataFrame(data=(X, y_predicted_m9),index=['X', 'Y_predicted']).T.sort_values(by='X')\n",
        "df_predicted_m9_1 = pd.DataFrame(data=(X, y_predicted_m9_1),index=['X', 'Y_predicted']).T.sort_values(by='X')\n",
        "df_predicted_m9_05 = pd.DataFrame(data=(X, y_predicted_m9_05),index=['X', 'Y_predicted']).T.sort_values(by='X')\n",
        "df_predicted_m9_27 = pd.DataFrame(data=(X, y_predicted_m9_27),index=['X', 'Y_predicted']).T.sort_values(by='X')\n",
        "df_predicted_m9_0002 = pd.DataFrame(data=(X, y_predicted_m9_0002),index=['X', 'Y_predicted']).T.sort_values(by='X')\n",
        "\n",
        "\n",
        "# Plotting all the points to compare the regression graph\n",
        "\n",
        "fig, axes = plt.subplots(1, 1, figsize=(18, 10))\n",
        "axes.scatter(X_train, Y_train, color='blue')\n",
        "axes.plot(df_predicted_m9['X'], df_predicted_m9['Y_predicted'], color='red', linewidth=7, alpha=0.5)\n",
        "axes.plot(df_predicted_m9_1['X'], df_predicted_m9_1['Y_predicted'], color='purple', linewidth=3)\n",
        "axes.plot(df_predicted_m9_05['X'], df_predicted_m9_05['Y_predicted'], color='green', linewidth=3)\n",
        "axes.plot(df_predicted_m9_27['X'], df_predicted_m9_27['Y_predicted'], color='orange', linewidth=3)\n",
        "axes.plot(df_predicted_m9_0002['X'], df_predicted_m9_0002['Y_predicted'], color='black', linewidth=3)\n",
        "axes.legend(['λ=0 predicted values', 'λ=0.1 predicted values', 'λ=0.05 predicted values', 'λ=$2^{-7}$ predicted values', 'λ=0.0002 predicted values', 'Training Data'])\n",
        "axes.set_title('Polynomial Regression for Testing Set')"
      ],
      "metadata": {
        "colab": {
          "base_uri": "https://localhost:8080/",
          "height": 624
        },
        "id": "CCgKXtA2AMdi",
        "outputId": "1ec9d875-c543-444d-f187-d554f3db9460"
      },
      "execution_count": 228,
      "outputs": [
        {
          "output_type": "execute_result",
          "data": {
            "text/plain": [
              "Text(0.5, 1.0, 'Polynomial Regression for Testing Set')"
            ]
          },
          "metadata": {},
          "execution_count": 228
        },
        {
          "output_type": "display_data",
          "data": {
            "text/plain": [
              "<Figure size 1296x720 with 1 Axes>"
            ],
            "image/png": "[encoded data removed]"
          },
          "metadata": {
            "needs_background": "light"
          }
        }
      ]
    },
    {
      "cell_type": "markdown",
      "source": [
        "## NMSE (Normalized Mean Square Error)"
      ],
      "metadata": {
        "id": "wfjOLrENux76"
      }
    },
    {
      "cell_type": "code",
      "source": [
        "y_vs_y_hat_m9 = pd.DataFrame(data=(np.array(df_predicted_m9_1['Y_predicted']), Y_train),index=['y predicted m9 λ1','Y_train']).T\n",
        "\n",
        "# Normalizing the dataset\n",
        "max_pred = y_vs_y_hat_m9['y predicted m9 λ1'].max()\n",
        "max_train = y_vs_y_hat_m9['Y_train'].max()\n",
        "\n",
        "min_pred = y_vs_y_hat_m9['y predicted m9 λ1'].min()\n",
        "min_train = y_vs_y_hat_m9['Y_train'].min()\n",
        "\n",
        "normalized_y_pred = (y_vs_y_hat_m9['y predicted m9 λ1'] - min_pred)/(max_pred - min_pred)\n",
        "normalized_y_train = (y_vs_y_hat_m9['Y_train'] - min_train)/(max_train - min_train)\n",
        "\n",
        "normalized_square_error = (normalized_y_pred - normalized_y_train)**2\n",
        "\n",
        "nmse_m9_λ1 = 0\n",
        "\n",
        "rmse_m9_λ1 = normalized_square_error.sum() / len(normalized_square_error)\n",
        "rmse_m9_λ1"
      ],
      "metadata": {
        "colab": {
          "base_uri": "https://localhost:8080/"
        },
        "id": "mr98Abv1jX47",
        "outputId": "c7a4db77-a59a-4d10-8a8d-20ac8695be23"
      },
      "execution_count": 229,
      "outputs": [
        {
          "output_type": "execute_result",
          "data": {
            "text/plain": [
              "0.25245097346975987"
            ]
          },
          "metadata": {},
          "execution_count": 229
        }
      ]
    },
    {
      "cell_type": "code",
      "source": [
        "y_vs_y_hat_m9 = pd.DataFrame(data=(np.array(df_predicted_m9_05['Y_predicted']), Y_train),index=['y predicted m9 λ05','Y_train']).T\n",
        "\n",
        "# Normalizing the dataset\n",
        "max_pred = y_vs_y_hat_m9['y predicted m9 λ05'].max()\n",
        "max_train = y_vs_y_hat_m9['Y_train'].max()\n",
        "\n",
        "min_pred = y_vs_y_hat_m9['y predicted m9 λ05'].min()\n",
        "min_train = y_vs_y_hat_m9['Y_train'].min()\n",
        "\n",
        "normalized_y_pred = (y_vs_y_hat_m9['y predicted m9 λ05'] - min_pred)/(max_pred - min_pred)\n",
        "normalized_y_train = (y_vs_y_hat_m9['Y_train'] - min_train)/(max_train - min_train)\n",
        "\n",
        "normalized_square_error = (normalized_y_pred - normalized_y_train)**2\n",
        "\n",
        "nmse_m9_λ05 = 0\n",
        "\n",
        "rmse_m9_λ05 = normalized_square_error.sum() / len(normalized_square_error)\n",
        "rmse_m9_λ05"
      ],
      "metadata": {
        "colab": {
          "base_uri": "https://localhost:8080/"
        },
        "id": "RvR3urfNl_OE",
        "outputId": "8282aa9a-d757-4d4e-821c-06a14d0dbb24"
      },
      "execution_count": 230,
      "outputs": [
        {
          "output_type": "execute_result",
          "data": {
            "text/plain": [
              "0.25190361285892704"
            ]
          },
          "metadata": {},
          "execution_count": 230
        }
      ]
    },
    {
      "cell_type": "code",
      "source": [
        "y_vs_y_hat_m9 = pd.DataFrame(data=(np.array(df_predicted_m9_27['Y_predicted']), Y_train),index=['y predicted m9 λ2^-7','Y_train']).T\n",
        "\n",
        "# Normalizing the dataset\n",
        "max_pred = y_vs_y_hat_m9['y predicted m9 λ2^-7'].max()\n",
        "max_train = y_vs_y_hat_m9['Y_train'].max()\n",
        "\n",
        "min_pred = y_vs_y_hat_m9['y predicted m9 λ2^-7'].min()\n",
        "min_train = y_vs_y_hat_m9['Y_train'].min()\n",
        "\n",
        "normalized_y_pred = (y_vs_y_hat_m9['y predicted m9 λ2^-7'] - min_pred)/(max_pred - min_pred)\n",
        "normalized_y_train = (y_vs_y_hat_m9['Y_train'] - min_train)/(max_train - min_train)\n",
        "\n",
        "normalized_square_error = (normalized_y_pred - normalized_y_train)**2\n",
        "\n",
        "nmse_m9_λ1 = 0\n",
        "\n",
        "rmse_m9_λ1 = normalized_square_error.sum() / len(normalized_square_error)\n",
        "rmse_m9_λ1"
      ],
      "metadata": {
        "colab": {
          "base_uri": "https://localhost:8080/"
        },
        "id": "mdRnt5fFmMHV",
        "outputId": "b937f637-819b-4fa7-8e8f-92d576859055"
      },
      "execution_count": 231,
      "outputs": [
        {
          "output_type": "execute_result",
          "data": {
            "text/plain": [
              "0.24576502027392322"
            ]
          },
          "metadata": {},
          "execution_count": 231
        }
      ]
    },
    {
      "cell_type": "code",
      "source": [
        "y_vs_y_hat_m9 = pd.DataFrame(data=(np.array(df_predicted_m9_0002['Y_predicted']), Y_train),index=['y predicted m9 λ0002','Y_train']).T\n",
        "\n",
        "# Normalizing the dataset\n",
        "max_pred = y_vs_y_hat_m9['y predicted m9 λ0002'].max()\n",
        "max_train = y_vs_y_hat_m9['Y_train'].max()\n",
        "\n",
        "min_pred = y_vs_y_hat_m9['y predicted m9 λ0002'].min()\n",
        "min_train = y_vs_y_hat_m9['Y_train'].min()\n",
        "\n",
        "normalized_y_pred = (y_vs_y_hat_m9['y predicted m9 λ0002'] - min_pred)/(max_pred - min_pred)\n",
        "normalized_y_train = (y_vs_y_hat_m9['Y_train'] - min_train)/(max_train - min_train)\n",
        "\n",
        "normalized_square_error = (normalized_y_pred - normalized_y_train)**2\n",
        "\n",
        "nmse_m9_λ0002 = 0\n",
        "\n",
        "rmse_m9_λ0002 = normalized_square_error.sum() / len(normalized_square_error)\n",
        "rmse_m9_λ0002"
      ],
      "metadata": {
        "colab": {
          "base_uri": "https://localhost:8080/"
        },
        "id": "xI2FsGyosBUc",
        "outputId": "d01040a4-c1d5-42c0-b3df-cbbea923ae44"
      },
      "execution_count": 232,
      "outputs": [
        {
          "output_type": "execute_result",
          "data": {
            "text/plain": [
              "0.24436371942706994"
            ]
          },
          "metadata": {},
          "execution_count": 232
        }
      ]
    },
    {
      "cell_type": "markdown",
      "source": [
        "## RMSE (Root Mean Square error)"
      ],
      "metadata": {
        "id": "nC9GOLJAv8LV"
      }
    },
    {
      "cell_type": "code",
      "source": [
        "y_vs_y_hat_m9 = pd.DataFrame(data=(np.array(df_predicted_m9_1['Y_predicted']), Y_test),index=['y predicted m9 λ1','Y_train']).T\n",
        "y_vs_y_hat_m9['sum of square error'] = (y_vs_y_hat_m9['y predicted m9 λ1'] - y_vs_y_hat_m9['Y_train'])**2\n",
        "\n",
        "rmse_m9_λ1 = 0\n",
        "\n",
        "rmse_m9_λ1 = y_vs_y_hat_m9['sum of square error'].sum() / len(y_vs_y_hat_m9)\n",
        "rmse_m9_λ1 = math.sqrt(rmse_m9_λ1)\n",
        "rmse_m9_λ1"
      ],
      "metadata": {
        "colab": {
          "base_uri": "https://localhost:8080/"
        },
        "id": "pSFepayyB-Ca",
        "outputId": "e06ccd3f-18d0-4fab-edb1-ee4257039f8f"
      },
      "execution_count": 233,
      "outputs": [
        {
          "output_type": "execute_result",
          "data": {
            "text/plain": [
              "0.6923844139731433"
            ]
          },
          "metadata": {},
          "execution_count": 233
        }
      ]
    },
    {
      "cell_type": "code",
      "source": [
        "y_vs_y_hat_m9 = pd.DataFrame(data=(np.array(df_predicted_m9_05['Y_predicted']), Y_test),index=['y predicted m9 λ05','Y_train']).T\n",
        "y_vs_y_hat_m9['sum of square error'] = (y_vs_y_hat_m9['y predicted m9 λ05'] - y_vs_y_hat_m9['Y_train'])**2\n",
        "\n",
        "rmse_m9_λ05 = 0\n",
        "\n",
        "rmse_m9_λ05 = y_vs_y_hat_m9['sum of square error'].sum() / len(y_vs_y_hat_m9)\n",
        "rmse_m9_λ05 = math.sqrt(rmse_m9_λ05)\n",
        "rmse_m9_λ05"
      ],
      "metadata": {
        "colab": {
          "base_uri": "https://localhost:8080/"
        },
        "id": "rkYPReyzD4_M",
        "outputId": "a6556a1e-8ba7-4595-f74b-f40ad23a84a0"
      },
      "execution_count": 234,
      "outputs": [
        {
          "output_type": "execute_result",
          "data": {
            "text/plain": [
              "0.702679649778377"
            ]
          },
          "metadata": {},
          "execution_count": 234
        }
      ]
    },
    {
      "cell_type": "code",
      "source": [
        "y_vs_y_hat_m9 = pd.DataFrame(data=(np.array(df_predicted_m9_27['Y_predicted']), Y_test),index=['y predicted m9 λ2^-7','Y_train']).T\n",
        "y_vs_y_hat_m9['sum of square error'] = (y_vs_y_hat_m9['y predicted m9 λ2^-7'] - y_vs_y_hat_m9['Y_train'])**2\n",
        "\n",
        "rmse_m9_λ27 = 0\n",
        "\n",
        "rmse_m9_λ27 = y_vs_y_hat_m9['sum of square error'].sum() / len(y_vs_y_hat_m9)\n",
        "rmse_m9_λ27 = math.sqrt(rmse_m9_λ27)\n",
        "rmse_m9_λ27"
      ],
      "metadata": {
        "colab": {
          "base_uri": "https://localhost:8080/"
        },
        "id": "AJ5mXHy3D-Ks",
        "outputId": "fdc667e8-a722-4b10-8317-038a274258c9"
      },
      "execution_count": 235,
      "outputs": [
        {
          "output_type": "execute_result",
          "data": {
            "text/plain": [
              "0.7452319676000311"
            ]
          },
          "metadata": {},
          "execution_count": 235
        }
      ]
    },
    {
      "cell_type": "code",
      "source": [
        "y_vs_y_hat_m9 = pd.DataFrame(data=(np.array(df_predicted_m9_0002['Y_predicted']), Y_test),index=['y predicted m9 λ0002','Y_train']).T\n",
        "y_vs_y_hat_m9['sum of square error'] = (y_vs_y_hat_m9['y predicted m9 λ0002'] - y_vs_y_hat_m9['Y_train'])**2\n",
        "\n",
        "rmse_m9_λ0002 = 0\n",
        "\n",
        "rmse_m9_λ0002 = y_vs_y_hat_m9['sum of square error'].sum() / len(y_vs_y_hat_m9)\n",
        "rmse_m9_λ0002 = math.sqrt(rmse_m9_λ0002)\n",
        "rmse_m9_λ0002"
      ],
      "metadata": {
        "colab": {
          "base_uri": "https://localhost:8080/"
        },
        "id": "G17x6kwMscJG",
        "outputId": "54ca49a0-5294-4e4e-b706-31316aa2ef2e"
      },
      "execution_count": 236,
      "outputs": [
        {
          "output_type": "execute_result",
          "data": {
            "text/plain": [
              "0.7839397126596301"
            ]
          },
          "metadata": {},
          "execution_count": 236
        }
      ]
    },
    {
      "cell_type": "markdown",
      "source": [
        "## MAE (Mean Absolute Error)"
      ],
      "metadata": {
        "id": "25B2dI2nwC4q"
      }
    },
    {
      "cell_type": "code",
      "source": [
        "y_vs_y_hat_m9 = pd.DataFrame(data=(np.array(df_predicted_m9_1['Y_predicted']), Y_train),index=['y predicted m9 λ1','Y_train']).T\n",
        "y_vs_y_hat_m9['absolute error'] = abs(y_vs_y_hat_m9['y predicted m9 λ1'] - y_vs_y_hat_m9['Y_train'])\n",
        "\n",
        "rmse_m9_λ1 = 0\n",
        "rmse_m9_λ1 = y_vs_y_hat_m9['absolute error'].sum() / len(y_vs_y_hat_m9)\n",
        "rmse_m9_λ1"
      ],
      "metadata": {
        "colab": {
          "base_uri": "https://localhost:8080/"
        },
        "outputId": "c852f779-a28a-4950-b0fd-501792585bd7",
        "id": "PqBO6J8rxGox"
      },
      "execution_count": 237,
      "outputs": [
        {
          "output_type": "execute_result",
          "data": {
            "text/plain": [
              "0.7924380213031672"
            ]
          },
          "metadata": {},
          "execution_count": 237
        }
      ]
    },
    {
      "cell_type": "code",
      "source": [
        "y_vs_y_hat_m9 = pd.DataFrame(data=(np.array(df_predicted_m9_05['Y_predicted']), Y_train),index=['y predicted m9 λ05','Y_train']).T\n",
        "y_vs_y_hat_m9['absolute error'] = abs(y_vs_y_hat_m9['y predicted m9 λ05'] - y_vs_y_hat_m9['Y_train'])\n",
        "\n",
        "rmse_m9_λ05 = 0\n",
        "rmse_m9_λ05 = y_vs_y_hat_m9['absolute error'].sum() / len(y_vs_y_hat_m9)\n",
        "rmse_m9_λ05"
      ],
      "metadata": {
        "colab": {
          "base_uri": "https://localhost:8080/"
        },
        "outputId": "39e4ad1d-8df3-4e18-ede1-b065ccb70446",
        "id": "jCZWi6mJxGo4"
      },
      "execution_count": 238,
      "outputs": [
        {
          "output_type": "execute_result",
          "data": {
            "text/plain": [
              "0.7987927790752201"
            ]
          },
          "metadata": {},
          "execution_count": 238
        }
      ]
    },
    {
      "cell_type": "code",
      "source": [
        "y_vs_y_hat_m9 = pd.DataFrame(data=(np.array(df_predicted_m9_27['Y_predicted']), Y_train),index=['y predicted m9 λ2^-7','Y_train']).T\n",
        "y_vs_y_hat_m9['absolute error'] = abs(y_vs_y_hat_m9['y predicted m9 λ2^-7'] - y_vs_y_hat_m9['Y_train'])\n",
        "\n",
        "rmse_m9_λ27 = 0\n",
        "rmse_m9_λ27 = y_vs_y_hat_m9['absolute error'].sum() / len(y_vs_y_hat_m9)\n",
        "rmse_m9_λ27"
      ],
      "metadata": {
        "colab": {
          "base_uri": "https://localhost:8080/"
        },
        "outputId": "80c4f226-c69b-41e6-f0a3-954eb1a29be8",
        "id": "dQERxGLtxGo4"
      },
      "execution_count": 239,
      "outputs": [
        {
          "output_type": "execute_result",
          "data": {
            "text/plain": [
              "0.8231524629616169"
            ]
          },
          "metadata": {},
          "execution_count": 239
        }
      ]
    },
    {
      "cell_type": "code",
      "source": [
        "y_vs_y_hat_m9 = pd.DataFrame(data=(np.array(df_predicted_m9_0002['Y_predicted']), Y_train),index=['y predicted m9 λ0002','Y_train']).T\n",
        "y_vs_y_hat_m9['absolute error'] = abs(y_vs_y_hat_m9['y predicted m9 λ0002'] - y_vs_y_hat_m9['Y_train'])\n",
        "\n",
        "rmse_m9_λ0002 = 0\n",
        "rmse_m9_λ0002 = y_vs_y_hat_m9['absolute error'].sum() / len(y_vs_y_hat_m9)\n",
        "rmse_m9_λ0002"
      ],
      "metadata": {
        "colab": {
          "base_uri": "https://localhost:8080/"
        },
        "id": "IO72jhBLstW8",
        "outputId": "f5978b73-8c67-4434-e14d-c2af7504ccad"
      },
      "execution_count": 240,
      "outputs": [
        {
          "output_type": "execute_result",
          "data": {
            "text/plain": [
              "0.8484802556858171"
            ]
          },
          "metadata": {},
          "execution_count": 240
        }
      ]
    },
    {
      "cell_type": "markdown",
      "source": [
        "## R2 (R-square Error)\n",
        "\n",
        "### R2= 1 − $\\frac{sum \\; squared \\; regression \\; (SSR)}{total \\; sum \\; of \\; squares \\; (SST)}$\n",
        "\n",
        "\n",
        "### R2 = $1− \\frac{∑(y_i− \\bar{y_i})^2}{∑(y_i−\\bar{y})^2}$"
      ],
      "metadata": {
        "id": "vzPn-DL3wEZo"
      }
    },
    {
      "cell_type": "code",
      "source": [
        "y_vs_y_hat_m9 = pd.DataFrame(data=(np.array(df_predicted_m9_1['Y_predicted']), Y_train),index=['y predicted m9 λ1','Y_train']).T\n",
        "y_mean = (y_vs_y_hat_m9['Y_train'].sum())/len(Y_train)\n",
        "\n",
        "y_vs_y_hat_m9['SSR'] = (y_vs_y_hat_m9['y predicted m9 λ1'] - y_vs_y_hat_m9['Y_train'])**2\n",
        "y_vs_y_hat_m9['SST'] = (y_vs_y_hat_m9['Y_train'] - y_mean)**2\n",
        "\n",
        "SST = y_vs_y_hat_m9['SSR'].sum()\n",
        "SSR = y_vs_y_hat_m9['SST'].sum()\n",
        "\n",
        "R_square_λ1 = SSR/SST\n",
        "R_square_λ1"
      ],
      "metadata": {
        "colab": {
          "base_uri": "https://localhost:8080/"
        },
        "outputId": "ac905568-f275-42ee-8f62-2b741d415488",
        "id": "wYof6gva1INn"
      },
      "execution_count": 241,
      "outputs": [
        {
          "output_type": "execute_result",
          "data": {
            "text/plain": [
              "0.5337549375320911"
            ]
          },
          "metadata": {},
          "execution_count": 241
        }
      ]
    },
    {
      "cell_type": "code",
      "source": [
        "y_vs_y_hat_m9 = pd.DataFrame(data=(np.array(df_predicted_m9_05['Y_predicted']), Y_train),index=['y predicted m9 λ05','Y_train']).T\n",
        "y_mean = (y_vs_y_hat_m9['Y_train'].sum())/len(Y_train)\n",
        "\n",
        "y_vs_y_hat_m9['SSR'] = (y_vs_y_hat_m9['y predicted m9 λ05'] - y_vs_y_hat_m9['Y_train'])**2\n",
        "y_vs_y_hat_m9['SST'] = (y_vs_y_hat_m9['Y_train'] - y_mean)**2\n",
        "\n",
        "SST = y_vs_y_hat_m9['SSR'].sum()\n",
        "SSR = y_vs_y_hat_m9['SST'].sum()\n",
        "\n",
        "R_square_λ05 = SSR/SST\n",
        "R_square_λ05"
      ],
      "metadata": {
        "colab": {
          "base_uri": "https://localhost:8080/"
        },
        "outputId": "f3e7fd8c-26e9-4ac7-b7d4-1f875239813d",
        "id": "l5RFt9o31INo"
      },
      "execution_count": 242,
      "outputs": [
        {
          "output_type": "execute_result",
          "data": {
            "text/plain": [
              "0.5209787933258684"
            ]
          },
          "metadata": {},
          "execution_count": 242
        }
      ]
    },
    {
      "cell_type": "code",
      "source": [
        "y_vs_y_hat_m9 = pd.DataFrame(data=(np.array(df_predicted_m9_27['Y_predicted']), Y_train),index=['y predicted m9 λ27','Y_train']).T\n",
        "y_mean = (y_vs_y_hat_m9['Y_train'].sum())/len(Y_train)\n",
        "\n",
        "y_vs_y_hat_m9['SSR'] = (y_vs_y_hat_m9['y predicted m9 λ27'] - y_vs_y_hat_m9['Y_train'])**2\n",
        "y_vs_y_hat_m9['SST'] = (y_vs_y_hat_m9['Y_train'] - y_mean)**2\n",
        "\n",
        "SST = y_vs_y_hat_m9['SSR'].sum()\n",
        "SSR = y_vs_y_hat_m9['SST'].sum()\n",
        "\n",
        "R_square_λ0 = SSR/SST\n",
        "R_square_λ0"
      ],
      "metadata": {
        "colab": {
          "base_uri": "https://localhost:8080/"
        },
        "outputId": "fdcce243-f661-4e80-d8df-39ffe4febc29",
        "id": "yui2Ah931INp"
      },
      "execution_count": 243,
      "outputs": [
        {
          "output_type": "execute_result",
          "data": {
            "text/plain": [
              "0.4890808911170796"
            ]
          },
          "metadata": {},
          "execution_count": 243
        }
      ]
    },
    {
      "cell_type": "code",
      "source": [
        "y_vs_y_hat_m9 = pd.DataFrame(data=(np.array(df_predicted_m9_0002['Y_predicted']), Y_train),index=['y predicted m9 λ0002','Y_train']).T\n",
        "y_mean = (y_vs_y_hat_m9['Y_train'].sum())/len(Y_train)\n",
        "\n",
        "y_vs_y_hat_m9['SSR'] = (y_vs_y_hat_m9['y predicted m9 λ0002'] - y_vs_y_hat_m9['Y_train'])**2\n",
        "y_vs_y_hat_m9['SST'] = (y_vs_y_hat_m9['Y_train'] - y_mean)**2\n",
        "\n",
        "SST = y_vs_y_hat_m9['SSR'].sum()\n",
        "SSR = y_vs_y_hat_m9['SST'].sum()\n",
        "\n",
        "R_square_λ0 = SSR/SST\n",
        "R_square_λ0"
      ],
      "metadata": {
        "colab": {
          "base_uri": "https://localhost:8080/"
        },
        "id": "OxVVgaBLtABj",
        "outputId": "da9b1749-a71e-4604-8b20-f345ae2b0434"
      },
      "execution_count": 244,
      "outputs": [
        {
          "output_type": "execute_result",
          "data": {
            "text/plain": [
              "0.462500956805132"
            ]
          },
          "metadata": {},
          "execution_count": 244
        }
      ]
    },
    {
      "cell_type": "markdown",
      "source": [
        "# 4. Estimate the regularized Least Squares Polynomial Regression model of order M= 9, on the training set T using gradient descent method with the tuned value of λ obtained in question 3 by selecting an appropriate step length η. Compare the solution obtained by direct method and gradient descent method. Evaluate your estimated function using NMSE, RMSE, MAE and R2 on test set."
      ],
      "metadata": {
        "id": "8Y_x3dE6JH4f"
      }
    },
    {
      "cell_type": "markdown",
      "source": [
        "## In polynomial regression, the coefficients of our $9^{th}$ degree polynomial, $w_0$, $w_1$, $w_2$, $w_3$, $w_4$, $w_5$, $w_6$, $w_7$, $w_9$, $w_{10}$ will be estimated, evaluated and altered until we can accurately fit a line to the input x data. Gradient descent is the optimization step in this process that alters and improves on the values of these coefficients.\n",
        "\n",
        "## We can start be choosing coefficients for a $9^{th}$ degree polynomial equation ($w_0$ + $w_1$$x$ + $w_2$$x^2$ + $w_3$$x^3$ + $w_4$$x^4$ + $w_5$$x^5$ + $w_6$$x^6$ + $w_7$$x^7$ + $w_8$$x^8$ + $w_9$$x^9$ ) that will distribute the data we will try to model. These will be the coefficients for our base/ground truth model we hope to get our predictive model as close as possible to."
      ],
      "metadata": {
        "id": "9oH_8B6o4cac"
      }
    },
    {
      "cell_type": "code",
      "source": [
        "coefficient_m9 = []\n",
        "\n",
        "for coff in range(10):\n",
        "  rand_coef = random.uniform(-10, 10)\n",
        "  coefficient_m9.append(rand_coef)\n",
        "coefficient_m9"
      ],
      "metadata": {
        "colab": {
          "base_uri": "https://localhost:8080/"
        },
        "id": "Y3gVBzAmKeHn",
        "outputId": "1bf1caac-0ef4-4b6d-9c2a-a035c00014c6"
      },
      "execution_count": 245,
      "outputs": [
        {
          "output_type": "execute_result",
          "data": {
            "text/plain": [
              "[6.193053695558039,\n",
              " 2.569986204711533,\n",
              " 5.071837585921532,\n",
              " 8.828815267946148,\n",
              " 3.8797735734112813,\n",
              " -3.5131222114034744,\n",
              " -1.388192662360705,\n",
              " 3.7499905832729006,\n",
              " -1.3968479845435269,\n",
              " 1.9806033465910762]"
            ]
          },
          "metadata": {},
          "execution_count": 245
        }
      ]
    },
    {
      "cell_type": "code",
      "source": [
        "y_predicted_m9  = []\n",
        "X = X_train\n",
        "\n",
        "for val in X:\n",
        "  y_val = 0\n",
        "  for deg in range(0, 10):\n",
        "    y_val += coefficient_m9[deg] * math.pow(val, deg)\n",
        "  y_predicted_m9.append(y_val)"
      ],
      "metadata": {
        "id": "Ss4nnYao6Wp4"
      },
      "execution_count": 246,
      "outputs": []
    },
    {
      "cell_type": "markdown",
      "source": [
        "## This is how our base model looks like with the random values of coefficeints."
      ],
      "metadata": {
        "id": "7-19idgHAYUz"
      }
    },
    {
      "cell_type": "code",
      "source": [
        "fig, axes = plt.subplots(1, 1, figsize=(7, 5))\n",
        "axes.scatter(X_train, Y_train, color='blue')\n",
        "axes.scatter(X_train, y_predicted_m9, color='red')\n",
        "axes.legend(['Training data', 'predicted base model'])"
      ],
      "metadata": {
        "colab": {
          "base_uri": "https://localhost:8080/",
          "height": 337
        },
        "id": "QrxLf5u46-Gs",
        "outputId": "d6bf3ff9-c44a-4553-ee82-afcd6583139e"
      },
      "execution_count": 247,
      "outputs": [
        {
          "output_type": "execute_result",
          "data": {
            "text/plain": [
              "<matplotlib.legend.Legend at 0x7f47fb5d23d0>"
            ]
          },
          "metadata": {},
          "execution_count": 247
        },
        {
          "output_type": "display_data",
          "data": {
            "text/plain": [
              "<Figure size 504x360 with 1 Axes>"
            ],
            "image/png": "[encoded data removed]"
          },
          "metadata": {
            "needs_background": "light"
          }
        }
      ]
    },
    {
      "cell_type": "markdown",
      "source": [
        "## In this case, we are using MSE as our loss function — this is the function we wish to calculate partial derivatives for:\n",
        "\n",
        "## E = $\\frac{1}{n}$$\\sum_{i=0}^{n}$$(y_i - \\bar{y_i})^2$\n",
        "\n",
        "## where $\\bar{y_i}$ = $w_0$ + $w_1$$x_i$ + $w_2$$x_i^2$ + $w_3$$x_i^3$ + $w_4$$x_i^4$ + $w_5$$x_i^5$ + $w_6$$x_i^6$ + $w_7$$x_i^7$ + $w_8$$x_i^8$ + $w_9$$x_i^9$ "
      ],
      "metadata": {
        "id": "kq7iVEV7Ajl5"
      }
    },
    {
      "cell_type": "markdown",
      "source": [
        "## In this specific case, our partial derivatives for that loss function are the following:\n",
        "\n",
        "## Partial derivative wrt $w_0$ = $\\frac{-2}{n}$ $\\sum_{i=0}^{n}$ $(y_i - \\bar{y_i})$\n",
        "\n",
        "## Partial derivative wrt $w_1$ = $\\frac{-2}{n}$ $\\sum_{i=0}^{n}$ $x_i$ $(y_i - \\bar{y_i})$\n",
        "\n",
        "## Partial derivative wrt $w_2$ = $\\frac{-2}{n}$ $\\sum_{i=0}^{n}$ $x_i^2$ $(y_i - \\bar{y_i})$\n",
        "\n",
        "## Partial derivative wrt $w_3$ = $\\frac{-2}{n}$ $\\sum_{i=0}^{n}$ $x_i^3$ $(y_i - \\bar{y_i})$\n",
        "\n",
        "\n",
        ".\n",
        ".\n",
        ".\n",
        "\n",
        "## Partial derivative wrt $w_9$ = $\\frac{-2}{n}$ $\\sum_{i=0}^{n}$ $x_i^9$ $(y_i - \\bar{y_i})$\n"
      ],
      "metadata": {
        "id": "gsObNntXBdO9"
      }
    },
    {
      "cell_type": "markdown",
      "source": [
        "## If we calculate the value of each derivative, we will obtain the gradient for each coefficient.\n",
        "\n",
        "##These are the values that give us the slope of the loss function with regards to each specific coefficient.\n",
        "\n",
        "## They indicate whether we should increase or decrease it to reduce the loss, and also by how much it should be safe to do so."
      ],
      "metadata": {
        "id": "ny2IKJS1DH6c"
      }
    },
    {
      "cell_type": "code",
      "source": [
        "# MSE for base case\n",
        "y_vs_y_hat_m9 = pd.DataFrame(data=(y_predicted_m9, Y_train),index=['Y_predicted','Y_train']).T\n",
        "y_vs_y_hat_m9['sum of square error'] = (y_vs_y_hat_m9['Y_predicted'] - y_vs_y_hat_m9['Y_train'])**2\n",
        "\n",
        "rmse_m9 = 0\n",
        "rmse_m9 = y_vs_y_hat_m9['sum of square error'].sum() / len(y_vs_y_hat_m9)\n",
        "rmse_m9"
      ],
      "metadata": {
        "colab": {
          "base_uri": "https://localhost:8080/"
        },
        "id": "pavEpxf89Pkg",
        "outputId": "14045545-d427-4385-f854-0d55a80c2aee"
      },
      "execution_count": 248,
      "outputs": [
        {
          "output_type": "execute_result",
          "data": {
            "text/plain": [
              "135.44352737420857"
            ]
          },
          "metadata": {},
          "execution_count": 248
        }
      ]
    },
    {
      "cell_type": "code",
      "source": [
        "# Function to calculate the gradient for M = 9\n",
        "def calc_2nd_grad(x_dataset, y_dataset, coeff):\n",
        "  \n",
        "  # Partial derivate coefficients\n",
        "  y_predicted_m9 = []\n",
        "  partial_coeff = [[], [], [], [], [] ,[] ,[] ,[] ,[] ,[]]\n",
        "  partial_coeff_w0 = []\n",
        "\n",
        "  X = X_train\n",
        "\n",
        "  # Find predicted y values\n",
        "  for val in X:\n",
        "    y_val = 0\n",
        "    for deg in range(0, 10):\n",
        "      y_val += coeff[deg] * math.pow(val, deg)\n",
        "    y_predicted_m9.append(y_val)\n",
        "\n",
        "  # Find gradient value after partial derivatives: x^n(y - y_cap) where n = degree of polynomial\n",
        "  for x, y, y_bar in zip(X, y_dataset, y_predicted_m9):\n",
        "    for deg in range(10):\n",
        "      res = (math.pow(x, deg))*(y - y_bar)\n",
        "      partial_coeff[deg].append(res)\n",
        "  \n",
        "  new_pd = pd.DataFrame(partial_coeff, index=['w0', 'w1', 'w2', 'w3', 'w4', 'w5', 'w6', 'w7', 'w8', 'w9']).T\n",
        "  length = len(x_dataset)\n",
        "  gradient = new_pd.sum()\n",
        "  gradient = (-2 / length) * gradient\n",
        "\n",
        "  return gradient\n",
        "\n",
        "derivative = calc_2nd_grad(X_train, Y_train, coefficient_m9)\n",
        "step_size = 0.1\n",
        "\n",
        "new_coeff = coefficient_m9 - (step_size * derivative)\n",
        "new_coeff"
      ],
      "metadata": {
        "colab": {
          "base_uri": "https://localhost:8080/"
        },
        "id": "daUJspV69q0C",
        "outputId": "2773581e-6ba0-41d2-9c8f-6be06ef5c860"
      },
      "execution_count": 249,
      "outputs": [
        {
          "output_type": "execute_result",
          "data": {
            "text/plain": [
              "w0    4.125143\n",
              "w1    1.397665\n",
              "w2    4.241086\n",
              "w3    8.183262\n",
              "w4    3.351144\n",
              "w5   -3.960914\n",
              "w6   -1.776654\n",
              "w7    3.406939\n",
              "w8   -1.704057\n",
              "w9    1.702356\n",
              "dtype: float64"
            ]
          },
          "metadata": {},
          "execution_count": 249
        }
      ]
    },
    {
      "cell_type": "code",
      "source": [
        "new_y_predicted_m9 = []\n",
        "for val in X:\n",
        "    y_val = 0\n",
        "    for deg in range(10):\n",
        "      y_val += new_coeff[deg] * math.pow(val, deg)\n",
        "    new_y_predicted_m9.append(y_val)\n",
        "\n",
        "\n",
        "y_vs_y_hat_m9 = pd.DataFrame(data=(new_y_predicted_m9, Y_train),index=['Y_predicted','Y_train']).T\n",
        "y_vs_y_hat_m9['sum of square error'] = (y_vs_y_hat_m9['Y_predicted'] - y_vs_y_hat_m9['Y_train'])**2\n",
        "\n",
        "rmse_m9 = 0\n",
        "rmse_m9 = y_vs_y_hat_m9['sum of square error'].sum() / len(y_vs_y_hat_m9)\n",
        "rmse_m9"
      ],
      "metadata": {
        "colab": {
          "base_uri": "https://localhost:8080/"
        },
        "id": "5gv7zRfFZMsz",
        "outputId": "358a3077-d2f9-4eae-e7fa-dd2d5c70280a"
      },
      "execution_count": 250,
      "outputs": [
        {
          "output_type": "execute_result",
          "data": {
            "text/plain": [
              "69.79131340530715"
            ]
          },
          "metadata": {},
          "execution_count": 250
        }
      ]
    },
    {
      "cell_type": "code",
      "source": [
        "fig, axes = plt.subplots(1, 1, figsize=(15, 10))\n",
        "axes.scatter(X_train, Y_train, color='blue')\n",
        "axes.scatter(X_train, y_predicted_m9, color='red')\n",
        "axes.scatter(X_train, new_y_predicted_m9, color='green')\n",
        "axes.legend(['Training data', 'predicted base model', 'after 1st Iteration'])"
      ],
      "metadata": {
        "colab": {
          "base_uri": "https://localhost:8080/",
          "height": 609
        },
        "id": "PgQ6TnByb6pn",
        "outputId": "c66731a9-9a8b-46ba-dc20-1ecca0cfa1e2"
      },
      "execution_count": 251,
      "outputs": [
        {
          "output_type": "execute_result",
          "data": {
            "text/plain": [
              "<matplotlib.legend.Legend at 0x7f47fb4e7c10>"
            ]
          },
          "metadata": {},
          "execution_count": 251
        },
        {
          "output_type": "display_data",
          "data": {
            "text/plain": [
              "<Figure size 1080x720 with 1 Axes>"
            ],
            "image/png": "[encoded data removed]"
          },
          "metadata": {
            "needs_background": "light"
          }
        }
      ]
    },
    {
      "cell_type": "code",
      "source": [
        "for i in range(1000):\n",
        "  \n",
        "  derivative = calc_2nd_grad(X_train, Y_train, new_coeff)\n",
        "  step_size = 0.1\n",
        "  looping_coeff = coefficient_m9 - (step_size * derivative)\n",
        "\n",
        "  new_y_predicted_m9 = []\n",
        "  for val in X:\n",
        "      y_val = 0\n",
        "      for deg in range(0, 10):\n",
        "        y_val += looping_coeff[deg] * math.pow(val, deg)\n",
        "      new_y_predicted_m9.append(y_val)\n",
        "\n",
        "\n",
        "  y_vs_y_hat_m9 = pd.DataFrame(data=(new_y_predicted_m9, Y_train),index=['Y_predicted','Y_train']).T\n",
        "  y_vs_y_hat_m9['sum of square error'] = (y_vs_y_hat_m9['Y_predicted'] - y_vs_y_hat_m9['Y_train'])**2\n",
        "\n",
        "  rmse_m9 = 0\n",
        "  rmse_m9 = y_vs_y_hat_m9['sum of square error'].sum() / len(y_vs_y_hat_m9)\n",
        "rmse_m9"
      ],
      "metadata": {
        "colab": {
          "base_uri": "https://localhost:8080/"
        },
        "id": "JPo-g91CbqzF",
        "outputId": "1c8e7bd5-027f-4104-aa1e-26dee1d3c867"
      },
      "execution_count": 254,
      "outputs": [
        {
          "output_type": "execute_result",
          "data": {
            "text/plain": [
              "82.58323827155111"
            ]
          },
          "metadata": {},
          "execution_count": 254
        }
      ]
    },
    {
      "cell_type": "code",
      "source": [
        "print(rmse_m9)\n",
        "fig, axes = plt.subplots(1, 1, figsize=(15, 10))\n",
        "axes.scatter(X_train, Y_train, color='blue')\n",
        "axes.scatter(X_train, y_predicted_m9, color='red')\n",
        "axes.scatter(X_train, new_y_predicted_m9, color='green')\n",
        "axes.legend(['Training data', 'predicted base model', 'after 1st Iteration'])"
      ],
      "metadata": {
        "colab": {
          "base_uri": "https://localhost:8080/",
          "height": 627
        },
        "id": "Z-4eiE6fdPSN",
        "outputId": "c4520ead-67a2-4d04-e51f-a21c67fffa58"
      },
      "execution_count": 255,
      "outputs": [
        {
          "output_type": "stream",
          "name": "stdout",
          "text": [
            "82.58323827155111\n"
          ]
        },
        {
          "output_type": "execute_result",
          "data": {
            "text/plain": [
              "<matplotlib.legend.Legend at 0x7f47fb547a90>"
            ]
          },
          "metadata": {},
          "execution_count": 255
        },
        {
          "output_type": "display_data",
          "data": {
            "text/plain": [
              "<Figure size 1080x720 with 1 Axes>"
            ],
            "image/png": "[encoded data removed]"
          },
          "metadata": {
            "needs_background": "light"
          }
        }
      ]
    },
    {
      "cell_type": "code",
      "source": [],
      "metadata": {
        "id": "uqt0WFIadkVw"
      },
      "execution_count": 253,
      "outputs": []
    }
  ]
}