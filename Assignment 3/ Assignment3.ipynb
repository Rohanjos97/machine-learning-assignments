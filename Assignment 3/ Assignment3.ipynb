{
  "nbformat": 4,
  "nbformat_minor": 0,
  "metadata": {
    "colab": {
      "provenance": [],
      "authorship_tag": "ABX9TyPE8DCIfr0HoBTGSBDtv/Ic",
      "include_colab_link": true
    },
    "kernelspec": {
      "name": "python3",
      "display_name": "Python 3"
    },
    "language_info": {
      "name": "python"
    }
  },
  "cells": [
    {
      "cell_type": "markdown",
      "metadata": {
        "id": "view-in-github",
        "colab_type": "text"
      },
      "source": [
        "<a href=\"https://colab.research.google.com/github/Rohanjos97/machine-learning-assignments/blob/main/Assignment%203/%20Assignment3.ipynb\" target=\"_parent\"><img src=\"https://colab.research.google.com/assets/colab-badge.svg\" alt=\"Open In Colab\"/></a>"
      ]
    },
    {
      "cell_type": "markdown",
      "source": [
        "# 1. Generate 100 real number for the variable X from the uniform distribution U [0, 1].\n",
        "\n",
        "# 2. Construct the training set T = { ($x_1$,$y_1$), ($x_2$,$y_2$), ... , ($x_{100}$,$y_{100}$)} using the relation\n",
        "\n",
        "# $Y_i$ = sin(2 π $x_i$) + $ε_i$ where $ε_i$ ~ N(0,0.25).\n",
        "\n",
        "# 3. In the similar way construct a testing set of size 50 Test = { ($x'_1$,$y'_1$),($x'_2$,$y'_2$),......,($x'_{50}$,$y'_{50}$)}."
      ],
      "metadata": {
        "id": "2QhzxRd0ocy-"
      }
    },
    {
      "cell_type": "code",
      "source": [
        "import pandas as pd\n",
        "import numpy as np\n",
        "import math\n",
        "import matplotlib.pyplot as plt\n",
        "\n",
        "\n",
        "# Train data\n",
        "\n",
        "# Uniform distribution of training data\n",
        "X_train = np.random.uniform(0, 1, 100)\n",
        "\n",
        "Y_train = []\n",
        "for xval in X_train:\n",
        "  res = math.sin(2 * math.pi * xval) + np.random.uniform(0, 0.25)\n",
        "  Y_train.append(res)\n",
        "\n",
        "\n",
        "\n",
        "# Test data\n",
        "\n",
        "# Uniform distribution of testing data\n",
        "X_test = np.random.uniform(0, 1, 50)\n",
        "\n",
        "Y_test = []\n",
        "for xval in X_test:\n",
        "  res = math.sin(2 * math.pi * xval) + np.random.uniform(0, 0.25)\n",
        "  Y_test.append(res)\n",
        "\n",
        "\n",
        "# Plotting the graph of train and test data\n",
        "fig, ax = plt.subplots(1, 2, figsize=(15, 5))\n",
        "ax[0].scatter(X_train, Y_train)\n",
        "ax[0].set_title('Training Data')\n",
        "ax[1].scatter(X_test, Y_test)\n",
        "ax[1].set_title('Testing Data')"
      ],
      "metadata": {
        "colab": {
          "base_uri": "https://localhost:8080/",
          "height": 354
        },
        "id": "_OPIdk7xpOnO",
        "outputId": "cb4367ab-aed9-4fa4-b061-888902d22d19"
      },
      "execution_count": 75,
      "outputs": [
        {
          "output_type": "execute_result",
          "data": {
            "text/plain": [
              "Text(0.5, 1.0, 'Testing Data')"
            ]
          },
          "metadata": {},
          "execution_count": 75
        },
        {
          "output_type": "display_data",
          "data": {
            "text/plain": [
              "<Figure size 1080x360 with 2 Axes>"
            ],
            "image/png": "[encoded data removed]"
          },
          "metadata": {
            "needs_background": "light"
          }
        }
      ]
    },
    {
      "cell_type": "markdown",
      "source": [
        "# Estimate the regularized Least Squares Polynomial Regression model of order M= 9, using the training set T using direct method. You also need to tune the regularization parameter λ which corresponds to minimum RMSE. After tuning the parameter λ, evaluate your estimated function using NMSE, RMSE, MAE and R2 on test set."
      ],
      "metadata": {
        "id": "P5szq_SkqbgQ"
      }
    },
    {
      "cell_type": "code",
      "source": [
        "# Least Square Polynomial Regression\n",
        "def regularized_LSPR(x_dataset, y_dataset, degree, Lambda):\n",
        "  no_of_rows = len(x_dataset)\n",
        "  no_of_cols = degree+1\n",
        "\n",
        "  # finding the X matrix\n",
        "\n",
        "  # initialize X matrix with 0 initially\n",
        "  X = np.zeros((no_of_rows, no_of_cols))\n",
        "  lam_I = np.identity(degree+1)*Lambda\n",
        "  for xi in range (no_of_rows):\n",
        "    for deg in range (no_of_cols):\n",
        "      X[xi][deg] += math.pow(x_dataset[xi], deg)\n",
        "  \n",
        "  # calculating ((X^T . X)^(−1)) . X^T . Y\n",
        "  X_Trans_X = np.matrix((np.dot(X.T, X)))\n",
        "  X_Trans_X = np.add(X_Trans_X, lam_I)\n",
        "  X_Trans_X_Inv = X_Trans_X.I\n",
        "  temp = np.matrix(np.dot(X_Trans_X_Inv, X.T))\n",
        "  return np.dot(temp, y_dataset)\n",
        "\n",
        "reg_LSP_ord_9_0 = np.array(regularized_LSPR(X_train, Y_train, 9, 0))\n",
        "reg_LSP_ord_9_01 = np.array(regularized_LSPR(X_train, Y_train, 9, 0.01))\n",
        "reg_LSP_ord_9_001 = np.array(regularized_LSPR(X_train, Y_train, 9, 0.001))\n",
        "reg_LSP_ord_9_27 = np.array(regularized_LSPR(X_train, Y_train, 9, math.pow(2, -7)))\n",
        "\n",
        "print(f'coefficient value with regularization and λ = 0: {reg_LSP_ord_9_0}')\n",
        "print(f'coefficient value with regularization and λ = 1: {reg_LSP_ord_9_01}')\n",
        "print(f'coefficient value with regularization and λ = 5: {reg_LSP_ord_9_001}')\n",
        "print(f'coefficient value with regularization and λ = 2^-7: {reg_LSP_ord_9_27}')"
      ],
      "metadata": {
        "colab": {
          "base_uri": "https://localhost:8080/"
        },
        "id": "I4MI_kwx7KGp",
        "outputId": "1c7dfc87-73b3-4f5d-ff49-dc541e813b74"
      },
      "execution_count": 119,
      "outputs": [
        {
          "output_type": "stream",
          "name": "stdout",
          "text": [
            "coefficient value with regularization and λ = 0: [[ 1.13121347e-01  3.60547541e+00  5.46817624e+01 -4.75542858e+02\n",
            "   1.88846956e+03 -4.85032324e+03  7.88488441e+03 -7.62890886e+03\n",
            "   4.00039509e+03 -8.77386285e+02]]\n",
            "coefficient value with regularization and λ = 1: [[  0.34750931   5.4511775  -10.54576391  -4.53584893   1.85090383\n",
            "    4.62745378   4.43233531   2.47309938  -0.32759814  -3.38901611]]\n",
            "coefficient value with regularization and λ = 5: [[  0.05268293   8.59713332 -16.28568518  -6.32140695   4.57395273\n",
            "    8.56462811   7.14174284   2.93303338  -2.18107213  -7.13956004]]\n",
            "coefficient value with regularization and λ = 2^-7: [[  0.29929329   5.96060864 -11.47457489  -4.77988271   2.2401384\n",
            "    5.21052982   4.87673964   2.6007522   -0.58453782  -4.03354114]]\n"
          ]
        }
      ]
    },
    {
      "cell_type": "code",
      "source": [
        "y_predicted_m9_0, y_predicted_m9_01, y_predicted_m9_001, y_predicted_m9_27 = [], [], [], []\n",
        "X = X_train\n",
        "\n",
        "for val in X:\n",
        "  y0_val = 0\n",
        "  y01_val = 0\n",
        "  y001_val = 0\n",
        "  y27_val = 0\n",
        "\n",
        "  for deg in range(9, -1, -1):\n",
        "    y0_val += reg_LSP_ord_9_0[0][deg] * math.pow(val, deg)\n",
        "    y01_val += reg_LSP_ord_9_01[0][deg] * math.pow(val, deg)\n",
        "    y001_val += reg_LSP_ord_9_001[0][deg] * math.pow(val, deg)\n",
        "    y27_val += reg_LSP_ord_9_27[0][deg] * math.pow(val, deg)\n",
        "  y_predicted_m9_0.append(y0_val)\n",
        "  y_predicted_m9_01.append(y01_val)\n",
        "  y_predicted_m9_001.append(y001_val)\n",
        "  y_predicted_m9_27.append(y27_val)\n",
        "\n",
        "# Sorting the data to plot line graph\n",
        "test_data = pd.DataFrame(data=(X_test, Y_test),index=['X_test', 'Y_test']).T.sort_values(by='X_test')\n",
        "df_predicted_m9_0 = pd.DataFrame(data=(X, y_predicted_m9_0),index=['X', 'Y_predicted']).T.sort_values(by='X')\n",
        "df_predicted_m9_01 = pd.DataFrame(data=(X, y_predicted_m9_01),index=['X', 'Y_predicted']).T.sort_values(by='X')\n",
        "df_predicted_m9_001 = pd.DataFrame(data=(X, y_predicted_m9_001),index=['X', 'Y_predicted']).T.sort_values(by='X')\n",
        "df_predicted_m9_27 = pd.DataFrame(data=(X, y_predicted_m9_27),index=['X', 'Y_predicted']).T.sort_values(by='X')\n",
        "\n",
        "\n",
        "# Plotting all the points to compare the regression graph\n",
        "\n",
        "fig, axes = plt.subplots(1, 1, figsize=(18, 10))\n",
        "axes.scatter(X_train, Y_train, color='red')\n",
        "axes.plot(df_predicted_m9_0['X'], df_predicted_m9_0['Y_predicted'], color='blue')\n",
        "axes.plot(df_predicted_m9_01['X'], df_predicted_m9_01['Y_predicted'], color='green')\n",
        "axes.plot(df_predicted_m9_001['X'], df_predicted_m9_001['Y_predicted'], color='magenta')\n",
        "axes.plot(df_predicted_m9_27['X'], df_predicted_m9_27['Y_predicted'], color='orange')\n",
        "axes.legend(['λ=0 predicted values', 'λ=0.1 predicted values', 'λ=0.01 predicted values', 'λ=2^-7 predicted values', 'Training Data'])\n",
        "axes.set_title('Polynomial Regression for Testing Set')"
      ],
      "metadata": {
        "colab": {
          "base_uri": "https://localhost:8080/",
          "height": 625
        },
        "id": "CCgKXtA2AMdi",
        "outputId": "c7670bf6-6a97-4442-bf3b-83a1c0b23900"
      },
      "execution_count": 120,
      "outputs": [
        {
          "output_type": "execute_result",
          "data": {
            "text/plain": [
              "Text(0.5, 1.0, 'Polynomial Regression for Testing Set')"
            ]
          },
          "metadata": {},
          "execution_count": 120
        },
        {
          "output_type": "display_data",
          "data": {
            "text/plain": [
              "<Figure size 1296x720 with 1 Axes>"
            ],
            "image/png": "[encoded data removed]"
          },
          "metadata": {
            "needs_background": "light"
          }
        }
      ]
    },
    {
      "cell_type": "markdown",
      "source": [
        "## NMSE (Normalized Mean Square Error)"
      ],
      "metadata": {
        "id": "wfjOLrENux76"
      }
    },
    {
      "cell_type": "markdown",
      "source": [
        "## RMSE (Root Mean Square error)"
      ],
      "metadata": {
        "id": "nC9GOLJAv8LV"
      }
    },
    {
      "cell_type": "code",
      "source": [
        "y_vs_y_hat_m9 = pd.DataFrame(data=(np.array(df_predicted_m9_0['Y_predicted']), Y_test),index=['y predicted m9 λ0','Y_train']).T\n",
        "y_vs_y_hat_m9['sum of square error'] = (y_vs_y_hat_m9['y predicted m9 λ0'] - y_vs_y_hat_m9['Y_train'])**2\n",
        "\n",
        "rmse_m9_λ0 = 0\n",
        "\n",
        "rmse_m9_λ0 = y_vs_y_hat_m9['sum of square error'].sum() / len(y_vs_y_hat_m9)\n",
        "rmse_m9_λ0 = math.sqrt(rmse_m9_λ0)\n",
        "rmse_m9_λ0"
      ],
      "metadata": {
        "colab": {
          "base_uri": "https://localhost:8080/"
        },
        "id": "pSFepayyB-Ca",
        "outputId": "41ef2dfe-0a0f-41d2-c66b-fdbb2eb47498"
      },
      "execution_count": 78,
      "outputs": [
        {
          "output_type": "execute_result",
          "data": {
            "text/plain": [
              "0.7717453456880293"
            ]
          },
          "metadata": {},
          "execution_count": 78
        }
      ]
    },
    {
      "cell_type": "code",
      "source": [
        "y_vs_y_hat_m9 = pd.DataFrame(data=(np.array(df_predicted_m9_01['Y_predicted']), Y_test),index=['y predicted m9 λ01','Y_train']).T\n",
        "y_vs_y_hat_m9['sum of square error'] = (y_vs_y_hat_m9['y predicted m9 λ01'] - y_vs_y_hat_m9['Y_train'])**2\n",
        "\n",
        "rmse_m9_λ01 = 0\n",
        "\n",
        "rmse_m9_λ01 = y_vs_y_hat_m9['sum of square error'].sum() / len(y_vs_y_hat_m9)\n",
        "rmse_m9_λ01 = math.sqrt(rmse_m9_λ01)\n",
        "rmse_m9_λ01"
      ],
      "metadata": {
        "colab": {
          "base_uri": "https://localhost:8080/"
        },
        "id": "rkYPReyzD4_M",
        "outputId": "dc880c5c-6813-4e01-de59-83e1da9dc4d6"
      },
      "execution_count": 79,
      "outputs": [
        {
          "output_type": "execute_result",
          "data": {
            "text/plain": [
              "0.7267111021776478"
            ]
          },
          "metadata": {},
          "execution_count": 79
        }
      ]
    },
    {
      "cell_type": "code",
      "source": [
        "y_vs_y_hat_m9 = pd.DataFrame(data=(np.array(df_predicted_m9_001['Y_predicted']), Y_test),index=['y predicted m9 λ001','Y_train']).T\n",
        "y_vs_y_hat_m9['sum of square error'] = (y_vs_y_hat_m9['y predicted m9 λ001'] - y_vs_y_hat_m9['Y_train'])**2\n",
        "\n",
        "rmse_m9_λ001 = 0\n",
        "\n",
        "rmse_m9_λ001 = y_vs_y_hat_m9['sum of square error'].sum() / len(y_vs_y_hat_m9)\n",
        "rmse_m9_λ001 = math.sqrt(rmse_m9_λ001)\n",
        "rmse_m9_λ001"
      ],
      "metadata": {
        "colab": {
          "base_uri": "https://localhost:8080/"
        },
        "id": "Sum3ZFmqEOwt",
        "outputId": "4f903f2c-6d7c-43e5-e498-391af1d38483"
      },
      "execution_count": 80,
      "outputs": [
        {
          "output_type": "execute_result",
          "data": {
            "text/plain": [
              "0.7618926476117067"
            ]
          },
          "metadata": {},
          "execution_count": 80
        }
      ]
    },
    {
      "cell_type": "code",
      "source": [
        "y_vs_y_hat_m9 = pd.DataFrame(data=(np.array(df_predicted_m9_27['Y_predicted']), Y_test),index=['y predicted m9 λ2^-7','Y_train']).T\n",
        "y_vs_y_hat_m9['sum of square error'] = (y_vs_y_hat_m9['y predicted m9 λ2^-7'] - y_vs_y_hat_m9['Y_train'])**2\n",
        "\n",
        "rmse_m9_λ27 = 0\n",
        "\n",
        "rmse_m9_λ27 = y_vs_y_hat_m9['sum of square error'].sum() / len(y_vs_y_hat_m9)\n",
        "rmse_m9_λ27 = math.sqrt(rmse_m9_λ27)\n",
        "rmse_m9_λ27"
      ],
      "metadata": {
        "colab": {
          "base_uri": "https://localhost:8080/"
        },
        "id": "AJ5mXHy3D-Ks",
        "outputId": "e06b8117-07aa-4152-c669-fbcb7d69d0cc"
      },
      "execution_count": 81,
      "outputs": [
        {
          "output_type": "execute_result",
          "data": {
            "text/plain": [
              "0.7319484617174016"
            ]
          },
          "metadata": {},
          "execution_count": 81
        }
      ]
    },
    {
      "cell_type": "markdown",
      "source": [
        "## MAE (Mean Absolute Error)"
      ],
      "metadata": {
        "id": "25B2dI2nwC4q"
      }
    },
    {
      "cell_type": "code",
      "source": [
        "y_vs_y_hat_m9 = pd.DataFrame(data=(np.array(df_predicted_m9_0['Y_predicted']), Y_train),index=['y predicted m9 λ0','Y_train']).T\n",
        "y_vs_y_hat_m9['absolute error'] = abs(y_vs_y_hat_m9['y predicted m9 λ0'] - y_vs_y_hat_m9['Y_train'])\n",
        "\n",
        "rmse_m9_λ0 = 0\n",
        "rmse_m9_λ0 = y_vs_y_hat_m9['absolute error'].sum() / len(y_vs_y_hat_m9)\n",
        "rmse_m9_λ0"
      ],
      "metadata": {
        "colab": {
          "base_uri": "https://localhost:8080/"
        },
        "outputId": "0cf793e8-28c7-4ad1-cce0-43357af83767",
        "id": "PqBO6J8rxGox"
      },
      "execution_count": 82,
      "outputs": [
        {
          "output_type": "execute_result",
          "data": {
            "text/plain": [
              "0.7942578526162793"
            ]
          },
          "metadata": {},
          "execution_count": 82
        }
      ]
    },
    {
      "cell_type": "code",
      "source": [
        "y_vs_y_hat_m9 = pd.DataFrame(data=(np.array(df_predicted_m9_01['Y_predicted']), Y_train),index=['y predicted m9 λ01','Y_train']).T\n",
        "y_vs_y_hat_m9['absolute error'] = abs(y_vs_y_hat_m9['y predicted m9 λ01'] - y_vs_y_hat_m9['Y_train'])\n",
        "\n",
        "rmse_m9_λ01 = 0\n",
        "rmse_m9_λ01 = y_vs_y_hat_m9['absolute error'].sum() / len(y_vs_y_hat_m9)\n",
        "rmse_m9_λ01"
      ],
      "metadata": {
        "colab": {
          "base_uri": "https://localhost:8080/"
        },
        "outputId": "9552770b-0313-4aab-a934-64e0d3020cdc",
        "id": "jCZWi6mJxGo4"
      },
      "execution_count": 83,
      "outputs": [
        {
          "output_type": "execute_result",
          "data": {
            "text/plain": [
              "0.7874538756717803"
            ]
          },
          "metadata": {},
          "execution_count": 83
        }
      ]
    },
    {
      "cell_type": "code",
      "source": [
        "y_vs_y_hat_m9 = pd.DataFrame(data=(np.array(df_predicted_m9_001['Y_predicted']), Y_train),index=['y predicted m9 λ001','Y_train']).T\n",
        "y_vs_y_hat_m9['absolute error'] = abs(y_vs_y_hat_m9['y predicted m9 λ001'] - y_vs_y_hat_m9['Y_train'])\n",
        "\n",
        "rmse_m9_λ01 = 0\n",
        "rmse_m9_λ01 = y_vs_y_hat_m9['absolute error'].sum() / len(y_vs_y_hat_m9)\n",
        "rmse_m9_λ01"
      ],
      "metadata": {
        "colab": {
          "base_uri": "https://localhost:8080/"
        },
        "outputId": "87d2ca37-a41a-45d6-8c61-5bb6fde6fc0a",
        "id": "zXmXyTkFxGo4"
      },
      "execution_count": 84,
      "outputs": [
        {
          "output_type": "execute_result",
          "data": {
            "text/plain": [
              "0.7913753102435188"
            ]
          },
          "metadata": {},
          "execution_count": 84
        }
      ]
    },
    {
      "cell_type": "code",
      "source": [
        "y_vs_y_hat_m9 = pd.DataFrame(data=(np.array(df_predicted_m9_27['Y_predicted']), Y_train),index=['y predicted m9 λ2^-7','Y_train']).T\n",
        "y_vs_y_hat_m9['absolute error'] = abs(y_vs_y_hat_m9['y predicted m9 λ2^-7'] - y_vs_y_hat_m9['Y_train'])\n",
        "\n",
        "rmse_m9_λ27 = 0\n",
        "rmse_m9_λ27 = y_vs_y_hat_m9['absolute error'].sum() / len(y_vs_y_hat_m9)\n",
        "rmse_m9_λ27"
      ],
      "metadata": {
        "colab": {
          "base_uri": "https://localhost:8080/"
        },
        "outputId": "1c0767d6-019d-4709-faa1-a43434b3e3bc",
        "id": "dQERxGLtxGo4"
      },
      "execution_count": 85,
      "outputs": [
        {
          "output_type": "execute_result",
          "data": {
            "text/plain": [
              "0.7879839929373579"
            ]
          },
          "metadata": {},
          "execution_count": 85
        }
      ]
    },
    {
      "cell_type": "markdown",
      "source": [
        "## R2 (R-square Error)"
      ],
      "metadata": {
        "id": "vzPn-DL3wEZo"
      }
    },
    {
      "cell_type": "code",
      "source": [
        "y_vs_y_hat_m9 = pd.DataFrame(data=(np.array(df_predicted_m9_0['Y_predicted']), Y_train),index=['y predicted m9 λ0','Y_train']).T\n",
        "y_mean = (y_vs_y_hat_m9['Y_train'].sum())/len(Y_train)\n",
        "\n",
        "y_vs_y_hat_m9['SSR'] = (y_vs_y_hat_m9['y predicted m9 λ0'] - y_mean)**2\n",
        "y_vs_y_hat_m9['SST'] = (y_vs_y_hat_m9['Y_train'] - y_mean)**2\n",
        "\n",
        "SST = y_vs_y_hat_m9['SSR'].sum()\n",
        "SSR = y_vs_y_hat_m9['SST'].sum()\n",
        "\n",
        "R_square_λ0 = SSR/SST\n",
        "R_square_λ0"
      ],
      "metadata": {
        "colab": {
          "base_uri": "https://localhost:8080/"
        },
        "outputId": "c7ea03f1-1275-42ae-ce98-a407507cc703",
        "id": "wYof6gva1INn"
      },
      "execution_count": 141,
      "outputs": [
        {
          "output_type": "execute_result",
          "data": {
            "text/plain": [
              "1.0065797502007632"
            ]
          },
          "metadata": {},
          "execution_count": 141
        }
      ]
    },
    {
      "cell_type": "code",
      "source": [
        "y_vs_y_hat_m9 = pd.DataFrame(data=(np.array(df_predicted_m9_01['Y_predicted']), Y_train),index=['y predicted m9 λ01','Y_train']).T\n",
        "y_mean = (y_vs_y_hat_m9['Y_train'].sum())/len(Y_train)\n",
        "\n",
        "y_vs_y_hat_m9['SSR'] = (y_vs_y_hat_m9['y predicted m9 λ01'] - y_mean)**2\n",
        "y_vs_y_hat_m9['SST'] = (y_vs_y_hat_m9['Y_train'] - y_mean)**2\n",
        "\n",
        "SST = y_vs_y_hat_m9['SSR'].sum()\n",
        "SSR = y_vs_y_hat_m9['SST'].sum()\n",
        "\n",
        "R_square_λ01 = SSR/SST\n",
        "R_square_λ01"
      ],
      "metadata": {
        "colab": {
          "base_uri": "https://localhost:8080/"
        },
        "outputId": "492088ca-d6a2-48ee-d579-5bbe92b02b38",
        "id": "l5RFt9o31INo"
      },
      "execution_count": 140,
      "outputs": [
        {
          "output_type": "execute_result",
          "data": {
            "text/plain": [
              "1.1275809475948764"
            ]
          },
          "metadata": {},
          "execution_count": 140
        }
      ]
    },
    {
      "cell_type": "code",
      "source": [
        "y_vs_y_hat_m9 = pd.DataFrame(data=(np.array(df_predicted_m9_001['Y_predicted']), Y_train),index=['y predicted m9 λ001','Y_train']).T\n",
        "y_mean = (y_vs_y_hat_m9['Y_train'].sum())/len(Y_train)\n",
        "\n",
        "y_vs_y_hat_m9['SSR'] = (y_vs_y_hat_m9['y predicted m9 λ001'] - y_mean)**2\n",
        "y_vs_y_hat_m9['SST'] = (y_vs_y_hat_m9['Y_train'] - y_mean)**2\n",
        "\n",
        "SST = y_vs_y_hat_m9['SSR'].sum()\n",
        "SSR = y_vs_y_hat_m9['SST'].sum()\n",
        "\n",
        "R_square_λ001 = SSR/SST\n",
        "R_square_λ001"
      ],
      "metadata": {
        "colab": {
          "base_uri": "https://localhost:8080/"
        },
        "outputId": "c1ea5bd1-a635-4db2-f3c3-784740469655",
        "id": "FclmLZWq1INo"
      },
      "execution_count": 142,
      "outputs": [
        {
          "output_type": "execute_result",
          "data": {
            "text/plain": [
              "1.0299198663563123"
            ]
          },
          "metadata": {},
          "execution_count": 142
        }
      ]
    },
    {
      "cell_type": "code",
      "source": [
        "y_vs_y_hat_m9 = pd.DataFrame(data=(np.array(df_predicted_m9_27['Y_predicted']), Y_train),index=['y predicted m9 λ27','Y_train']).T\n",
        "y_mean = (y_vs_y_hat_m9['Y_train'].sum())/len(Y_train)\n",
        "\n",
        "y_vs_y_hat_m9['SSR'] = (y_vs_y_hat_m9['y predicted m9 λ27'] - y_mean)**2\n",
        "y_vs_y_hat_m9['SST'] = (y_vs_y_hat_m9['Y_train'] - y_mean)**2\n",
        "\n",
        "SST = y_vs_y_hat_m9['SSR'].sum()\n",
        "SSR = y_vs_y_hat_m9['SST'].sum()\n",
        "\n",
        "R_square_λ0 = SSR/SST\n",
        "R_square_λ0"
      ],
      "metadata": {
        "colab": {
          "base_uri": "https://localhost:8080/"
        },
        "outputId": "f7ef8296-e8e3-4cfb-990c-83a0fb98da97",
        "id": "yui2Ah931INp"
      },
      "execution_count": 143,
      "outputs": [
        {
          "output_type": "execute_result",
          "data": {
            "text/plain": [
              "1.113102458058596"
            ]
          },
          "metadata": {},
          "execution_count": 143
        }
      ]
    },
    {
      "cell_type": "markdown",
      "source": [
        "# GRADIENT MATRIX"
      ],
      "metadata": {
        "id": "8Y_x3dE6JH4f"
      }
    },
    {
      "cell_type": "code",
      "source": [
        "no_of_rows = len(X_train)\n",
        "no_of_cols = 10\n",
        "\n",
        "Lambda = math.pow(2, -7)\n",
        "X_Lam0 = np.zeros((no_of_rows, no_of_cols))\n",
        "lam_I = np.identity(10)*Lambda\n",
        "for xi in range (no_of_rows):\n",
        "  for deg in range (no_of_cols):\n",
        "    X_Lam0[xi][deg] += math.pow(X_train[xi], deg)\n",
        "\n",
        "print('X_Lam0.0001: ')\n",
        "print(X_Lam0001)"
      ],
      "metadata": {
        "colab": {
          "base_uri": "https://localhost:8080/",
          "height": 222
        },
        "id": "Y3gVBzAmKeHn",
        "outputId": "9249c632-3878-44e9-f2c7-5e099332ca70"
      },
      "execution_count": 90,
      "outputs": [
        {
          "output_type": "stream",
          "name": "stdout",
          "text": [
            "X_Lam0.0001: \n"
          ]
        },
        {
          "output_type": "error",
          "ename": "NameError",
          "evalue": "ignored",
          "traceback": [
            "\u001b[0;31m---------------------------------------------------------------------------\u001b[0m",
            "\u001b[0;31mNameError\u001b[0m                                 Traceback (most recent call last)",
            "\u001b[0;32m<ipython-input-90-3674773c48df>\u001b[0m in \u001b[0;36m<module>\u001b[0;34m\u001b[0m\n\u001b[1;32m     10\u001b[0m \u001b[0;34m\u001b[0m\u001b[0m\n\u001b[1;32m     11\u001b[0m \u001b[0mprint\u001b[0m\u001b[0;34m(\u001b[0m\u001b[0;34m'X_Lam0.0001: '\u001b[0m\u001b[0;34m)\u001b[0m\u001b[0;34m\u001b[0m\u001b[0;34m\u001b[0m\u001b[0m\n\u001b[0;32m---> 12\u001b[0;31m \u001b[0mprint\u001b[0m\u001b[0;34m(\u001b[0m\u001b[0mX_Lam0001\u001b[0m\u001b[0;34m)\u001b[0m\u001b[0;34m\u001b[0m\u001b[0;34m\u001b[0m\u001b[0m\n\u001b[0m",
            "\u001b[0;31mNameError\u001b[0m: name 'X_Lam0001' is not defined"
          ]
        }
      ]
    },
    {
      "cell_type": "code",
      "source": [],
      "metadata": {
        "id": "y6xGv1u0K6xT"
      },
      "execution_count": null,
      "outputs": []
    }
  ]
}