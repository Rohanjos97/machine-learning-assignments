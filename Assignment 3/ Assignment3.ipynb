{
  "nbformat": 4,
  "nbformat_minor": 0,
  "metadata": {
    "colab": {
      "provenance": [],
      "authorship_tag": "ABX9TyM+3Fy2Nmvhl7AVsVBlXKSI",
      "include_colab_link": true
    },
    "kernelspec": {
      "name": "python3",
      "display_name": "Python 3"
    },
    "language_info": {
      "name": "python"
    }
  },
  "cells": [
    {
      "cell_type": "markdown",
      "metadata": {
        "id": "view-in-github",
        "colab_type": "text"
      },
      "source": [
        "<a href=\"https://colab.research.google.com/github/Rohanjos97/machine-learning-assignments/blob/main/Assignment%203/%20Assignment3.ipynb\" target=\"_parent\"><img src=\"https://colab.research.google.com/assets/colab-badge.svg\" alt=\"Open In Colab\"/></a>"
      ]
    },
    {
      "cell_type": "markdown",
      "source": [
        "# 1. Generate 100 real number for the variable X from the uniform distribution U [0, 1].\n",
        "\n",
        "# 2. Construct the training set T = { ($x_1$,$y_1$), ($x_2$,$y_2$), ... , ($x_{100}$,$y_{100}$)} using the relation\n",
        "\n",
        "# $Y_i$ = sin(2 π $x_i$) + $ε_i$ where $ε_i$ ~ N(0,0.25).\n",
        "\n",
        "# In the similar way construct a testing set of size 50 Test = { ($x'_1$,$y'_1$),($x'_2$,$y'_2$),......,($x'_{50}$,$y'_{50}$)}."
      ],
      "metadata": {
        "id": "2QhzxRd0ocy-"
      }
    },
    {
      "cell_type": "code",
      "source": [
        "import pandas as pd\n",
        "import numpy as np\n",
        "import math\n",
        "import matplotlib.pyplot as plt\n",
        "\n",
        "\n",
        "# Train data\n",
        "\n",
        "# Uniform distribution of training data\n",
        "X_train = np.random.uniform(0, 1, 100)\n",
        "\n",
        "Y_train = []\n",
        "for xval in X_train:\n",
        "  res = math.sin(2 * math.pi * xval) + np.random.uniform(0, 0.25)\n",
        "  Y_train.append(res)\n",
        "\n",
        "\n",
        "\n",
        "# Test data\n",
        "\n",
        "# Uniform distribution of testing data\n",
        "X_test = np.random.uniform(0, 1, 50)\n",
        "\n",
        "Y_test = []\n",
        "for xval in X_test:\n",
        "  res = math.sin(2 * math.pi * xval) + np.random.uniform(0, 0.25)\n",
        "  Y_test.append(res)\n",
        "\n",
        "\n",
        "# Plotting the graph of train and test data\n",
        "fig, ax = plt.subplots(1, 2, figsize=(15, 5))\n",
        "ax[0].scatter(X_train, Y_train)\n",
        "ax[0].set_title('Training Data')\n",
        "ax[1].scatter(X_test, Y_test)\n",
        "ax[1].set_title('Testing Data')"
      ],
      "metadata": {
        "colab": {
          "base_uri": "https://localhost:8080/",
          "height": 354
        },
        "id": "_OPIdk7xpOnO",
        "outputId": "344a7f37-dc30-4b3f-cf58-5840afb48164"
      },
      "execution_count": 220,
      "outputs": [
        {
          "output_type": "execute_result",
          "data": {
            "text/plain": [
              "Text(0.5, 1.0, 'Testing Data')"
            ]
          },
          "metadata": {},
          "execution_count": 220
        },
        {
          "output_type": "display_data",
          "data": {
            "text/plain": [
              "<Figure size 1080x360 with 2 Axes>"
            ],
            "image/png": "[encoded data removed]"
          },
          "metadata": {
            "needs_background": "light"
          }
        }
      ]
    },
    {
      "cell_type": "markdown",
      "source": [
        "# 3. Estimate the regularized Least Squares Polynomial Regression model of order M= 9, using the training set T using direct method. You also need to tune the regularization parameter λ which corresponds to minimum RMSE. After tuning the parameter λ, evaluate your estimated function using NMSE, RMSE, MAE and R2 on test set.\n",
        "\n",
        "## NOTE: Tuning for λ = 0.1, 0.05, $2^{-7}$, 0.0002 values."
      ],
      "metadata": {
        "id": "P5szq_SkqbgQ"
      }
    },
    {
      "cell_type": "code",
      "source": [
        "# Least Square Polynomial Regression\n",
        "def regularized_LSPR(x_dataset, y_dataset, degree, Lambda):\n",
        "  no_of_rows = len(x_dataset)\n",
        "  no_of_cols = degree+1\n",
        "\n",
        "  # finding the X matrix\n",
        "\n",
        "  # initialize X matrix with 0 initially\n",
        "  X = np.zeros((no_of_rows, no_of_cols))\n",
        "  lam_I = np.identity(degree+1)*Lambda\n",
        "  for xi in range (no_of_rows):\n",
        "    for deg in range (no_of_cols):\n",
        "      X[xi][deg] += math.pow(x_dataset[xi], deg)\n",
        "  \n",
        "  # calculating ((X^T . X)^(−1)) . X^T . Y\n",
        "  X_Trans_X = np.matrix((np.dot(X.T, X)))\n",
        "  X_Trans_X = np.add(X_Trans_X, lam_I)\n",
        "  X_Trans_X_Inv = X_Trans_X.I\n",
        "  temp = np.matrix(np.dot(X_Trans_X_Inv, X.T))\n",
        "  return np.dot(temp, y_dataset)\n",
        "\n",
        "reg_LSP_ord_9 = np.array(regularized_LSPR(X_train, Y_train, 9, 0))\n",
        "reg_LSP_ord_9_1 = np.array(regularized_LSPR(X_train, Y_train, 9, 0.1))\n",
        "reg_LSP_ord_9_05 = np.array(regularized_LSPR(X_train, Y_train, 9, 0.05))\n",
        "reg_LSP_ord_9_27 = np.array(regularized_LSPR(X_train, Y_train, 9, math.pow(2, -7)))\n",
        "reg_LSP_ord_9_0002 = np.array(regularized_LSPR(X_train, Y_train, 9, 0.0002))\n",
        "\n",
        "print(f'coefficient value with regularization and λ = 0: {reg_LSP_ord_9_1}')\n",
        "print(f'coefficient value with regularization and λ = 1: {reg_LSP_ord_9_05}')\n",
        "print(f'coefficient value with regularization and λ = 2^-7: {reg_LSP_ord_9_27}')\n",
        "print(f'coefficient value with regularization and λ = 2^-7: {reg_LSP_ord_9_0002}')"
      ],
      "metadata": {
        "colab": {
          "base_uri": "https://localhost:8080/"
        },
        "id": "I4MI_kwx7KGp",
        "outputId": "6aa81b1f-c697-4e12-bdda-2acbbf903a7c"
      },
      "execution_count": 221,
      "outputs": [
        {
          "output_type": "stream",
          "name": "stdout",
          "text": [
            "coefficient value with regularization and λ = 0: [[ 0.69496741  0.99206467 -3.04221888 -2.12087375 -0.58083569  0.5035509\n",
            "   1.04384224  1.16831757  1.01792544  0.70197853]]\n",
            "coefficient value with regularization and λ = 1: [[ 0.61010243  1.8576288  -4.30888648 -2.65434644 -0.2846497   1.17211754\n",
            "   1.6702985   1.47741727  0.85388508 -0.00784523]]\n",
            "coefficient value with regularization and λ = 2^-7: [[ 0.32982725  5.05103075 -9.77419985 -4.45909094  1.60455896  4.49029994\n",
            "   4.49750134  2.60820985 -0.34036427 -3.77137402]]\n",
            "coefficient value with regularization and λ = 2^-7: [[  0.10377177   7.7904786  -14.7135534   -6.71816401   4.85045419\n",
            "    8.66623847   6.2573795    1.48199197  -2.75395666  -4.87714207]]\n"
          ]
        }
      ]
    },
    {
      "cell_type": "code",
      "source": [
        "y_predicted_m9, y_predicted_m9_1, y_predicted_m9_05, y_predicted_m9_27, y_predicted_m9_0002 = [], [], [], [], []\n",
        "X = X_train\n",
        "\n",
        "for val in X:\n",
        "  y_val = 0\n",
        "  y1_val = 0\n",
        "  y05_val = 0\n",
        "  y27_val = 0\n",
        "  y0002val = 0\n",
        "  for deg in range(9, -1, -1):\n",
        "    y_val += reg_LSP_ord_9[0][deg] * math.pow(val, deg)\n",
        "    y1_val += reg_LSP_ord_9_1[0][deg] * math.pow(val, deg)\n",
        "    y05_val += reg_LSP_ord_9_05[0][deg] * math.pow(val, deg)\n",
        "    y27_val += reg_LSP_ord_9_27[0][deg] * math.pow(val, deg)\n",
        "    y0002val += reg_LSP_ord_9_0002[0][deg] * math.pow(val, deg)\n",
        "  y_predicted_m9.append(y_val)\n",
        "  y_predicted_m9_1.append(y1_val)\n",
        "  y_predicted_m9_05.append(y05_val)\n",
        "  y_predicted_m9_27.append(y27_val)\n",
        "  y_predicted_m9_0002.append(y0002val)\n",
        "\n",
        "# Sorting the data to plot line graph\n",
        "df_predicted_m9 = pd.DataFrame(data=(X, y_predicted_m9),index=['X', 'Y_predicted']).T.sort_values(by='X')\n",
        "df_predicted_m9_1 = pd.DataFrame(data=(X, y_predicted_m9_1),index=['X', 'Y_predicted']).T.sort_values(by='X')\n",
        "df_predicted_m9_05 = pd.DataFrame(data=(X, y_predicted_m9_05),index=['X', 'Y_predicted']).T.sort_values(by='X')\n",
        "df_predicted_m9_27 = pd.DataFrame(data=(X, y_predicted_m9_27),index=['X', 'Y_predicted']).T.sort_values(by='X')\n",
        "df_predicted_m9_0002 = pd.DataFrame(data=(X, y_predicted_m9_0002),index=['X', 'Y_predicted']).T.sort_values(by='X')\n",
        "\n",
        "\n",
        "# Plotting all the points to compare the regression graph\n",
        "\n",
        "fig, axes = plt.subplots(1, 1, figsize=(18, 10))\n",
        "axes.scatter(X_train, Y_train, color='blue')\n",
        "axes.plot(df_predicted_m9['X'], df_predicted_m9['Y_predicted'], color='red', linewidth=7, alpha=0.5)\n",
        "axes.plot(df_predicted_m9_1['X'], df_predicted_m9_1['Y_predicted'], color='purple', linewidth=3)\n",
        "axes.plot(df_predicted_m9_05['X'], df_predicted_m9_05['Y_predicted'], color='green', linewidth=3)\n",
        "axes.plot(df_predicted_m9_27['X'], df_predicted_m9_27['Y_predicted'], color='orange', linewidth=3)\n",
        "axes.plot(df_predicted_m9_0002['X'], df_predicted_m9_0002['Y_predicted'], color='black', linewidth=3)\n",
        "axes.legend(['λ=0 predicted values', 'λ=0.1 predicted values', 'λ=0.05 predicted values', 'λ=$2^{-7}$ predicted values', 'λ=0.0002 predicted values', 'Training Data'])\n",
        "axes.set_title('Polynomial Regression for Testing Set')"
      ],
      "metadata": {
        "colab": {
          "base_uri": "https://localhost:8080/",
          "height": 625
        },
        "id": "CCgKXtA2AMdi",
        "outputId": "13c5b5eb-af24-4983-8ff6-7c96e436f9a5"
      },
      "execution_count": 243,
      "outputs": [
        {
          "output_type": "execute_result",
          "data": {
            "text/plain": [
              "Text(0.5, 1.0, 'Polynomial Regression for Testing Set')"
            ]
          },
          "metadata": {},
          "execution_count": 243
        },
        {
          "output_type": "display_data",
          "data": {
            "text/plain": [
              "<Figure size 1296x720 with 1 Axes>"
            ],
            "image/png": "[encoded data removed]"
          },
          "metadata": {
            "needs_background": "light"
          }
        }
      ]
    },
    {
      "cell_type": "markdown",
      "source": [
        "## NMSE (Normalized Mean Square Error)"
      ],
      "metadata": {
        "id": "wfjOLrENux76"
      }
    },
    {
      "cell_type": "code",
      "source": [
        "y_vs_y_hat_m9 = pd.DataFrame(data=(np.array(df_predicted_m9_1['Y_predicted']), Y_train),index=['y predicted m9 λ1','Y_train']).T\n",
        "\n",
        "# Normalizing the dataset\n",
        "max_pred = y_vs_y_hat_m9['y predicted m9 λ1'].max()\n",
        "max_train = y_vs_y_hat_m9['Y_train'].max()\n",
        "\n",
        "min_pred = y_vs_y_hat_m9['y predicted m9 λ1'].min()\n",
        "min_train = y_vs_y_hat_m9['Y_train'].min()\n",
        "\n",
        "normalized_y_pred = (y_vs_y_hat_m9['y predicted m9 λ1'] - min_pred)/(max_pred - min_pred)\n",
        "normalized_y_train = (y_vs_y_hat_m9['Y_train'] - min_train)/(max_train - min_train)\n",
        "\n",
        "normalized_square_error = (normalized_y_pred - normalized_y_train)**2\n",
        "\n",
        "nmse_m9_λ1 = 0\n",
        "\n",
        "rmse_m9_λ1 = normalized_square_error.sum() / len(normalized_square_error)\n",
        "rmse_m9_λ1"
      ],
      "metadata": {
        "colab": {
          "base_uri": "https://localhost:8080/"
        },
        "id": "mr98Abv1jX47",
        "outputId": "4a4e2438-1cad-4ae0-810c-b95c0ab08718"
      },
      "execution_count": 223,
      "outputs": [
        {
          "output_type": "execute_result",
          "data": {
            "text/plain": [
              "0.26294336293600645"
            ]
          },
          "metadata": {},
          "execution_count": 223
        }
      ]
    },
    {
      "cell_type": "code",
      "source": [
        "y_vs_y_hat_m9 = pd.DataFrame(data=(np.array(df_predicted_m9_05['Y_predicted']), Y_train),index=['y predicted m9 λ05','Y_train']).T\n",
        "\n",
        "# Normalizing the dataset\n",
        "max_pred = y_vs_y_hat_m9['y predicted m9 λ05'].max()\n",
        "max_train = y_vs_y_hat_m9['Y_train'].max()\n",
        "\n",
        "min_pred = y_vs_y_hat_m9['y predicted m9 λ05'].min()\n",
        "min_train = y_vs_y_hat_m9['Y_train'].min()\n",
        "\n",
        "normalized_y_pred = (y_vs_y_hat_m9['y predicted m9 λ05'] - min_pred)/(max_pred - min_pred)\n",
        "normalized_y_train = (y_vs_y_hat_m9['Y_train'] - min_train)/(max_train - min_train)\n",
        "\n",
        "normalized_square_error = (normalized_y_pred - normalized_y_train)**2\n",
        "\n",
        "nmse_m9_λ05 = 0\n",
        "\n",
        "rmse_m9_λ05 = normalized_square_error.sum() / len(normalized_square_error)\n",
        "rmse_m9_λ05"
      ],
      "metadata": {
        "colab": {
          "base_uri": "https://localhost:8080/"
        },
        "id": "RvR3urfNl_OE",
        "outputId": "ea2bdc8d-dabd-48fb-89c1-357f66db8d21"
      },
      "execution_count": 224,
      "outputs": [
        {
          "output_type": "execute_result",
          "data": {
            "text/plain": [
              "0.2618324781363734"
            ]
          },
          "metadata": {},
          "execution_count": 224
        }
      ]
    },
    {
      "cell_type": "code",
      "source": [
        "y_vs_y_hat_m9 = pd.DataFrame(data=(np.array(df_predicted_m9_27['Y_predicted']), Y_train),index=['y predicted m9 λ2^-7','Y_train']).T\n",
        "\n",
        "# Normalizing the dataset\n",
        "max_pred = y_vs_y_hat_m9['y predicted m9 λ2^-7'].max()\n",
        "max_train = y_vs_y_hat_m9['Y_train'].max()\n",
        "\n",
        "min_pred = y_vs_y_hat_m9['y predicted m9 λ2^-7'].min()\n",
        "min_train = y_vs_y_hat_m9['Y_train'].min()\n",
        "\n",
        "normalized_y_pred = (y_vs_y_hat_m9['y predicted m9 λ2^-7'] - min_pred)/(max_pred - min_pred)\n",
        "normalized_y_train = (y_vs_y_hat_m9['Y_train'] - min_train)/(max_train - min_train)\n",
        "\n",
        "normalized_square_error = (normalized_y_pred - normalized_y_train)**2\n",
        "\n",
        "nmse_m9_λ1 = 0\n",
        "\n",
        "rmse_m9_λ1 = normalized_square_error.sum() / len(normalized_square_error)\n",
        "rmse_m9_λ1"
      ],
      "metadata": {
        "colab": {
          "base_uri": "https://localhost:8080/"
        },
        "id": "mdRnt5fFmMHV",
        "outputId": "028d3280-9bb1-4684-9581-d8519dcd3a87"
      },
      "execution_count": 225,
      "outputs": [
        {
          "output_type": "execute_result",
          "data": {
            "text/plain": [
              "0.25200692735370184"
            ]
          },
          "metadata": {},
          "execution_count": 225
        }
      ]
    },
    {
      "cell_type": "code",
      "source": [
        "y_vs_y_hat_m9 = pd.DataFrame(data=(np.array(df_predicted_m9_0002['Y_predicted']), Y_train),index=['y predicted m9 λ0002','Y_train']).T\n",
        "\n",
        "# Normalizing the dataset\n",
        "max_pred = y_vs_y_hat_m9['y predicted m9 λ0002'].max()\n",
        "max_train = y_vs_y_hat_m9['Y_train'].max()\n",
        "\n",
        "min_pred = y_vs_y_hat_m9['y predicted m9 λ0002'].min()\n",
        "min_train = y_vs_y_hat_m9['Y_train'].min()\n",
        "\n",
        "normalized_y_pred = (y_vs_y_hat_m9['y predicted m9 λ0002'] - min_pred)/(max_pred - min_pred)\n",
        "normalized_y_train = (y_vs_y_hat_m9['Y_train'] - min_train)/(max_train - min_train)\n",
        "\n",
        "normalized_square_error = (normalized_y_pred - normalized_y_train)**2\n",
        "\n",
        "nmse_m9_λ0002 = 0\n",
        "\n",
        "rmse_m9_λ0002 = normalized_square_error.sum() / len(normalized_square_error)\n",
        "rmse_m9_λ0002"
      ],
      "metadata": {
        "colab": {
          "base_uri": "https://localhost:8080/"
        },
        "id": "xI2FsGyosBUc",
        "outputId": "8f3788e7-07a6-4969-8bc3-9b515e9b7431"
      },
      "execution_count": 226,
      "outputs": [
        {
          "output_type": "execute_result",
          "data": {
            "text/plain": [
              "0.24613073789196727"
            ]
          },
          "metadata": {},
          "execution_count": 226
        }
      ]
    },
    {
      "cell_type": "markdown",
      "source": [
        "## RMSE (Root Mean Square error)"
      ],
      "metadata": {
        "id": "nC9GOLJAv8LV"
      }
    },
    {
      "cell_type": "code",
      "source": [
        "y_vs_y_hat_m9 = pd.DataFrame(data=(np.array(df_predicted_m9_1['Y_predicted']), Y_test),index=['y predicted m9 λ1','Y_train']).T\n",
        "y_vs_y_hat_m9['sum of square error'] = (y_vs_y_hat_m9['y predicted m9 λ1'] - y_vs_y_hat_m9['Y_train'])**2\n",
        "\n",
        "rmse_m9_λ1 = 0\n",
        "\n",
        "rmse_m9_λ1 = y_vs_y_hat_m9['sum of square error'].sum() / len(y_vs_y_hat_m9)\n",
        "rmse_m9_λ1 = math.sqrt(rmse_m9_λ1)\n",
        "rmse_m9_λ1"
      ],
      "metadata": {
        "colab": {
          "base_uri": "https://localhost:8080/"
        },
        "id": "pSFepayyB-Ca",
        "outputId": "f2904451-267d-40e6-8cde-a811e6991585"
      },
      "execution_count": 227,
      "outputs": [
        {
          "output_type": "execute_result",
          "data": {
            "text/plain": [
              "0.5905260627616884"
            ]
          },
          "metadata": {},
          "execution_count": 227
        }
      ]
    },
    {
      "cell_type": "code",
      "source": [
        "y_vs_y_hat_m9 = pd.DataFrame(data=(np.array(df_predicted_m9_05['Y_predicted']), Y_test),index=['y predicted m9 λ05','Y_train']).T\n",
        "y_vs_y_hat_m9['sum of square error'] = (y_vs_y_hat_m9['y predicted m9 λ05'] - y_vs_y_hat_m9['Y_train'])**2\n",
        "\n",
        "rmse_m9_λ05 = 0\n",
        "\n",
        "rmse_m9_λ05 = y_vs_y_hat_m9['sum of square error'].sum() / len(y_vs_y_hat_m9)\n",
        "rmse_m9_λ05 = math.sqrt(rmse_m9_λ05)\n",
        "rmse_m9_λ05"
      ],
      "metadata": {
        "colab": {
          "base_uri": "https://localhost:8080/"
        },
        "id": "rkYPReyzD4_M",
        "outputId": "8af101a2-06c0-4954-b6c3-df182a0c3893"
      },
      "execution_count": 228,
      "outputs": [
        {
          "output_type": "execute_result",
          "data": {
            "text/plain": [
              "0.5952777161318914"
            ]
          },
          "metadata": {},
          "execution_count": 228
        }
      ]
    },
    {
      "cell_type": "code",
      "source": [
        "y_vs_y_hat_m9 = pd.DataFrame(data=(np.array(df_predicted_m9_27['Y_predicted']), Y_test),index=['y predicted m9 λ2^-7','Y_train']).T\n",
        "y_vs_y_hat_m9['sum of square error'] = (y_vs_y_hat_m9['y predicted m9 λ2^-7'] - y_vs_y_hat_m9['Y_train'])**2\n",
        "\n",
        "rmse_m9_λ27 = 0\n",
        "\n",
        "rmse_m9_λ27 = y_vs_y_hat_m9['sum of square error'].sum() / len(y_vs_y_hat_m9)\n",
        "rmse_m9_λ27 = math.sqrt(rmse_m9_λ27)\n",
        "rmse_m9_λ27"
      ],
      "metadata": {
        "colab": {
          "base_uri": "https://localhost:8080/"
        },
        "id": "AJ5mXHy3D-Ks",
        "outputId": "b034f9aa-8259-41a7-81b0-3044a7fb7e94"
      },
      "execution_count": 229,
      "outputs": [
        {
          "output_type": "execute_result",
          "data": {
            "text/plain": [
              "0.6207697906140102"
            ]
          },
          "metadata": {},
          "execution_count": 229
        }
      ]
    },
    {
      "cell_type": "code",
      "source": [
        "y_vs_y_hat_m9 = pd.DataFrame(data=(np.array(df_predicted_m9_0002['Y_predicted']), Y_test),index=['y predicted m9 λ0002','Y_train']).T\n",
        "y_vs_y_hat_m9['sum of square error'] = (y_vs_y_hat_m9['y predicted m9 λ0002'] - y_vs_y_hat_m9['Y_train'])**2\n",
        "\n",
        "rmse_m9_λ0002 = 0\n",
        "\n",
        "rmse_m9_λ0002 = y_vs_y_hat_m9['sum of square error'].sum() / len(y_vs_y_hat_m9)\n",
        "rmse_m9_λ0002 = math.sqrt(rmse_m9_λ0002)\n",
        "rmse_m9_λ0002"
      ],
      "metadata": {
        "colab": {
          "base_uri": "https://localhost:8080/"
        },
        "id": "G17x6kwMscJG",
        "outputId": "31f2ec54-d26e-4e51-c7b0-265d3abc92ff"
      },
      "execution_count": 230,
      "outputs": [
        {
          "output_type": "execute_result",
          "data": {
            "text/plain": [
              "0.6490574210620839"
            ]
          },
          "metadata": {},
          "execution_count": 230
        }
      ]
    },
    {
      "cell_type": "markdown",
      "source": [
        "## MAE (Mean Absolute Error)"
      ],
      "metadata": {
        "id": "25B2dI2nwC4q"
      }
    },
    {
      "cell_type": "code",
      "source": [
        "y_vs_y_hat_m9 = pd.DataFrame(data=(np.array(df_predicted_m9_1['Y_predicted']), Y_train),index=['y predicted m9 λ1','Y_train']).T\n",
        "y_vs_y_hat_m9['absolute error'] = abs(y_vs_y_hat_m9['y predicted m9 λ1'] - y_vs_y_hat_m9['Y_train'])\n",
        "\n",
        "rmse_m9_λ1 = 0\n",
        "rmse_m9_λ1 = y_vs_y_hat_m9['absolute error'].sum() / len(y_vs_y_hat_m9)\n",
        "rmse_m9_λ1"
      ],
      "metadata": {
        "colab": {
          "base_uri": "https://localhost:8080/"
        },
        "outputId": "cb78630f-c09c-4803-b07b-ca645f3ae843",
        "id": "PqBO6J8rxGox"
      },
      "execution_count": 231,
      "outputs": [
        {
          "output_type": "execute_result",
          "data": {
            "text/plain": [
              "0.7696478534642917"
            ]
          },
          "metadata": {},
          "execution_count": 231
        }
      ]
    },
    {
      "cell_type": "code",
      "source": [
        "y_vs_y_hat_m9 = pd.DataFrame(data=(np.array(df_predicted_m9_05['Y_predicted']), Y_train),index=['y predicted m9 λ05','Y_train']).T\n",
        "y_vs_y_hat_m9['absolute error'] = abs(y_vs_y_hat_m9['y predicted m9 λ05'] - y_vs_y_hat_m9['Y_train'])\n",
        "\n",
        "rmse_m9_λ05 = 0\n",
        "rmse_m9_λ05 = y_vs_y_hat_m9['absolute error'].sum() / len(y_vs_y_hat_m9)\n",
        "rmse_m9_λ05"
      ],
      "metadata": {
        "colab": {
          "base_uri": "https://localhost:8080/"
        },
        "outputId": "47306756-97cd-4ec4-8ffd-1676fe72a53e",
        "id": "jCZWi6mJxGo4"
      },
      "execution_count": 232,
      "outputs": [
        {
          "output_type": "execute_result",
          "data": {
            "text/plain": [
              "0.7772706512322328"
            ]
          },
          "metadata": {},
          "execution_count": 232
        }
      ]
    },
    {
      "cell_type": "code",
      "source": [
        "y_vs_y_hat_m9 = pd.DataFrame(data=(np.array(df_predicted_m9_27['Y_predicted']), Y_train),index=['y predicted m9 λ2^-7','Y_train']).T\n",
        "y_vs_y_hat_m9['absolute error'] = abs(y_vs_y_hat_m9['y predicted m9 λ2^-7'] - y_vs_y_hat_m9['Y_train'])\n",
        "\n",
        "rmse_m9_λ27 = 0\n",
        "rmse_m9_λ27 = y_vs_y_hat_m9['absolute error'].sum() / len(y_vs_y_hat_m9)\n",
        "rmse_m9_λ27"
      ],
      "metadata": {
        "colab": {
          "base_uri": "https://localhost:8080/"
        },
        "outputId": "7ddf42ce-106e-4c0a-a83e-003f7bf234a0",
        "id": "dQERxGLtxGo4"
      },
      "execution_count": 233,
      "outputs": [
        {
          "output_type": "execute_result",
          "data": {
            "text/plain": [
              "0.8013098505784173"
            ]
          },
          "metadata": {},
          "execution_count": 233
        }
      ]
    },
    {
      "cell_type": "code",
      "source": [
        "y_vs_y_hat_m9 = pd.DataFrame(data=(np.array(df_predicted_m9_0002['Y_predicted']), Y_train),index=['y predicted m9 λ0002','Y_train']).T\n",
        "y_vs_y_hat_m9['absolute error'] = abs(y_vs_y_hat_m9['y predicted m9 λ0002'] - y_vs_y_hat_m9['Y_train'])\n",
        "\n",
        "rmse_m9_λ0002 = 0\n",
        "rmse_m9_λ0002 = y_vs_y_hat_m9['absolute error'].sum() / len(y_vs_y_hat_m9)\n",
        "rmse_m9_λ0002"
      ],
      "metadata": {
        "colab": {
          "base_uri": "https://localhost:8080/"
        },
        "id": "IO72jhBLstW8",
        "outputId": "64ddde04-f18a-4339-a8af-f1e65a209e70"
      },
      "execution_count": 234,
      "outputs": [
        {
          "output_type": "execute_result",
          "data": {
            "text/plain": [
              "0.8249117520744633"
            ]
          },
          "metadata": {},
          "execution_count": 234
        }
      ]
    },
    {
      "cell_type": "markdown",
      "source": [
        "## R2 (R-square Error)\n",
        "\n",
        "### R2= 1 − $\\frac{sum \\; squared \\; regression \\; (SSR)}{total \\; sum \\; of \\; squares \\; (SST)}$\n",
        "\n",
        "\n",
        "### R2 = $1− \\frac{∑(y_i− \\bar{y_i})^2}{∑(y_i−\\bar{y})^2}$"
      ],
      "metadata": {
        "id": "vzPn-DL3wEZo"
      }
    },
    {
      "cell_type": "code",
      "source": [
        "y_vs_y_hat_m9 = pd.DataFrame(data=(np.array(df_predicted_m9_1['Y_predicted']), Y_train),index=['y predicted m9 λ1','Y_train']).T\n",
        "y_mean = (y_vs_y_hat_m9['Y_train'].sum())/len(Y_train)\n",
        "\n",
        "y_vs_y_hat_m9['SSR'] = (y_vs_y_hat_m9['y predicted m9 λ1'] - y_vs_y_hat_m9['Y_train'])**2\n",
        "y_vs_y_hat_m9['SST'] = (y_vs_y_hat_m9['Y_train'] - y_mean)**2\n",
        "\n",
        "SST = y_vs_y_hat_m9['SSR'].sum()\n",
        "SSR = y_vs_y_hat_m9['SST'].sum()\n",
        "\n",
        "R_square_λ1 = SSR/SST\n",
        "R_square_λ1"
      ],
      "metadata": {
        "colab": {
          "base_uri": "https://localhost:8080/"
        },
        "outputId": "b5ee55e3-deac-4526-fab6-372a4c695a22",
        "id": "wYof6gva1INn"
      },
      "execution_count": 235,
      "outputs": [
        {
          "output_type": "execute_result",
          "data": {
            "text/plain": [
              "0.49887720059833185"
            ]
          },
          "metadata": {},
          "execution_count": 235
        }
      ]
    },
    {
      "cell_type": "code",
      "source": [
        "y_vs_y_hat_m9 = pd.DataFrame(data=(np.array(df_predicted_m9_05['Y_predicted']), Y_train),index=['y predicted m9 λ05','Y_train']).T\n",
        "y_mean = (y_vs_y_hat_m9['Y_train'].sum())/len(Y_train)\n",
        "\n",
        "y_vs_y_hat_m9['SSR'] = (y_vs_y_hat_m9['y predicted m9 λ05'] - y_vs_y_hat_m9['Y_train'])**2\n",
        "y_vs_y_hat_m9['SST'] = (y_vs_y_hat_m9['Y_train'] - y_mean)**2\n",
        "\n",
        "SST = y_vs_y_hat_m9['SSR'].sum()\n",
        "SSR = y_vs_y_hat_m9['SST'].sum()\n",
        "\n",
        "R_square_λ05 = SSR/SST\n",
        "R_square_λ05"
      ],
      "metadata": {
        "colab": {
          "base_uri": "https://localhost:8080/"
        },
        "outputId": "37cfefc1-adf6-4474-abe0-ea647b1d5476",
        "id": "l5RFt9o31INo"
      },
      "execution_count": 236,
      "outputs": [
        {
          "output_type": "execute_result",
          "data": {
            "text/plain": [
              "0.4876770265736823"
            ]
          },
          "metadata": {},
          "execution_count": 236
        }
      ]
    },
    {
      "cell_type": "code",
      "source": [
        "y_vs_y_hat_m9 = pd.DataFrame(data=(np.array(df_predicted_m9_27['Y_predicted']), Y_train),index=['y predicted m9 λ27','Y_train']).T\n",
        "y_mean = (y_vs_y_hat_m9['Y_train'].sum())/len(Y_train)\n",
        "\n",
        "y_vs_y_hat_m9['SSR'] = (y_vs_y_hat_m9['y predicted m9 λ27'] - y_vs_y_hat_m9['Y_train'])**2\n",
        "y_vs_y_hat_m9['SST'] = (y_vs_y_hat_m9['Y_train'] - y_mean)**2\n",
        "\n",
        "SST = y_vs_y_hat_m9['SSR'].sum()\n",
        "SSR = y_vs_y_hat_m9['SST'].sum()\n",
        "\n",
        "R_square_λ0 = SSR/SST\n",
        "R_square_λ0"
      ],
      "metadata": {
        "colab": {
          "base_uri": "https://localhost:8080/"
        },
        "outputId": "e6ef4c95-7a69-40c8-bd4c-96dd0bf00443",
        "id": "yui2Ah931INp"
      },
      "execution_count": 237,
      "outputs": [
        {
          "output_type": "execute_result",
          "data": {
            "text/plain": [
              "0.45557767994615495"
            ]
          },
          "metadata": {},
          "execution_count": 237
        }
      ]
    },
    {
      "cell_type": "code",
      "source": [
        "y_vs_y_hat_m9 = pd.DataFrame(data=(np.array(df_predicted_m9_0002['Y_predicted']), Y_train),index=['y predicted m9 λ0002','Y_train']).T\n",
        "y_mean = (y_vs_y_hat_m9['Y_train'].sum())/len(Y_train)\n",
        "\n",
        "y_vs_y_hat_m9['SSR'] = (y_vs_y_hat_m9['y predicted m9 λ0002'] - y_vs_y_hat_m9['Y_train'])**2\n",
        "y_vs_y_hat_m9['SST'] = (y_vs_y_hat_m9['Y_train'] - y_mean)**2\n",
        "\n",
        "SST = y_vs_y_hat_m9['SSR'].sum()\n",
        "SSR = y_vs_y_hat_m9['SST'].sum()\n",
        "\n",
        "R_square_λ0 = SSR/SST\n",
        "R_square_λ0"
      ],
      "metadata": {
        "colab": {
          "base_uri": "https://localhost:8080/"
        },
        "id": "OxVVgaBLtABj",
        "outputId": "340b0d1d-c52a-42d1-cbbd-d1f18967f0f5"
      },
      "execution_count": 238,
      "outputs": [
        {
          "output_type": "execute_result",
          "data": {
            "text/plain": [
              "0.42762782623527534"
            ]
          },
          "metadata": {},
          "execution_count": 238
        }
      ]
    },
    {
      "cell_type": "markdown",
      "source": [
        "# 4. Estimate the regularized Least Squares Polynomial Regression model of order M= 9, on the training set T using gradient descent method with the tuned value of λ obtained in question 3 by selecting an appropriate step length η. Compare the solution obtained by direct method and gradient descent method. Evaluate your estimated function using NMSE, RMSE, MAE and R2 on test set."
      ],
      "metadata": {
        "id": "8Y_x3dE6JH4f"
      }
    },
    {
      "cell_type": "code",
      "source": [
        "# no_of_rows = len(X_train)\n",
        "# no_of_cols = 10\n",
        "\n",
        "# Lambda = math.pow(2, -7)\n",
        "# X_Lam0 = np.zeros((no_of_rows, no_of_cols))\n",
        "# lam_I = np.identity(10)*Lambda\n",
        "# for xi in range (no_of_rows):\n",
        "#   for deg in range (no_of_cols):\n",
        "#     X_Lam0[xi][deg] += math.pow(X_train[xi], deg)\n",
        "\n",
        "# print('X_Lam0.0001: ')\n",
        "# print(X_Lam0001)"
      ],
      "metadata": {
        "id": "Y3gVBzAmKeHn"
      },
      "execution_count": 239,
      "outputs": []
    },
    {
      "cell_type": "code",
      "source": [],
      "metadata": {
        "id": "y6xGv1u0K6xT"
      },
      "execution_count": 239,
      "outputs": []
    }
  ]
}