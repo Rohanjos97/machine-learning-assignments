{
  "cells": [
    {
      "cell_type": "markdown",
      "id": "d6d494ed",
      "metadata": {
        "id": "d6d494ed"
      },
      "source": [
        "# UNIVARIATE CASE"
      ]
    },
    {
      "cell_type": "markdown",
      "id": "74d9fe9e",
      "metadata": {
        "id": "74d9fe9e"
      },
      "source": [
        "## A. Generate 20 real number for the variable X from the uniform distribution U [0,1]."
      ]
    },
    {
      "cell_type": "code",
      "execution_count": 2,
      "id": "76658495",
      "metadata": {
        "id": "76658495"
      },
      "outputs": [],
      "source": [
        "import numpy as np\n",
        "import math\n",
        "import pandas as pd \n",
        "import matplotlib.pyplot as plt\n",
        "import seaborn as sns\n"
      ]
    },
    {
      "cell_type": "code",
      "execution_count": 3,
      "id": "c502d28f",
      "metadata": {
        "colab": {
          "base_uri": "https://localhost:8080/"
        },
        "id": "c502d28f",
        "outputId": "66a00888-3cf9-40b0-a36b-c4a6c8cb56d0"
      },
      "outputs": [
        {
          "output_type": "execute_result",
          "data": {
            "text/plain": [
              "array([0.77333432, 0.91805056, 0.95072335, 0.45880807, 0.08090425,\n",
              "       0.96374892, 0.15276786, 0.67324846, 0.22464632, 0.90145704,\n",
              "       0.00864481, 0.38311258, 0.00264796, 0.1275323 , 0.93828847,\n",
              "       0.25865437, 0.11411363, 0.93500312, 0.91233388, 0.26365673])"
            ]
          },
          "metadata": {},
          "execution_count": 3
        }
      ],
      "source": [
        "# uniform distribution of 20 real number\n",
        "X_train=np.random.uniform(0,1,20)\n",
        "X_train"
      ]
    },
    {
      "cell_type": "markdown",
      "id": "a4245c16",
      "metadata": {
        "id": "a4245c16"
      },
      "source": [
        "## B. Construct the training set T = { ($x_{1}$, $y_{1}$), ($x_{2}$, $y_{2}$), ... , ($x_{20}$, $y_{20}$)} using the relation :\n",
        "\n",
        "##$Y_{i}$  = sin(2 π $x_{i}$) + $ε_{i}$ where $ε_{i}$ ~ N(0,0.25)\n"
      ]
    },
    {
      "cell_type": "code",
      "execution_count": 4,
      "id": "7ff78b1c",
      "metadata": {
        "colab": {
          "base_uri": "https://localhost:8080/",
          "height": 676
        },
        "id": "7ff78b1c",
        "outputId": "308c71bd-1c21-4b50-8643-b46e5c1c389e"
      },
      "outputs": [
        {
          "output_type": "execute_result",
          "data": {
            "text/plain": [
              "     X_train   Y_train\n",
              "0   0.773334 -0.782843\n",
              "1   0.918051 -0.308884\n",
              "2   0.950723 -0.152586\n",
              "3   0.458808  0.359577\n",
              "4   0.080904  0.510590\n",
              "5   0.963749 -0.181297\n",
              "6   0.152768  1.057762\n",
              "7   0.673248 -0.638807\n",
              "8   0.224646  1.235155\n",
              "9   0.901457 -0.418401\n",
              "10  0.008645  0.299066\n",
              "11  0.383113  0.740034\n",
              "12  0.002648  0.248096\n",
              "13  0.127532  0.939592\n",
              "14  0.938288 -0.347214\n",
              "15  0.258654  1.185486\n",
              "16  0.114114  0.875763\n",
              "17  0.935003 -0.211587\n",
              "18  0.912334 -0.323880\n",
              "19  0.263657  1.205683"
            ],
            "text/html": [
              "\n",
              "  <div id=\"df-5d27b337-1061-46b5-9a94-6bcf5719f5f1\">\n",
              "    <div class=\"colab-df-container\">\n",
              "      <div>\n",
              "<style scoped>\n",
              "    .dataframe tbody tr th:only-of-type {\n",
              "        vertical-align: middle;\n",
              "    }\n",
              "\n",
              "    .dataframe tbody tr th {\n",
              "        vertical-align: top;\n",
              "    }\n",
              "\n",
              "    .dataframe thead th {\n",
              "        text-align: right;\n",
              "    }\n",
              "</style>\n",
              "<table border=\"1\" class=\"dataframe\">\n",
              "  <thead>\n",
              "    <tr style=\"text-align: right;\">\n",
              "      <th></th>\n",
              "      <th>X_train</th>\n",
              "      <th>Y_train</th>\n",
              "    </tr>\n",
              "  </thead>\n",
              "  <tbody>\n",
              "    <tr>\n",
              "      <th>0</th>\n",
              "      <td>0.773334</td>\n",
              "      <td>-0.782843</td>\n",
              "    </tr>\n",
              "    <tr>\n",
              "      <th>1</th>\n",
              "      <td>0.918051</td>\n",
              "      <td>-0.308884</td>\n",
              "    </tr>\n",
              "    <tr>\n",
              "      <th>2</th>\n",
              "      <td>0.950723</td>\n",
              "      <td>-0.152586</td>\n",
              "    </tr>\n",
              "    <tr>\n",
              "      <th>3</th>\n",
              "      <td>0.458808</td>\n",
              "      <td>0.359577</td>\n",
              "    </tr>\n",
              "    <tr>\n",
              "      <th>4</th>\n",
              "      <td>0.080904</td>\n",
              "      <td>0.510590</td>\n",
              "    </tr>\n",
              "    <tr>\n",
              "      <th>5</th>\n",
              "      <td>0.963749</td>\n",
              "      <td>-0.181297</td>\n",
              "    </tr>\n",
              "    <tr>\n",
              "      <th>6</th>\n",
              "      <td>0.152768</td>\n",
              "      <td>1.057762</td>\n",
              "    </tr>\n",
              "    <tr>\n",
              "      <th>7</th>\n",
              "      <td>0.673248</td>\n",
              "      <td>-0.638807</td>\n",
              "    </tr>\n",
              "    <tr>\n",
              "      <th>8</th>\n",
              "      <td>0.224646</td>\n",
              "      <td>1.235155</td>\n",
              "    </tr>\n",
              "    <tr>\n",
              "      <th>9</th>\n",
              "      <td>0.901457</td>\n",
              "      <td>-0.418401</td>\n",
              "    </tr>\n",
              "    <tr>\n",
              "      <th>10</th>\n",
              "      <td>0.008645</td>\n",
              "      <td>0.299066</td>\n",
              "    </tr>\n",
              "    <tr>\n",
              "      <th>11</th>\n",
              "      <td>0.383113</td>\n",
              "      <td>0.740034</td>\n",
              "    </tr>\n",
              "    <tr>\n",
              "      <th>12</th>\n",
              "      <td>0.002648</td>\n",
              "      <td>0.248096</td>\n",
              "    </tr>\n",
              "    <tr>\n",
              "      <th>13</th>\n",
              "      <td>0.127532</td>\n",
              "      <td>0.939592</td>\n",
              "    </tr>\n",
              "    <tr>\n",
              "      <th>14</th>\n",
              "      <td>0.938288</td>\n",
              "      <td>-0.347214</td>\n",
              "    </tr>\n",
              "    <tr>\n",
              "      <th>15</th>\n",
              "      <td>0.258654</td>\n",
              "      <td>1.185486</td>\n",
              "    </tr>\n",
              "    <tr>\n",
              "      <th>16</th>\n",
              "      <td>0.114114</td>\n",
              "      <td>0.875763</td>\n",
              "    </tr>\n",
              "    <tr>\n",
              "      <th>17</th>\n",
              "      <td>0.935003</td>\n",
              "      <td>-0.211587</td>\n",
              "    </tr>\n",
              "    <tr>\n",
              "      <th>18</th>\n",
              "      <td>0.912334</td>\n",
              "      <td>-0.323880</td>\n",
              "    </tr>\n",
              "    <tr>\n",
              "      <th>19</th>\n",
              "      <td>0.263657</td>\n",
              "      <td>1.205683</td>\n",
              "    </tr>\n",
              "  </tbody>\n",
              "</table>\n",
              "</div>\n",
              "      <button class=\"colab-df-convert\" onclick=\"convertToInteractive('df-5d27b337-1061-46b5-9a94-6bcf5719f5f1')\"\n",
              "              title=\"Convert this dataframe to an interactive table.\"\n",
              "              style=\"display:none;\">\n",
              "        \n",
              "  <svg xmlns=\"http://www.w3.org/2000/svg\" height=\"24px\"viewBox=\"0 0 24 24\"\n",
              "       width=\"24px\">\n",
              "    <path d=\"M0 0h24v24H0V0z\" fill=\"none\"/>\n",
              "    <path d=\"M18.56 5.44l.94 2.06.94-2.06 2.06-.94-2.06-.94-.94-2.06-.94 2.06-2.06.94zm-11 1L8.5 8.5l.94-2.06 2.06-.94-2.06-.94L8.5 2.5l-.94 2.06-2.06.94zm10 10l.94 2.06.94-2.06 2.06-.94-2.06-.94-.94-2.06-.94 2.06-2.06.94z\"/><path d=\"M17.41 7.96l-1.37-1.37c-.4-.4-.92-.59-1.43-.59-.52 0-1.04.2-1.43.59L10.3 9.45l-7.72 7.72c-.78.78-.78 2.05 0 2.83L4 21.41c.39.39.9.59 1.41.59.51 0 1.02-.2 1.41-.59l7.78-7.78 2.81-2.81c.8-.78.8-2.07 0-2.86zM5.41 20L4 18.59l7.72-7.72 1.47 1.35L5.41 20z\"/>\n",
              "  </svg>\n",
              "      </button>\n",
              "      \n",
              "  <style>\n",
              "    .colab-df-container {\n",
              "      display:flex;\n",
              "      flex-wrap:wrap;\n",
              "      gap: 12px;\n",
              "    }\n",
              "\n",
              "    .colab-df-convert {\n",
              "      background-color: #E8F0FE;\n",
              "      border: none;\n",
              "      border-radius: 50%;\n",
              "      cursor: pointer;\n",
              "      display: none;\n",
              "      fill: #1967D2;\n",
              "      height: 32px;\n",
              "      padding: 0 0 0 0;\n",
              "      width: 32px;\n",
              "    }\n",
              "\n",
              "    .colab-df-convert:hover {\n",
              "      background-color: #E2EBFA;\n",
              "      box-shadow: 0px 1px 2px rgba(60, 64, 67, 0.3), 0px 1px 3px 1px rgba(60, 64, 67, 0.15);\n",
              "      fill: #174EA6;\n",
              "    }\n",
              "\n",
              "    [theme=dark] .colab-df-convert {\n",
              "      background-color: #3B4455;\n",
              "      fill: #D2E3FC;\n",
              "    }\n",
              "\n",
              "    [theme=dark] .colab-df-convert:hover {\n",
              "      background-color: #434B5C;\n",
              "      box-shadow: 0px 1px 3px 1px rgba(0, 0, 0, 0.15);\n",
              "      filter: drop-shadow(0px 1px 2px rgba(0, 0, 0, 0.3));\n",
              "      fill: #FFFFFF;\n",
              "    }\n",
              "  </style>\n",
              "\n",
              "      <script>\n",
              "        const buttonEl =\n",
              "          document.querySelector('#df-5d27b337-1061-46b5-9a94-6bcf5719f5f1 button.colab-df-convert');\n",
              "        buttonEl.style.display =\n",
              "          google.colab.kernel.accessAllowed ? 'block' : 'none';\n",
              "\n",
              "        async function convertToInteractive(key) {\n",
              "          const element = document.querySelector('#df-5d27b337-1061-46b5-9a94-6bcf5719f5f1');\n",
              "          const dataTable =\n",
              "            await google.colab.kernel.invokeFunction('convertToInteractive',\n",
              "                                                     [key], {});\n",
              "          if (!dataTable) return;\n",
              "\n",
              "          const docLinkHtml = 'Like what you see? Visit the ' +\n",
              "            '<a target=\"_blank\" href=https://colab.research.google.com/notebooks/data_table.ipynb>data table notebook</a>'\n",
              "            + ' to learn more about interactive tables.';\n",
              "          element.innerHTML = '';\n",
              "          dataTable['output_type'] = 'display_data';\n",
              "          await google.colab.output.renderOutput(dataTable, element);\n",
              "          const docLink = document.createElement('div');\n",
              "          docLink.innerHTML = docLinkHtml;\n",
              "          element.appendChild(docLink);\n",
              "        }\n",
              "      </script>\n",
              "    </div>\n",
              "  </div>\n",
              "  "
            ]
          },
          "metadata": {},
          "execution_count": 4
        }
      ],
      "source": [
        "Y_train =[]\n",
        "\n",
        "for x_val in X_train:\n",
        "    Yi = math.sin(2 * math.pi * x_val) + np.random.uniform(0, 0.25) \n",
        "    Y_train.append(Yi)\n",
        "\n",
        "# For better understanding, let's convert X and Y training dataset into a dataframe\n",
        "df_train = pd.DataFrame(data=(X_train,Y_train),index=['X_train','Y_train'])\n",
        "df_train = df_train.T\n",
        "df_train"
      ]
    },
    {
      "cell_type": "markdown",
      "id": "9d213434",
      "metadata": {
        "id": "9d213434"
      },
      "source": [
        "## C. In the similar way construct a testing set of size 50, i.e. Test = { ($x'_{1}$, $y'_{1}$), ($x'_{2}$, $y'_{2}$), ... , ($x'_{50}$, $y'_{50}$)}"
      ]
    },
    {
      "cell_type": "code",
      "execution_count": 5,
      "id": "d7452530",
      "metadata": {
        "colab": {
          "base_uri": "https://localhost:8080/",
          "height": 1000
        },
        "id": "d7452530",
        "outputId": "f3506c33-5941-4920-ee2f-fa7b39b61690"
      },
      "outputs": [
        {
          "output_type": "execute_result",
          "data": {
            "text/plain": [
              "      X_test    Y_test\n",
              "0   0.857862 -0.674367\n",
              "1   0.554701 -0.127536\n",
              "2   0.243202  1.122251\n",
              "3   0.829974 -0.746957\n",
              "4   0.762717 -0.883136\n",
              "5   0.393828  0.866895\n",
              "6   0.623698 -0.558863\n",
              "7   0.860840 -0.595653\n",
              "8   0.534568  0.004776\n",
              "9   0.009501  0.272460\n",
              "10  0.449076  0.319545\n",
              "11  0.228015  1.010546\n",
              "12  0.264473  1.205789\n",
              "13  0.164371  1.002621\n",
              "14  0.180539  1.011644\n",
              "15  0.856009 -0.668007\n",
              "16  0.382944  0.684520\n",
              "17  0.405807  0.732068\n",
              "18  0.508842 -0.021059\n",
              "19  0.033872  0.457329\n",
              "20  0.823160 -0.750838\n",
              "21  0.433482  0.412759\n",
              "22  0.725273 -0.980605\n",
              "23  0.885916 -0.462188\n",
              "24  0.944763 -0.255071\n",
              "25  0.480551  0.352627\n",
              "26  0.810664 -0.764489\n",
              "27  0.833123 -0.641727\n",
              "28  0.462369  0.434110\n",
              "29  0.614055 -0.563033\n",
              "30  0.307231  1.184092\n",
              "31  0.545932 -0.249845\n",
              "32  0.605894 -0.410918\n",
              "33  0.335976  1.031134\n",
              "34  0.730923 -0.744523\n",
              "35  0.772345 -0.906338\n",
              "36  0.305043  1.010155\n",
              "37  0.222101  1.192938\n",
              "38  0.460358  0.329899\n",
              "39  0.327585  0.935900\n",
              "40  0.957071 -0.123156\n",
              "41  0.939538 -0.337512\n",
              "42  0.074796  0.671098\n",
              "43  0.810596 -0.703381\n",
              "44  0.587134 -0.467670\n",
              "45  0.039172  0.250080\n",
              "46  0.316862  1.091134\n",
              "47  0.877732 -0.507274\n",
              "48  0.818136 -0.834980\n",
              "49  0.419181  0.591646"
            ],
            "text/html": [
              "\n",
              "  <div id=\"df-4088d767-6ff7-479c-b4e2-2ab4592ce2a9\">\n",
              "    <div class=\"colab-df-container\">\n",
              "      <div>\n",
              "<style scoped>\n",
              "    .dataframe tbody tr th:only-of-type {\n",
              "        vertical-align: middle;\n",
              "    }\n",
              "\n",
              "    .dataframe tbody tr th {\n",
              "        vertical-align: top;\n",
              "    }\n",
              "\n",
              "    .dataframe thead th {\n",
              "        text-align: right;\n",
              "    }\n",
              "</style>\n",
              "<table border=\"1\" class=\"dataframe\">\n",
              "  <thead>\n",
              "    <tr style=\"text-align: right;\">\n",
              "      <th></th>\n",
              "      <th>X_test</th>\n",
              "      <th>Y_test</th>\n",
              "    </tr>\n",
              "  </thead>\n",
              "  <tbody>\n",
              "    <tr>\n",
              "      <th>0</th>\n",
              "      <td>0.857862</td>\n",
              "      <td>-0.674367</td>\n",
              "    </tr>\n",
              "    <tr>\n",
              "      <th>1</th>\n",
              "      <td>0.554701</td>\n",
              "      <td>-0.127536</td>\n",
              "    </tr>\n",
              "    <tr>\n",
              "      <th>2</th>\n",
              "      <td>0.243202</td>\n",
              "      <td>1.122251</td>\n",
              "    </tr>\n",
              "    <tr>\n",
              "      <th>3</th>\n",
              "      <td>0.829974</td>\n",
              "      <td>-0.746957</td>\n",
              "    </tr>\n",
              "    <tr>\n",
              "      <th>4</th>\n",
              "      <td>0.762717</td>\n",
              "      <td>-0.883136</td>\n",
              "    </tr>\n",
              "    <tr>\n",
              "      <th>5</th>\n",
              "      <td>0.393828</td>\n",
              "      <td>0.866895</td>\n",
              "    </tr>\n",
              "    <tr>\n",
              "      <th>6</th>\n",
              "      <td>0.623698</td>\n",
              "      <td>-0.558863</td>\n",
              "    </tr>\n",
              "    <tr>\n",
              "      <th>7</th>\n",
              "      <td>0.860840</td>\n",
              "      <td>-0.595653</td>\n",
              "    </tr>\n",
              "    <tr>\n",
              "      <th>8</th>\n",
              "      <td>0.534568</td>\n",
              "      <td>0.004776</td>\n",
              "    </tr>\n",
              "    <tr>\n",
              "      <th>9</th>\n",
              "      <td>0.009501</td>\n",
              "      <td>0.272460</td>\n",
              "    </tr>\n",
              "    <tr>\n",
              "      <th>10</th>\n",
              "      <td>0.449076</td>\n",
              "      <td>0.319545</td>\n",
              "    </tr>\n",
              "    <tr>\n",
              "      <th>11</th>\n",
              "      <td>0.228015</td>\n",
              "      <td>1.010546</td>\n",
              "    </tr>\n",
              "    <tr>\n",
              "      <th>12</th>\n",
              "      <td>0.264473</td>\n",
              "      <td>1.205789</td>\n",
              "    </tr>\n",
              "    <tr>\n",
              "      <th>13</th>\n",
              "      <td>0.164371</td>\n",
              "      <td>1.002621</td>\n",
              "    </tr>\n",
              "    <tr>\n",
              "      <th>14</th>\n",
              "      <td>0.180539</td>\n",
              "      <td>1.011644</td>\n",
              "    </tr>\n",
              "    <tr>\n",
              "      <th>15</th>\n",
              "      <td>0.856009</td>\n",
              "      <td>-0.668007</td>\n",
              "    </tr>\n",
              "    <tr>\n",
              "      <th>16</th>\n",
              "      <td>0.382944</td>\n",
              "      <td>0.684520</td>\n",
              "    </tr>\n",
              "    <tr>\n",
              "      <th>17</th>\n",
              "      <td>0.405807</td>\n",
              "      <td>0.732068</td>\n",
              "    </tr>\n",
              "    <tr>\n",
              "      <th>18</th>\n",
              "      <td>0.508842</td>\n",
              "      <td>-0.021059</td>\n",
              "    </tr>\n",
              "    <tr>\n",
              "      <th>19</th>\n",
              "      <td>0.033872</td>\n",
              "      <td>0.457329</td>\n",
              "    </tr>\n",
              "    <tr>\n",
              "      <th>20</th>\n",
              "      <td>0.823160</td>\n",
              "      <td>-0.750838</td>\n",
              "    </tr>\n",
              "    <tr>\n",
              "      <th>21</th>\n",
              "      <td>0.433482</td>\n",
              "      <td>0.412759</td>\n",
              "    </tr>\n",
              "    <tr>\n",
              "      <th>22</th>\n",
              "      <td>0.725273</td>\n",
              "      <td>-0.980605</td>\n",
              "    </tr>\n",
              "    <tr>\n",
              "      <th>23</th>\n",
              "      <td>0.885916</td>\n",
              "      <td>-0.462188</td>\n",
              "    </tr>\n",
              "    <tr>\n",
              "      <th>24</th>\n",
              "      <td>0.944763</td>\n",
              "      <td>-0.255071</td>\n",
              "    </tr>\n",
              "    <tr>\n",
              "      <th>25</th>\n",
              "      <td>0.480551</td>\n",
              "      <td>0.352627</td>\n",
              "    </tr>\n",
              "    <tr>\n",
              "      <th>26</th>\n",
              "      <td>0.810664</td>\n",
              "      <td>-0.764489</td>\n",
              "    </tr>\n",
              "    <tr>\n",
              "      <th>27</th>\n",
              "      <td>0.833123</td>\n",
              "      <td>-0.641727</td>\n",
              "    </tr>\n",
              "    <tr>\n",
              "      <th>28</th>\n",
              "      <td>0.462369</td>\n",
              "      <td>0.434110</td>\n",
              "    </tr>\n",
              "    <tr>\n",
              "      <th>29</th>\n",
              "      <td>0.614055</td>\n",
              "      <td>-0.563033</td>\n",
              "    </tr>\n",
              "    <tr>\n",
              "      <th>30</th>\n",
              "      <td>0.307231</td>\n",
              "      <td>1.184092</td>\n",
              "    </tr>\n",
              "    <tr>\n",
              "      <th>31</th>\n",
              "      <td>0.545932</td>\n",
              "      <td>-0.249845</td>\n",
              "    </tr>\n",
              "    <tr>\n",
              "      <th>32</th>\n",
              "      <td>0.605894</td>\n",
              "      <td>-0.410918</td>\n",
              "    </tr>\n",
              "    <tr>\n",
              "      <th>33</th>\n",
              "      <td>0.335976</td>\n",
              "      <td>1.031134</td>\n",
              "    </tr>\n",
              "    <tr>\n",
              "      <th>34</th>\n",
              "      <td>0.730923</td>\n",
              "      <td>-0.744523</td>\n",
              "    </tr>\n",
              "    <tr>\n",
              "      <th>35</th>\n",
              "      <td>0.772345</td>\n",
              "      <td>-0.906338</td>\n",
              "    </tr>\n",
              "    <tr>\n",
              "      <th>36</th>\n",
              "      <td>0.305043</td>\n",
              "      <td>1.010155</td>\n",
              "    </tr>\n",
              "    <tr>\n",
              "      <th>37</th>\n",
              "      <td>0.222101</td>\n",
              "      <td>1.192938</td>\n",
              "    </tr>\n",
              "    <tr>\n",
              "      <th>38</th>\n",
              "      <td>0.460358</td>\n",
              "      <td>0.329899</td>\n",
              "    </tr>\n",
              "    <tr>\n",
              "      <th>39</th>\n",
              "      <td>0.327585</td>\n",
              "      <td>0.935900</td>\n",
              "    </tr>\n",
              "    <tr>\n",
              "      <th>40</th>\n",
              "      <td>0.957071</td>\n",
              "      <td>-0.123156</td>\n",
              "    </tr>\n",
              "    <tr>\n",
              "      <th>41</th>\n",
              "      <td>0.939538</td>\n",
              "      <td>-0.337512</td>\n",
              "    </tr>\n",
              "    <tr>\n",
              "      <th>42</th>\n",
              "      <td>0.074796</td>\n",
              "      <td>0.671098</td>\n",
              "    </tr>\n",
              "    <tr>\n",
              "      <th>43</th>\n",
              "      <td>0.810596</td>\n",
              "      <td>-0.703381</td>\n",
              "    </tr>\n",
              "    <tr>\n",
              "      <th>44</th>\n",
              "      <td>0.587134</td>\n",
              "      <td>-0.467670</td>\n",
              "    </tr>\n",
              "    <tr>\n",
              "      <th>45</th>\n",
              "      <td>0.039172</td>\n",
              "      <td>0.250080</td>\n",
              "    </tr>\n",
              "    <tr>\n",
              "      <th>46</th>\n",
              "      <td>0.316862</td>\n",
              "      <td>1.091134</td>\n",
              "    </tr>\n",
              "    <tr>\n",
              "      <th>47</th>\n",
              "      <td>0.877732</td>\n",
              "      <td>-0.507274</td>\n",
              "    </tr>\n",
              "    <tr>\n",
              "      <th>48</th>\n",
              "      <td>0.818136</td>\n",
              "      <td>-0.834980</td>\n",
              "    </tr>\n",
              "    <tr>\n",
              "      <th>49</th>\n",
              "      <td>0.419181</td>\n",
              "      <td>0.591646</td>\n",
              "    </tr>\n",
              "  </tbody>\n",
              "</table>\n",
              "</div>\n",
              "      <button class=\"colab-df-convert\" onclick=\"convertToInteractive('df-4088d767-6ff7-479c-b4e2-2ab4592ce2a9')\"\n",
              "              title=\"Convert this dataframe to an interactive table.\"\n",
              "              style=\"display:none;\">\n",
              "        \n",
              "  <svg xmlns=\"http://www.w3.org/2000/svg\" height=\"24px\"viewBox=\"0 0 24 24\"\n",
              "       width=\"24px\">\n",
              "    <path d=\"M0 0h24v24H0V0z\" fill=\"none\"/>\n",
              "    <path d=\"M18.56 5.44l.94 2.06.94-2.06 2.06-.94-2.06-.94-.94-2.06-.94 2.06-2.06.94zm-11 1L8.5 8.5l.94-2.06 2.06-.94-2.06-.94L8.5 2.5l-.94 2.06-2.06.94zm10 10l.94 2.06.94-2.06 2.06-.94-2.06-.94-.94-2.06-.94 2.06-2.06.94z\"/><path d=\"M17.41 7.96l-1.37-1.37c-.4-.4-.92-.59-1.43-.59-.52 0-1.04.2-1.43.59L10.3 9.45l-7.72 7.72c-.78.78-.78 2.05 0 2.83L4 21.41c.39.39.9.59 1.41.59.51 0 1.02-.2 1.41-.59l7.78-7.78 2.81-2.81c.8-.78.8-2.07 0-2.86zM5.41 20L4 18.59l7.72-7.72 1.47 1.35L5.41 20z\"/>\n",
              "  </svg>\n",
              "      </button>\n",
              "      \n",
              "  <style>\n",
              "    .colab-df-container {\n",
              "      display:flex;\n",
              "      flex-wrap:wrap;\n",
              "      gap: 12px;\n",
              "    }\n",
              "\n",
              "    .colab-df-convert {\n",
              "      background-color: #E8F0FE;\n",
              "      border: none;\n",
              "      border-radius: 50%;\n",
              "      cursor: pointer;\n",
              "      display: none;\n",
              "      fill: #1967D2;\n",
              "      height: 32px;\n",
              "      padding: 0 0 0 0;\n",
              "      width: 32px;\n",
              "    }\n",
              "\n",
              "    .colab-df-convert:hover {\n",
              "      background-color: #E2EBFA;\n",
              "      box-shadow: 0px 1px 2px rgba(60, 64, 67, 0.3), 0px 1px 3px 1px rgba(60, 64, 67, 0.15);\n",
              "      fill: #174EA6;\n",
              "    }\n",
              "\n",
              "    [theme=dark] .colab-df-convert {\n",
              "      background-color: #3B4455;\n",
              "      fill: #D2E3FC;\n",
              "    }\n",
              "\n",
              "    [theme=dark] .colab-df-convert:hover {\n",
              "      background-color: #434B5C;\n",
              "      box-shadow: 0px 1px 3px 1px rgba(0, 0, 0, 0.15);\n",
              "      filter: drop-shadow(0px 1px 2px rgba(0, 0, 0, 0.3));\n",
              "      fill: #FFFFFF;\n",
              "    }\n",
              "  </style>\n",
              "\n",
              "      <script>\n",
              "        const buttonEl =\n",
              "          document.querySelector('#df-4088d767-6ff7-479c-b4e2-2ab4592ce2a9 button.colab-df-convert');\n",
              "        buttonEl.style.display =\n",
              "          google.colab.kernel.accessAllowed ? 'block' : 'none';\n",
              "\n",
              "        async function convertToInteractive(key) {\n",
              "          const element = document.querySelector('#df-4088d767-6ff7-479c-b4e2-2ab4592ce2a9');\n",
              "          const dataTable =\n",
              "            await google.colab.kernel.invokeFunction('convertToInteractive',\n",
              "                                                     [key], {});\n",
              "          if (!dataTable) return;\n",
              "\n",
              "          const docLinkHtml = 'Like what you see? Visit the ' +\n",
              "            '<a target=\"_blank\" href=https://colab.research.google.com/notebooks/data_table.ipynb>data table notebook</a>'\n",
              "            + ' to learn more about interactive tables.';\n",
              "          element.innerHTML = '';\n",
              "          dataTable['output_type'] = 'display_data';\n",
              "          await google.colab.output.renderOutput(dataTable, element);\n",
              "          const docLink = document.createElement('div');\n",
              "          docLink.innerHTML = docLinkHtml;\n",
              "          element.appendChild(docLink);\n",
              "        }\n",
              "      </script>\n",
              "    </div>\n",
              "  </div>\n",
              "  "
            ]
          },
          "metadata": {},
          "execution_count": 5
        }
      ],
      "source": [
        "X_test = np.random.uniform(0,1,50)\n",
        "Y_test = []\n",
        "\n",
        "for i in X_test:\n",
        "    Yi = math.sin(2 *math.pi*i) + np.random.uniform(0,0.25) \n",
        "    Y_test.append(Yi)\n",
        "\n",
        "# For better understanding, let's convert X and Y testing dataset into a dataframe\n",
        "df_test = pd.DataFrame(data=(X_test,Y_test),index=['X_test','Y_test'])\n",
        "df_test = df_test.T\n",
        "df_test"
      ]
    },
    {
      "cell_type": "markdown",
      "id": "3214fd8c",
      "metadata": {
        "id": "3214fd8c"
      },
      "source": [
        "## D. Estimate the Regularized Least Squared Polynomial Regression model of order M= 1, 2, 3, 9 using the training set T.\n",
        "\n",
        "\n",
        "## Example\n",
        "## 1. For M=1 , we need to estimate F(x) = $β_{1}$x +  $β_{0}$\n",
        "## 2. For M = 2,  F(x) =  $β_{2}$ $x^{2}$ +  $β_{1}$x +  $β_{0}$"
      ]
    },
    {
      "cell_type": "markdown",
      "source": [
        "### In the previous assignment, we observed that, as our value of the coefficients increases, this results in the problem  of overfitting. Overfitting occurs when the trained model performs well on the training data and performs poorly on the testing dataset. This can be taken care of by following steps :\n",
        "\n",
        "### 1. By increasing the training dataset to better train our model.\n",
        "### 2. Regularization methods that will apply a penalizing term (reducing the weights and biases) to overcome overfitting.\n",
        "\n",
        "\n",
        "### Let's see how our graph looks like without \"Regularization\"..."
      ],
      "metadata": {
        "id": "X9u7Ip2PZfax"
      },
      "id": "X9u7Ip2PZfax"
    },
    {
      "cell_type": "code",
      "source": [
        "# Find LSPR for M = 1, 2, 3, 9\n",
        "\n",
        "# Least Square Polynomial Regression\n",
        "def LSPR(x_dataset, y_dataset, degree):\n",
        "  no_of_rows = len(x_dataset)\n",
        "  no_of_cols = degree+1\n",
        "\n",
        "  # finding the X matrix\n",
        "\n",
        "  # initialize X matrix with 0 initially\n",
        "  X = np.zeros((no_of_rows, no_of_cols))\n",
        "  for xi in range (no_of_rows):\n",
        "    for deg in range (no_of_cols):\n",
        "      X[xi][deg] += math.pow(x_dataset[xi], deg)\n",
        "  \n",
        "  # calculating ((X^T . X)^(−1)) . X^T . Y\n",
        "  X_Trans_X_Inv = np.matrix((np.dot(X.T, X))).I\n",
        "  temp = np.matrix(np.dot(X_Trans_X_Inv, X.T))\n",
        "  return np.dot(temp, y_dataset.values)\n",
        "\n",
        "LSP_ord_1 = np.array(LSPR(df_train['X_train'], df_train['Y_train'], 1))\n",
        "LSP_ord_2 = np.array(LSPR(df_train['X_train'], df_train['Y_train'], 2))\n",
        "LSP_ord_3 = np.array(LSPR(df_train['X_train'], df_train['Y_train'], 3))\n",
        "LSP_ord_9 = np.array(LSPR(df_train['X_train'], df_train['Y_train'], 9))"
      ],
      "metadata": {
        "id": "6qK1gTj4Zyn6"
      },
      "id": "6qK1gTj4Zyn6",
      "execution_count": 6,
      "outputs": []
    },
    {
      "cell_type": "code",
      "source": [
        "# Find the predicted values for M = 1, 2, 3, 9\n",
        "\n",
        "# Get the 'x' test data as an array to pass on to polynomial function\n",
        "X = np.array(df_test['X_test'])\n",
        "y_predicted_m1 = []\n",
        "y_predicted_m2 = []\n",
        "y_predicted_m3 = []\n",
        "y_predicted_m9 = []\n",
        "\n",
        "# M = 1\n",
        "for val in X:\n",
        "  y_val = 0\n",
        "  for deg in range(1, -1, -1):\n",
        "    y_val += LSP_ord_1[0][deg] * math.pow(val, deg)\n",
        "  y_predicted_m1.append(y_val)\n",
        "\n",
        "df_predicted_m1 = pd.DataFrame(data=(X, y_predicted_m1),index=['X', 'Y_predicted']).T\n",
        "\n",
        "# M = 2\n",
        "for val in X:\n",
        "  y_val = 0\n",
        "  for deg in range(2, -1, -1):\n",
        "    y_val += LSP_ord_2[0][deg] * math.pow(val, deg)\n",
        "  y_predicted_m2.append(y_val)\n",
        "\n",
        "df_predicted_m2 = pd.DataFrame(data=(X, y_predicted_m2),index=['X', 'Y_predicted']).T\n",
        "\n",
        "# M = 3\n",
        "for val in X:\n",
        "  y_val = 0\n",
        "  for deg in range(3, -1, -1):\n",
        "    y_val += LSP_ord_3[0][deg] * math.pow(val, deg)\n",
        "  y_predicted_m3.append(y_val)\n",
        "\n",
        "df_predicted_m3 = pd.DataFrame(data=(X, y_predicted_m3),index=['X', 'Y_predicted']).T\n",
        "\n",
        "# M = 9\n",
        "for val in X:\n",
        "  y_val = 0\n",
        "  for deg in range(9, -1, -1):\n",
        "    y_val += LSP_ord_9[0][deg] * math.pow(val, deg)\n",
        "  y_predicted_m9.append(y_val)\n",
        "\n",
        "df_predicted_m9 = pd.DataFrame(data=(X, y_predicted_m9),index=['X', 'Y_predicted']).T"
      ],
      "metadata": {
        "id": "etwIKkSMZ5_q"
      },
      "id": "etwIKkSMZ5_q",
      "execution_count": 7,
      "outputs": []
    },
    {
      "cell_type": "code",
      "source": [
        "# Plotting all the points to compare the regression graph\n",
        "\n",
        "fig, axes = plt.subplots(1, 2, figsize=(18, 10))\n",
        "\n",
        "df_train_sort = df_train.sort_values(by=['X_train'])\n",
        "df_pred_sort_m1 = df_predicted_m1.sort_values(by=['X'])\n",
        "df_pred_sort_m2 = df_predicted_m2.sort_values(by=['X'])\n",
        "df_pred_sort_m3 = df_predicted_m3.sort_values(by=['X'])\n",
        "df_pred_sort_m9 = df_predicted_m9.sort_values(by=['X'])\n",
        "\n",
        "axes[0].plot(df_train_sort['X_train'], df_train_sort['Y_train'], color='red')\n",
        "axes[0].scatter(df_test['X_test'], df_test['Y_test'], color='blue')\n",
        "axes[0].legend(['Training data', 'Test data'])\n",
        "axes[0].set_title('Polynomial Regression for Training Set')\n",
        "\n",
        "axes[1].scatter(df_train['X_train'], df_train['Y_train'], color='blue')\n",
        "axes[1].plot(df_pred_sort_m1['X'], df_pred_sort_m1['Y_predicted'], color='red')\n",
        "axes[1].plot(df_pred_sort_m2['X'], df_pred_sort_m2['Y_predicted'], color='orange')\n",
        "axes[1].plot(df_pred_sort_m3['X'], df_pred_sort_m3['Y_predicted'], color='magenta')\n",
        "axes[1].plot(df_pred_sort_m9['X'], df_pred_sort_m9['Y_predicted'], color='green')\n",
        "axes[1].legend(['M=1 predicted values', 'M=2 predicted values', 'M=3 predicted values', 'M=9 predicted values', 'Training Data'])\n",
        "axes[1].set_title('Polynomial Regression for Testing Set')"
      ],
      "metadata": {
        "colab": {
          "base_uri": "https://localhost:8080/",
          "height": 625
        },
        "id": "UoWz3JeqaVIc",
        "outputId": "badf55e9-2bc4-4f72-a4f6-d6d07311dd97"
      },
      "id": "UoWz3JeqaVIc",
      "execution_count": 8,
      "outputs": [
        {
          "output_type": "execute_result",
          "data": {
            "text/plain": [
              "Text(0.5, 1.0, 'Polynomial Regression for Testing Set')"
            ]
          },
          "metadata": {},
          "execution_count": 8
        },
        {
          "output_type": "display_data",
          "data": {
            "text/plain": [
              "<Figure size 1296x720 with 2 Axes>"
            ],
            "image/png": "[encoded data removed]"
          },
          "metadata": {
            "needs_background": "light"
          }
        }
      ]
    },
    {
      "cell_type": "markdown",
      "source": [
        "## On comparing the values of coefficients $β_{1}$, $β_{2}$, $β_{2}$ ... for increasing order of M, we notice that the value of coefficients increases significantly on going from order 3 to order 9."
      ],
      "metadata": {
        "id": "ocbengLwXBJ2"
      },
      "id": "ocbengLwXBJ2"
    },
    {
      "cell_type": "code",
      "source": [
        "print(f'The coefficiet for M=1: {LSP_ord_1}\\n')\n",
        "print(f'The coefficiet for M=2: {LSP_ord_2}\\n')\n",
        "print(f'The coefficiet for M=3: {LSP_ord_3}\\n')\n",
        "print(f'The coefficiet for M=9: {LSP_ord_9}\\n')"
      ],
      "metadata": {
        "colab": {
          "base_uri": "https://localhost:8080/"
        },
        "id": "AanN6ziFXH6P",
        "outputId": "cee8672a-dfa1-46ed-d0ec-4470e5122cd4"
      },
      "id": "AanN6ziFXH6P",
      "execution_count": 9,
      "outputs": [
        {
          "output_type": "stream",
          "name": "stdout",
          "text": [
            "The coefficiet for M=1: [[ 0.9585397 -1.3821885]]\n",
            "\n",
            "The coefficiet for M=2: [[ 0.72762533  0.45994952 -1.7956258 ]]\n",
            "\n",
            "The coefficiet for M=3: [[  0.12591205  10.36939541 -30.72868516  20.51216185]]\n",
            "\n",
            "The coefficiet for M=9: [[ 3.09846844e-01 -9.12835011e+00  2.64315671e+02 -1.84288951e+03\n",
            "   6.32735032e+03 -1.27522216e+04  1.57637431e+04 -1.17886438e+04\n",
            "   4.93696122e+03 -8.99979496e+02]]\n",
            "\n"
          ]
        }
      ]
    },
    {
      "cell_type": "markdown",
      "source": [
        "## We can avoid overfitting by using so-called ''regularization''. How does it work? Usually, a function is prone to be overfitting when its coefficients (weighting values) has big value and not well distributed. Thus, we will force our training process to make those coefficients small by adding a term in our cost function. This process also makes those coefficients more well distributed. Here is our new cost function. (Questions E, F, G, H answered collectively for given value of M=1, 2, 3, 9)\n",
        "\n",
        "![image.png](data:image/png;base64,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)"
      ],
      "metadata": {
        "id": "Iee4hc3rYr5C"
      },
      "id": "Iee4hc3rYr5C"
    },
    {
      "cell_type": "markdown",
      "source": [
        "On solving, we get a = [$a_{0}$, $a_{1}$, $a_{2}$, ... , $a_{n}$] as\n",
        "\n",
        "$({X^{T}} X+λ.I )^{-1}$ . $X^{T}$.y"
      ],
      "metadata": {
        "id": "B1itAPFFpA6m"
      },
      "id": "B1itAPFFpA6m"
    },
    {
      "cell_type": "code",
      "source": [
        "# Least Square Polynomial Regression\n",
        "def regularized_LSPR(x_dataset, y_dataset, degree, Lambda):\n",
        "  no_of_rows = len(x_dataset)\n",
        "  no_of_cols = degree+1\n",
        "\n",
        "  # finding the X matrix\n",
        "\n",
        "  # initialize X matrix with 0 initially\n",
        "  X = np.zeros((no_of_rows, no_of_cols))\n",
        "  lam_I = np.identity(degree+1)*Lambda\n",
        "  for xi in range (no_of_rows):\n",
        "    for deg in range (no_of_cols):\n",
        "      X[xi][deg] += math.pow(x_dataset[xi], deg)\n",
        "  \n",
        "  # calculating ((X^T . X)^(−1)) . X^T . Y\n",
        "  X_Trans_X = np.matrix((np.dot(X.T, X)))\n",
        "  X_Trans_X = np.add(X_Trans_X, lam_I)\n",
        "  X_Trans_X_Inv = X_Trans_X.I\n",
        "  temp = np.matrix(np.dot(X_Trans_X_Inv, X.T))\n",
        "  return np.dot(temp, y_dataset.values)"
      ],
      "metadata": {
        "id": "U781xhI2o10J"
      },
      "id": "U781xhI2o10J",
      "execution_count": 10,
      "outputs": []
    },
    {
      "cell_type": "markdown",
      "source": [
        "### For order m=1"
      ],
      "metadata": {
        "id": "xe1GcxAtgIxE"
      },
      "id": "xe1GcxAtgIxE"
    },
    {
      "cell_type": "markdown",
      "source": [
        "#### List the value of coefficients of estimated regularized least squared polynomial regression models for each case."
      ],
      "metadata": {
        "id": "6i1vaHeSsh7W"
      },
      "id": "6i1vaHeSsh7W"
    },
    {
      "cell_type": "code",
      "source": [
        "reg_LSP_ord_1_0 = np.array(regularized_LSPR(df_train['X_train'], df_train['Y_train'], 1, 0))\n",
        "reg_LSP_ord_1_1 = np.array(regularized_LSPR(df_train['X_train'], df_train['Y_train'], 1, 1))\n",
        "reg_LSP_ord_1_5 = np.array(regularized_LSPR(df_train['X_train'], df_train['Y_train'], 1, 5))\n",
        "reg_LSP_ord_1_10 = np.array(regularized_LSPR(df_train['X_train'], df_train['Y_train'], 1, 10))\n",
        "\n",
        "print(f'coefficient value with regularization and λ = 0: {reg_LSP_ord_1_0}')\n",
        "print(f'coefficient value with regularization and λ = 1: {reg_LSP_ord_1_1}')\n",
        "print(f'coefficient value with regularization and λ = 5: {reg_LSP_ord_1_5}')\n",
        "print(f'coefficient value with regularization and λ = 10: {reg_LSP_ord_1_10}')"
      ],
      "metadata": {
        "colab": {
          "base_uri": "https://localhost:8080/"
        },
        "id": "MyewsyjAsq09",
        "outputId": "d97476a9-802e-4da4-e8bc-e4bf6dd013bd"
      },
      "id": "MyewsyjAsq09",
      "execution_count": 11,
      "outputs": [
        {
          "output_type": "stream",
          "name": "stdout",
          "text": [
            "coefficient value with regularization and λ = 0: [[ 0.9585397 -1.3821885]]\n",
            "coefficient value with regularization and λ = 1: [[ 0.68884511 -0.91363662]]\n",
            "coefficient value with regularization and λ = 5: [[ 0.35871684 -0.36613579]]\n",
            "coefficient value with regularization and λ = 10: [[ 0.24229897 -0.19694573]]\n"
          ]
        }
      ]
    },
    {
      "cell_type": "markdown",
      "source": [
        "#### Obtain the prediction on testing set for regularized least squared polynomial regression models for order M =1,2,3 and 9."
      ],
      "metadata": {
        "id": "M8giB4uw0Cqm"
      },
      "id": "M8giB4uw0Cqm"
    },
    {
      "cell_type": "code",
      "source": [
        "y_predicted_m1_0, y_predicted_m1_1, y_predicted_m1_5, y_predicted_m1_10 = [], [], [] ,[]\n",
        "\n",
        "for val in X:\n",
        "  y_val = 0\n",
        "  for deg in range(1, -1, -1):\n",
        "    y_val += reg_LSP_ord_1_0[0][deg] * math.pow(val, deg)\n",
        "  y_predicted_m1_0.append(y_val)\n",
        "\n",
        "for val in X:\n",
        "  y_val = 0\n",
        "  for deg in range(1, -1, -1):\n",
        "    y_val += reg_LSP_ord_1_1[0][deg] * math.pow(val, deg)\n",
        "  y_predicted_m1_1.append(y_val)\n",
        "\n",
        "for val in X:\n",
        "  y_val = 0\n",
        "  for deg in range(1, -1, -1):\n",
        "    y_val += reg_LSP_ord_1_5[0][deg] * math.pow(val, deg)\n",
        "  y_predicted_m1_5.append(y_val)\n",
        "\n",
        "for val in X:\n",
        "  y_val = 0\n",
        "  for deg in range(1, -1, -1):\n",
        "    y_val += reg_LSP_ord_1_10[0][deg] * math.pow(val, deg)\n",
        "  y_predicted_m1_10.append(y_val)\n",
        "\n",
        "df_predicted_m1_0 = pd.DataFrame(data=(X, y_predicted_m1_0),index=['X', 'Y_predicted']).T\n",
        "df_predicted_m1_1 = pd.DataFrame(data=(X, y_predicted_m1_1),index=['X', 'Y_predicted']).T\n",
        "df_predicted_m1_5 = pd.DataFrame(data=(X, y_predicted_m1_5),index=['X', 'Y_predicted']).T\n",
        "df_predicted_m1_10 = pd.DataFrame(data=(X, y_predicted_m1_10),index=['X', 'Y_predicted']).T"
      ],
      "metadata": {
        "id": "DfBKgeKl0F8W"
      },
      "id": "DfBKgeKl0F8W",
      "execution_count": 12,
      "outputs": []
    },
    {
      "cell_type": "markdown",
      "source": [
        "#### Plot the estimate obtained by regularized least squared polynomial regression models for training set along with $y_{1}$, $y_{2}$, $y_{3}$, ..., $y_{20}$ AND for testing set along with $y'_{1}$, $y'_{2}$, $y'_{3}$, ..., $y'_{50}$"
      ],
      "metadata": {
        "id": "OUUTsl0L2Gyi"
      },
      "id": "OUUTsl0L2Gyi"
    },
    {
      "cell_type": "code",
      "source": [
        "# Plotting all the points to compare the regression graph\n",
        "\n",
        "fig, axes = plt.subplots(1, 2, figsize=(18, 10))\n",
        "\n",
        "df_train_sort = df_train.sort_values(by=['X_train'])\n",
        "df_pred_sort_m1_0 = df_predicted_m1_0.sort_values(by=['X'])\n",
        "df_pred_sort_m1_1 = df_predicted_m1_1.sort_values(by=['X'])\n",
        "df_pred_sort_m1_5 = df_predicted_m1_5.sort_values(by=['X'])\n",
        "df_pred_sort_m1_10 = df_predicted_m1_10.sort_values(by=['X'])\n",
        "\n",
        "axes[0].plot(df_train_sort['X_train'], df_train_sort['Y_train'], color='red')\n",
        "axes[0].scatter(df_test['X_test'], df_test['Y_test'], color='blue')\n",
        "axes[0].legend(['Training data', 'Test data'])\n",
        "axes[0].set_title('Polynomial Regression for Training Set')\n",
        "\n",
        "axes[1].scatter(df_train['X_train'], df_train['Y_train'], color='blue')\n",
        "axes[1].plot(df_pred_sort_m1_0['X'], df_pred_sort_m1_0['Y_predicted'], color='red')\n",
        "axes[1].plot(df_pred_sort_m1_1['X'], df_pred_sort_m1_1['Y_predicted'], color='orange')\n",
        "axes[1].plot(df_pred_sort_m1_5['X'], df_pred_sort_m1_5['Y_predicted'], color='magenta')\n",
        "axes[1].plot(df_pred_sort_m1_10['X'], df_pred_sort_m1_10['Y_predicted'], color='green')\n",
        "axes[1].legend(['λ=0 predicted values', 'λ=1 predicted values', 'λ=5 predicted values', 'λ=10 predicted values', 'Training Data'])\n",
        "axes[1].set_title('Polynomial Regression for Testing Set')"
      ],
      "metadata": {
        "colab": {
          "base_uri": "https://localhost:8080/",
          "height": 0
        },
        "id": "Cii74wWP2a7i",
        "outputId": "683bd35a-458f-4e49-ca12-f2c96fc6a6aa"
      },
      "id": "Cii74wWP2a7i",
      "execution_count": 13,
      "outputs": [
        {
          "output_type": "execute_result",
          "data": {
            "text/plain": [
              "Text(0.5, 1.0, 'Polynomial Regression for Testing Set')"
            ]
          },
          "metadata": {},
          "execution_count": 13
        },
        {
          "output_type": "display_data",
          "data": {
            "text/plain": [
              "<Figure size 1296x720 with 2 Axes>"
            ],
            "image/png": "[encoded data removed]"
          },
          "metadata": {
            "needs_background": "light"
          }
        }
      ]
    },
    {
      "cell_type": "markdown",
      "source": [
        "#### Study the effect of regularization parameter λ on testing RMSE and flexibility of curve"
      ],
      "metadata": {
        "id": "P-m2Fq_l5kRu"
      },
      "id": "P-m2Fq_l5kRu"
    },
    {
      "cell_type": "markdown",
      "source": [
        "##### λ = 0"
      ],
      "metadata": {
        "id": "Zt0AxZi0s5oE"
      },
      "id": "Zt0AxZi0s5oE"
    },
    {
      "cell_type": "code",
      "execution_count": 14,
      "id": "8cf44dc8",
      "metadata": {
        "colab": {
          "base_uri": "https://localhost:8080/"
        },
        "id": "8cf44dc8",
        "outputId": "c43617fc-26b0-4411-e34c-219c71b9da1b"
      },
      "outputs": [
        {
          "output_type": "execute_result",
          "data": {
            "text/plain": [
              "0.4785932851704155"
            ]
          },
          "metadata": {},
          "execution_count": 14
        }
      ],
      "source": [
        "y_vs_y_hat_m1 = pd.DataFrame(data=(np.array(df_predicted_m1_0['Y_predicted']), Y_test),index=['y predicted m1 λ0','Y_train']).T\n",
        "y_vs_y_hat_m1['sum of square error'] = (y_vs_y_hat_m1['y predicted m1 λ0'] - y_vs_y_hat_m1['Y_train'])**2\n",
        "\n",
        "rmse_m1_λ0 = 0\n",
        "\n",
        "rmse_m1_λ0 = y_vs_y_hat_m1['sum of square error'].sum() / len(y_vs_y_hat_m1)\n",
        "rmse_m1_λ0 = math.sqrt(rmse_m1_λ0)\n",
        "rmse_m1_λ0"
      ]
    },
    {
      "cell_type": "markdown",
      "source": [
        "##### λ = 1"
      ],
      "metadata": {
        "id": "CwdnL3A5vthF"
      },
      "id": "CwdnL3A5vthF"
    },
    {
      "cell_type": "code",
      "execution_count": 15,
      "metadata": {
        "colab": {
          "base_uri": "https://localhost:8080/"
        },
        "outputId": "d0fe1a2b-35d6-4e49-8dcc-42cb03a4a8b0",
        "id": "3wGZ4IS9vthG"
      },
      "outputs": [
        {
          "output_type": "execute_result",
          "data": {
            "text/plain": [
              "0.5417004877979047"
            ]
          },
          "metadata": {},
          "execution_count": 15
        }
      ],
      "source": [
        "y_vs_y_hat_m1 = pd.DataFrame(data=(np.array(df_predicted_m1_1['Y_predicted']), Y_test),index=['y predicted m1 λ1','Y_train']).T\n",
        "y_vs_y_hat_m1['sum of square error'] = (y_vs_y_hat_m1['y predicted m1 λ1'] - y_vs_y_hat_m1['Y_train'])**2\n",
        "\n",
        "rmse_m1_λ1 = 0\n",
        "\n",
        "rmse_m1_λ1 = y_vs_y_hat_m1['sum of square error'].sum() / len(y_vs_y_hat_m1)\n",
        "rmse_m1_λ1 = math.sqrt(rmse_m1_λ1)\n",
        "rmse_m1_λ1"
      ],
      "id": "3wGZ4IS9vthG"
    },
    {
      "cell_type": "markdown",
      "source": [
        "##### λ = 5"
      ],
      "metadata": {
        "id": "qolac4_XvwDT"
      },
      "id": "qolac4_XvwDT"
    },
    {
      "cell_type": "code",
      "execution_count": 16,
      "metadata": {
        "colab": {
          "base_uri": "https://localhost:8080/"
        },
        "outputId": "1ff82e05-f715-44ea-e9a2-3a5e22384da7",
        "id": "QBWQvs-KvwDU"
      },
      "outputs": [
        {
          "output_type": "execute_result",
          "data": {
            "text/plain": [
              "0.6389435597761564"
            ]
          },
          "metadata": {},
          "execution_count": 16
        }
      ],
      "source": [
        "y_vs_y_hat_m1 = pd.DataFrame(data=(np.array(df_predicted_m1_5['Y_predicted']), Y_test),index=['y predicted m1 λ5','Y_train']).T\n",
        "y_vs_y_hat_m1['sum of square error'] = (y_vs_y_hat_m1['y predicted m1 λ5'] - y_vs_y_hat_m1['Y_train'])**2\n",
        "\n",
        "rmse_m1_λ5 = 0\n",
        "\n",
        "rmse_m1_λ5 = y_vs_y_hat_m1['sum of square error'].sum() / len(y_vs_y_hat_m1)\n",
        "rmse_m1_λ5 = math.sqrt(rmse_m1_λ5)\n",
        "rmse_m1_λ5"
      ],
      "id": "QBWQvs-KvwDU"
    },
    {
      "cell_type": "markdown",
      "source": [
        "##### λ = 10"
      ],
      "metadata": {
        "id": "J_T_rM8-vyMH"
      },
      "id": "J_T_rM8-vyMH"
    },
    {
      "cell_type": "code",
      "execution_count": 17,
      "metadata": {
        "colab": {
          "base_uri": "https://localhost:8080/"
        },
        "outputId": "02799a25-1e4f-4a7e-9f15-8d32884a78ce",
        "id": "CyDV5edovyMI"
      },
      "outputs": [
        {
          "output_type": "execute_result",
          "data": {
            "text/plain": [
              "0.6719783346755407"
            ]
          },
          "metadata": {},
          "execution_count": 17
        }
      ],
      "source": [
        "y_vs_y_hat_m1 = pd.DataFrame(data=(np.array(df_predicted_m1_10['Y_predicted']), Y_test),index=['y predicted m1 λ10','Y_train']).T\n",
        "y_vs_y_hat_m1['sum of square error'] = (y_vs_y_hat_m1['y predicted m1 λ10'] - y_vs_y_hat_m1['Y_train'])**2\n",
        "\n",
        "rmse_m1_λ10 = 0\n",
        "\n",
        "rmse_m1_λ10 = y_vs_y_hat_m1['sum of square error'].sum() / len(y_vs_y_hat_m1)\n",
        "rmse_m1_λ10 = math.sqrt(rmse_m1_λ10)\n",
        "rmse_m1_λ10"
      ],
      "id": "CyDV5edovyMI"
    },
    {
      "cell_type": "markdown",
      "source": [
        "### For order m=2"
      ],
      "metadata": {
        "id": "vjdHGgwajGE6"
      },
      "id": "vjdHGgwajGE6"
    },
    {
      "cell_type": "markdown",
      "source": [
        "#### List the value of coefficients of estimated regularized least squared polynomial regression models for each case."
      ],
      "metadata": {
        "id": "hJheNmc_tFDI"
      },
      "id": "hJheNmc_tFDI"
    },
    {
      "cell_type": "code",
      "source": [
        "reg_LSP_ord_2_0 = np.array(regularized_LSPR(df_train['X_train'], df_train['Y_train'], 2, 0))\n",
        "reg_LSP_ord_2_1 = np.array(regularized_LSPR(df_train['X_train'], df_train['Y_train'], 2, 1))\n",
        "reg_LSP_ord_2_5 = np.array(regularized_LSPR(df_train['X_train'], df_train['Y_train'], 2, 5))\n",
        "reg_LSP_ord_2_10 = np.array(regularized_LSPR(df_train['X_train'], df_train['Y_train'], 2, 10))\n",
        "\n",
        "print(f'coefficient value with regularization and λ = 0: {reg_LSP_ord_2_0}')\n",
        "print(f'coefficient value with regularization and λ = 1: {reg_LSP_ord_2_1}')\n",
        "print(f'coefficient value with regularization and λ = 5: {reg_LSP_ord_2_5}')\n",
        "print(f'coefficient value with regularization and λ = 10: {reg_LSP_ord_2_10}')"
      ],
      "metadata": {
        "outputId": "e4029329-7139-419b-ba77-a95c562dc0ec",
        "colab": {
          "base_uri": "https://localhost:8080/"
        },
        "id": "h_m0fhT3tFDJ"
      },
      "execution_count": 18,
      "outputs": [
        {
          "output_type": "stream",
          "name": "stdout",
          "text": [
            "coefficient value with regularization and λ = 0: [[ 0.72762533  0.45994952 -1.7956258 ]]\n",
            "coefficient value with regularization and λ = 1: [[ 0.69528017 -0.42647255 -0.6503488 ]]\n",
            "coefficient value with regularization and λ = 5: [[ 0.40606043 -0.23433781 -0.3243364 ]]\n",
            "coefficient value with regularization and λ = 10: [[ 0.27454045 -0.14127085 -0.19745782]]\n"
          ]
        }
      ],
      "id": "h_m0fhT3tFDJ"
    },
    {
      "cell_type": "markdown",
      "source": [
        "#### Obtain the prediction on testing set for regularized least squared\n",
        "polynomial regression models for order M =1,2,3 and 9."
      ],
      "metadata": {
        "id": "EDVv7Hcm1Hhp"
      },
      "id": "EDVv7Hcm1Hhp"
    },
    {
      "cell_type": "code",
      "source": [
        "y_predicted_m2_0, y_predicted_m2_1, y_predicted_m2_5, y_predicted_m2_10 = [], [], [] ,[]\n",
        "\n",
        "for val in X:\n",
        "  y_val = 0\n",
        "  for deg in range(2, -1, -1):\n",
        "    y_val += reg_LSP_ord_2_0[0][deg] * math.pow(val, deg)\n",
        "  y_predicted_m2_0.append(y_val)\n",
        "\n",
        "for val in X:\n",
        "  y_val = 0\n",
        "  for deg in range(2, -1, -1):\n",
        "    y_val += reg_LSP_ord_2_1[0][deg] * math.pow(val, deg)\n",
        "  y_predicted_m2_1.append(y_val)\n",
        "\n",
        "for val in X:\n",
        "  y_val = 0\n",
        "  for deg in range(2, -1, -1):\n",
        "    y_val += reg_LSP_ord_2_5[0][deg] * math.pow(val, deg)\n",
        "  y_predicted_m2_5.append(y_val)\n",
        "\n",
        "for val in X:\n",
        "  y_val = 0\n",
        "  for deg in range(2, -1, -1):\n",
        "    y_val += reg_LSP_ord_2_10[0][deg] * math.pow(val, deg)\n",
        "  y_predicted_m2_10.append(y_val)\n",
        "\n",
        "df_predicted_m2_0 = pd.DataFrame(data=(X, y_predicted_m2_0),index=['X', 'Y_predicted']).T\n",
        "df_predicted_m2_1 = pd.DataFrame(data=(X, y_predicted_m2_1),index=['X', 'Y_predicted']).T\n",
        "df_predicted_m2_5 = pd.DataFrame(data=(X, y_predicted_m2_5),index=['X', 'Y_predicted']).T\n",
        "df_predicted_m2_10 = pd.DataFrame(data=(X, y_predicted_m2_10),index=['X', 'Y_predicted']).T"
      ],
      "metadata": {
        "id": "PC5U-US91Hhp"
      },
      "execution_count": 19,
      "outputs": [],
      "id": "PC5U-US91Hhp"
    },
    {
      "cell_type": "markdown",
      "source": [
        "#### Plot the estimate obtained by regularized least squared polynomial regression models for training set along with $y_{1}$, $y_{2}$, $y_{3}$, ..., $y_{20}$ AND for testing set along with $y'_{1}$, $y'_{2}$, $y'_{3}$, ..., $y'_{50}$"
      ],
      "metadata": {
        "id": "liPXHluq2-17"
      },
      "id": "liPXHluq2-17"
    },
    {
      "cell_type": "code",
      "source": [
        "# Plotting all the points to compare the regression graph\n",
        "\n",
        "fig, axes = plt.subplots(1, 2, figsize=(18, 10))\n",
        "\n",
        "df_train_sort = df_train.sort_values(by=['X_train'])\n",
        "df_pred_sort_m2_0 = df_predicted_m2_0.sort_values(by=['X'])\n",
        "df_pred_sort_m2_1 = df_predicted_m2_1.sort_values(by=['X'])\n",
        "df_pred_sort_m2_5 = df_predicted_m2_5.sort_values(by=['X'])\n",
        "df_pred_sort_m2_10 = df_predicted_m2_10.sort_values(by=['X'])\n",
        "\n",
        "axes[0].plot(df_train_sort['X_train'], df_train_sort['Y_train'], color='red')\n",
        "axes[0].scatter(df_test['X_test'], df_test['Y_test'], color='blue')\n",
        "axes[0].legend(['Training data', 'Test data'])\n",
        "axes[0].set_title('Polynomial Regression for Training Set')\n",
        "\n",
        "axes[1].scatter(df_train['X_train'], df_train['Y_train'], color='blue')\n",
        "axes[1].plot(df_pred_sort_m2_0['X'], df_pred_sort_m2_0['Y_predicted'], color='red')\n",
        "axes[1].plot(df_pred_sort_m2_1['X'], df_pred_sort_m2_1['Y_predicted'], color='orange')\n",
        "axes[1].plot(df_pred_sort_m2_5['X'], df_pred_sort_m2_5['Y_predicted'], color='magenta')\n",
        "axes[1].plot(df_pred_sort_m2_10['X'], df_pred_sort_m2_10['Y_predicted'], color='green')\n",
        "axes[1].legend(['λ=0 predicted values', 'λ=1 predicted values', 'λ=5 predicted values', 'λ=10 predicted values', 'Training Data'])\n",
        "axes[1].set_title('Polynomial Regression for Testing Set')"
      ],
      "metadata": {
        "outputId": "714bf84e-6152-47a0-ba84-b12286c75ef6",
        "colab": {
          "base_uri": "https://localhost:8080/",
          "height": 0
        },
        "id": "sic_Rqeo2-17"
      },
      "execution_count": 20,
      "outputs": [
        {
          "output_type": "execute_result",
          "data": {
            "text/plain": [
              "Text(0.5, 1.0, 'Polynomial Regression for Testing Set')"
            ]
          },
          "metadata": {},
          "execution_count": 20
        },
        {
          "output_type": "display_data",
          "data": {
            "text/plain": [
              "<Figure size 1296x720 with 2 Axes>"
            ],
            "image/png": "[encoded data removed]"
          },
          "metadata": {
            "needs_background": "light"
          }
        }
      ],
      "id": "sic_Rqeo2-17"
    },
    {
      "cell_type": "markdown",
      "source": [
        "#### Study the effect of regularization parameter λ on testing RMSE and flexibility of curve"
      ],
      "metadata": {
        "id": "Cf69IN7bwitE"
      },
      "id": "Cf69IN7bwitE"
    },
    {
      "cell_type": "markdown",
      "source": [
        "##### λ = 0"
      ],
      "metadata": {
        "id": "YjXn6YUFwitF"
      },
      "id": "YjXn6YUFwitF"
    },
    {
      "cell_type": "code",
      "execution_count": 21,
      "metadata": {
        "colab": {
          "base_uri": "https://localhost:8080/"
        },
        "outputId": "7bf79807-f156-4f73-dd5a-cbb13419d367",
        "id": "B1AaIlJ6witF"
      },
      "outputs": [
        {
          "output_type": "execute_result",
          "data": {
            "text/plain": [
              "0.5163084804077739"
            ]
          },
          "metadata": {},
          "execution_count": 21
        }
      ],
      "source": [
        "y_vs_y_hat_m2 = pd.DataFrame(data=(np.array(df_predicted_m2_0['Y_predicted']), Y_test),index=['y predicted m2 λ0','Y_train']).T\n",
        "y_vs_y_hat_m2['sum of square error'] = (y_vs_y_hat_m2['y predicted m2 λ0'] - y_vs_y_hat_m2['Y_train'])**2\n",
        "\n",
        "rmse_m2_λ0 = 0\n",
        "\n",
        "rmse_m2_λ0 = y_vs_y_hat_m2['sum of square error'].sum() / len(y_vs_y_hat_m2)\n",
        "rmse_m2_λ0 = math.sqrt(rmse_m2_λ0)\n",
        "rmse_m2_λ0"
      ],
      "id": "B1AaIlJ6witF"
    },
    {
      "cell_type": "markdown",
      "source": [
        "##### λ = 1"
      ],
      "metadata": {
        "id": "oa7v__l7witG"
      },
      "id": "oa7v__l7witG"
    },
    {
      "cell_type": "code",
      "execution_count": 22,
      "metadata": {
        "colab": {
          "base_uri": "https://localhost:8080/"
        },
        "outputId": "e3e462ff-bb79-4a00-91fe-f55890476c7b",
        "id": "D2RhXOtLwitG"
      },
      "outputs": [
        {
          "output_type": "execute_result",
          "data": {
            "text/plain": [
              "0.516553260049837"
            ]
          },
          "metadata": {},
          "execution_count": 22
        }
      ],
      "source": [
        "y_vs_y_hat_m2 = pd.DataFrame(data=(np.array(df_predicted_m2_1['Y_predicted']), Y_test),index=['y predicted m2 λ1','Y_train']).T\n",
        "y_vs_y_hat_m2['sum of square error'] = (y_vs_y_hat_m2['y predicted m2 λ1'] - y_vs_y_hat_m2['Y_train'])**2\n",
        "\n",
        "rmse_m2_λ1 = 0\n",
        "\n",
        "rmse_m2_λ1 = y_vs_y_hat_m2['sum of square error'].sum() / len(y_vs_y_hat_m2)\n",
        "rmse_m2_λ1 = math.sqrt(rmse_m2_λ1)\n",
        "rmse_m2_λ1"
      ],
      "id": "D2RhXOtLwitG"
    },
    {
      "cell_type": "markdown",
      "source": [
        "##### λ = 5"
      ],
      "metadata": {
        "id": "qe2ydKawwitG"
      },
      "id": "qe2ydKawwitG"
    },
    {
      "cell_type": "code",
      "execution_count": 23,
      "metadata": {
        "colab": {
          "base_uri": "https://localhost:8080/"
        },
        "outputId": "75eae5ac-4c57-4cd6-c275-ee327532147d",
        "id": "38A7gHbUwitG"
      },
      "outputs": [
        {
          "output_type": "execute_result",
          "data": {
            "text/plain": [
              "0.5961538945386802"
            ]
          },
          "metadata": {},
          "execution_count": 23
        }
      ],
      "source": [
        "y_vs_y_hat_m2 = pd.DataFrame(data=(np.array(df_predicted_m2_5['Y_predicted']), Y_test),index=['y predicted m2 λ5','Y_train']).T\n",
        "y_vs_y_hat_m2['sum of square error'] = (y_vs_y_hat_m2['y predicted m2 λ5'] - y_vs_y_hat_m2['Y_train'])**2\n",
        "\n",
        "rmse_m2_λ5 = 0\n",
        "\n",
        "rmse_m2_λ5 = y_vs_y_hat_m2['sum of square error'].sum() / len(y_vs_y_hat_m2)\n",
        "rmse_m2_λ5 = math.sqrt(rmse_m2_λ5)\n",
        "rmse_m2_λ5"
      ],
      "id": "38A7gHbUwitG"
    },
    {
      "cell_type": "markdown",
      "source": [
        "##### λ = 10"
      ],
      "metadata": {
        "id": "YX3pj87-witH"
      },
      "id": "YX3pj87-witH"
    },
    {
      "cell_type": "code",
      "execution_count": 24,
      "metadata": {
        "colab": {
          "base_uri": "https://localhost:8080/"
        },
        "outputId": "aa4b8f65-da1c-49b8-9382-11d0d0f6e80b",
        "id": "qw4jxC-TwitH"
      },
      "outputs": [
        {
          "output_type": "execute_result",
          "data": {
            "text/plain": [
              "0.7185460878800843"
            ]
          },
          "metadata": {},
          "execution_count": 24
        }
      ],
      "source": [
        "y_vs_y_hat_m2 = pd.DataFrame(data=(np.array(df_predicted_m2_10['Y_predicted']), Y_test),index=['y predicted m2 λ10','Y_train']).T\n",
        "y_vs_y_hat_m2['sum of square error'] = (y_vs_y_hat_m2['y predicted m2 λ10'] - y_vs_y_hat_m2['Y_train'])**2\n",
        "\n",
        "rmse_m2_λ10 = 0\n",
        "\n",
        "rmse_m2_λ10 = y_vs_y_hat_m2['sum of square error'].sum() / len(y_vs_y_hat_m2)\n",
        "rmse_m2_λ10 = math.sqrt(rmse_m2_λ0)\n",
        "rmse_m2_λ10"
      ],
      "id": "qw4jxC-TwitH"
    },
    {
      "cell_type": "markdown",
      "source": [
        "### For order m=3"
      ],
      "metadata": {
        "id": "llEQ9YJWkr3w"
      },
      "id": "llEQ9YJWkr3w"
    },
    {
      "cell_type": "markdown",
      "source": [
        "#### List the value of coefficients of estimated regularized least squared polynomial regression models for each case."
      ],
      "metadata": {
        "id": "J1enDxACtWqF"
      },
      "id": "J1enDxACtWqF"
    },
    {
      "cell_type": "code",
      "source": [
        "reg_LSP_ord_3_0 = np.array(regularized_LSPR(df_train['X_train'], df_train['Y_train'], 3, 0))\n",
        "reg_LSP_ord_3_1 = np.array(regularized_LSPR(df_train['X_train'], df_train['Y_train'], 3, 1))\n",
        "reg_LSP_ord_3_5 = np.array(regularized_LSPR(df_train['X_train'], df_train['Y_train'], 3, 5))\n",
        "reg_LSP_ord_3_10 = np.array(regularized_LSPR(df_train['X_train'], df_train['Y_train'], 3, 10))\n",
        "\n",
        "print(f'coefficient value with regularization and λ = 0: {reg_LSP_ord_3_0}')\n",
        "print(f'coefficient value with regularization and λ = 1: {reg_LSP_ord_3_1}')\n",
        "print(f'coefficient value with regularization and λ = 5: {reg_LSP_ord_3_5}')\n",
        "print(f'coefficient value with regularization and λ = 10: {reg_LSP_ord_3_10}')"
      ],
      "metadata": {
        "outputId": "a2226b6c-8ee1-48b2-8013-c1cee1dfdb24",
        "colab": {
          "base_uri": "https://localhost:8080/"
        },
        "id": "CHVv1VfitWqG"
      },
      "execution_count": 25,
      "outputs": [
        {
          "output_type": "stream",
          "name": "stdout",
          "text": [
            "coefficient value with regularization and λ = 0: [[  0.12591205  10.36939541 -30.72868516  20.51216185]]\n",
            "coefficient value with regularization and λ = 1: [[ 0.68665682 -0.29598857 -0.47756091 -0.37127829]]\n",
            "coefficient value with regularization and λ = 5: [[ 0.42375061 -0.1721112  -0.25695338 -0.23919913]]\n",
            "coefficient value with regularization and λ = 10: [[ 0.29055077 -0.10976771 -0.16514986 -0.15761938]]\n"
          ]
        }
      ],
      "id": "CHVv1VfitWqG"
    },
    {
      "cell_type": "markdown",
      "source": [
        "#### Obtain the prediction on testing set for regularized least squared\n",
        "polynomial regression models for order M =1,2,3 and 9."
      ],
      "metadata": {
        "id": "1H__e5gS1Yo7"
      },
      "id": "1H__e5gS1Yo7"
    },
    {
      "cell_type": "code",
      "source": [
        "y_predicted_m3_0, y_predicted_m3_1, y_predicted_m3_5, y_predicted_m3_10 = [], [], [] ,[]\n",
        "\n",
        "for val in X:\n",
        "  y_val = 0\n",
        "  for deg in range(3, -1, -1):\n",
        "    y_val += reg_LSP_ord_3_0[0][deg] * math.pow(val, deg)\n",
        "  y_predicted_m3_0.append(y_val)\n",
        "\n",
        "for val in X:\n",
        "  y_val = 0\n",
        "  for deg in range(3, -1, -1):\n",
        "    y_val += reg_LSP_ord_3_1[0][deg] * math.pow(val, deg)\n",
        "  y_predicted_m3_1.append(y_val)\n",
        "\n",
        "for val in X:\n",
        "  y_val = 0\n",
        "  for deg in range(3, -1, -1):\n",
        "    y_val += reg_LSP_ord_3_5[0][deg] * math.pow(val, deg)\n",
        "  y_predicted_m3_5.append(y_val)\n",
        "\n",
        "for val in X:\n",
        "  y_val = 0\n",
        "  for deg in range(3, -1, -1):\n",
        "    y_val += reg_LSP_ord_3_10[0][deg] * math.pow(val, deg)\n",
        "  y_predicted_m3_10.append(y_val)\n",
        "\n",
        "df_predicted_m3_0 = pd.DataFrame(data=(X, y_predicted_m3_0),index=['X', 'Y_predicted']).T\n",
        "df_predicted_m3_1 = pd.DataFrame(data=(X, y_predicted_m3_1),index=['X', 'Y_predicted']).T\n",
        "df_predicted_m3_5 = pd.DataFrame(data=(X, y_predicted_m3_5),index=['X', 'Y_predicted']).T\n",
        "df_predicted_m3_10 = pd.DataFrame(data=(X, y_predicted_m3_10),index=['X', 'Y_predicted']).T"
      ],
      "metadata": {
        "id": "ffmcDNuW1Yo7"
      },
      "execution_count": 26,
      "outputs": [],
      "id": "ffmcDNuW1Yo7"
    },
    {
      "cell_type": "markdown",
      "source": [
        "#### Plot the estimate obtained by regularized least squared polynomial regression models for training set along with $y_{1}$, $y_{2}$, $y_{3}$, ..., $y_{20}$ AND for testing set along with $y'_{1}$, $y'_{2}$, $y'_{3}$, ..., $y'_{50}$"
      ],
      "metadata": {
        "id": "DPOpCV-Q3kt8"
      },
      "id": "DPOpCV-Q3kt8"
    },
    {
      "cell_type": "code",
      "source": [
        "# Plotting all the points to compare the regression graph\n",
        "\n",
        "fig, axes = plt.subplots(1, 2, figsize=(18, 10))\n",
        "\n",
        "df_train_sort = df_train.sort_values(by=['X_train'])\n",
        "df_pred_sort_m3_0 = df_predicted_m3_0.sort_values(by=['X'])\n",
        "df_pred_sort_m3_1 = df_predicted_m3_1.sort_values(by=['X'])\n",
        "df_pred_sort_m3_5 = df_predicted_m3_5.sort_values(by=['X'])\n",
        "df_pred_sort_m3_10 = df_predicted_m3_10.sort_values(by=['X'])\n",
        "\n",
        "axes[0].plot(df_train_sort['X_train'], df_train_sort['Y_train'], color='red')\n",
        "axes[0].scatter(df_test['X_test'], df_test['Y_test'], color='blue')\n",
        "axes[0].legend(['Training data', 'Test data'])\n",
        "axes[0].set_title('Polynomial Regression for Training Set')\n",
        "\n",
        "axes[1].scatter(df_train['X_train'], df_train['Y_train'], color='blue')\n",
        "axes[1].plot(df_pred_sort_m3_0['X'], df_pred_sort_m3_0['Y_predicted'], color='red')\n",
        "axes[1].plot(df_pred_sort_m3_1['X'], df_pred_sort_m3_1['Y_predicted'], color='orange')\n",
        "axes[1].plot(df_pred_sort_m3_5['X'], df_pred_sort_m3_5['Y_predicted'], color='magenta')\n",
        "axes[1].plot(df_pred_sort_m3_10['X'], df_pred_sort_m3_10['Y_predicted'], color='green')\n",
        "axes[1].legend(['λ=0 predicted values', 'λ=1 predicted values', 'λ=5 predicted values', 'λ=10 predicted values', 'Training Data'])\n",
        "axes[1].set_title('Polynomial Regression for Testing Set')"
      ],
      "metadata": {
        "outputId": "9c0919bd-1d84-4e17-c87c-d943dc8821b8",
        "colab": {
          "base_uri": "https://localhost:8080/",
          "height": 0
        },
        "id": "CufbovoX3kt8"
      },
      "execution_count": 27,
      "outputs": [
        {
          "output_type": "execute_result",
          "data": {
            "text/plain": [
              "Text(0.5, 1.0, 'Polynomial Regression for Testing Set')"
            ]
          },
          "metadata": {},
          "execution_count": 27
        },
        {
          "output_type": "display_data",
          "data": {
            "text/plain": [
              "<Figure size 1296x720 with 2 Axes>"
            ],
            "image/png": "[encoded data removed]"
          },
          "metadata": {
            "needs_background": "light"
          }
        }
      ],
      "id": "CufbovoX3kt8"
    },
    {
      "cell_type": "markdown",
      "source": [
        "#### Study the effect of regularization parameter λ on testing RMSE and flexibility of curve"
      ],
      "metadata": {
        "id": "uEHOs7_qzGny"
      },
      "id": "uEHOs7_qzGny"
    },
    {
      "cell_type": "markdown",
      "source": [
        "##### λ = 0"
      ],
      "metadata": {
        "id": "bZZ2BbwqzGn5"
      },
      "id": "bZZ2BbwqzGn5"
    },
    {
      "cell_type": "code",
      "execution_count": 28,
      "metadata": {
        "colab": {
          "base_uri": "https://localhost:8080/"
        },
        "outputId": "1af9e656-4ec3-4f64-8630-2f881ac0244c",
        "id": "ia9rVcoLzGn5"
      },
      "outputs": [
        {
          "output_type": "execute_result",
          "data": {
            "text/plain": [
              "0.11382574564327845"
            ]
          },
          "metadata": {},
          "execution_count": 28
        }
      ],
      "source": [
        "y_vs_y_hat_m3 = pd.DataFrame(data=(np.array(df_predicted_m3_0['Y_predicted']), Y_test),index=['y predicted m3 λ0','Y_train']).T\n",
        "y_vs_y_hat_m3['sum of square error'] = (y_vs_y_hat_m3['y predicted m3 λ0'] - y_vs_y_hat_m3['Y_train'])**2\n",
        "\n",
        "rmse_m3_λ0 = 0\n",
        "\n",
        "rmse_m3_λ0 = y_vs_y_hat_m3['sum of square error'].sum() / len(y_vs_y_hat_m3)\n",
        "rmse_m3_λ0 = math.sqrt(rmse_m3_λ0)\n",
        "rmse_m3_λ0"
      ],
      "id": "ia9rVcoLzGn5"
    },
    {
      "cell_type": "markdown",
      "source": [
        "##### λ = 1"
      ],
      "metadata": {
        "id": "76bDLiCjzGn5"
      },
      "id": "76bDLiCjzGn5"
    },
    {
      "cell_type": "code",
      "execution_count": 29,
      "metadata": {
        "colab": {
          "base_uri": "https://localhost:8080/"
        },
        "outputId": "fc7bd1d9-eb0a-45ed-dd41-0d16634599c5",
        "id": "TOHGeZ9izGn5"
      },
      "outputs": [
        {
          "output_type": "execute_result",
          "data": {
            "text/plain": [
              "0.5222464003084243"
            ]
          },
          "metadata": {},
          "execution_count": 29
        }
      ],
      "source": [
        "y_vs_y_hat_m3 = pd.DataFrame(data=(np.array(df_predicted_m3_1['Y_predicted']), Y_test),index=['y predicted m3 λ1','Y_train']).T\n",
        "y_vs_y_hat_m3['sum of square error'] = (y_vs_y_hat_m3['y predicted m3 λ1'] - y_vs_y_hat_m3['Y_train'])**2\n",
        "\n",
        "rmse_m3_λ1 = 0\n",
        "\n",
        "rmse_m3_λ1 = y_vs_y_hat_m3['sum of square error'].sum() / len(y_vs_y_hat_m3)\n",
        "rmse_m3_λ1 = math.sqrt(rmse_m3_λ1)\n",
        "rmse_m3_λ1"
      ],
      "id": "TOHGeZ9izGn5"
    },
    {
      "cell_type": "markdown",
      "source": [
        "##### λ = 5"
      ],
      "metadata": {
        "id": "utP6J8g-zGn6"
      },
      "id": "utP6J8g-zGn6"
    },
    {
      "cell_type": "code",
      "execution_count": 30,
      "metadata": {
        "colab": {
          "base_uri": "https://localhost:8080/"
        },
        "outputId": "dbe39244-a03b-4a60-9f66-ae49a5984e68",
        "id": "snbRHcxszGn6"
      },
      "outputs": [
        {
          "output_type": "execute_result",
          "data": {
            "text/plain": [
              "0.5814177388097354"
            ]
          },
          "metadata": {},
          "execution_count": 30
        }
      ],
      "source": [
        "y_vs_y_hat_m3 = pd.DataFrame(data=(np.array(df_predicted_m3_5['Y_predicted']), Y_test),index=['y predicted m3 λ5','Y_train']).T\n",
        "y_vs_y_hat_m3['sum of square error'] = (y_vs_y_hat_m3['y predicted m3 λ5'] - y_vs_y_hat_m3['Y_train'])**2\n",
        "\n",
        "rmse_m3_λ5 = 0\n",
        "\n",
        "rmse_m3_λ5 = y_vs_y_hat_m3['sum of square error'].sum() / len(y_vs_y_hat_m3)\n",
        "rmse_m3_λ5 = math.sqrt(rmse_m3_λ5)\n",
        "rmse_m3_λ5"
      ],
      "id": "snbRHcxszGn6"
    },
    {
      "cell_type": "markdown",
      "source": [
        "##### λ = 10"
      ],
      "metadata": {
        "id": "i49BazCwzGn6"
      },
      "id": "i49BazCwzGn6"
    },
    {
      "cell_type": "code",
      "execution_count": 31,
      "metadata": {
        "colab": {
          "base_uri": "https://localhost:8080/"
        },
        "outputId": "6f96bf77-1843-434d-b715-f5b7f09e1a89",
        "id": "coJuZJBQzGn6"
      },
      "outputs": [
        {
          "output_type": "execute_result",
          "data": {
            "text/plain": [
              "0.6222769290580273"
            ]
          },
          "metadata": {},
          "execution_count": 31
        }
      ],
      "source": [
        "y_vs_y_hat_m3 = pd.DataFrame(data=(np.array(df_predicted_m3_10['Y_predicted']), Y_test),index=['y predicted m3 λ10','Y_train']).T\n",
        "y_vs_y_hat_m3['sum of square error'] = (y_vs_y_hat_m3['y predicted m3 λ10'] - y_vs_y_hat_m3['Y_train'])**2\n",
        "\n",
        "rmse_m3_λ10 = 0\n",
        "\n",
        "rmse_m3_λ10 = y_vs_y_hat_m3['sum of square error'].sum() / len(y_vs_y_hat_m3)\n",
        "rmse_m3_λ10 = math.sqrt(rmse_m3_λ10)\n",
        "rmse_m3_λ10"
      ],
      "id": "coJuZJBQzGn6"
    },
    {
      "cell_type": "markdown",
      "source": [
        "### For order m=9"
      ],
      "metadata": {
        "id": "tqKSYDgElV3P"
      },
      "id": "tqKSYDgElV3P"
    },
    {
      "cell_type": "markdown",
      "source": [
        "#### List the value of coefficients of estimated regularized least squared polynomial regression models for each case."
      ],
      "metadata": {
        "id": "ELHiPpFbtaaa"
      },
      "id": "ELHiPpFbtaaa"
    },
    {
      "cell_type": "code",
      "source": [
        "reg_LSP_ord_9_0 = np.array(regularized_LSPR(df_train['X_train'], df_train['Y_train'], 9, 0))\n",
        "reg_LSP_ord_9_01 = np.array(regularized_LSPR(df_train['X_train'], df_train['Y_train'], 9, 0.01))\n",
        "reg_LSP_ord_9_001 = np.array(regularized_LSPR(df_train['X_train'], df_train['Y_train'], 9, 0.001))\n",
        "reg_LSP_ord_9_0001 = np.array(regularized_LSPR(df_train['X_train'], df_train['Y_train'], 9, 0.0001))\n",
        "\n",
        "print(f'coefficient value with regularization and λ = 0: {reg_LSP_ord_9_0}')\n",
        "print(f'coefficient value with regularization and λ = 1: {reg_LSP_ord_9_01}')\n",
        "print(f'coefficient value with regularization and λ = 5: {reg_LSP_ord_9_001}')\n",
        "print(f'coefficient value with regularization and λ = 10: {reg_LSP_ord_9_0001}')"
      ],
      "metadata": {
        "outputId": "06a3e845-974c-4588-a2a1-64ebd3db66f5",
        "colab": {
          "base_uri": "https://localhost:8080/"
        },
        "id": "uU4XOqn0taab"
      },
      "execution_count": 32,
      "outputs": [
        {
          "output_type": "stream",
          "name": "stdout",
          "text": [
            "coefficient value with regularization and λ = 0: [[ 3.09846844e-01 -9.12835011e+00  2.64315671e+02 -1.84288951e+03\n",
            "   6.32735032e+03 -1.27522216e+04  1.57637431e+04 -1.17886438e+04\n",
            "   4.93696122e+03 -8.99979496e+02]]\n",
            "coefficient value with regularization and λ = 1: [[ 0.55839559  2.72806341 -4.63668823 -2.85956879 -0.58845042  0.79316131\n",
            "   1.37581399  1.42505528  1.15191216  0.69824223]]\n",
            "coefficient value with regularization and λ = 5: [[  0.30509518   6.20017828 -11.86179539  -4.17635388   2.53735212\n",
            "    4.99730725   4.45995173   2.28022863  -0.66625656  -3.87512963]]\n",
            "coefficient value with regularization and λ = 10: [[  0.19340641   7.92835496 -15.79482305  -5.49524258   5.55906609\n",
            "    8.15894783   5.7207267    1.64556635  -2.36324429  -5.69810188]]\n"
          ]
        }
      ],
      "id": "uU4XOqn0taab"
    },
    {
      "cell_type": "markdown",
      "source": [
        "#### Obtain the prediction on testing set for regularized least squared\n",
        "polynomial regression models for order M =1,2,3 and 9."
      ],
      "metadata": {
        "id": "rNe20fSs1mIh"
      },
      "id": "rNe20fSs1mIh"
    },
    {
      "cell_type": "code",
      "source": [
        "y_predicted_m9_0, y_predicted_m9_01, y_predicted_m9_001, y_predicted_m9_0001 = [], [], [] ,[]\n",
        "\n",
        "for val in X:\n",
        "  y_val = 0\n",
        "  for deg in range(9, -1, -1):\n",
        "    y_val += reg_LSP_ord_9_0[0][deg] * math.pow(val, deg)\n",
        "  y_predicted_m9_0.append(y_val)\n",
        "\n",
        "for val in X:\n",
        "  y_val = 0\n",
        "  for deg in range(9, -1, -1):\n",
        "    y_val += reg_LSP_ord_9_01[0][deg] * math.pow(val, deg)\n",
        "  y_predicted_m9_01.append(y_val)\n",
        "\n",
        "for val in X:\n",
        "  y_val = 0\n",
        "  for deg in range(9, -1, -1):\n",
        "    y_val += reg_LSP_ord_9_001[0][deg] * math.pow(val, deg)\n",
        "  y_predicted_m9_001.append(y_val)\n",
        "\n",
        "for val in X:\n",
        "  y_val = 0\n",
        "  for deg in range(9, -1, -1):\n",
        "    y_val += reg_LSP_ord_9_0001[0][deg] * math.pow(val, deg)\n",
        "  y_predicted_m9_0001.append(y_val)\n",
        "\n",
        "df_predicted_m9_0 = pd.DataFrame(data=(X, y_predicted_m9_0),index=['X', 'Y_predicted']).T\n",
        "df_predicted_m9_01 = pd.DataFrame(data=(X, y_predicted_m9_01),index=['X', 'Y_predicted']).T\n",
        "df_predicted_m9_001 = pd.DataFrame(data=(X, y_predicted_m9_001),index=['X', 'Y_predicted']).T\n",
        "df_predicted_m9_0001 = pd.DataFrame(data=(X, y_predicted_m9_0001),index=['X', 'Y_predicted']).T"
      ],
      "metadata": {
        "id": "T70GLx8e1mIi"
      },
      "execution_count": 33,
      "outputs": [],
      "id": "T70GLx8e1mIi"
    },
    {
      "cell_type": "markdown",
      "source": [
        "#### Plot the estimate obtained by regularized least squared polynomial regression models for training set along with $y_{1}$, $y_{2}$, $y_{3}$, ..., $y_{20}$ AND for testing set along with $y'_{1}$, $y'_{2}$, $y'_{3}$, ..., $y'_{50}$"
      ],
      "metadata": {
        "id": "HJXU-_cj4Ana"
      },
      "id": "HJXU-_cj4Ana"
    },
    {
      "cell_type": "code",
      "source": [
        "# Plotting all the points to compare the regression graph\n",
        "\n",
        "fig, axes = plt.subplots(1, 2, figsize=(18, 10))\n",
        "\n",
        "df_train_sort = df_train.sort_values(by=['X_train'])\n",
        "df_pred_sort_m9_0 = df_predicted_m9_0.sort_values(by=['X'])\n",
        "df_pred_sort_m9_01 = df_predicted_m9_01.sort_values(by=['X'])\n",
        "df_pred_sort_m9_001 = df_predicted_m9_001.sort_values(by=['X'])\n",
        "df_pred_sort_m9_0001 = df_predicted_m9_0001.sort_values(by=['X'])\n",
        "\n",
        "axes[0].plot(df_train_sort['X_train'], df_train_sort['Y_train'], color='red')\n",
        "axes[0].scatter(df_test['X_test'], df_test['Y_test'], color='blue')\n",
        "axes[0].legend(['Training data', 'Test data'])\n",
        "axes[0].set_title('Polynomial Regression for Training Set')\n",
        "\n",
        "axes[1].scatter(df_train['X_train'], df_train['Y_train'], color='blue')\n",
        "axes[1].plot(df_pred_sort_m9_0['X'], df_pred_sort_m9_0['Y_predicted'], color='red')\n",
        "axes[1].plot(df_pred_sort_m9_01['X'], df_pred_sort_m9_01['Y_predicted'], color='orange')\n",
        "axes[1].plot(df_pred_sort_m9_001['X'], df_pred_sort_m9_001['Y_predicted'], color='magenta')\n",
        "axes[1].plot(df_pred_sort_m9_0001['X'], df_pred_sort_m9_0001['Y_predicted'], color='green')\n",
        "axes[1].legend(['λ=0 predicted values', 'λ=0.1 predicted values', 'λ=0.01 predicted values', 'λ=0.001 predicted values', 'Training Data'])\n",
        "axes[1].set_title('Polynomial Regression for Testing Set')"
      ],
      "metadata": {
        "outputId": "9d8be28b-b82c-4d15-dd4d-04df11160a9d",
        "colab": {
          "base_uri": "https://localhost:8080/",
          "height": 625
        },
        "id": "k6DXB7sn4Anb"
      },
      "execution_count": 34,
      "outputs": [
        {
          "output_type": "execute_result",
          "data": {
            "text/plain": [
              "Text(0.5, 1.0, 'Polynomial Regression for Testing Set')"
            ]
          },
          "metadata": {},
          "execution_count": 34
        },
        {
          "output_type": "display_data",
          "data": {
            "text/plain": [
              "<Figure size 1296x720 with 2 Axes>"
            ],
            "image/png": "[encoded data removed]"
          },
          "metadata": {
            "needs_background": "light"
          }
        }
      ],
      "id": "k6DXB7sn4Anb"
    },
    {
      "cell_type": "markdown",
      "source": [
        "#### Study the effect of regularization parameter λ on testing RMSE and flexibility of curve"
      ],
      "metadata": {
        "id": "PceFVkFc0UH2"
      },
      "id": "PceFVkFc0UH2"
    },
    {
      "cell_type": "markdown",
      "source": [
        "##### λ = 0"
      ],
      "metadata": {
        "id": "3sPsj_bv0UH9"
      },
      "id": "3sPsj_bv0UH9"
    },
    {
      "cell_type": "code",
      "execution_count": 35,
      "metadata": {
        "colab": {
          "base_uri": "https://localhost:8080/"
        },
        "outputId": "c0b59caf-e016-45cb-d546-093f2d771e43",
        "id": "Vk8SEAZQ0UH9"
      },
      "outputs": [
        {
          "output_type": "execute_result",
          "data": {
            "text/plain": [
              "0.10422002868505607"
            ]
          },
          "metadata": {},
          "execution_count": 35
        }
      ],
      "source": [
        "y_vs_y_hat_m9 = pd.DataFrame(data=(np.array(df_predicted_m9_0['Y_predicted']), Y_test),index=['y predicted m9 λ0','Y_train']).T\n",
        "y_vs_y_hat_m9['sum of square error'] = (y_vs_y_hat_m9['y predicted m9 λ0'] - y_vs_y_hat_m9['Y_train'])**2\n",
        "\n",
        "rmse_m9_λ0 = 0\n",
        "\n",
        "rmse_m9_λ0 = y_vs_y_hat_m9['sum of square error'].sum() / len(y_vs_y_hat_m9)\n",
        "rmse_m9_λ0 = math.sqrt(rmse_m9_λ0)\n",
        "rmse_m9_λ0"
      ],
      "id": "Vk8SEAZQ0UH9"
    },
    {
      "cell_type": "markdown",
      "source": [
        "##### λ = 0.01"
      ],
      "metadata": {
        "id": "p00_UJJo0UH9"
      },
      "id": "p00_UJJo0UH9"
    },
    {
      "cell_type": "code",
      "execution_count": 36,
      "metadata": {
        "colab": {
          "base_uri": "https://localhost:8080/"
        },
        "outputId": "0ca5d44e-ff53-4433-993e-5ec2774b740a",
        "id": "xizuoSWa0UH9"
      },
      "outputs": [
        {
          "output_type": "execute_result",
          "data": {
            "text/plain": [
              "0.24996652812284503"
            ]
          },
          "metadata": {},
          "execution_count": 36
        }
      ],
      "source": [
        "y_vs_y_hat_m9 = pd.DataFrame(data=(np.array(df_predicted_m9_01['Y_predicted']), Y_test),index=['y predicted m9 λ0.01','Y_train']).T\n",
        "y_vs_y_hat_m9['sum of square error'] = (y_vs_y_hat_m9['y predicted m9 λ0.01'] - y_vs_y_hat_m9['Y_train'])**2\n",
        "\n",
        "rmse_m9_λ01 = 0\n",
        "\n",
        "rmse_m9_λ01 = y_vs_y_hat_m9['sum of square error'].sum() / len(y_vs_y_hat_m9)\n",
        "rmse_m9_λ01 = math.sqrt(rmse_m9_λ01)\n",
        "rmse_m9_λ01"
      ],
      "id": "xizuoSWa0UH9"
    },
    {
      "cell_type": "markdown",
      "source": [
        "##### λ = 0.001"
      ],
      "metadata": {
        "id": "p-QZNpYi0UH9"
      },
      "id": "p-QZNpYi0UH9"
    },
    {
      "cell_type": "code",
      "execution_count": 37,
      "metadata": {
        "colab": {
          "base_uri": "https://localhost:8080/"
        },
        "outputId": "6470bb94-14de-45e3-b822-e11ea7e1d2f9",
        "id": "1s0tpH4N0UH-"
      },
      "outputs": [
        {
          "output_type": "execute_result",
          "data": {
            "text/plain": [
              "0.14170712278874611"
            ]
          },
          "metadata": {},
          "execution_count": 37
        }
      ],
      "source": [
        "y_vs_y_hat_m9 = pd.DataFrame(data=(np.array(df_predicted_m9_001['Y_predicted']), Y_test),index=['y predicted m9 λ0.001','Y_train']).T\n",
        "y_vs_y_hat_m9['sum of square error'] = (y_vs_y_hat_m9['y predicted m9 λ0.001'] - y_vs_y_hat_m9['Y_train'])**2\n",
        "\n",
        "rmse_m9_λ001 = 0\n",
        "\n",
        "rmse_m9_λ001 = y_vs_y_hat_m9['sum of square error'].sum() / len(y_vs_y_hat_m9)\n",
        "rmse_m9_λ001 = math.sqrt(rmse_m9_λ001)\n",
        "rmse_m9_λ001"
      ],
      "id": "1s0tpH4N0UH-"
    },
    {
      "cell_type": "markdown",
      "source": [
        "##### λ = 0.0001"
      ],
      "metadata": {
        "id": "6lZe11iF0UH-"
      },
      "id": "6lZe11iF0UH-"
    },
    {
      "cell_type": "code",
      "execution_count": 38,
      "metadata": {
        "colab": {
          "base_uri": "https://localhost:8080/"
        },
        "outputId": "36a14511-b344-4ff8-deb4-68fb16fc5cbe",
        "id": "Z012w86l0UH-"
      },
      "outputs": [
        {
          "output_type": "execute_result",
          "data": {
            "text/plain": [
              "0.10422002868505607"
            ]
          },
          "metadata": {},
          "execution_count": 38
        }
      ],
      "source": [
        "y_vs_y_hat_m9 = pd.DataFrame(data=(np.array(df_predicted_m9_0['Y_predicted']), Y_test),index=['y predicted m9 λ0.0001','Y_train']).T\n",
        "y_vs_y_hat_m9['sum of square error'] = (y_vs_y_hat_m9['y predicted m9 λ0.0001'] - y_vs_y_hat_m9['Y_train'])**2\n",
        "\n",
        "rmse_m9_λ0001 = 0\n",
        "\n",
        "rmse_m9_λ0001 = y_vs_y_hat_m9['sum of square error'].sum() / len(y_vs_y_hat_m9)\n",
        "rmse_m9_λ0001 = math.sqrt(rmse_m9_λ0001)\n",
        "rmse_m9_λ0001"
      ],
      "id": "Z012w86l0UH-"
    },
    {
      "cell_type": "markdown",
      "source": [
        "# MULTIVARIATE CASE\n",
        "\n",
        "### M=1: Y = $β_{0}$ + $β_{1}$$x_{1}$\n",
        "### M=2: Y = $β_{0}$ + $β_{1}$$x_{1}$ + $β_{2}$$x_{2}$ + $β_{11}$$x_{1}^{2}$ + $β_{22}$$x_{2}^{2}$ + $β_{12}$${x_{1}}$$x_{2}$\n",
        "### M=5: Y = $β_{0}$ + $β_{1}$$x_{1}$ + $β_{2}$$x_{2}$ + $β_{3}$$x_{3}$ + $β_{4}$$x_{4}$ +$β_{5}$$x_{5}$ + $β_{11}$$x_{1}^{2}$ + $β_{22}$$x_{2}^{2}$ + $β_{33}$$x_{3}^{2}$ + $β_{44}$$x_{4}^{4}$ + $β_{55}$$x_{5}^{2}$ + ..."
      ],
      "metadata": {
        "id": "k6rDHisu6o7k"
      },
      "id": "k6rDHisu6o7k"
    },
    {
      "cell_type": "markdown",
      "source": [
        "## A. Construct the training set T = { ($x_{1}$, $y_{1}$), ($x_{2}$, $y_{2}$), ... , ($x_{20}$, $y_{20}$)} using the relation :\n",
        "\n",
        "##$Y_{i}$  = sin(2 π ||$x_{i}$||) + $ε_{i}$ where $ε_{i}$ ~ N(0,0.25) and $x_{i}^1$, $x_{i}^2$ are from U[0, 1].\n",
        "\n",
        "\n",
        "##In the similar way construct a testing set of size 50\n",
        "## i,e. Test = {($x_{1}$, $y_{1}$), ($x_{2}$, $y_{2}$), ... , ($x_{50}$, $y_{50}$)}}"
      ],
      "metadata": {
        "id": "eWkarrzF6uea"
      },
      "id": "eWkarrzF6uea"
    },
    {
      "cell_type": "code",
      "source": [
        "# uniform distribution of 20 real number\n",
        "X_train = []\n",
        "Y_train =[]\n",
        "\n",
        "X1_train=np.random.uniform(0,1,20)\n",
        "X2_train=np.random.uniform(0,1,20)\n",
        "\n",
        "for x_val in zip(X1_train, X2_train):\n",
        "  res = math.sqrt((x_val[0]**2) + (x_val[1]**2))\n",
        "  X_train.append(res)\n",
        "\n",
        "for x_val in X_train:\n",
        "    Yi = math.sin(2 * math.pi * x_val) + np.random.uniform(0, 0.25) \n",
        "    Y_train.append(Yi)\n",
        "\n",
        "# For better understanding, let's convert X and Y training dataset into a dataframe\n",
        "df_train = pd.DataFrame(data=(X_train,Y_train),index=['X_train','Y_train'])\n",
        "df_train = df_train.T\n",
        "df_train"
      ],
      "metadata": {
        "id": "Il9JtDz57_Fq",
        "outputId": "2a480518-c40f-4af2-d693-6db41e100690",
        "colab": {
          "base_uri": "https://localhost:8080/",
          "height": 676
        }
      },
      "id": "Il9JtDz57_Fq",
      "execution_count": 51,
      "outputs": [
        {
          "output_type": "execute_result",
          "data": {
            "text/plain": [
              "     X_train   Y_train\n",
              "0   0.972762 -0.038077\n",
              "1   0.790808 -0.915915\n",
              "2   0.881335 -0.639947\n",
              "3   0.374982  0.795754\n",
              "4   0.843744 -0.771507\n",
              "5   0.288795  1.189777\n",
              "6   0.863083 -0.508945\n",
              "7   0.679383 -0.679038\n",
              "8   0.830061 -0.833360\n",
              "9   0.512091  0.123813\n",
              "10  0.902227 -0.509290\n",
              "11  0.294023  1.137360\n",
              "12  1.030804  0.321405\n",
              "13  0.976656  0.034157\n",
              "14  0.691915 -0.765602\n",
              "15  0.724644 -0.826065\n",
              "16  0.963593 -0.201282\n",
              "17  0.435307  0.517613\n",
              "18  0.845178 -0.772505\n",
              "19  1.191819  1.032508"
            ],
            "text/html": [
              "\n",
              "  <div id=\"df-247e3fef-9790-404a-92f5-47f4ea790c78\">\n",
              "    <div class=\"colab-df-container\">\n",
              "      <div>\n",
              "<style scoped>\n",
              "    .dataframe tbody tr th:only-of-type {\n",
              "        vertical-align: middle;\n",
              "    }\n",
              "\n",
              "    .dataframe tbody tr th {\n",
              "        vertical-align: top;\n",
              "    }\n",
              "\n",
              "    .dataframe thead th {\n",
              "        text-align: right;\n",
              "    }\n",
              "</style>\n",
              "<table border=\"1\" class=\"dataframe\">\n",
              "  <thead>\n",
              "    <tr style=\"text-align: right;\">\n",
              "      <th></th>\n",
              "      <th>X_train</th>\n",
              "      <th>Y_train</th>\n",
              "    </tr>\n",
              "  </thead>\n",
              "  <tbody>\n",
              "    <tr>\n",
              "      <th>0</th>\n",
              "      <td>0.972762</td>\n",
              "      <td>-0.038077</td>\n",
              "    </tr>\n",
              "    <tr>\n",
              "      <th>1</th>\n",
              "      <td>0.790808</td>\n",
              "      <td>-0.915915</td>\n",
              "    </tr>\n",
              "    <tr>\n",
              "      <th>2</th>\n",
              "      <td>0.881335</td>\n",
              "      <td>-0.639947</td>\n",
              "    </tr>\n",
              "    <tr>\n",
              "      <th>3</th>\n",
              "      <td>0.374982</td>\n",
              "      <td>0.795754</td>\n",
              "    </tr>\n",
              "    <tr>\n",
              "      <th>4</th>\n",
              "      <td>0.843744</td>\n",
              "      <td>-0.771507</td>\n",
              "    </tr>\n",
              "    <tr>\n",
              "      <th>5</th>\n",
              "      <td>0.288795</td>\n",
              "      <td>1.189777</td>\n",
              "    </tr>\n",
              "    <tr>\n",
              "      <th>6</th>\n",
              "      <td>0.863083</td>\n",
              "      <td>-0.508945</td>\n",
              "    </tr>\n",
              "    <tr>\n",
              "      <th>7</th>\n",
              "      <td>0.679383</td>\n",
              "      <td>-0.679038</td>\n",
              "    </tr>\n",
              "    <tr>\n",
              "      <th>8</th>\n",
              "      <td>0.830061</td>\n",
              "      <td>-0.833360</td>\n",
              "    </tr>\n",
              "    <tr>\n",
              "      <th>9</th>\n",
              "      <td>0.512091</td>\n",
              "      <td>0.123813</td>\n",
              "    </tr>\n",
              "    <tr>\n",
              "      <th>10</th>\n",
              "      <td>0.902227</td>\n",
              "      <td>-0.509290</td>\n",
              "    </tr>\n",
              "    <tr>\n",
              "      <th>11</th>\n",
              "      <td>0.294023</td>\n",
              "      <td>1.137360</td>\n",
              "    </tr>\n",
              "    <tr>\n",
              "      <th>12</th>\n",
              "      <td>1.030804</td>\n",
              "      <td>0.321405</td>\n",
              "    </tr>\n",
              "    <tr>\n",
              "      <th>13</th>\n",
              "      <td>0.976656</td>\n",
              "      <td>0.034157</td>\n",
              "    </tr>\n",
              "    <tr>\n",
              "      <th>14</th>\n",
              "      <td>0.691915</td>\n",
              "      <td>-0.765602</td>\n",
              "    </tr>\n",
              "    <tr>\n",
              "      <th>15</th>\n",
              "      <td>0.724644</td>\n",
              "      <td>-0.826065</td>\n",
              "    </tr>\n",
              "    <tr>\n",
              "      <th>16</th>\n",
              "      <td>0.963593</td>\n",
              "      <td>-0.201282</td>\n",
              "    </tr>\n",
              "    <tr>\n",
              "      <th>17</th>\n",
              "      <td>0.435307</td>\n",
              "      <td>0.517613</td>\n",
              "    </tr>\n",
              "    <tr>\n",
              "      <th>18</th>\n",
              "      <td>0.845178</td>\n",
              "      <td>-0.772505</td>\n",
              "    </tr>\n",
              "    <tr>\n",
              "      <th>19</th>\n",
              "      <td>1.191819</td>\n",
              "      <td>1.032508</td>\n",
              "    </tr>\n",
              "  </tbody>\n",
              "</table>\n",
              "</div>\n",
              "      <button class=\"colab-df-convert\" onclick=\"convertToInteractive('df-247e3fef-9790-404a-92f5-47f4ea790c78')\"\n",
              "              title=\"Convert this dataframe to an interactive table.\"\n",
              "              style=\"display:none;\">\n",
              "        \n",
              "  <svg xmlns=\"http://www.w3.org/2000/svg\" height=\"24px\"viewBox=\"0 0 24 24\"\n",
              "       width=\"24px\">\n",
              "    <path d=\"M0 0h24v24H0V0z\" fill=\"none\"/>\n",
              "    <path d=\"M18.56 5.44l.94 2.06.94-2.06 2.06-.94-2.06-.94-.94-2.06-.94 2.06-2.06.94zm-11 1L8.5 8.5l.94-2.06 2.06-.94-2.06-.94L8.5 2.5l-.94 2.06-2.06.94zm10 10l.94 2.06.94-2.06 2.06-.94-2.06-.94-.94-2.06-.94 2.06-2.06.94z\"/><path d=\"M17.41 7.96l-1.37-1.37c-.4-.4-.92-.59-1.43-.59-.52 0-1.04.2-1.43.59L10.3 9.45l-7.72 7.72c-.78.78-.78 2.05 0 2.83L4 21.41c.39.39.9.59 1.41.59.51 0 1.02-.2 1.41-.59l7.78-7.78 2.81-2.81c.8-.78.8-2.07 0-2.86zM5.41 20L4 18.59l7.72-7.72 1.47 1.35L5.41 20z\"/>\n",
              "  </svg>\n",
              "      </button>\n",
              "      \n",
              "  <style>\n",
              "    .colab-df-container {\n",
              "      display:flex;\n",
              "      flex-wrap:wrap;\n",
              "      gap: 12px;\n",
              "    }\n",
              "\n",
              "    .colab-df-convert {\n",
              "      background-color: #E8F0FE;\n",
              "      border: none;\n",
              "      border-radius: 50%;\n",
              "      cursor: pointer;\n",
              "      display: none;\n",
              "      fill: #1967D2;\n",
              "      height: 32px;\n",
              "      padding: 0 0 0 0;\n",
              "      width: 32px;\n",
              "    }\n",
              "\n",
              "    .colab-df-convert:hover {\n",
              "      background-color: #E2EBFA;\n",
              "      box-shadow: 0px 1px 2px rgba(60, 64, 67, 0.3), 0px 1px 3px 1px rgba(60, 64, 67, 0.15);\n",
              "      fill: #174EA6;\n",
              "    }\n",
              "\n",
              "    [theme=dark] .colab-df-convert {\n",
              "      background-color: #3B4455;\n",
              "      fill: #D2E3FC;\n",
              "    }\n",
              "\n",
              "    [theme=dark] .colab-df-convert:hover {\n",
              "      background-color: #434B5C;\n",
              "      box-shadow: 0px 1px 3px 1px rgba(0, 0, 0, 0.15);\n",
              "      filter: drop-shadow(0px 1px 2px rgba(0, 0, 0, 0.3));\n",
              "      fill: #FFFFFF;\n",
              "    }\n",
              "  </style>\n",
              "\n",
              "      <script>\n",
              "        const buttonEl =\n",
              "          document.querySelector('#df-247e3fef-9790-404a-92f5-47f4ea790c78 button.colab-df-convert');\n",
              "        buttonEl.style.display =\n",
              "          google.colab.kernel.accessAllowed ? 'block' : 'none';\n",
              "\n",
              "        async function convertToInteractive(key) {\n",
              "          const element = document.querySelector('#df-247e3fef-9790-404a-92f5-47f4ea790c78');\n",
              "          const dataTable =\n",
              "            await google.colab.kernel.invokeFunction('convertToInteractive',\n",
              "                                                     [key], {});\n",
              "          if (!dataTable) return;\n",
              "\n",
              "          const docLinkHtml = 'Like what you see? Visit the ' +\n",
              "            '<a target=\"_blank\" href=https://colab.research.google.com/notebooks/data_table.ipynb>data table notebook</a>'\n",
              "            + ' to learn more about interactive tables.';\n",
              "          element.innerHTML = '';\n",
              "          dataTable['output_type'] = 'display_data';\n",
              "          await google.colab.output.renderOutput(dataTable, element);\n",
              "          const docLink = document.createElement('div');\n",
              "          docLink.innerHTML = docLinkHtml;\n",
              "          element.appendChild(docLink);\n",
              "        }\n",
              "      </script>\n",
              "    </div>\n",
              "  </div>\n",
              "  "
            ]
          },
          "metadata": {},
          "execution_count": 51
        }
      ]
    },
    {
      "cell_type": "markdown",
      "source": [
        "## B) Obtain the prediction on testing set and compute the RMSE for regularized least squared polynomial regression models for order M =1, 2 and 5 . Also plot the estimated function and target function for the training set and testing set."
      ],
      "metadata": {
        "id": "BiPxEjs67B3x"
      },
      "id": "BiPxEjs67B3x"
    },
    {
      "cell_type": "code",
      "source": [
        "# Least Square Polynomial Regression\n",
        "def regularized_LSPR(x_dataset, y_dataset, degree, Lambda):\n",
        "  no_of_rows = len(x_dataset)\n",
        "  no_of_cols = degree+1\n",
        "\n",
        "  # finding the X matrix\n",
        "\n",
        "  # initialize X matrix with 0 initially\n",
        "  X = np.zeros((no_of_rows, no_of_cols))\n",
        "  lam_I = np.identity(degree+1)*Lambda\n",
        "  for xi in range (no_of_rows):\n",
        "    for deg in range (no_of_cols):\n",
        "      X[xi][deg] += math.pow(x_dataset[xi], deg)\n",
        "  \n",
        "  # calculating ((X^T . X)^(−1)) . X^T . Y\n",
        "  X_Trans_X = np.matrix((np.dot(X.T, X)))\n",
        "  X_Trans_X = np.add(X_Trans_X, lam_I)\n",
        "  X_Trans_X_Inv = X_Trans_X.I\n",
        "  temp = np.matrix(np.dot(X_Trans_X_Inv, X.T))\n",
        "  return np.dot(temp, y_dataset.values)\n",
        "\n",
        "reg_LSP_ord_1_0 = np.array(regularized_LSPR(df_train['X_train'], df_train['Y_train'], 1, 0))\n",
        "reg_LSP_ord_1_01 = np.array(regularized_LSPR(df_train['X_train'], df_train['Y_train'], 1, 0.01))\n",
        "reg_LSP_ord_1_001= np.array(regularized_LSPR(df_train['X_train'], df_train['Y_train'], 1, 0.001))\n",
        "\n",
        "reg_LSP_ord_2_0 = np.array(regularized_LSPR(df_train['X_train'], df_train['Y_train'], 1, 0))\n",
        "reg_LSP_ord_2_01 = np.array(regularized_LSPR(df_train['X_train'], df_train['Y_train'], 1, 0.01))\n",
        "reg_LSP_ord_2_001= np.array(regularized_LSPR(df_train['X_train'], df_train['Y_train'], 1, 0.001))\n",
        "\n",
        "reg_LSP_ord_5_0 = np.array(regularized_LSPR(df_train['X_train'], df_train['Y_train'], 1, 0))\n",
        "reg_LSP_ord_5_01 = np.array(regularized_LSPR(df_train['X_train'], df_train['Y_train'], 1, 0.01))\n",
        "reg_LSP_ord_5_001= np.array(regularized_LSPR(df_train['X_train'], df_train['Y_train'], 1, 0.001))"
      ],
      "metadata": {
        "id": "sRIsjxVwkdym"
      },
      "id": "sRIsjxVwkdym",
      "execution_count": null,
      "outputs": []
    },
    {
      "cell_type": "markdown",
      "source": [
        "# Real World Dataset"
      ],
      "metadata": {
        "id": "1bHiVRO-4guZ"
      },
      "id": "1bHiVRO-4guZ"
    },
    {
      "cell_type": "markdown",
      "source": [
        "## Consider the motorcycle dataset. Estimate the Regularized Least Square regression models using the n sigmoidal basis functions. A variant of sigmoidal basis function can be obtained using \n",
        "\n",
        "## σ(a, b, x) = $a^{T}$x + b , a ∈ $R^{n}$, b ∈ R for x ∈ $R^{n}$\n",
        "\n",
        "\n",
        "##I. Plot the estimated function and obtain the training RMSE error for n = 2, 5 , 10. What happens when you increase the number of basis functions.\n",
        "\n",
        "## II. For n =10, find the minimum mean and standard deviations of RMSE, NMSE and R2 using leave-one out method by tunning the parameter λ."
      ],
      "metadata": {
        "id": "0CZe_VWJ4r--"
      },
      "id": "0CZe_VWJ4r--"
    },
    {
      "cell_type": "code",
      "source": [],
      "metadata": {
        "id": "njGkAQeQ5Ivq"
      },
      "id": "njGkAQeQ5Ivq",
      "execution_count": 39,
      "outputs": []
    }
  ],
  "metadata": {
    "kernelspec": {
      "display_name": "Python 3 (ipykernel)",
      "language": "python",
      "name": "python3"
    },
    "language_info": {
      "codemirror_mode": {
        "name": "ipython",
        "version": 3
      },
      "file_extension": ".py",
      "mimetype": "text/x-python",
      "name": "python",
      "nbconvert_exporter": "python",
      "pygments_lexer": "ipython3",
      "version": "3.9.7"
    },
    "colab": {
      "provenance": []
    }
  },
  "nbformat": 4,
  "nbformat_minor": 5
}