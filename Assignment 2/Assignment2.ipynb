{
  "cells": [
    {
      "cell_type": "markdown",
      "id": "d6d494ed",
      "metadata": {
        "id": "d6d494ed"
      },
      "source": [
        "# UNIVARIATE CASE"
      ]
    },
    {
      "cell_type": "markdown",
      "id": "74d9fe9e",
      "metadata": {
        "id": "74d9fe9e"
      },
      "source": [
        "## A. Generate 20 real number for the variable X from the uniform distribution U [0,1]."
      ]
    },
    {
      "cell_type": "code",
      "execution_count": null,
      "id": "76658495",
      "metadata": {
        "id": "76658495"
      },
      "outputs": [],
      "source": [
        "import numpy as np\n",
        "import math\n",
        "import pandas as pd \n",
        "import matplotlib.pyplot as plt\n",
        "import seaborn as sns\n"
      ]
    },
    {
      "cell_type": "code",
      "execution_count": null,
      "id": "c502d28f",
      "metadata": {
        "colab": {
          "base_uri": "https://localhost:8080/"
        },
        "id": "c502d28f",
        "outputId": "a2b6afef-4379-45ea-f744-e5e8da3eaeb0"
      },
      "outputs": [
        {
          "output_type": "execute_result",
          "data": {
            "text/plain": [
              "array([0.89637442, 0.75578496, 0.96915174, 0.00320602, 0.23676778,\n",
              "       0.75216217, 0.1686464 , 0.63701287, 0.53867105, 0.42262484,\n",
              "       0.75439356, 0.53374677, 0.2581082 , 0.01009332, 0.0122256 ,\n",
              "       0.50611444, 0.94004682, 0.75465174, 0.4664752 , 0.07107537])"
            ]
          },
          "metadata": {},
          "execution_count": 320
        }
      ],
      "source": [
        "# uniform distribution of 20 real number\n",
        "X_train=np.random.uniform(0,1,20)\n",
        "X_train"
      ]
    },
    {
      "cell_type": "markdown",
      "id": "a4245c16",
      "metadata": {
        "id": "a4245c16"
      },
      "source": [
        "## B. Construct the training set T = { ($x_{1}$, $y_{1}$), ($x_{2}$, $y_{2}$), ... , ($x_{20}$, $y_{20}$)} using the relation :\n",
        "\n",
        "##$Y_{i}$  = sin(2 π $x_{i}$) + $ε_{i}$ where $ε_{i}$ ~ N(0,0.25)\n"
      ]
    },
    {
      "cell_type": "code",
      "execution_count": null,
      "id": "7ff78b1c",
      "metadata": {
        "colab": {
          "base_uri": "https://localhost:8080/"
        },
        "id": "7ff78b1c",
        "outputId": "1a710abb-a9ec-4866-bb34-7dc2c0c88485"
      },
      "outputs": [
        {
          "output_type": "execute_result",
          "data": {
            "text/plain": [
              "     X_train   Y_train\n",
              "0   0.896374 -0.450947\n",
              "1   0.755785 -0.868803\n",
              "2   0.969152  0.036376\n",
              "3   0.003206  0.154369\n",
              "4   0.236768  1.170838\n",
              "5   0.752162 -0.775634\n",
              "6   0.168646  1.070551\n",
              "7   0.637013 -0.743531\n",
              "8   0.538671 -0.085412\n",
              "9   0.422625  0.509603\n",
              "10  0.754394 -0.894686\n",
              "11  0.533747  0.028947\n",
              "12  0.258108  1.208772\n",
              "13  0.010093  0.088107\n",
              "14  0.012226  0.223008\n",
              "15  0.506114  0.188452\n",
              "16  0.940047 -0.332115\n",
              "17  0.754652 -0.987806\n",
              "18  0.466475  0.378216\n",
              "19  0.071075  0.432225"
            ],
            "text/html": [
              "\n",
              "  <div id=\"df-96f85975-f81f-4efc-9172-3f4488f9d8bb\">\n",
              "    <div class=\"colab-df-container\">\n",
              "      <div>\n",
              "<style scoped>\n",
              "    .dataframe tbody tr th:only-of-type {\n",
              "        vertical-align: middle;\n",
              "    }\n",
              "\n",
              "    .dataframe tbody tr th {\n",
              "        vertical-align: top;\n",
              "    }\n",
              "\n",
              "    .dataframe thead th {\n",
              "        text-align: right;\n",
              "    }\n",
              "</style>\n",
              "<table border=\"1\" class=\"dataframe\">\n",
              "  <thead>\n",
              "    <tr style=\"text-align: right;\">\n",
              "      <th></th>\n",
              "      <th>X_train</th>\n",
              "      <th>Y_train</th>\n",
              "    </tr>\n",
              "  </thead>\n",
              "  <tbody>\n",
              "    <tr>\n",
              "      <th>0</th>\n",
              "      <td>0.896374</td>\n",
              "      <td>-0.450947</td>\n",
              "    </tr>\n",
              "    <tr>\n",
              "      <th>1</th>\n",
              "      <td>0.755785</td>\n",
              "      <td>-0.868803</td>\n",
              "    </tr>\n",
              "    <tr>\n",
              "      <th>2</th>\n",
              "      <td>0.969152</td>\n",
              "      <td>0.036376</td>\n",
              "    </tr>\n",
              "    <tr>\n",
              "      <th>3</th>\n",
              "      <td>0.003206</td>\n",
              "      <td>0.154369</td>\n",
              "    </tr>\n",
              "    <tr>\n",
              "      <th>4</th>\n",
              "      <td>0.236768</td>\n",
              "      <td>1.170838</td>\n",
              "    </tr>\n",
              "    <tr>\n",
              "      <th>5</th>\n",
              "      <td>0.752162</td>\n",
              "      <td>-0.775634</td>\n",
              "    </tr>\n",
              "    <tr>\n",
              "      <th>6</th>\n",
              "      <td>0.168646</td>\n",
              "      <td>1.070551</td>\n",
              "    </tr>\n",
              "    <tr>\n",
              "      <th>7</th>\n",
              "      <td>0.637013</td>\n",
              "      <td>-0.743531</td>\n",
              "    </tr>\n",
              "    <tr>\n",
              "      <th>8</th>\n",
              "      <td>0.538671</td>\n",
              "      <td>-0.085412</td>\n",
              "    </tr>\n",
              "    <tr>\n",
              "      <th>9</th>\n",
              "      <td>0.422625</td>\n",
              "      <td>0.509603</td>\n",
              "    </tr>\n",
              "    <tr>\n",
              "      <th>10</th>\n",
              "      <td>0.754394</td>\n",
              "      <td>-0.894686</td>\n",
              "    </tr>\n",
              "    <tr>\n",
              "      <th>11</th>\n",
              "      <td>0.533747</td>\n",
              "      <td>0.028947</td>\n",
              "    </tr>\n",
              "    <tr>\n",
              "      <th>12</th>\n",
              "      <td>0.258108</td>\n",
              "      <td>1.208772</td>\n",
              "    </tr>\n",
              "    <tr>\n",
              "      <th>13</th>\n",
              "      <td>0.010093</td>\n",
              "      <td>0.088107</td>\n",
              "    </tr>\n",
              "    <tr>\n",
              "      <th>14</th>\n",
              "      <td>0.012226</td>\n",
              "      <td>0.223008</td>\n",
              "    </tr>\n",
              "    <tr>\n",
              "      <th>15</th>\n",
              "      <td>0.506114</td>\n",
              "      <td>0.188452</td>\n",
              "    </tr>\n",
              "    <tr>\n",
              "      <th>16</th>\n",
              "      <td>0.940047</td>\n",
              "      <td>-0.332115</td>\n",
              "    </tr>\n",
              "    <tr>\n",
              "      <th>17</th>\n",
              "      <td>0.754652</td>\n",
              "      <td>-0.987806</td>\n",
              "    </tr>\n",
              "    <tr>\n",
              "      <th>18</th>\n",
              "      <td>0.466475</td>\n",
              "      <td>0.378216</td>\n",
              "    </tr>\n",
              "    <tr>\n",
              "      <th>19</th>\n",
              "      <td>0.071075</td>\n",
              "      <td>0.432225</td>\n",
              "    </tr>\n",
              "  </tbody>\n",
              "</table>\n",
              "</div>\n",
              "      <button class=\"colab-df-convert\" onclick=\"convertToInteractive('df-96f85975-f81f-4efc-9172-3f4488f9d8bb')\"\n",
              "              title=\"Convert this dataframe to an interactive table.\"\n",
              "              style=\"display:none;\">\n",
              "        \n",
              "  <svg xmlns=\"http://www.w3.org/2000/svg\" height=\"24px\"viewBox=\"0 0 24 24\"\n",
              "       width=\"24px\">\n",
              "    <path d=\"M0 0h24v24H0V0z\" fill=\"none\"/>\n",
              "    <path d=\"M18.56 5.44l.94 2.06.94-2.06 2.06-.94-2.06-.94-.94-2.06-.94 2.06-2.06.94zm-11 1L8.5 8.5l.94-2.06 2.06-.94-2.06-.94L8.5 2.5l-.94 2.06-2.06.94zm10 10l.94 2.06.94-2.06 2.06-.94-2.06-.94-.94-2.06-.94 2.06-2.06.94z\"/><path d=\"M17.41 7.96l-1.37-1.37c-.4-.4-.92-.59-1.43-.59-.52 0-1.04.2-1.43.59L10.3 9.45l-7.72 7.72c-.78.78-.78 2.05 0 2.83L4 21.41c.39.39.9.59 1.41.59.51 0 1.02-.2 1.41-.59l7.78-7.78 2.81-2.81c.8-.78.8-2.07 0-2.86zM5.41 20L4 18.59l7.72-7.72 1.47 1.35L5.41 20z\"/>\n",
              "  </svg>\n",
              "      </button>\n",
              "      \n",
              "  <style>\n",
              "    .colab-df-container {\n",
              "      display:flex;\n",
              "      flex-wrap:wrap;\n",
              "      gap: 12px;\n",
              "    }\n",
              "\n",
              "    .colab-df-convert {\n",
              "      background-color: #E8F0FE;\n",
              "      border: none;\n",
              "      border-radius: 50%;\n",
              "      cursor: pointer;\n",
              "      display: none;\n",
              "      fill: #1967D2;\n",
              "      height: 32px;\n",
              "      padding: 0 0 0 0;\n",
              "      width: 32px;\n",
              "    }\n",
              "\n",
              "    .colab-df-convert:hover {\n",
              "      background-color: #E2EBFA;\n",
              "      box-shadow: 0px 1px 2px rgba(60, 64, 67, 0.3), 0px 1px 3px 1px rgba(60, 64, 67, 0.15);\n",
              "      fill: #174EA6;\n",
              "    }\n",
              "\n",
              "    [theme=dark] .colab-df-convert {\n",
              "      background-color: #3B4455;\n",
              "      fill: #D2E3FC;\n",
              "    }\n",
              "\n",
              "    [theme=dark] .colab-df-convert:hover {\n",
              "      background-color: #434B5C;\n",
              "      box-shadow: 0px 1px 3px 1px rgba(0, 0, 0, 0.15);\n",
              "      filter: drop-shadow(0px 1px 2px rgba(0, 0, 0, 0.3));\n",
              "      fill: #FFFFFF;\n",
              "    }\n",
              "  </style>\n",
              "\n",
              "      <script>\n",
              "        const buttonEl =\n",
              "          document.querySelector('#df-96f85975-f81f-4efc-9172-3f4488f9d8bb button.colab-df-convert');\n",
              "        buttonEl.style.display =\n",
              "          google.colab.kernel.accessAllowed ? 'block' : 'none';\n",
              "\n",
              "        async function convertToInteractive(key) {\n",
              "          const element = document.querySelector('#df-96f85975-f81f-4efc-9172-3f4488f9d8bb');\n",
              "          const dataTable =\n",
              "            await google.colab.kernel.invokeFunction('convertToInteractive',\n",
              "                                                     [key], {});\n",
              "          if (!dataTable) return;\n",
              "\n",
              "          const docLinkHtml = 'Like what you see? Visit the ' +\n",
              "            '<a target=\"_blank\" href=https://colab.research.google.com/notebooks/data_table.ipynb>data table notebook</a>'\n",
              "            + ' to learn more about interactive tables.';\n",
              "          element.innerHTML = '';\n",
              "          dataTable['output_type'] = 'display_data';\n",
              "          await google.colab.output.renderOutput(dataTable, element);\n",
              "          const docLink = document.createElement('div');\n",
              "          docLink.innerHTML = docLinkHtml;\n",
              "          element.appendChild(docLink);\n",
              "        }\n",
              "      </script>\n",
              "    </div>\n",
              "  </div>\n",
              "  "
            ]
          },
          "metadata": {},
          "execution_count": 321
        }
      ],
      "source": [
        "Y_train =[]\n",
        "\n",
        "for x_val in X_train:\n",
        "    Yi = math.sin(2 * math.pi * x_val) + np.random.uniform(0, 0.25) \n",
        "    Y_train.append(Yi)\n",
        "\n",
        "# For better understanding, let's convert X and Y training dataset into a dataframe\n",
        "df_train = pd.DataFrame(data=(X_train,Y_train),index=['X_train','Y_train'])\n",
        "df_train = df_train.T\n",
        "df_train"
      ]
    },
    {
      "cell_type": "markdown",
      "id": "9d213434",
      "metadata": {
        "id": "9d213434"
      },
      "source": [
        "## C. In the similar way construct a testing set of size 50, i.e. Test = { ($x'_{1}$, $y'_{1}$), ($x'_{2}$, $y'_{2}$), ... , ($x'_{50}$, $y'_{50}$)}"
      ]
    },
    {
      "cell_type": "code",
      "execution_count": null,
      "id": "d7452530",
      "metadata": {
        "colab": {
          "base_uri": "https://localhost:8080/"
        },
        "id": "d7452530",
        "outputId": "e0e9b93c-2f8d-4938-aa74-7bc779fbe923"
      },
      "outputs": [
        {
          "output_type": "execute_result",
          "data": {
            "text/plain": [
              "      X_test    Y_test\n",
              "0   0.792763 -0.845674\n",
              "1   0.762654 -0.779147\n",
              "2   0.470067  0.356867\n",
              "3   0.200718  0.968651\n",
              "4   0.195596  1.041537\n",
              "5   0.305547  1.148374\n",
              "6   0.496392  0.027817\n",
              "7   0.835354 -0.669025\n",
              "8   0.020545  0.275470\n",
              "9   0.845477 -0.724188\n",
              "10  0.211250  1.005033\n",
              "11  0.462402  0.423653\n",
              "12  0.999233  0.149446\n",
              "13  0.965868  0.024879\n",
              "14  0.552363 -0.183746\n",
              "15  0.642752 -0.556964\n",
              "16  0.254769  1.129905\n",
              "17  0.391637  0.631352\n",
              "18  0.339726  0.854051\n",
              "19  0.744045 -0.831333\n",
              "20  0.624135 -0.603427\n",
              "21  0.214534  1.034704\n",
              "22  0.462750  0.339676\n",
              "23  0.512654  0.168952\n",
              "24  0.803287 -0.857218\n",
              "25  0.661211 -0.615288\n",
              "26  0.122463  0.863549\n",
              "27  0.180508  1.150886\n",
              "28  0.493699  0.142080\n",
              "29  0.105005  0.816094\n",
              "30  0.472249  0.189896\n",
              "31  0.321897  1.016076\n",
              "32  0.951250 -0.136702\n",
              "33  0.618237 -0.640844\n",
              "34  0.721417 -0.870926\n",
              "35  0.936529 -0.195854\n",
              "36  0.111170  0.724433\n",
              "37  0.891013 -0.438333\n",
              "38  0.675804 -0.721126\n",
              "39  0.107704  0.828164\n",
              "40  0.465281  0.241947\n",
              "41  0.941384 -0.355412\n",
              "42  0.594909 -0.442305\n",
              "43  0.741777 -0.760386\n",
              "44  0.898724 -0.370499\n",
              "45  0.282924  1.203971\n",
              "46  0.355928  0.988937\n",
              "47  0.015102  0.316291\n",
              "48  0.694153 -0.700888\n",
              "49  0.872749 -0.514354"
            ],
            "text/html": [
              "\n",
              "  <div id=\"df-b1d0092b-7c4c-49cb-9a1c-bbdfe0cd3c4d\">\n",
              "    <div class=\"colab-df-container\">\n",
              "      <div>\n",
              "<style scoped>\n",
              "    .dataframe tbody tr th:only-of-type {\n",
              "        vertical-align: middle;\n",
              "    }\n",
              "\n",
              "    .dataframe tbody tr th {\n",
              "        vertical-align: top;\n",
              "    }\n",
              "\n",
              "    .dataframe thead th {\n",
              "        text-align: right;\n",
              "    }\n",
              "</style>\n",
              "<table border=\"1\" class=\"dataframe\">\n",
              "  <thead>\n",
              "    <tr style=\"text-align: right;\">\n",
              "      <th></th>\n",
              "      <th>X_test</th>\n",
              "      <th>Y_test</th>\n",
              "    </tr>\n",
              "  </thead>\n",
              "  <tbody>\n",
              "    <tr>\n",
              "      <th>0</th>\n",
              "      <td>0.792763</td>\n",
              "      <td>-0.845674</td>\n",
              "    </tr>\n",
              "    <tr>\n",
              "      <th>1</th>\n",
              "      <td>0.762654</td>\n",
              "      <td>-0.779147</td>\n",
              "    </tr>\n",
              "    <tr>\n",
              "      <th>2</th>\n",
              "      <td>0.470067</td>\n",
              "      <td>0.356867</td>\n",
              "    </tr>\n",
              "    <tr>\n",
              "      <th>3</th>\n",
              "      <td>0.200718</td>\n",
              "      <td>0.968651</td>\n",
              "    </tr>\n",
              "    <tr>\n",
              "      <th>4</th>\n",
              "      <td>0.195596</td>\n",
              "      <td>1.041537</td>\n",
              "    </tr>\n",
              "    <tr>\n",
              "      <th>5</th>\n",
              "      <td>0.305547</td>\n",
              "      <td>1.148374</td>\n",
              "    </tr>\n",
              "    <tr>\n",
              "      <th>6</th>\n",
              "      <td>0.496392</td>\n",
              "      <td>0.027817</td>\n",
              "    </tr>\n",
              "    <tr>\n",
              "      <th>7</th>\n",
              "      <td>0.835354</td>\n",
              "      <td>-0.669025</td>\n",
              "    </tr>\n",
              "    <tr>\n",
              "      <th>8</th>\n",
              "      <td>0.020545</td>\n",
              "      <td>0.275470</td>\n",
              "    </tr>\n",
              "    <tr>\n",
              "      <th>9</th>\n",
              "      <td>0.845477</td>\n",
              "      <td>-0.724188</td>\n",
              "    </tr>\n",
              "    <tr>\n",
              "      <th>10</th>\n",
              "      <td>0.211250</td>\n",
              "      <td>1.005033</td>\n",
              "    </tr>\n",
              "    <tr>\n",
              "      <th>11</th>\n",
              "      <td>0.462402</td>\n",
              "      <td>0.423653</td>\n",
              "    </tr>\n",
              "    <tr>\n",
              "      <th>12</th>\n",
              "      <td>0.999233</td>\n",
              "      <td>0.149446</td>\n",
              "    </tr>\n",
              "    <tr>\n",
              "      <th>13</th>\n",
              "      <td>0.965868</td>\n",
              "      <td>0.024879</td>\n",
              "    </tr>\n",
              "    <tr>\n",
              "      <th>14</th>\n",
              "      <td>0.552363</td>\n",
              "      <td>-0.183746</td>\n",
              "    </tr>\n",
              "    <tr>\n",
              "      <th>15</th>\n",
              "      <td>0.642752</td>\n",
              "      <td>-0.556964</td>\n",
              "    </tr>\n",
              "    <tr>\n",
              "      <th>16</th>\n",
              "      <td>0.254769</td>\n",
              "      <td>1.129905</td>\n",
              "    </tr>\n",
              "    <tr>\n",
              "      <th>17</th>\n",
              "      <td>0.391637</td>\n",
              "      <td>0.631352</td>\n",
              "    </tr>\n",
              "    <tr>\n",
              "      <th>18</th>\n",
              "      <td>0.339726</td>\n",
              "      <td>0.854051</td>\n",
              "    </tr>\n",
              "    <tr>\n",
              "      <th>19</th>\n",
              "      <td>0.744045</td>\n",
              "      <td>-0.831333</td>\n",
              "    </tr>\n",
              "    <tr>\n",
              "      <th>20</th>\n",
              "      <td>0.624135</td>\n",
              "      <td>-0.603427</td>\n",
              "    </tr>\n",
              "    <tr>\n",
              "      <th>21</th>\n",
              "      <td>0.214534</td>\n",
              "      <td>1.034704</td>\n",
              "    </tr>\n",
              "    <tr>\n",
              "      <th>22</th>\n",
              "      <td>0.462750</td>\n",
              "      <td>0.339676</td>\n",
              "    </tr>\n",
              "    <tr>\n",
              "      <th>23</th>\n",
              "      <td>0.512654</td>\n",
              "      <td>0.168952</td>\n",
              "    </tr>\n",
              "    <tr>\n",
              "      <th>24</th>\n",
              "      <td>0.803287</td>\n",
              "      <td>-0.857218</td>\n",
              "    </tr>\n",
              "    <tr>\n",
              "      <th>25</th>\n",
              "      <td>0.661211</td>\n",
              "      <td>-0.615288</td>\n",
              "    </tr>\n",
              "    <tr>\n",
              "      <th>26</th>\n",
              "      <td>0.122463</td>\n",
              "      <td>0.863549</td>\n",
              "    </tr>\n",
              "    <tr>\n",
              "      <th>27</th>\n",
              "      <td>0.180508</td>\n",
              "      <td>1.150886</td>\n",
              "    </tr>\n",
              "    <tr>\n",
              "      <th>28</th>\n",
              "      <td>0.493699</td>\n",
              "      <td>0.142080</td>\n",
              "    </tr>\n",
              "    <tr>\n",
              "      <th>29</th>\n",
              "      <td>0.105005</td>\n",
              "      <td>0.816094</td>\n",
              "    </tr>\n",
              "    <tr>\n",
              "      <th>30</th>\n",
              "      <td>0.472249</td>\n",
              "      <td>0.189896</td>\n",
              "    </tr>\n",
              "    <tr>\n",
              "      <th>31</th>\n",
              "      <td>0.321897</td>\n",
              "      <td>1.016076</td>\n",
              "    </tr>\n",
              "    <tr>\n",
              "      <th>32</th>\n",
              "      <td>0.951250</td>\n",
              "      <td>-0.136702</td>\n",
              "    </tr>\n",
              "    <tr>\n",
              "      <th>33</th>\n",
              "      <td>0.618237</td>\n",
              "      <td>-0.640844</td>\n",
              "    </tr>\n",
              "    <tr>\n",
              "      <th>34</th>\n",
              "      <td>0.721417</td>\n",
              "      <td>-0.870926</td>\n",
              "    </tr>\n",
              "    <tr>\n",
              "      <th>35</th>\n",
              "      <td>0.936529</td>\n",
              "      <td>-0.195854</td>\n",
              "    </tr>\n",
              "    <tr>\n",
              "      <th>36</th>\n",
              "      <td>0.111170</td>\n",
              "      <td>0.724433</td>\n",
              "    </tr>\n",
              "    <tr>\n",
              "      <th>37</th>\n",
              "      <td>0.891013</td>\n",
              "      <td>-0.438333</td>\n",
              "    </tr>\n",
              "    <tr>\n",
              "      <th>38</th>\n",
              "      <td>0.675804</td>\n",
              "      <td>-0.721126</td>\n",
              "    </tr>\n",
              "    <tr>\n",
              "      <th>39</th>\n",
              "      <td>0.107704</td>\n",
              "      <td>0.828164</td>\n",
              "    </tr>\n",
              "    <tr>\n",
              "      <th>40</th>\n",
              "      <td>0.465281</td>\n",
              "      <td>0.241947</td>\n",
              "    </tr>\n",
              "    <tr>\n",
              "      <th>41</th>\n",
              "      <td>0.941384</td>\n",
              "      <td>-0.355412</td>\n",
              "    </tr>\n",
              "    <tr>\n",
              "      <th>42</th>\n",
              "      <td>0.594909</td>\n",
              "      <td>-0.442305</td>\n",
              "    </tr>\n",
              "    <tr>\n",
              "      <th>43</th>\n",
              "      <td>0.741777</td>\n",
              "      <td>-0.760386</td>\n",
              "    </tr>\n",
              "    <tr>\n",
              "      <th>44</th>\n",
              "      <td>0.898724</td>\n",
              "      <td>-0.370499</td>\n",
              "    </tr>\n",
              "    <tr>\n",
              "      <th>45</th>\n",
              "      <td>0.282924</td>\n",
              "      <td>1.203971</td>\n",
              "    </tr>\n",
              "    <tr>\n",
              "      <th>46</th>\n",
              "      <td>0.355928</td>\n",
              "      <td>0.988937</td>\n",
              "    </tr>\n",
              "    <tr>\n",
              "      <th>47</th>\n",
              "      <td>0.015102</td>\n",
              "      <td>0.316291</td>\n",
              "    </tr>\n",
              "    <tr>\n",
              "      <th>48</th>\n",
              "      <td>0.694153</td>\n",
              "      <td>-0.700888</td>\n",
              "    </tr>\n",
              "    <tr>\n",
              "      <th>49</th>\n",
              "      <td>0.872749</td>\n",
              "      <td>-0.514354</td>\n",
              "    </tr>\n",
              "  </tbody>\n",
              "</table>\n",
              "</div>\n",
              "      <button class=\"colab-df-convert\" onclick=\"convertToInteractive('df-b1d0092b-7c4c-49cb-9a1c-bbdfe0cd3c4d')\"\n",
              "              title=\"Convert this dataframe to an interactive table.\"\n",
              "              style=\"display:none;\">\n",
              "        \n",
              "  <svg xmlns=\"http://www.w3.org/2000/svg\" height=\"24px\"viewBox=\"0 0 24 24\"\n",
              "       width=\"24px\">\n",
              "    <path d=\"M0 0h24v24H0V0z\" fill=\"none\"/>\n",
              "    <path d=\"M18.56 5.44l.94 2.06.94-2.06 2.06-.94-2.06-.94-.94-2.06-.94 2.06-2.06.94zm-11 1L8.5 8.5l.94-2.06 2.06-.94-2.06-.94L8.5 2.5l-.94 2.06-2.06.94zm10 10l.94 2.06.94-2.06 2.06-.94-2.06-.94-.94-2.06-.94 2.06-2.06.94z\"/><path d=\"M17.41 7.96l-1.37-1.37c-.4-.4-.92-.59-1.43-.59-.52 0-1.04.2-1.43.59L10.3 9.45l-7.72 7.72c-.78.78-.78 2.05 0 2.83L4 21.41c.39.39.9.59 1.41.59.51 0 1.02-.2 1.41-.59l7.78-7.78 2.81-2.81c.8-.78.8-2.07 0-2.86zM5.41 20L4 18.59l7.72-7.72 1.47 1.35L5.41 20z\"/>\n",
              "  </svg>\n",
              "      </button>\n",
              "      \n",
              "  <style>\n",
              "    .colab-df-container {\n",
              "      display:flex;\n",
              "      flex-wrap:wrap;\n",
              "      gap: 12px;\n",
              "    }\n",
              "\n",
              "    .colab-df-convert {\n",
              "      background-color: #E8F0FE;\n",
              "      border: none;\n",
              "      border-radius: 50%;\n",
              "      cursor: pointer;\n",
              "      display: none;\n",
              "      fill: #1967D2;\n",
              "      height: 32px;\n",
              "      padding: 0 0 0 0;\n",
              "      width: 32px;\n",
              "    }\n",
              "\n",
              "    .colab-df-convert:hover {\n",
              "      background-color: #E2EBFA;\n",
              "      box-shadow: 0px 1px 2px rgba(60, 64, 67, 0.3), 0px 1px 3px 1px rgba(60, 64, 67, 0.15);\n",
              "      fill: #174EA6;\n",
              "    }\n",
              "\n",
              "    [theme=dark] .colab-df-convert {\n",
              "      background-color: #3B4455;\n",
              "      fill: #D2E3FC;\n",
              "    }\n",
              "\n",
              "    [theme=dark] .colab-df-convert:hover {\n",
              "      background-color: #434B5C;\n",
              "      box-shadow: 0px 1px 3px 1px rgba(0, 0, 0, 0.15);\n",
              "      filter: drop-shadow(0px 1px 2px rgba(0, 0, 0, 0.3));\n",
              "      fill: #FFFFFF;\n",
              "    }\n",
              "  </style>\n",
              "\n",
              "      <script>\n",
              "        const buttonEl =\n",
              "          document.querySelector('#df-b1d0092b-7c4c-49cb-9a1c-bbdfe0cd3c4d button.colab-df-convert');\n",
              "        buttonEl.style.display =\n",
              "          google.colab.kernel.accessAllowed ? 'block' : 'none';\n",
              "\n",
              "        async function convertToInteractive(key) {\n",
              "          const element = document.querySelector('#df-b1d0092b-7c4c-49cb-9a1c-bbdfe0cd3c4d');\n",
              "          const dataTable =\n",
              "            await google.colab.kernel.invokeFunction('convertToInteractive',\n",
              "                                                     [key], {});\n",
              "          if (!dataTable) return;\n",
              "\n",
              "          const docLinkHtml = 'Like what you see? Visit the ' +\n",
              "            '<a target=\"_blank\" href=https://colab.research.google.com/notebooks/data_table.ipynb>data table notebook</a>'\n",
              "            + ' to learn more about interactive tables.';\n",
              "          element.innerHTML = '';\n",
              "          dataTable['output_type'] = 'display_data';\n",
              "          await google.colab.output.renderOutput(dataTable, element);\n",
              "          const docLink = document.createElement('div');\n",
              "          docLink.innerHTML = docLinkHtml;\n",
              "          element.appendChild(docLink);\n",
              "        }\n",
              "      </script>\n",
              "    </div>\n",
              "  </div>\n",
              "  "
            ]
          },
          "metadata": {},
          "execution_count": 322
        }
      ],
      "source": [
        "X_test = np.random.uniform(0,1,50)\n",
        "Y_test = []\n",
        "\n",
        "for i in X_test:\n",
        "    Yi = math.sin(2 *math.pi*i) + np.random.uniform(0,0.25) \n",
        "    Y_test.append(Yi)\n",
        "\n",
        "# For better understanding, let's convert X and Y testing dataset into a dataframe\n",
        "df_test = pd.DataFrame(data=(X_test,Y_test),index=['X_test','Y_test'])\n",
        "df_test = df_test.T\n",
        "df_test"
      ]
    },
    {
      "cell_type": "markdown",
      "id": "3214fd8c",
      "metadata": {
        "id": "3214fd8c"
      },
      "source": [
        "## D. Estimate the Regularized Least Squared Polynomial Regression model of order M= 1, 2, 3, 9 using the training set T.\n",
        "\n",
        "\n",
        "## Example\n",
        "## 1. For M=1 , we need to estimate F(x) = $β_{1}$x +  $β_{0}$\n",
        "## 2. For M = 2,  F(x) =  $β_{2}$ $x^{2}$ +  $β_{1}$x +  $β_{0}$"
      ]
    },
    {
      "cell_type": "markdown",
      "source": [
        "### In the previous assignment, we observed that, as our value of the coefficients increases, this results in the problem  of overfitting. Overfitting occurs when the trained model performs well on the training data and performs poorly on the testing dataset. This can be taken care of by following steps :\n",
        "\n",
        "### 1. By increasing the training dataset to better train our model.\n",
        "### 2. Regularization methods that will apply a penalizing term (reducing the weights and biases) to overcome overfitting.\n",
        "\n",
        "\n",
        "### Let's see how our graph looks like without \"Regularization\"..."
      ],
      "metadata": {
        "id": "X9u7Ip2PZfax"
      },
      "id": "X9u7Ip2PZfax"
    },
    {
      "cell_type": "code",
      "source": [
        "# Find LSPR for M = 1, 2, 3, 9\n",
        "\n",
        "# Least Square Polynomial Regression\n",
        "def LSPR(x_dataset, y_dataset, degree):\n",
        "  no_of_rows = len(x_dataset)\n",
        "  no_of_cols = degree+1\n",
        "\n",
        "  # finding the X matrix\n",
        "\n",
        "  # initialize X matrix with 0 initially\n",
        "  X = np.zeros((no_of_rows, no_of_cols))\n",
        "  for xi in range (no_of_rows):\n",
        "    for deg in range (no_of_cols):\n",
        "      X[xi][deg] += math.pow(x_dataset[xi], deg)\n",
        "  \n",
        "  # calculating ((X^T . X)^(−1)) . X^T . Y\n",
        "  X_Trans_X_Inv = np.matrix((np.dot(X.T, X))).I\n",
        "  temp = np.matrix(np.dot(X_Trans_X_Inv, X.T))\n",
        "  return np.dot(temp, y_dataset.values)\n",
        "\n",
        "LSP_ord_1 = np.array(LSPR(df_train['X_train'], df_train['Y_train'], 1))\n",
        "LSP_ord_2 = np.array(LSPR(df_train['X_train'], df_train['Y_train'], 2))\n",
        "LSP_ord_3 = np.array(LSPR(df_train['X_train'], df_train['Y_train'], 3))\n",
        "LSP_ord_9 = np.array(LSPR(df_train['X_train'], df_train['Y_train'], 9))"
      ],
      "metadata": {
        "id": "6qK1gTj4Zyn6"
      },
      "id": "6qK1gTj4Zyn6",
      "execution_count": null,
      "outputs": []
    },
    {
      "cell_type": "code",
      "source": [
        "# Find the predicted values for M = 1, 2, 3, 9\n",
        "\n",
        "# Get the 'x' test data as an array to pass on to polynomial function\n",
        "X = np.array(df_test['X_test'])\n",
        "y_predicted_m1 = []\n",
        "y_predicted_m2 = []\n",
        "y_predicted_m3 = []\n",
        "y_predicted_m9 = []\n",
        "\n",
        "# M = 1\n",
        "for val in X:\n",
        "  y_val = 0\n",
        "  for deg in range(1, -1, -1):\n",
        "    y_val += LSP_ord_1[0][deg] * math.pow(val, deg)\n",
        "  y_predicted_m1.append(y_val)\n",
        "\n",
        "df_predicted_m1 = pd.DataFrame(data=(X, y_predicted_m1),index=['X', 'Y_predicted']).T\n",
        "\n",
        "# M = 2\n",
        "for val in X:\n",
        "  y_val = 0\n",
        "  for deg in range(2, -1, -1):\n",
        "    y_val += LSP_ord_2[0][deg] * math.pow(val, deg)\n",
        "  y_predicted_m2.append(y_val)\n",
        "\n",
        "df_predicted_m2 = pd.DataFrame(data=(X, y_predicted_m2),index=['X', 'Y_predicted']).T\n",
        "\n",
        "# M = 3\n",
        "for val in X:\n",
        "  y_val = 0\n",
        "  for deg in range(3, -1, -1):\n",
        "    y_val += LSP_ord_3[0][deg] * math.pow(val, deg)\n",
        "  y_predicted_m3.append(y_val)\n",
        "\n",
        "df_predicted_m3 = pd.DataFrame(data=(X, y_predicted_m3),index=['X', 'Y_predicted']).T\n",
        "\n",
        "# M = 9\n",
        "for val in X:\n",
        "  y_val = 0\n",
        "  for deg in range(9, -1, -1):\n",
        "    y_val += LSP_ord_9[0][deg] * math.pow(val, deg)\n",
        "  y_predicted_m9.append(y_val)\n",
        "\n",
        "df_predicted_m9 = pd.DataFrame(data=(X, y_predicted_m9),index=['X', 'Y_predicted']).T"
      ],
      "metadata": {
        "id": "etwIKkSMZ5_q"
      },
      "id": "etwIKkSMZ5_q",
      "execution_count": null,
      "outputs": []
    },
    {
      "cell_type": "code",
      "source": [
        "# Plotting all the points to compare the regression graph\n",
        "\n",
        "fig, axes = plt.subplots(1, 2, figsize=(18, 10))\n",
        "\n",
        "df_train_sort = df_train.sort_values(by=['X_train'])\n",
        "df_pred_sort_m1 = df_predicted_m1.sort_values(by=['X'])\n",
        "df_pred_sort_m2 = df_predicted_m2.sort_values(by=['X'])\n",
        "df_pred_sort_m3 = df_predicted_m3.sort_values(by=['X'])\n",
        "df_pred_sort_m9 = df_predicted_m9.sort_values(by=['X'])\n",
        "\n",
        "axes[0].plot(df_train_sort['X_train'], df_train_sort['Y_train'], color='red')\n",
        "axes[0].scatter(df_test['X_test'], df_test['Y_test'], color='blue')\n",
        "axes[0].legend(['Training data', 'Test data'])\n",
        "axes[0].set_title('Polynomial Regression for Training Set')\n",
        "\n",
        "axes[1].scatter(df_train['X_train'], df_train['Y_train'], color='blue')\n",
        "axes[1].plot(df_pred_sort_m1['X'], df_pred_sort_m1['Y_predicted'], color='red')\n",
        "axes[1].plot(df_pred_sort_m2['X'], df_pred_sort_m2['Y_predicted'], color='orange')\n",
        "axes[1].plot(df_pred_sort_m3['X'], df_pred_sort_m3['Y_predicted'], color='magenta')\n",
        "axes[1].plot(df_pred_sort_m9['X'], df_pred_sort_m9['Y_predicted'], color='green')\n",
        "axes[1].legend(['M=1 predicted values', 'M=2 predicted values', 'M=3 predicted values', 'M=9 predicted values', 'Training Data'])\n",
        "axes[1].set_title('Polynomial Regression for Testing Set')"
      ],
      "metadata": {
        "colab": {
          "base_uri": "https://localhost:8080/"
        },
        "id": "UoWz3JeqaVIc",
        "outputId": "b58160c8-0acf-4de6-b39f-b6364f3e898b"
      },
      "id": "UoWz3JeqaVIc",
      "execution_count": null,
      "outputs": [
        {
          "output_type": "execute_result",
          "data": {
            "text/plain": [
              "Text(0.5, 1.0, 'Polynomial Regression for Testing Set')"
            ]
          },
          "metadata": {},
          "execution_count": 325
        },
        {
          "output_type": "display_data",
          "data": {
            "text/plain": [
              "<Figure size 1296x720 with 2 Axes>"
            ],
            "image/png": "[encoded data removed]"
          },
          "metadata": {
            "needs_background": "light"
          }
        }
      ]
    },
    {
      "cell_type": "markdown",
      "source": [
        "## On comparing the values of coefficients $β_{1}$, $β_{2}$, $β_{2}$ ... for increasing order of M, we notice that the value of coefficients increases significantly on going from order 3 to order 9."
      ],
      "metadata": {
        "id": "ocbengLwXBJ2"
      },
      "id": "ocbengLwXBJ2"
    },
    {
      "cell_type": "code",
      "source": [
        "print(f'The coefficiet for M=1: {LSP_ord_1}\\n')\n",
        "print(f'The coefficiet for M=2: {LSP_ord_2}\\n')\n",
        "print(f'The coefficiet for M=3: {LSP_ord_3}\\n')\n",
        "print(f'The coefficiet for M=9: {LSP_ord_9}\\n')"
      ],
      "metadata": {
        "colab": {
          "base_uri": "https://localhost:8080/"
        },
        "id": "AanN6ziFXH6P",
        "outputId": "fb1d61a4-f16d-4e4d-d510-a0c42df3a5d8"
      },
      "id": "AanN6ziFXH6P",
      "execution_count": null,
      "outputs": [
        {
          "output_type": "stream",
          "name": "stdout",
          "text": [
            "The coefficiet for M=1: [[ 0.67738267 -1.36230721]]\n",
            "\n",
            "The coefficiet for M=2: [[ 0.56084828 -0.40614083 -1.0359229 ]]\n",
            "\n",
            "The coefficiet for M=3: [[-1.85385787e-03  1.18606440e+01 -3.48893843e+01  2.33858947e+01]]\n",
            "\n",
            "The coefficiet for M=9: [[ 1.40696342e-01  1.38594483e+00  2.04955549e+01  6.06173024e+02\n",
            "  -6.73946963e+03  2.76898301e+04 -5.88975234e+04  6.89580748e+04\n",
            "  -4.21384600e+04  1.05008219e+04]]\n",
            "\n"
          ]
        }
      ]
    },
    {
      "cell_type": "markdown",
      "source": [
        "## We can avoid overfitting by using so-called ''regularization''. How does it work? Usually, a function is prone to be overfitting when its coefficients (weighting values) has big values and not well distributed. Thus, we will force our training process to make those coefficients small by adding a term in our cost function. This process also makes those coefficients more well distributed. Here is our new cost function. (Questions E, F, G, H answered collectively for given value of M=1, 2, 3, 9)\n",
        "\n",
        "![image.png](data:image/png;base64,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)"
      ],
      "metadata": {
        "id": "Iee4hc3rYr5C"
      },
      "id": "Iee4hc3rYr5C"
    },
    {
      "cell_type": "markdown",
      "source": [
        "On solving, we get a = [$a_{0}$, $a_{1}$, $a_{2}$, ... , $a_{n}$] as\n",
        "\n",
        "$({X^{T}} X+λ.I )^{-1}$ . $X^{T}$.y"
      ],
      "metadata": {
        "id": "B1itAPFFpA6m"
      },
      "id": "B1itAPFFpA6m"
    },
    {
      "cell_type": "code",
      "source": [
        "# Least Square Polynomial Regression\n",
        "def regularized_LSPR(x_dataset, y_dataset, degree, Lambda):\n",
        "  no_of_rows = len(x_dataset)\n",
        "  no_of_cols = degree+1\n",
        "\n",
        "  # finding the X matrix\n",
        "\n",
        "  # initialize X matrix with 0 initially\n",
        "  X = np.zeros((no_of_rows, no_of_cols))\n",
        "  lam_I = np.identity(degree+1)*Lambda\n",
        "  for xi in range (no_of_rows):\n",
        "    for deg in range (no_of_cols):\n",
        "      X[xi][deg] += math.pow(x_dataset[xi], deg)\n",
        "  \n",
        "  # calculating ((X^T . X)^(−1)) . X^T . Y\n",
        "  X_Trans_X = np.matrix((np.dot(X.T, X)))\n",
        "  X_Trans_X = np.add(X_Trans_X, lam_I)\n",
        "  X_Trans_X_Inv = X_Trans_X.I\n",
        "  temp = np.matrix(np.dot(X_Trans_X_Inv, X.T))\n",
        "  return np.dot(temp, y_dataset.values)"
      ],
      "metadata": {
        "id": "U781xhI2o10J"
      },
      "id": "U781xhI2o10J",
      "execution_count": null,
      "outputs": []
    },
    {
      "cell_type": "markdown",
      "source": [
        "### For order m=1"
      ],
      "metadata": {
        "id": "xe1GcxAtgIxE"
      },
      "id": "xe1GcxAtgIxE"
    },
    {
      "cell_type": "markdown",
      "source": [
        "#### List the value of coefficients of estimated regularized least squared polynomial regression models for each case."
      ],
      "metadata": {
        "id": "6i1vaHeSsh7W"
      },
      "id": "6i1vaHeSsh7W"
    },
    {
      "cell_type": "code",
      "source": [
        "reg_LSP_ord_1_0 = np.array(regularized_LSPR(df_train['X_train'], df_train['Y_train'], 1, 0))\n",
        "reg_LSP_ord_1_1 = np.array(regularized_LSPR(df_train['X_train'], df_train['Y_train'], 1, 1))\n",
        "reg_LSP_ord_1_5 = np.array(regularized_LSPR(df_train['X_train'], df_train['Y_train'], 1, 5))\n",
        "reg_LSP_ord_1_10 = np.array(regularized_LSPR(df_train['X_train'], df_train['Y_train'], 1, 10))\n",
        "\n",
        "print(f'coefficient value with regularization and λ = 0: {reg_LSP_ord_1_0}')\n",
        "print(f'coefficient value with regularization and λ = 1: {reg_LSP_ord_1_1}')\n",
        "print(f'coefficient value with regularization and λ = 5: {reg_LSP_ord_1_5}')\n",
        "print(f'coefficient value with regularization and λ = 10: {reg_LSP_ord_1_10}')"
      ],
      "metadata": {
        "colab": {
          "base_uri": "https://localhost:8080/"
        },
        "id": "MyewsyjAsq09",
        "outputId": "38aca790-d038-4823-b4f2-dc434e5a5a37"
      },
      "id": "MyewsyjAsq09",
      "execution_count": null,
      "outputs": [
        {
          "output_type": "stream",
          "name": "stdout",
          "text": [
            "coefficient value with regularization and λ = 0: [[ 0.67738267 -1.36230721]]\n",
            "coefficient value with regularization and λ = 1: [[ 0.40540654 -0.84264758]]\n",
            "coefficient value with regularization and λ = 5: [[ 0.14532878 -0.33886416]]\n",
            "coefficient value with regularization and λ = 10: [[ 0.07518377 -0.19664686]]\n"
          ]
        }
      ]
    },
    {
      "cell_type": "markdown",
      "source": [
        "#### Obtain the prediction on testing set for regularized least squared polynomial regression models for order M =1,2,3 and 9."
      ],
      "metadata": {
        "id": "M8giB4uw0Cqm"
      },
      "id": "M8giB4uw0Cqm"
    },
    {
      "cell_type": "code",
      "source": [
        "y_predicted_m1_0, y_predicted_m1_1, y_predicted_m1_5, y_predicted_m1_10 = [], [], [] ,[]\n",
        "\n",
        "for val in X:\n",
        "  y_val = 0\n",
        "  for deg in range(1, -1, -1):\n",
        "    y_val += reg_LSP_ord_1_0[0][deg] * math.pow(val, deg)\n",
        "  y_predicted_m1_0.append(y_val)\n",
        "\n",
        "for val in X:\n",
        "  y_val = 0\n",
        "  for deg in range(1, -1, -1):\n",
        "    y_val += reg_LSP_ord_1_1[0][deg] * math.pow(val, deg)\n",
        "  y_predicted_m1_1.append(y_val)\n",
        "\n",
        "for val in X:\n",
        "  y_val = 0\n",
        "  for deg in range(1, -1, -1):\n",
        "    y_val += reg_LSP_ord_1_5[0][deg] * math.pow(val, deg)\n",
        "  y_predicted_m1_5.append(y_val)\n",
        "\n",
        "for val in X:\n",
        "  y_val = 0\n",
        "  for deg in range(1, -1, -1):\n",
        "    y_val += reg_LSP_ord_1_10[0][deg] * math.pow(val, deg)\n",
        "  y_predicted_m1_10.append(y_val)\n",
        "\n",
        "df_predicted_m1_0 = pd.DataFrame(data=(X, y_predicted_m1_0),index=['X', 'Y_predicted']).T\n",
        "df_predicted_m1_1 = pd.DataFrame(data=(X, y_predicted_m1_1),index=['X', 'Y_predicted']).T\n",
        "df_predicted_m1_5 = pd.DataFrame(data=(X, y_predicted_m1_5),index=['X', 'Y_predicted']).T\n",
        "df_predicted_m1_10 = pd.DataFrame(data=(X, y_predicted_m1_10),index=['X', 'Y_predicted']).T"
      ],
      "metadata": {
        "id": "DfBKgeKl0F8W"
      },
      "id": "DfBKgeKl0F8W",
      "execution_count": null,
      "outputs": []
    },
    {
      "cell_type": "markdown",
      "source": [
        "#### Plot the estimate obtained by regularized least squared polynomial regression models for training set along with $y_{1}$, $y_{2}$, $y_{3}$, ..., $y_{20}$ AND for testing set along with $y'_{1}$, $y'_{2}$, $y'_{3}$, ..., $y'_{50}$"
      ],
      "metadata": {
        "id": "OUUTsl0L2Gyi"
      },
      "id": "OUUTsl0L2Gyi"
    },
    {
      "cell_type": "code",
      "source": [
        "# Plotting all the points to compare the regression graph\n",
        "\n",
        "fig, axes = plt.subplots(1, 2, figsize=(18, 10))\n",
        "\n",
        "df_train_sort = df_train.sort_values(by=['X_train'])\n",
        "df_pred_sort_m1_0 = df_predicted_m1_0.sort_values(by=['X'])\n",
        "df_pred_sort_m1_1 = df_predicted_m1_1.sort_values(by=['X'])\n",
        "df_pred_sort_m1_5 = df_predicted_m1_5.sort_values(by=['X'])\n",
        "df_pred_sort_m1_10 = df_predicted_m1_10.sort_values(by=['X'])\n",
        "\n",
        "axes[0].plot(df_train_sort['X_train'], df_train_sort['Y_train'], color='red')\n",
        "axes[0].scatter(df_test['X_test'], df_test['Y_test'], color='blue')\n",
        "axes[0].legend(['Training data', 'Test data'])\n",
        "axes[0].set_title('Polynomial Regression for Training Set')\n",
        "\n",
        "axes[1].scatter(df_train['X_train'], df_train['Y_train'], color='blue')\n",
        "axes[1].plot(df_pred_sort_m1_0['X'], df_pred_sort_m1_0['Y_predicted'], color='red')\n",
        "axes[1].plot(df_pred_sort_m1_1['X'], df_pred_sort_m1_1['Y_predicted'], color='orange')\n",
        "axes[1].plot(df_pred_sort_m1_5['X'], df_pred_sort_m1_5['Y_predicted'], color='magenta')\n",
        "axes[1].plot(df_pred_sort_m1_10['X'], df_pred_sort_m1_10['Y_predicted'], color='green')\n",
        "axes[1].legend(['λ=0 predicted values', 'λ=1 predicted values', 'λ=5 predicted values', 'λ=10 predicted values', 'Training Data'])\n",
        "axes[1].set_title('Polynomial Regression for Testing Set')"
      ],
      "metadata": {
        "colab": {
          "base_uri": "https://localhost:8080/"
        },
        "id": "Cii74wWP2a7i",
        "outputId": "64a655d7-6baf-4508-ae36-125ca378750d"
      },
      "id": "Cii74wWP2a7i",
      "execution_count": null,
      "outputs": [
        {
          "output_type": "execute_result",
          "data": {
            "text/plain": [
              "Text(0.5, 1.0, 'Polynomial Regression for Testing Set')"
            ]
          },
          "metadata": {},
          "execution_count": 330
        },
        {
          "output_type": "display_data",
          "data": {
            "text/plain": [
              "<Figure size 1296x720 with 2 Axes>"
            ],
            "image/png": "[encoded data removed]"
          },
          "metadata": {
            "needs_background": "light"
          }
        }
      ]
    },
    {
      "cell_type": "markdown",
      "source": [
        "#### Study the effect of regularization parameter λ on testing RMSE and flexibility of curve"
      ],
      "metadata": {
        "id": "P-m2Fq_l5kRu"
      },
      "id": "P-m2Fq_l5kRu"
    },
    {
      "cell_type": "markdown",
      "source": [
        "##### λ = 0"
      ],
      "metadata": {
        "id": "Zt0AxZi0s5oE"
      },
      "id": "Zt0AxZi0s5oE"
    },
    {
      "cell_type": "code",
      "execution_count": null,
      "id": "8cf44dc8",
      "metadata": {
        "colab": {
          "base_uri": "https://localhost:8080/"
        },
        "id": "8cf44dc8",
        "outputId": "335c8439-9a91-4fa5-cc95-00895d4ab81d"
      },
      "outputs": [
        {
          "output_type": "execute_result",
          "data": {
            "text/plain": [
              "0.47919331696942985"
            ]
          },
          "metadata": {},
          "execution_count": 331
        }
      ],
      "source": [
        "y_vs_y_hat_m1 = pd.DataFrame(data=(np.array(df_predicted_m1_0['Y_predicted']), Y_test),index=['y predicted m1 λ0','Y_train']).T\n",
        "y_vs_y_hat_m1['sum of square error'] = (y_vs_y_hat_m1['y predicted m1 λ0'] - y_vs_y_hat_m1['Y_train'])**2\n",
        "\n",
        "rmse_m1_λ0 = 0\n",
        "\n",
        "rmse_m1_λ0 = y_vs_y_hat_m1['sum of square error'].sum() / len(y_vs_y_hat_m1)\n",
        "rmse_m1_λ0 = math.sqrt(rmse_m1_λ0)\n",
        "rmse_m1_λ0"
      ]
    },
    {
      "cell_type": "markdown",
      "source": [
        "##### λ = 1"
      ],
      "metadata": {
        "id": "CwdnL3A5vthF"
      },
      "id": "CwdnL3A5vthF"
    },
    {
      "cell_type": "code",
      "execution_count": null,
      "metadata": {
        "colab": {
          "base_uri": "https://localhost:8080/"
        },
        "outputId": "3eef7a12-e563-4761-ff60-ea712c734198",
        "id": "3wGZ4IS9vthG"
      },
      "outputs": [
        {
          "output_type": "execute_result",
          "data": {
            "text/plain": [
              "0.5452231185526227"
            ]
          },
          "metadata": {},
          "execution_count": 332
        }
      ],
      "source": [
        "y_vs_y_hat_m1 = pd.DataFrame(data=(np.array(df_predicted_m1_1['Y_predicted']), Y_test),index=['y predicted m1 λ1','Y_train']).T\n",
        "y_vs_y_hat_m1['sum of square error'] = (y_vs_y_hat_m1['y predicted m1 λ1'] - y_vs_y_hat_m1['Y_train'])**2\n",
        "\n",
        "rmse_m1_λ1 = 0\n",
        "\n",
        "rmse_m1_λ1 = y_vs_y_hat_m1['sum of square error'].sum() / len(y_vs_y_hat_m1)\n",
        "rmse_m1_λ1 = math.sqrt(rmse_m1_λ1)\n",
        "rmse_m1_λ1"
      ],
      "id": "3wGZ4IS9vthG"
    },
    {
      "cell_type": "markdown",
      "source": [
        "##### λ = 5"
      ],
      "metadata": {
        "id": "qolac4_XvwDT"
      },
      "id": "qolac4_XvwDT"
    },
    {
      "cell_type": "code",
      "execution_count": null,
      "metadata": {
        "colab": {
          "base_uri": "https://localhost:8080/"
        },
        "outputId": "117f7f65-21e1-41a3-a1c8-cee5685a8426",
        "id": "QBWQvs-KvwDU"
      },
      "outputs": [
        {
          "output_type": "execute_result",
          "data": {
            "text/plain": [
              "0.635143525650125"
            ]
          },
          "metadata": {},
          "execution_count": 333
        }
      ],
      "source": [
        "y_vs_y_hat_m1 = pd.DataFrame(data=(np.array(df_predicted_m1_5['Y_predicted']), Y_test),index=['y predicted m1 λ5','Y_train']).T\n",
        "y_vs_y_hat_m1['sum of square error'] = (y_vs_y_hat_m1['y predicted m1 λ5'] - y_vs_y_hat_m1['Y_train'])**2\n",
        "\n",
        "rmse_m1_λ5 = 0\n",
        "\n",
        "rmse_m1_λ5 = y_vs_y_hat_m1['sum of square error'].sum() / len(y_vs_y_hat_m1)\n",
        "rmse_m1_λ5 = math.sqrt(rmse_m1_λ5)\n",
        "rmse_m1_λ5"
      ],
      "id": "QBWQvs-KvwDU"
    },
    {
      "cell_type": "markdown",
      "source": [
        "##### λ = 10"
      ],
      "metadata": {
        "id": "J_T_rM8-vyMH"
      },
      "id": "J_T_rM8-vyMH"
    },
    {
      "cell_type": "code",
      "execution_count": null,
      "metadata": {
        "colab": {
          "base_uri": "https://localhost:8080/"
        },
        "outputId": "931cbde3-2879-4910-efa6-86dd18d87d0b",
        "id": "CyDV5edovyMI"
      },
      "outputs": [
        {
          "output_type": "execute_result",
          "data": {
            "text/plain": [
              "0.6632510699535346"
            ]
          },
          "metadata": {},
          "execution_count": 334
        }
      ],
      "source": [
        "y_vs_y_hat_m1 = pd.DataFrame(data=(np.array(df_predicted_m1_10['Y_predicted']), Y_test),index=['y predicted m1 λ10','Y_train']).T\n",
        "y_vs_y_hat_m1['sum of square error'] = (y_vs_y_hat_m1['y predicted m1 λ10'] - y_vs_y_hat_m1['Y_train'])**2\n",
        "\n",
        "rmse_m1_λ10 = 0\n",
        "\n",
        "rmse_m1_λ10 = y_vs_y_hat_m1['sum of square error'].sum() / len(y_vs_y_hat_m1)\n",
        "rmse_m1_λ10 = math.sqrt(rmse_m1_λ10)\n",
        "rmse_m1_λ10"
      ],
      "id": "CyDV5edovyMI"
    },
    {
      "cell_type": "markdown",
      "source": [
        "### For order m=2"
      ],
      "metadata": {
        "id": "vjdHGgwajGE6"
      },
      "id": "vjdHGgwajGE6"
    },
    {
      "cell_type": "markdown",
      "source": [
        "#### List the value of coefficients of estimated regularized least squared polynomial regression models for each case."
      ],
      "metadata": {
        "id": "hJheNmc_tFDI"
      },
      "id": "hJheNmc_tFDI"
    },
    {
      "cell_type": "code",
      "source": [
        "reg_LSP_ord_2_0 = np.array(regularized_LSPR(df_train['X_train'], df_train['Y_train'], 2, 0))\n",
        "reg_LSP_ord_2_1 = np.array(regularized_LSPR(df_train['X_train'], df_train['Y_train'], 2, 1))\n",
        "reg_LSP_ord_2_5 = np.array(regularized_LSPR(df_train['X_train'], df_train['Y_train'], 2, 5))\n",
        "reg_LSP_ord_2_10 = np.array(regularized_LSPR(df_train['X_train'], df_train['Y_train'], 2, 10))\n",
        "\n",
        "print(f'coefficient value with regularization and λ = 0: {reg_LSP_ord_2_0}')\n",
        "print(f'coefficient value with regularization and λ = 1: {reg_LSP_ord_2_1}')\n",
        "print(f'coefficient value with regularization and λ = 5: {reg_LSP_ord_2_5}')\n",
        "print(f'coefficient value with regularization and λ = 10: {reg_LSP_ord_2_10}')"
      ],
      "metadata": {
        "outputId": "3890f6bd-e1de-4692-f3c0-64154296b4f4",
        "colab": {
          "base_uri": "https://localhost:8080/"
        },
        "id": "h_m0fhT3tFDJ"
      },
      "execution_count": null,
      "outputs": [
        {
          "output_type": "stream",
          "name": "stdout",
          "text": [
            "coefficient value with regularization and λ = 0: [[ 0.56084828 -0.40614083 -1.0359229 ]]\n",
            "coefficient value with regularization and λ = 1: [[ 0.42380632 -0.49032625 -0.56779118]]\n",
            "coefficient value with regularization and λ = 5: [[ 0.18555579 -0.25226579 -0.27565511]]\n",
            "coefficient value with regularization and λ = 10: [[ 0.10145907 -0.15969676 -0.17128962]]\n"
          ]
        }
      ],
      "id": "h_m0fhT3tFDJ"
    },
    {
      "cell_type": "markdown",
      "source": [
        "#### Obtain the prediction on testing set for regularized least squared\n",
        "polynomial regression models for order M =1,2,3 and 9."
      ],
      "metadata": {
        "id": "EDVv7Hcm1Hhp"
      },
      "id": "EDVv7Hcm1Hhp"
    },
    {
      "cell_type": "code",
      "source": [
        "y_predicted_m2_0, y_predicted_m2_1, y_predicted_m2_5, y_predicted_m2_10 = [], [], [] ,[]\n",
        "\n",
        "for val in X:\n",
        "  y_val = 0\n",
        "  for deg in range(2, -1, -1):\n",
        "    y_val += reg_LSP_ord_2_0[0][deg] * math.pow(val, deg)\n",
        "  y_predicted_m2_0.append(y_val)\n",
        "\n",
        "for val in X:\n",
        "  y_val = 0\n",
        "  for deg in range(2, -1, -1):\n",
        "    y_val += reg_LSP_ord_2_1[0][deg] * math.pow(val, deg)\n",
        "  y_predicted_m2_1.append(y_val)\n",
        "\n",
        "for val in X:\n",
        "  y_val = 0\n",
        "  for deg in range(2, -1, -1):\n",
        "    y_val += reg_LSP_ord_2_5[0][deg] * math.pow(val, deg)\n",
        "  y_predicted_m2_5.append(y_val)\n",
        "\n",
        "for val in X:\n",
        "  y_val = 0\n",
        "  for deg in range(2, -1, -1):\n",
        "    y_val += reg_LSP_ord_2_10[0][deg] * math.pow(val, deg)\n",
        "  y_predicted_m2_10.append(y_val)\n",
        "\n",
        "df_predicted_m2_0 = pd.DataFrame(data=(X, y_predicted_m2_0),index=['X', 'Y_predicted']).T\n",
        "df_predicted_m2_1 = pd.DataFrame(data=(X, y_predicted_m2_1),index=['X', 'Y_predicted']).T\n",
        "df_predicted_m2_5 = pd.DataFrame(data=(X, y_predicted_m2_5),index=['X', 'Y_predicted']).T\n",
        "df_predicted_m2_10 = pd.DataFrame(data=(X, y_predicted_m2_10),index=['X', 'Y_predicted']).T"
      ],
      "metadata": {
        "id": "PC5U-US91Hhp"
      },
      "execution_count": null,
      "outputs": [],
      "id": "PC5U-US91Hhp"
    },
    {
      "cell_type": "markdown",
      "source": [
        "#### Plot the estimate obtained by regularized least squared polynomial regression models for training set along with $y_{1}$, $y_{2}$, $y_{3}$, ..., $y_{20}$ AND for testing set along with $y'_{1}$, $y'_{2}$, $y'_{3}$, ..., $y'_{50}$"
      ],
      "metadata": {
        "id": "liPXHluq2-17"
      },
      "id": "liPXHluq2-17"
    },
    {
      "cell_type": "code",
      "source": [
        "# Plotting all the points to compare the regression graph\n",
        "\n",
        "fig, axes = plt.subplots(1, 2, figsize=(18, 10))\n",
        "\n",
        "df_train_sort = df_train.sort_values(by=['X_train'])\n",
        "df_pred_sort_m2_0 = df_predicted_m2_0.sort_values(by=['X'])\n",
        "df_pred_sort_m2_1 = df_predicted_m2_1.sort_values(by=['X'])\n",
        "df_pred_sort_m2_5 = df_predicted_m2_5.sort_values(by=['X'])\n",
        "df_pred_sort_m2_10 = df_predicted_m2_10.sort_values(by=['X'])\n",
        "\n",
        "axes[0].plot(df_train_sort['X_train'], df_train_sort['Y_train'], color='red')\n",
        "axes[0].scatter(df_test['X_test'], df_test['Y_test'], color='blue')\n",
        "axes[0].legend(['Training data', 'Test data'])\n",
        "axes[0].set_title('Polynomial Regression for Training Set')\n",
        "\n",
        "axes[1].scatter(df_train['X_train'], df_train['Y_train'], color='blue')\n",
        "axes[1].plot(df_pred_sort_m2_0['X'], df_pred_sort_m2_0['Y_predicted'], color='red')\n",
        "axes[1].plot(df_pred_sort_m2_1['X'], df_pred_sort_m2_1['Y_predicted'], color='orange')\n",
        "axes[1].plot(df_pred_sort_m2_5['X'], df_pred_sort_m2_5['Y_predicted'], color='magenta')\n",
        "axes[1].plot(df_pred_sort_m2_10['X'], df_pred_sort_m2_10['Y_predicted'], color='green')\n",
        "axes[1].legend(['λ=0 predicted values', 'λ=1 predicted values', 'λ=5 predicted values', 'λ=10 predicted values', 'Training Data'])\n",
        "axes[1].set_title('Polynomial Regression for Testing Set')"
      ],
      "metadata": {
        "outputId": "caf819fd-a5d7-4d3d-f930-14017e1a307e",
        "colab": {
          "base_uri": "https://localhost:8080/"
        },
        "id": "sic_Rqeo2-17"
      },
      "execution_count": null,
      "outputs": [
        {
          "output_type": "execute_result",
          "data": {
            "text/plain": [
              "Text(0.5, 1.0, 'Polynomial Regression for Testing Set')"
            ]
          },
          "metadata": {},
          "execution_count": 337
        },
        {
          "output_type": "display_data",
          "data": {
            "text/plain": [
              "<Figure size 1296x720 with 2 Axes>"
            ],
            "image/png": "[encoded data removed]"
          },
          "metadata": {
            "needs_background": "light"
          }
        }
      ],
      "id": "sic_Rqeo2-17"
    },
    {
      "cell_type": "markdown",
      "source": [
        "#### Study the effect of regularization parameter λ on testing RMSE and flexibility of curve"
      ],
      "metadata": {
        "id": "Cf69IN7bwitE"
      },
      "id": "Cf69IN7bwitE"
    },
    {
      "cell_type": "markdown",
      "source": [
        "##### λ = 0"
      ],
      "metadata": {
        "id": "YjXn6YUFwitF"
      },
      "id": "YjXn6YUFwitF"
    },
    {
      "cell_type": "code",
      "execution_count": null,
      "metadata": {
        "colab": {
          "base_uri": "https://localhost:8080/"
        },
        "outputId": "d93805e8-4ae1-4928-b442-d85e855496d8",
        "id": "B1AaIlJ6witF"
      },
      "outputs": [
        {
          "output_type": "execute_result",
          "data": {
            "text/plain": [
              "0.48282981986444684"
            ]
          },
          "metadata": {},
          "execution_count": 338
        }
      ],
      "source": [
        "y_vs_y_hat_m2 = pd.DataFrame(data=(np.array(df_predicted_m2_0['Y_predicted']), Y_test),index=['y predicted m2 λ0','Y_train']).T\n",
        "y_vs_y_hat_m2['sum of square error'] = (y_vs_y_hat_m2['y predicted m2 λ0'] - y_vs_y_hat_m2['Y_train'])**2\n",
        "\n",
        "rmse_m2_λ0 = 0\n",
        "\n",
        "rmse_m2_λ0 = y_vs_y_hat_m2['sum of square error'].sum() / len(y_vs_y_hat_m2)\n",
        "rmse_m2_λ0 = math.sqrt(rmse_m2_λ0)\n",
        "rmse_m2_λ0"
      ],
      "id": "B1AaIlJ6witF"
    },
    {
      "cell_type": "markdown",
      "source": [
        "##### λ = 1"
      ],
      "metadata": {
        "id": "oa7v__l7witG"
      },
      "id": "oa7v__l7witG"
    },
    {
      "cell_type": "code",
      "execution_count": null,
      "metadata": {
        "colab": {
          "base_uri": "https://localhost:8080/"
        },
        "outputId": "17a62bce-b42c-4de7-ae18-c2c5764fb7b9",
        "id": "D2RhXOtLwitG"
      },
      "outputs": [
        {
          "output_type": "execute_result",
          "data": {
            "text/plain": [
              "0.5186112720182233"
            ]
          },
          "metadata": {},
          "execution_count": 339
        }
      ],
      "source": [
        "y_vs_y_hat_m2 = pd.DataFrame(data=(np.array(df_predicted_m2_1['Y_predicted']), Y_test),index=['y predicted m2 λ1','Y_train']).T\n",
        "y_vs_y_hat_m2['sum of square error'] = (y_vs_y_hat_m2['y predicted m2 λ1'] - y_vs_y_hat_m2['Y_train'])**2\n",
        "\n",
        "rmse_m2_λ1 = 0\n",
        "\n",
        "rmse_m2_λ1 = y_vs_y_hat_m2['sum of square error'].sum() / len(y_vs_y_hat_m2)\n",
        "rmse_m2_λ1 = math.sqrt(rmse_m2_λ1)\n",
        "rmse_m2_λ1"
      ],
      "id": "D2RhXOtLwitG"
    },
    {
      "cell_type": "markdown",
      "source": [
        "##### λ = 5"
      ],
      "metadata": {
        "id": "qe2ydKawwitG"
      },
      "id": "qe2ydKawwitG"
    },
    {
      "cell_type": "code",
      "execution_count": null,
      "metadata": {
        "colab": {
          "base_uri": "https://localhost:8080/"
        },
        "outputId": "685d99b4-a114-4bc8-b75b-a5cb89718238",
        "id": "38A7gHbUwitG"
      },
      "outputs": [
        {
          "output_type": "execute_result",
          "data": {
            "text/plain": [
              "0.6028233788433187"
            ]
          },
          "metadata": {},
          "execution_count": 340
        }
      ],
      "source": [
        "y_vs_y_hat_m2 = pd.DataFrame(data=(np.array(df_predicted_m2_5['Y_predicted']), Y_test),index=['y predicted m2 λ5','Y_train']).T\n",
        "y_vs_y_hat_m2['sum of square error'] = (y_vs_y_hat_m2['y predicted m2 λ5'] - y_vs_y_hat_m2['Y_train'])**2\n",
        "\n",
        "rmse_m2_λ5 = 0\n",
        "\n",
        "rmse_m2_λ5 = y_vs_y_hat_m2['sum of square error'].sum() / len(y_vs_y_hat_m2)\n",
        "rmse_m2_λ5 = math.sqrt(rmse_m2_λ5)\n",
        "rmse_m2_λ5"
      ],
      "id": "38A7gHbUwitG"
    },
    {
      "cell_type": "markdown",
      "source": [
        "##### λ = 10"
      ],
      "metadata": {
        "id": "YX3pj87-witH"
      },
      "id": "YX3pj87-witH"
    },
    {
      "cell_type": "code",
      "execution_count": null,
      "metadata": {
        "colab": {
          "base_uri": "https://localhost:8080/"
        },
        "outputId": "089928b8-24af-454e-ba89-42ada5d65f91",
        "id": "qw4jxC-TwitH"
      },
      "outputs": [
        {
          "output_type": "execute_result",
          "data": {
            "text/plain": [
              "0.694859568448508"
            ]
          },
          "metadata": {},
          "execution_count": 341
        }
      ],
      "source": [
        "y_vs_y_hat_m2 = pd.DataFrame(data=(np.array(df_predicted_m2_10['Y_predicted']), Y_test),index=['y predicted m2 λ10','Y_train']).T\n",
        "y_vs_y_hat_m2['sum of square error'] = (y_vs_y_hat_m2['y predicted m2 λ10'] - y_vs_y_hat_m2['Y_train'])**2\n",
        "\n",
        "rmse_m2_λ10 = 0\n",
        "\n",
        "rmse_m2_λ10 = y_vs_y_hat_m2['sum of square error'].sum() / len(y_vs_y_hat_m2)\n",
        "rmse_m2_λ10 = math.sqrt(rmse_m2_λ0)\n",
        "rmse_m2_λ10"
      ],
      "id": "qw4jxC-TwitH"
    },
    {
      "cell_type": "markdown",
      "source": [
        "### For order m=3"
      ],
      "metadata": {
        "id": "llEQ9YJWkr3w"
      },
      "id": "llEQ9YJWkr3w"
    },
    {
      "cell_type": "markdown",
      "source": [
        "#### List the value of coefficients of estimated regularized least squared polynomial regression models for each case."
      ],
      "metadata": {
        "id": "J1enDxACtWqF"
      },
      "id": "J1enDxACtWqF"
    },
    {
      "cell_type": "code",
      "source": [
        "reg_LSP_ord_3_0 = np.array(regularized_LSPR(df_train['X_train'], df_train['Y_train'], 3, 0))\n",
        "reg_LSP_ord_3_1 = np.array(regularized_LSPR(df_train['X_train'], df_train['Y_train'], 3, 1))\n",
        "reg_LSP_ord_3_5 = np.array(regularized_LSPR(df_train['X_train'], df_train['Y_train'], 3, 5))\n",
        "reg_LSP_ord_3_10 = np.array(regularized_LSPR(df_train['X_train'], df_train['Y_train'], 3, 10))\n",
        "\n",
        "print(f'coefficient value with regularization and λ = 0: {reg_LSP_ord_3_0}')\n",
        "print(f'coefficient value with regularization and λ = 1: {reg_LSP_ord_3_1}')\n",
        "print(f'coefficient value with regularization and λ = 5: {reg_LSP_ord_3_5}')\n",
        "print(f'coefficient value with regularization and λ = 10: {reg_LSP_ord_3_10}')"
      ],
      "metadata": {
        "outputId": "8726799a-ca9b-498d-d358-ea69de8ab1b3",
        "colab": {
          "base_uri": "https://localhost:8080/"
        },
        "id": "CHVv1VfitWqG"
      },
      "execution_count": null,
      "outputs": [
        {
          "output_type": "stream",
          "name": "stdout",
          "text": [
            "coefficient value with regularization and λ = 0: [[-1.85385787e-03  1.18606440e+01 -3.48893843e+01  2.33858947e+01]]\n",
            "coefficient value with regularization and λ = 1: [[ 0.41886098 -0.42102519 -0.46679057 -0.24443248]]\n",
            "coefficient value with regularization and λ = 5: [[ 0.19833252 -0.2153815  -0.2364681  -0.18459074]]\n",
            "coefficient value with regularization and λ = 10: [[ 0.11257081 -0.14112644 -0.15305376 -0.12489025]]\n"
          ]
        }
      ],
      "id": "CHVv1VfitWqG"
    },
    {
      "cell_type": "markdown",
      "source": [
        "#### Obtain the prediction on testing set for regularized least squared\n",
        "polynomial regression models for order M =1,2,3 and 9."
      ],
      "metadata": {
        "id": "1H__e5gS1Yo7"
      },
      "id": "1H__e5gS1Yo7"
    },
    {
      "cell_type": "code",
      "source": [
        "y_predicted_m3_0, y_predicted_m3_1, y_predicted_m3_5, y_predicted_m3_10 = [], [], [] ,[]\n",
        "\n",
        "for val in X:\n",
        "  y_val = 0\n",
        "  for deg in range(3, -1, -1):\n",
        "    y_val += reg_LSP_ord_3_0[0][deg] * math.pow(val, deg)\n",
        "  y_predicted_m3_0.append(y_val)\n",
        "\n",
        "for val in X:\n",
        "  y_val = 0\n",
        "  for deg in range(3, -1, -1):\n",
        "    y_val += reg_LSP_ord_3_1[0][deg] * math.pow(val, deg)\n",
        "  y_predicted_m3_1.append(y_val)\n",
        "\n",
        "for val in X:\n",
        "  y_val = 0\n",
        "  for deg in range(3, -1, -1):\n",
        "    y_val += reg_LSP_ord_3_5[0][deg] * math.pow(val, deg)\n",
        "  y_predicted_m3_5.append(y_val)\n",
        "\n",
        "for val in X:\n",
        "  y_val = 0\n",
        "  for deg in range(3, -1, -1):\n",
        "    y_val += reg_LSP_ord_3_10[0][deg] * math.pow(val, deg)\n",
        "  y_predicted_m3_10.append(y_val)\n",
        "\n",
        "df_predicted_m3_0 = pd.DataFrame(data=(X, y_predicted_m3_0),index=['X', 'Y_predicted']).T\n",
        "df_predicted_m3_1 = pd.DataFrame(data=(X, y_predicted_m3_1),index=['X', 'Y_predicted']).T\n",
        "df_predicted_m3_5 = pd.DataFrame(data=(X, y_predicted_m3_5),index=['X', 'Y_predicted']).T\n",
        "df_predicted_m3_10 = pd.DataFrame(data=(X, y_predicted_m3_10),index=['X', 'Y_predicted']).T"
      ],
      "metadata": {
        "id": "ffmcDNuW1Yo7"
      },
      "execution_count": null,
      "outputs": [],
      "id": "ffmcDNuW1Yo7"
    },
    {
      "cell_type": "markdown",
      "source": [
        "#### Plot the estimate obtained by regularized least squared polynomial regression models for training set along with $y_{1}$, $y_{2}$, $y_{3}$, ..., $y_{20}$ AND for testing set along with $y'_{1}$, $y'_{2}$, $y'_{3}$, ..., $y'_{50}$"
      ],
      "metadata": {
        "id": "DPOpCV-Q3kt8"
      },
      "id": "DPOpCV-Q3kt8"
    },
    {
      "cell_type": "code",
      "source": [
        "# Plotting all the points to compare the regression graph\n",
        "\n",
        "fig, axes = plt.subplots(1, 2, figsize=(18, 10))\n",
        "\n",
        "df_train_sort = df_train.sort_values(by=['X_train'])\n",
        "df_pred_sort_m3_0 = df_predicted_m3_0.sort_values(by=['X'])\n",
        "df_pred_sort_m3_1 = df_predicted_m3_1.sort_values(by=['X'])\n",
        "df_pred_sort_m3_5 = df_predicted_m3_5.sort_values(by=['X'])\n",
        "df_pred_sort_m3_10 = df_predicted_m3_10.sort_values(by=['X'])\n",
        "\n",
        "axes[0].plot(df_train_sort['X_train'], df_train_sort['Y_train'], color='red')\n",
        "axes[0].scatter(df_test['X_test'], df_test['Y_test'], color='blue')\n",
        "axes[0].legend(['Training data', 'Test data'])\n",
        "axes[0].set_title('Polynomial Regression for Training Set')\n",
        "\n",
        "axes[1].scatter(df_train['X_train'], df_train['Y_train'], color='blue')\n",
        "axes[1].plot(df_pred_sort_m3_0['X'], df_pred_sort_m3_0['Y_predicted'], color='red')\n",
        "axes[1].plot(df_pred_sort_m3_1['X'], df_pred_sort_m3_1['Y_predicted'], color='orange')\n",
        "axes[1].plot(df_pred_sort_m3_5['X'], df_pred_sort_m3_5['Y_predicted'], color='magenta')\n",
        "axes[1].plot(df_pred_sort_m3_10['X'], df_pred_sort_m3_10['Y_predicted'], color='green')\n",
        "axes[1].legend(['λ=0 predicted values', 'λ=1 predicted values', 'λ=5 predicted values', 'λ=10 predicted values', 'Training Data'])\n",
        "axes[1].set_title('Polynomial Regression for Testing Set')"
      ],
      "metadata": {
        "outputId": "8167dcc9-4a60-48df-e7a5-9868c4997e85",
        "colab": {
          "base_uri": "https://localhost:8080/"
        },
        "id": "CufbovoX3kt8"
      },
      "execution_count": null,
      "outputs": [
        {
          "output_type": "execute_result",
          "data": {
            "text/plain": [
              "Text(0.5, 1.0, 'Polynomial Regression for Testing Set')"
            ]
          },
          "metadata": {},
          "execution_count": 344
        },
        {
          "output_type": "display_data",
          "data": {
            "text/plain": [
              "<Figure size 1296x720 with 2 Axes>"
            ],
            "image/png": "[encoded data removed]"
          },
          "metadata": {
            "needs_background": "light"
          }
        }
      ],
      "id": "CufbovoX3kt8"
    },
    {
      "cell_type": "markdown",
      "source": [
        "#### Study the effect of regularization parameter λ on testing RMSE and flexibility of curve"
      ],
      "metadata": {
        "id": "uEHOs7_qzGny"
      },
      "id": "uEHOs7_qzGny"
    },
    {
      "cell_type": "markdown",
      "source": [
        "##### λ = 0"
      ],
      "metadata": {
        "id": "bZZ2BbwqzGn5"
      },
      "id": "bZZ2BbwqzGn5"
    },
    {
      "cell_type": "code",
      "execution_count": null,
      "metadata": {
        "colab": {
          "base_uri": "https://localhost:8080/"
        },
        "outputId": "4f69e46d-94b9-414e-a0a0-8f3a57f14cf0",
        "id": "ia9rVcoLzGn5"
      },
      "outputs": [
        {
          "output_type": "execute_result",
          "data": {
            "text/plain": [
              "0.10210609292605462"
            ]
          },
          "metadata": {},
          "execution_count": 345
        }
      ],
      "source": [
        "y_vs_y_hat_m3 = pd.DataFrame(data=(np.array(df_predicted_m3_0['Y_predicted']), Y_test),index=['y predicted m3 λ0','Y_train']).T\n",
        "y_vs_y_hat_m3['sum of square error'] = (y_vs_y_hat_m3['y predicted m3 λ0'] - y_vs_y_hat_m3['Y_train'])**2\n",
        "\n",
        "rmse_m3_λ0 = 0\n",
        "\n",
        "rmse_m3_λ0 = y_vs_y_hat_m3['sum of square error'].sum() / len(y_vs_y_hat_m3)\n",
        "rmse_m3_λ0 = math.sqrt(rmse_m3_λ0)\n",
        "rmse_m3_λ0"
      ],
      "id": "ia9rVcoLzGn5"
    },
    {
      "cell_type": "markdown",
      "source": [
        "##### λ = 1"
      ],
      "metadata": {
        "id": "76bDLiCjzGn5"
      },
      "id": "76bDLiCjzGn5"
    },
    {
      "cell_type": "code",
      "execution_count": null,
      "metadata": {
        "colab": {
          "base_uri": "https://localhost:8080/"
        },
        "outputId": "1338def0-165b-4ed9-c03c-8343a654c84d",
        "id": "TOHGeZ9izGn5"
      },
      "outputs": [
        {
          "output_type": "execute_result",
          "data": {
            "text/plain": [
              "0.5194974046822679"
            ]
          },
          "metadata": {},
          "execution_count": 346
        }
      ],
      "source": [
        "y_vs_y_hat_m3 = pd.DataFrame(data=(np.array(df_predicted_m3_1['Y_predicted']), Y_test),index=['y predicted m3 λ1','Y_train']).T\n",
        "y_vs_y_hat_m3['sum of square error'] = (y_vs_y_hat_m3['y predicted m3 λ1'] - y_vs_y_hat_m3['Y_train'])**2\n",
        "\n",
        "rmse_m3_λ1 = 0\n",
        "\n",
        "rmse_m3_λ1 = y_vs_y_hat_m3['sum of square error'].sum() / len(y_vs_y_hat_m3)\n",
        "rmse_m3_λ1 = math.sqrt(rmse_m3_λ1)\n",
        "rmse_m3_λ1"
      ],
      "id": "TOHGeZ9izGn5"
    },
    {
      "cell_type": "markdown",
      "source": [
        "##### λ = 5"
      ],
      "metadata": {
        "id": "utP6J8g-zGn6"
      },
      "id": "utP6J8g-zGn6"
    },
    {
      "cell_type": "code",
      "execution_count": null,
      "metadata": {
        "colab": {
          "base_uri": "https://localhost:8080/"
        },
        "outputId": "3c9b44ae-b672-4262-f00c-c85392827653",
        "id": "snbRHcxszGn6"
      },
      "outputs": [
        {
          "output_type": "execute_result",
          "data": {
            "text/plain": [
              "0.5918468216630512"
            ]
          },
          "metadata": {},
          "execution_count": 347
        }
      ],
      "source": [
        "y_vs_y_hat_m3 = pd.DataFrame(data=(np.array(df_predicted_m3_5['Y_predicted']), Y_test),index=['y predicted m3 λ5','Y_train']).T\n",
        "y_vs_y_hat_m3['sum of square error'] = (y_vs_y_hat_m3['y predicted m3 λ5'] - y_vs_y_hat_m3['Y_train'])**2\n",
        "\n",
        "rmse_m3_λ5 = 0\n",
        "\n",
        "rmse_m3_λ5 = y_vs_y_hat_m3['sum of square error'].sum() / len(y_vs_y_hat_m3)\n",
        "rmse_m3_λ5 = math.sqrt(rmse_m3_λ5)\n",
        "rmse_m3_λ5"
      ],
      "id": "snbRHcxszGn6"
    },
    {
      "cell_type": "markdown",
      "source": [
        "##### λ = 10"
      ],
      "metadata": {
        "id": "i49BazCwzGn6"
      },
      "id": "i49BazCwzGn6"
    },
    {
      "cell_type": "code",
      "execution_count": null,
      "metadata": {
        "colab": {
          "base_uri": "https://localhost:8080/"
        },
        "outputId": "1095527f-c166-4dd6-fcfb-a829a25020a3",
        "id": "coJuZJBQzGn6"
      },
      "outputs": [
        {
          "output_type": "execute_result",
          "data": {
            "text/plain": [
              "0.6288167566762468"
            ]
          },
          "metadata": {},
          "execution_count": 348
        }
      ],
      "source": [
        "y_vs_y_hat_m3 = pd.DataFrame(data=(np.array(df_predicted_m3_10['Y_predicted']), Y_test),index=['y predicted m3 λ10','Y_train']).T\n",
        "y_vs_y_hat_m3['sum of square error'] = (y_vs_y_hat_m3['y predicted m3 λ10'] - y_vs_y_hat_m3['Y_train'])**2\n",
        "\n",
        "rmse_m3_λ10 = 0\n",
        "\n",
        "rmse_m3_λ10 = y_vs_y_hat_m3['sum of square error'].sum() / len(y_vs_y_hat_m3)\n",
        "rmse_m3_λ10 = math.sqrt(rmse_m3_λ10)\n",
        "rmse_m3_λ10"
      ],
      "id": "coJuZJBQzGn6"
    },
    {
      "cell_type": "markdown",
      "source": [
        "### For order m=9"
      ],
      "metadata": {
        "id": "tqKSYDgElV3P"
      },
      "id": "tqKSYDgElV3P"
    },
    {
      "cell_type": "markdown",
      "source": [
        "#### List the value of coefficients of estimated regularized least squared polynomial regression models for each case."
      ],
      "metadata": {
        "id": "ELHiPpFbtaaa"
      },
      "id": "ELHiPpFbtaaa"
    },
    {
      "cell_type": "code",
      "source": [
        "reg_LSP_ord_9_0 = np.array(regularized_LSPR(df_train['X_train'], df_train['Y_train'], 9, 0))\n",
        "reg_LSP_ord_9_01 = np.array(regularized_LSPR(df_train['X_train'], df_train['Y_train'], 9, 0.01))\n",
        "reg_LSP_ord_9_001 = np.array(regularized_LSPR(df_train['X_train'], df_train['Y_train'], 9, 0.001))\n",
        "reg_LSP_ord_9_0001 = np.array(regularized_LSPR(df_train['X_train'], df_train['Y_train'], 9, 0.0001))\n",
        "\n",
        "print(f'coefficient value with regularization and λ = 0: {reg_LSP_ord_9_0}')\n",
        "print(f'coefficient value with regularization and λ = 1: {reg_LSP_ord_9_01}')\n",
        "print(f'coefficient value with regularization and λ = 5: {reg_LSP_ord_9_001}')\n",
        "print(f'coefficient value with regularization and λ = 10: {reg_LSP_ord_9_0001}')"
      ],
      "metadata": {
        "outputId": "631ebdd2-5d4d-4486-8f18-4b2bead6e386",
        "colab": {
          "base_uri": "https://localhost:8080/"
        },
        "id": "uU4XOqn0taab"
      },
      "execution_count": null,
      "outputs": [
        {
          "output_type": "stream",
          "name": "stdout",
          "text": [
            "coefficient value with regularization and λ = 0: [[ 1.40696342e-01  1.38594483e+00  2.04955549e+01  6.06173024e+02\n",
            "  -6.73946963e+03  2.76898301e+04 -5.88975234e+04  6.89580748e+04\n",
            "  -4.21384600e+04  1.05008219e+04]]\n",
            "coefficient value with regularization and λ = 1: [[ 0.35833666  3.00932533 -5.06533381 -3.1245987  -0.63367681  0.87107449\n",
            "   1.50734589  1.58518319  1.34482795  0.94158161]]\n",
            "coefficient value with regularization and λ = 5: [[  0.15429355   6.77685799 -12.78486603  -4.3679058    2.77355979\n",
            "    5.21629234   4.49723254   2.21391193  -0.62540207  -3.47450788]]\n",
            "coefficient value with regularization and λ = 10: [[  0.06599743   8.67072275 -17.08772153  -5.18992214   5.92620069\n",
            "    8.16907538   5.27551653   1.02591244  -2.45605363  -4.2722014 ]]\n"
          ]
        }
      ],
      "id": "uU4XOqn0taab"
    },
    {
      "cell_type": "markdown",
      "source": [
        "#### Obtain the prediction on testing set for regularized least squared\n",
        "polynomial regression models for order M =1,2,3 and 9."
      ],
      "metadata": {
        "id": "rNe20fSs1mIh"
      },
      "id": "rNe20fSs1mIh"
    },
    {
      "cell_type": "code",
      "source": [
        "y_predicted_m9_0, y_predicted_m9_01, y_predicted_m9_001, y_predicted_m9_0001 = [], [], [] ,[]\n",
        "\n",
        "for val in X:\n",
        "  y_val = 0\n",
        "  for deg in range(9, -1, -1):\n",
        "    y_val += reg_LSP_ord_9_0[0][deg] * math.pow(val, deg)\n",
        "  y_predicted_m9_0.append(y_val)\n",
        "\n",
        "for val in X:\n",
        "  y_val = 0\n",
        "  for deg in range(9, -1, -1):\n",
        "    y_val += reg_LSP_ord_9_01[0][deg] * math.pow(val, deg)\n",
        "  y_predicted_m9_01.append(y_val)\n",
        "\n",
        "for val in X:\n",
        "  y_val = 0\n",
        "  for deg in range(9, -1, -1):\n",
        "    y_val += reg_LSP_ord_9_001[0][deg] * math.pow(val, deg)\n",
        "  y_predicted_m9_001.append(y_val)\n",
        "\n",
        "for val in X:\n",
        "  y_val = 0\n",
        "  for deg in range(9, -1, -1):\n",
        "    y_val += reg_LSP_ord_9_0001[0][deg] * math.pow(val, deg)\n",
        "  y_predicted_m9_0001.append(y_val)\n",
        "\n",
        "df_predicted_m9_0 = pd.DataFrame(data=(X, y_predicted_m9_0),index=['X', 'Y_predicted']).T\n",
        "df_predicted_m9_01 = pd.DataFrame(data=(X, y_predicted_m9_01),index=['X', 'Y_predicted']).T\n",
        "df_predicted_m9_001 = pd.DataFrame(data=(X, y_predicted_m9_001),index=['X', 'Y_predicted']).T\n",
        "df_predicted_m9_0001 = pd.DataFrame(data=(X, y_predicted_m9_0001),index=['X', 'Y_predicted']).T"
      ],
      "metadata": {
        "id": "T70GLx8e1mIi"
      },
      "execution_count": null,
      "outputs": [],
      "id": "T70GLx8e1mIi"
    },
    {
      "cell_type": "markdown",
      "source": [
        "#### Plot the estimate obtained by regularized least squared polynomial regression models for training set along with $y_{1}$, $y_{2}$, $y_{3}$, ..., $y_{20}$ AND for testing set along with $y'_{1}$, $y'_{2}$, $y'_{3}$, ..., $y'_{50}$"
      ],
      "metadata": {
        "id": "HJXU-_cj4Ana"
      },
      "id": "HJXU-_cj4Ana"
    },
    {
      "cell_type": "code",
      "source": [
        "# Plotting all the points to compare the regression graph\n",
        "\n",
        "fig, axes = plt.subplots(1, 2, figsize=(18, 10))\n",
        "\n",
        "df_train_sort = df_train.sort_values(by=['X_train'])\n",
        "df_pred_sort_m9_0 = df_predicted_m9_0.sort_values(by=['X'])\n",
        "df_pred_sort_m9_01 = df_predicted_m9_01.sort_values(by=['X'])\n",
        "df_pred_sort_m9_001 = df_predicted_m9_001.sort_values(by=['X'])\n",
        "df_pred_sort_m9_0001 = df_predicted_m9_0001.sort_values(by=['X'])\n",
        "\n",
        "axes[0].plot(df_train_sort['X_train'], df_train_sort['Y_train'], color='red')\n",
        "axes[0].scatter(df_test['X_test'], df_test['Y_test'], color='blue')\n",
        "axes[0].legend(['Training data', 'Test data'])\n",
        "axes[0].set_title('Polynomial Regression for Training Set')\n",
        "\n",
        "axes[1].scatter(df_train['X_train'], df_train['Y_train'], color='blue')\n",
        "axes[1].plot(df_pred_sort_m9_0['X'], df_pred_sort_m9_0['Y_predicted'], color='red')\n",
        "axes[1].plot(df_pred_sort_m9_01['X'], df_pred_sort_m9_01['Y_predicted'], color='orange')\n",
        "axes[1].plot(df_pred_sort_m9_001['X'], df_pred_sort_m9_001['Y_predicted'], color='magenta')\n",
        "axes[1].plot(df_pred_sort_m9_0001['X'], df_pred_sort_m9_0001['Y_predicted'], color='green')\n",
        "axes[1].legend(['λ=0 predicted values', 'λ=0.1 predicted values', 'λ=0.01 predicted values', 'λ=0.001 predicted values', 'Training Data'])\n",
        "axes[1].set_title('Polynomial Regression for Testing Set')"
      ],
      "metadata": {
        "outputId": "8803634f-de49-4c92-d35e-0d7986ffaab4",
        "colab": {
          "base_uri": "https://localhost:8080/"
        },
        "id": "k6DXB7sn4Anb"
      },
      "execution_count": null,
      "outputs": [
        {
          "output_type": "execute_result",
          "data": {
            "text/plain": [
              "Text(0.5, 1.0, 'Polynomial Regression for Testing Set')"
            ]
          },
          "metadata": {},
          "execution_count": 351
        },
        {
          "output_type": "display_data",
          "data": {
            "text/plain": [
              "<Figure size 1296x720 with 2 Axes>"
            ],
            "image/png": "[encoded data removed]"
          },
          "metadata": {
            "needs_background": "light"
          }
        }
      ],
      "id": "k6DXB7sn4Anb"
    },
    {
      "cell_type": "markdown",
      "source": [
        "#### Study the effect of regularization parameter λ on testing RMSE and flexibility of curve"
      ],
      "metadata": {
        "id": "PceFVkFc0UH2"
      },
      "id": "PceFVkFc0UH2"
    },
    {
      "cell_type": "markdown",
      "source": [
        "##### λ = 0"
      ],
      "metadata": {
        "id": "3sPsj_bv0UH9"
      },
      "id": "3sPsj_bv0UH9"
    },
    {
      "cell_type": "code",
      "execution_count": 404,
      "metadata": {
        "colab": {
          "base_uri": "https://localhost:8080/"
        },
        "outputId": "3d9f7a11-e374-45ed-d8ff-7ca961b6ea47",
        "id": "Vk8SEAZQ0UH9"
      },
      "outputs": [
        {
          "output_type": "execute_result",
          "data": {
            "text/plain": [
              "1.1147797838620428"
            ]
          },
          "metadata": {},
          "execution_count": 404
        }
      ],
      "source": [
        "y_vs_y_hat_m9 = pd.DataFrame(data=(np.array(df_predicted_m9_0['Y_predicted']), Y_test),index=['y predicted m9 λ0','Y_train']).T\n",
        "y_vs_y_hat_m9['sum of square error'] = (y_vs_y_hat_m9['y predicted m9 λ0'] - y_vs_y_hat_m9['Y_train'])**2\n",
        "\n",
        "rmse_m9_λ0 = 0\n",
        "\n",
        "rmse_m9_λ0 = y_vs_y_hat_m9['sum of square error'].sum() / len(y_vs_y_hat_m9)\n",
        "rmse_m9_λ0 = math.sqrt(rmse_m9_λ0)\n",
        "rmse_m9_λ0"
      ],
      "id": "Vk8SEAZQ0UH9"
    },
    {
      "cell_type": "markdown",
      "source": [
        "##### λ = 0.01"
      ],
      "metadata": {
        "id": "p00_UJJo0UH9"
      },
      "id": "p00_UJJo0UH9"
    },
    {
      "cell_type": "code",
      "execution_count": 403,
      "metadata": {
        "colab": {
          "base_uri": "https://localhost:8080/"
        },
        "outputId": "77394eb4-e310-4641-f65e-97a178414c71",
        "id": "xizuoSWa0UH9"
      },
      "outputs": [
        {
          "output_type": "execute_result",
          "data": {
            "text/plain": [
              "1.0326118299613953"
            ]
          },
          "metadata": {},
          "execution_count": 403
        }
      ],
      "source": [
        "y_vs_y_hat_m9 = pd.DataFrame(data=(np.array(df_predicted_m9_01['Y_predicted']), Y_test),index=['y predicted m9 λ0.01','Y_train']).T\n",
        "y_vs_y_hat_m9['sum of square error'] = (y_vs_y_hat_m9['y predicted m9 λ0.01'] - y_vs_y_hat_m9['Y_train'])**2\n",
        "\n",
        "rmse_m9_λ01 = 0\n",
        "\n",
        "rmse_m9_λ01 = y_vs_y_hat_m9['sum of square error'].sum() / len(y_vs_y_hat_m9)\n",
        "rmse_m9_λ01 = math.sqrt(rmse_m9_λ01)\n",
        "rmse_m9_λ01"
      ],
      "id": "xizuoSWa0UH9"
    },
    {
      "cell_type": "markdown",
      "source": [
        "##### λ = 0.001"
      ],
      "metadata": {
        "id": "p-QZNpYi0UH9"
      },
      "id": "p-QZNpYi0UH9"
    },
    {
      "cell_type": "code",
      "execution_count": 402,
      "metadata": {
        "colab": {
          "base_uri": "https://localhost:8080/"
        },
        "outputId": "b59045d3-8dd9-4a34-874c-4194e7dbe4e5",
        "id": "1s0tpH4N0UH-"
      },
      "outputs": [
        {
          "output_type": "execute_result",
          "data": {
            "text/plain": [
              "1.0822620061646986"
            ]
          },
          "metadata": {},
          "execution_count": 402
        }
      ],
      "source": [
        "y_vs_y_hat_m9 = pd.DataFrame(data=(np.array(df_predicted_m9_001['Y_predicted']), Y_test),index=['y predicted m9 λ0.001','Y_train']).T\n",
        "y_vs_y_hat_m9['sum of square error'] = (y_vs_y_hat_m9['y predicted m9 λ0.001'] - y_vs_y_hat_m9['Y_train'])**2\n",
        "\n",
        "rmse_m9_λ001 = 0\n",
        "\n",
        "rmse_m9_λ001 = y_vs_y_hat_m9['sum of square error'].sum() / len(y_vs_y_hat_m9)\n",
        "rmse_m9_λ001 = math.sqrt(rmse_m9_λ001)\n",
        "rmse_m9_λ001"
      ],
      "id": "1s0tpH4N0UH-"
    },
    {
      "cell_type": "markdown",
      "source": [
        "##### λ = 0.0001"
      ],
      "metadata": {
        "id": "6lZe11iF0UH-"
      },
      "id": "6lZe11iF0UH-"
    },
    {
      "cell_type": "code",
      "execution_count": 401,
      "metadata": {
        "colab": {
          "base_uri": "https://localhost:8080/"
        },
        "outputId": "bee35888-2a77-478c-ba58-12e676f14718",
        "id": "Z012w86l0UH-"
      },
      "outputs": [
        {
          "output_type": "execute_result",
          "data": {
            "text/plain": [
              "1.1038970224718876"
            ]
          },
          "metadata": {},
          "execution_count": 401
        }
      ],
      "source": [
        "y_vs_y_hat_m9 = pd.DataFrame(data=(np.array(df_predicted_m9_0001['Y_predicted']), Y_test),index=['y predicted m9 λ0.0001','Y_train']).T\n",
        "y_vs_y_hat_m9['sum of square error'] = (y_vs_y_hat_m9['y predicted m9 λ0.0001'] - y_vs_y_hat_m9['Y_train'])**2\n",
        "\n",
        "rmse_m9_λ0001 = 0\n",
        "\n",
        "rmse_m9_λ0001 = y_vs_y_hat_m9['sum of square error'].sum() / len(y_vs_y_hat_m9)\n",
        "rmse_m9_λ0001 = math.sqrt(rmse_m9_λ0001)\n",
        "rmse_m9_λ0001"
      ],
      "id": "Z012w86l0UH-"
    },
    {
      "cell_type": "markdown",
      "source": [
        "## ANALYSIS\n",
        "λ\n",
        "### λ plays a very crutial role when dealing with higher degree plynomial regressions.\n",
        "\n",
        "### 1. As we observe for M=1,\n",
        "###we obtain a straight line trying to fit a curve, which is not possible. So, even if we try to fix the value of coefficients by using λ, we cannot achieve anything here as it is a clear case of \"underfitting\".\n",
        "\n",
        "### For M=2,\n",
        "###we can see that we are getting a curved line, but it is still a underfitting line sice we cannot fix all the points available in trainign set.\n",
        "\n",
        "### For M=3,\n",
        "###we notice that we are starting to get a curve that is fitting our test points correctly. and when we provide λ= 0, 1, 5 10 we can see variations in the graph.\n",
        "\n",
        "### **λ=0 is a special case where we are not applying any \"regularization\" because the expression**\n",
        "### **$({X^{T}} X+λ.I )^{-1}$ . $X^{T}.Y$ becomes same as $({X^{T}} X)^{-1}$ . $X^{T}.Y$ when we put λ=0**\n",
        "\n",
        "### Same can be observed for M=3. We get an almost perfect curve that fits all of our data points, but as we increase the value of λ = 1, 5 10, we see that the graphs tend to underfit propotional the increase in value of λ\n",
        "\n",
        "### For M=9,\n",
        "###since the polynomial is of very much higher degree, minute changes in the value of λ results in noticable changes in the curve.\n",
        "\n",
        "### Here, we have plotted the graph for λ= 0, 0.01, 0.001, 0.0001 and we can clearly see that as we are decreasing the value of λ, we can clearly see the changes in the curve that we get. For λ= 0.001, we notice that we get a curve that is not trying to \"overfit\" the curve but is good enough to capture all the points.\n",
        "\n",
        "### The same can be observed in the RMSE values obtained for λ= 0, 0.001, 0.001, 0.0001, i.e, 1.1147797838620428, 1.0326118299613953, 1.0822620061646986, 1.1038970224718876 . As we decrease the value of λ, we notice that our RMSE error is also reducing with reducing values of λ."
      ],
      "metadata": {
        "id": "g9p8g4965azE"
      },
      "id": "g9p8g4965azE"
    },
    {
      "cell_type": "markdown",
      "source": [
        "# BIVARIATE CASE\n",
        "\n",
        "### M=1: Y = $β_{0}$ + $β_{1}$$x_{1}$ + $β_{2}$$x_{2}$\n",
        "### M=2: Y = $β_{0}$ + $β_{1}$$x_{1}$ + $β_{2}$$x_{2}$ + $β_{11}$$x_{1}^{2}$ + $β_{22}$$x_{2}^{2}$ + $β_{12}$${x_{1}}$$x_{2}$\n",
        "### M=5: Y = $β_{0}$ + $β_{1}$$x_{1}$ + $β_{2}$$x_{2}$ + $β_{3}$$x_{3}$ + $β_{4}$$x_{4}$ +$β_{5}$$x_{5}$ + $β_{11}$$x_{1}^{2}$ + $β_{22}$$x_{2}^{2}$ + $β_{33}$$x_{3}^{2}$ + $β_{44}$$x_{4}^{4}$ + $β_{55}$$x_{5}^{2}$ + ..."
      ],
      "metadata": {
        "id": "k6rDHisu6o7k"
      },
      "id": "k6rDHisu6o7k"
    },
    {
      "cell_type": "markdown",
      "source": [
        "## A. Construct the training set T = { ($x_{1}$, $y_{1}$), ($x_{2}$, $y_{2}$), ... , ($x_{20}$, $y_{20}$)} using the relation :\n",
        "\n",
        "##$Y_{i}$  = sin(2 π ||$x_{i}$||) + $ε_{i}$ where $ε_{i}$ ~ N(0,0.25) and $x_{i}^1$, $x_{i}^2$ are from U[0, 1].\n",
        "\n",
        "\n",
        "##In the similar way construct a testing set of size 50\n",
        "## i,e. Test = {($x_{1}$, $y_{1}$), ($x_{2}$, $y_{2}$), ... , ($x_{50}$, $y_{50}$)}}"
      ],
      "metadata": {
        "id": "eWkarrzF6uea"
      },
      "id": "eWkarrzF6uea"
    },
    {
      "cell_type": "code",
      "source": [
        "# TRAINING DATA\n",
        "X_train = []\n",
        "Y_train =[]\n",
        "\n",
        "X1_train=np.random.uniform(0,1,20)\n",
        "X2_train=np.random.uniform(0,1,20)\n",
        "x_vector_train = pd.DataFrame(data=(X1_train, X2_train),index=['x1','x2']).T\n",
        "\n",
        "for x_val in zip(X1_train, X2_train):\n",
        "  res = math.sqrt((x_val[0]**2) + (x_val[1]**2))\n",
        "  X_train.append(res)\n",
        "\n",
        "for x_val in X_train:\n",
        "    Yi = math.sin(2 * math.pi * x_val) + np.random.uniform(0, 0.25) \n",
        "    Y_train.append(Yi)\n",
        "\n",
        "# For better understanding, let's convert X and Y training dataset into a dataframe\n",
        "df_train = pd.DataFrame(data=(X_train,Y_train),index=['X_train','Y_train']).T\n",
        "df_train"
      ],
      "metadata": {
        "id": "Il9JtDz57_Fq",
        "outputId": "de488082-4770-49b6-97d4-7a51684057b1",
        "colab": {
          "base_uri": "https://localhost:8080/",
          "height": 676
        }
      },
      "id": "Il9JtDz57_Fq",
      "execution_count": null,
      "outputs": [
        {
          "output_type": "execute_result",
          "data": {
            "text/plain": [
              "     X_train   Y_train\n",
              "0   0.583527 -0.357850\n",
              "1   0.946572 -0.285508\n",
              "2   1.093519  0.647576\n",
              "3   0.654896 -0.735139\n",
              "4   0.790370 -0.824471\n",
              "5   0.959668 -0.222461\n",
              "6   0.870853 -0.548613\n",
              "7   0.908481 -0.341865\n",
              "8   0.370129  0.947247\n",
              "9   0.763137 -0.764588\n",
              "10  0.510287  0.044210\n",
              "11  0.914062 -0.408099\n",
              "12  0.934325 -0.189714\n",
              "13  0.895994 -0.600026\n",
              "14  0.941465 -0.177223\n",
              "15  0.942250 -0.276860\n",
              "16  0.765661 -0.813593\n",
              "17  0.605435 -0.514990\n",
              "18  0.467723  0.269173\n",
              "19  0.456701  0.313206"
            ],
            "text/html": [
              "\n",
              "  <div id=\"df-46dd7709-a923-45b1-9238-31aba07e5a85\">\n",
              "    <div class=\"colab-df-container\">\n",
              "      <div>\n",
              "<style scoped>\n",
              "    .dataframe tbody tr th:only-of-type {\n",
              "        vertical-align: middle;\n",
              "    }\n",
              "\n",
              "    .dataframe tbody tr th {\n",
              "        vertical-align: top;\n",
              "    }\n",
              "\n",
              "    .dataframe thead th {\n",
              "        text-align: right;\n",
              "    }\n",
              "</style>\n",
              "<table border=\"1\" class=\"dataframe\">\n",
              "  <thead>\n",
              "    <tr style=\"text-align: right;\">\n",
              "      <th></th>\n",
              "      <th>X_train</th>\n",
              "      <th>Y_train</th>\n",
              "    </tr>\n",
              "  </thead>\n",
              "  <tbody>\n",
              "    <tr>\n",
              "      <th>0</th>\n",
              "      <td>0.583527</td>\n",
              "      <td>-0.357850</td>\n",
              "    </tr>\n",
              "    <tr>\n",
              "      <th>1</th>\n",
              "      <td>0.946572</td>\n",
              "      <td>-0.285508</td>\n",
              "    </tr>\n",
              "    <tr>\n",
              "      <th>2</th>\n",
              "      <td>1.093519</td>\n",
              "      <td>0.647576</td>\n",
              "    </tr>\n",
              "    <tr>\n",
              "      <th>3</th>\n",
              "      <td>0.654896</td>\n",
              "      <td>-0.735139</td>\n",
              "    </tr>\n",
              "    <tr>\n",
              "      <th>4</th>\n",
              "      <td>0.790370</td>\n",
              "      <td>-0.824471</td>\n",
              "    </tr>\n",
              "    <tr>\n",
              "      <th>5</th>\n",
              "      <td>0.959668</td>\n",
              "      <td>-0.222461</td>\n",
              "    </tr>\n",
              "    <tr>\n",
              "      <th>6</th>\n",
              "      <td>0.870853</td>\n",
              "      <td>-0.548613</td>\n",
              "    </tr>\n",
              "    <tr>\n",
              "      <th>7</th>\n",
              "      <td>0.908481</td>\n",
              "      <td>-0.341865</td>\n",
              "    </tr>\n",
              "    <tr>\n",
              "      <th>8</th>\n",
              "      <td>0.370129</td>\n",
              "      <td>0.947247</td>\n",
              "    </tr>\n",
              "    <tr>\n",
              "      <th>9</th>\n",
              "      <td>0.763137</td>\n",
              "      <td>-0.764588</td>\n",
              "    </tr>\n",
              "    <tr>\n",
              "      <th>10</th>\n",
              "      <td>0.510287</td>\n",
              "      <td>0.044210</td>\n",
              "    </tr>\n",
              "    <tr>\n",
              "      <th>11</th>\n",
              "      <td>0.914062</td>\n",
              "      <td>-0.408099</td>\n",
              "    </tr>\n",
              "    <tr>\n",
              "      <th>12</th>\n",
              "      <td>0.934325</td>\n",
              "      <td>-0.189714</td>\n",
              "    </tr>\n",
              "    <tr>\n",
              "      <th>13</th>\n",
              "      <td>0.895994</td>\n",
              "      <td>-0.600026</td>\n",
              "    </tr>\n",
              "    <tr>\n",
              "      <th>14</th>\n",
              "      <td>0.941465</td>\n",
              "      <td>-0.177223</td>\n",
              "    </tr>\n",
              "    <tr>\n",
              "      <th>15</th>\n",
              "      <td>0.942250</td>\n",
              "      <td>-0.276860</td>\n",
              "    </tr>\n",
              "    <tr>\n",
              "      <th>16</th>\n",
              "      <td>0.765661</td>\n",
              "      <td>-0.813593</td>\n",
              "    </tr>\n",
              "    <tr>\n",
              "      <th>17</th>\n",
              "      <td>0.605435</td>\n",
              "      <td>-0.514990</td>\n",
              "    </tr>\n",
              "    <tr>\n",
              "      <th>18</th>\n",
              "      <td>0.467723</td>\n",
              "      <td>0.269173</td>\n",
              "    </tr>\n",
              "    <tr>\n",
              "      <th>19</th>\n",
              "      <td>0.456701</td>\n",
              "      <td>0.313206</td>\n",
              "    </tr>\n",
              "  </tbody>\n",
              "</table>\n",
              "</div>\n",
              "      <button class=\"colab-df-convert\" onclick=\"convertToInteractive('df-46dd7709-a923-45b1-9238-31aba07e5a85')\"\n",
              "              title=\"Convert this dataframe to an interactive table.\"\n",
              "              style=\"display:none;\">\n",
              "        \n",
              "  <svg xmlns=\"http://www.w3.org/2000/svg\" height=\"24px\"viewBox=\"0 0 24 24\"\n",
              "       width=\"24px\">\n",
              "    <path d=\"M0 0h24v24H0V0z\" fill=\"none\"/>\n",
              "    <path d=\"M18.56 5.44l.94 2.06.94-2.06 2.06-.94-2.06-.94-.94-2.06-.94 2.06-2.06.94zm-11 1L8.5 8.5l.94-2.06 2.06-.94-2.06-.94L8.5 2.5l-.94 2.06-2.06.94zm10 10l.94 2.06.94-2.06 2.06-.94-2.06-.94-.94-2.06-.94 2.06-2.06.94z\"/><path d=\"M17.41 7.96l-1.37-1.37c-.4-.4-.92-.59-1.43-.59-.52 0-1.04.2-1.43.59L10.3 9.45l-7.72 7.72c-.78.78-.78 2.05 0 2.83L4 21.41c.39.39.9.59 1.41.59.51 0 1.02-.2 1.41-.59l7.78-7.78 2.81-2.81c.8-.78.8-2.07 0-2.86zM5.41 20L4 18.59l7.72-7.72 1.47 1.35L5.41 20z\"/>\n",
              "  </svg>\n",
              "      </button>\n",
              "      \n",
              "  <style>\n",
              "    .colab-df-container {\n",
              "      display:flex;\n",
              "      flex-wrap:wrap;\n",
              "      gap: 12px;\n",
              "    }\n",
              "\n",
              "    .colab-df-convert {\n",
              "      background-color: #E8F0FE;\n",
              "      border: none;\n",
              "      border-radius: 50%;\n",
              "      cursor: pointer;\n",
              "      display: none;\n",
              "      fill: #1967D2;\n",
              "      height: 32px;\n",
              "      padding: 0 0 0 0;\n",
              "      width: 32px;\n",
              "    }\n",
              "\n",
              "    .colab-df-convert:hover {\n",
              "      background-color: #E2EBFA;\n",
              "      box-shadow: 0px 1px 2px rgba(60, 64, 67, 0.3), 0px 1px 3px 1px rgba(60, 64, 67, 0.15);\n",
              "      fill: #174EA6;\n",
              "    }\n",
              "\n",
              "    [theme=dark] .colab-df-convert {\n",
              "      background-color: #3B4455;\n",
              "      fill: #D2E3FC;\n",
              "    }\n",
              "\n",
              "    [theme=dark] .colab-df-convert:hover {\n",
              "      background-color: #434B5C;\n",
              "      box-shadow: 0px 1px 3px 1px rgba(0, 0, 0, 0.15);\n",
              "      filter: drop-shadow(0px 1px 2px rgba(0, 0, 0, 0.3));\n",
              "      fill: #FFFFFF;\n",
              "    }\n",
              "  </style>\n",
              "\n",
              "      <script>\n",
              "        const buttonEl =\n",
              "          document.querySelector('#df-46dd7709-a923-45b1-9238-31aba07e5a85 button.colab-df-convert');\n",
              "        buttonEl.style.display =\n",
              "          google.colab.kernel.accessAllowed ? 'block' : 'none';\n",
              "\n",
              "        async function convertToInteractive(key) {\n",
              "          const element = document.querySelector('#df-46dd7709-a923-45b1-9238-31aba07e5a85');\n",
              "          const dataTable =\n",
              "            await google.colab.kernel.invokeFunction('convertToInteractive',\n",
              "                                                     [key], {});\n",
              "          if (!dataTable) return;\n",
              "\n",
              "          const docLinkHtml = 'Like what you see? Visit the ' +\n",
              "            '<a target=\"_blank\" href=https://colab.research.google.com/notebooks/data_table.ipynb>data table notebook</a>'\n",
              "            + ' to learn more about interactive tables.';\n",
              "          element.innerHTML = '';\n",
              "          dataTable['output_type'] = 'display_data';\n",
              "          await google.colab.output.renderOutput(dataTable, element);\n",
              "          const docLink = document.createElement('div');\n",
              "          docLink.innerHTML = docLinkHtml;\n",
              "          element.appendChild(docLink);\n",
              "        }\n",
              "      </script>\n",
              "    </div>\n",
              "  </div>\n",
              "  "
            ]
          },
          "metadata": {},
          "execution_count": 356
        }
      ]
    },
    {
      "cell_type": "code",
      "source": [
        "# TESTING DATA\n",
        "X_test = []\n",
        "Y_test =[]\n",
        "\n",
        "X1_test=np.random.uniform(0,1,50)\n",
        "X2_test=np.random.uniform(0,1,50)\n",
        "x_vector_test = pd.DataFrame(data=(X1_test, X2_test),index=['x1','x2']).T\n",
        "\n",
        "for x_val in zip(X1_test, X2_test):\n",
        "  res = math.sqrt((x_val[0]**2) + (x_val[1]**2))\n",
        "  X_test.append(res)\n",
        "\n",
        "for x_val in X_test:\n",
        "    Yi = math.sin(2 * math.pi * x_val) + np.random.uniform(0, 0.25) \n",
        "    Y_test.append(Yi)\n",
        "\n",
        "# For better understanding, let's convert X and Y training dataset into a dataframe\n",
        "df_test = pd.DataFrame(data=(X_test,Y_test),index=['X_test','Y_test']).T\n",
        "df_test"
      ],
      "metadata": {
        "colab": {
          "base_uri": "https://localhost:8080/",
          "height": 1000
        },
        "id": "rISJFrkqE5fS",
        "outputId": "a0f2bd53-cc2a-4a45-fca9-f87ef4fcb0ff"
      },
      "id": "rISJFrkqE5fS",
      "execution_count": null,
      "outputs": [
        {
          "output_type": "execute_result",
          "data": {
            "text/plain": [
              "      X_test    Y_test\n",
              "0   0.928138 -0.274562\n",
              "1   0.680636 -0.813494\n",
              "2   0.820519 -0.719305\n",
              "3   0.375982  0.790582\n",
              "4   0.938749 -0.137318\n",
              "5   1.186384  1.107415\n",
              "6   0.534292 -0.072826\n",
              "7   1.297877  1.005735\n",
              "8   0.984289  0.019543\n",
              "9   1.140342  0.800222\n",
              "10  0.460657  0.420069\n",
              "11  0.810173 -0.720540\n",
              "12  0.601534 -0.434404\n",
              "13  0.098574  0.626586\n",
              "14  0.542706 -0.241177\n",
              "15  0.986031 -0.081960\n",
              "16  0.791597 -0.885261\n",
              "17  0.953000 -0.265493\n",
              "18  0.924167 -0.248418\n",
              "19  1.004394  0.273570\n",
              "20  1.106364  0.862545\n",
              "21  0.797664 -0.921821\n",
              "22  1.009634  0.185553\n",
              "23  0.908669 -0.344337\n",
              "24  0.273190  1.127827\n",
              "25  0.122254  0.697728\n",
              "26  0.669685 -0.871335\n",
              "27  0.691202 -0.851424\n",
              "28  0.750558 -0.982210\n",
              "29  0.308444  1.083675\n",
              "30  0.955921 -0.101472\n",
              "31  0.584711 -0.409885\n",
              "32  0.699162 -0.929936\n",
              "33  0.865551 -0.641340\n",
              "34  0.629935 -0.647986\n",
              "35  0.779231 -0.854601\n",
              "36  0.106708  0.867800\n",
              "37  1.133011  0.770296\n",
              "38  0.352826  1.008875\n",
              "39  0.595124 -0.534459\n",
              "40  1.215031  1.137923\n",
              "41  0.806114 -0.820688\n",
              "42  1.014944  0.159156\n",
              "43  0.616218 -0.548577\n",
              "44  0.727397 -0.845201\n",
              "45  0.724449 -0.842366\n",
              "46  0.867588 -0.711782\n",
              "47  1.275930  1.056902\n",
              "48  0.768379 -0.858189\n",
              "49  0.351535  0.998419"
            ],
            "text/html": [
              "\n",
              "  <div id=\"df-fd00a415-b28b-47d3-998f-e75b12677b8e\">\n",
              "    <div class=\"colab-df-container\">\n",
              "      <div>\n",
              "<style scoped>\n",
              "    .dataframe tbody tr th:only-of-type {\n",
              "        vertical-align: middle;\n",
              "    }\n",
              "\n",
              "    .dataframe tbody tr th {\n",
              "        vertical-align: top;\n",
              "    }\n",
              "\n",
              "    .dataframe thead th {\n",
              "        text-align: right;\n",
              "    }\n",
              "</style>\n",
              "<table border=\"1\" class=\"dataframe\">\n",
              "  <thead>\n",
              "    <tr style=\"text-align: right;\">\n",
              "      <th></th>\n",
              "      <th>X_test</th>\n",
              "      <th>Y_test</th>\n",
              "    </tr>\n",
              "  </thead>\n",
              "  <tbody>\n",
              "    <tr>\n",
              "      <th>0</th>\n",
              "      <td>0.928138</td>\n",
              "      <td>-0.274562</td>\n",
              "    </tr>\n",
              "    <tr>\n",
              "      <th>1</th>\n",
              "      <td>0.680636</td>\n",
              "      <td>-0.813494</td>\n",
              "    </tr>\n",
              "    <tr>\n",
              "      <th>2</th>\n",
              "      <td>0.820519</td>\n",
              "      <td>-0.719305</td>\n",
              "    </tr>\n",
              "    <tr>\n",
              "      <th>3</th>\n",
              "      <td>0.375982</td>\n",
              "      <td>0.790582</td>\n",
              "    </tr>\n",
              "    <tr>\n",
              "      <th>4</th>\n",
              "      <td>0.938749</td>\n",
              "      <td>-0.137318</td>\n",
              "    </tr>\n",
              "    <tr>\n",
              "      <th>5</th>\n",
              "      <td>1.186384</td>\n",
              "      <td>1.107415</td>\n",
              "    </tr>\n",
              "    <tr>\n",
              "      <th>6</th>\n",
              "      <td>0.534292</td>\n",
              "      <td>-0.072826</td>\n",
              "    </tr>\n",
              "    <tr>\n",
              "      <th>7</th>\n",
              "      <td>1.297877</td>\n",
              "      <td>1.005735</td>\n",
              "    </tr>\n",
              "    <tr>\n",
              "      <th>8</th>\n",
              "      <td>0.984289</td>\n",
              "      <td>0.019543</td>\n",
              "    </tr>\n",
              "    <tr>\n",
              "      <th>9</th>\n",
              "      <td>1.140342</td>\n",
              "      <td>0.800222</td>\n",
              "    </tr>\n",
              "    <tr>\n",
              "      <th>10</th>\n",
              "      <td>0.460657</td>\n",
              "      <td>0.420069</td>\n",
              "    </tr>\n",
              "    <tr>\n",
              "      <th>11</th>\n",
              "      <td>0.810173</td>\n",
              "      <td>-0.720540</td>\n",
              "    </tr>\n",
              "    <tr>\n",
              "      <th>12</th>\n",
              "      <td>0.601534</td>\n",
              "      <td>-0.434404</td>\n",
              "    </tr>\n",
              "    <tr>\n",
              "      <th>13</th>\n",
              "      <td>0.098574</td>\n",
              "      <td>0.626586</td>\n",
              "    </tr>\n",
              "    <tr>\n",
              "      <th>14</th>\n",
              "      <td>0.542706</td>\n",
              "      <td>-0.241177</td>\n",
              "    </tr>\n",
              "    <tr>\n",
              "      <th>15</th>\n",
              "      <td>0.986031</td>\n",
              "      <td>-0.081960</td>\n",
              "    </tr>\n",
              "    <tr>\n",
              "      <th>16</th>\n",
              "      <td>0.791597</td>\n",
              "      <td>-0.885261</td>\n",
              "    </tr>\n",
              "    <tr>\n",
              "      <th>17</th>\n",
              "      <td>0.953000</td>\n",
              "      <td>-0.265493</td>\n",
              "    </tr>\n",
              "    <tr>\n",
              "      <th>18</th>\n",
              "      <td>0.924167</td>\n",
              "      <td>-0.248418</td>\n",
              "    </tr>\n",
              "    <tr>\n",
              "      <th>19</th>\n",
              "      <td>1.004394</td>\n",
              "      <td>0.273570</td>\n",
              "    </tr>\n",
              "    <tr>\n",
              "      <th>20</th>\n",
              "      <td>1.106364</td>\n",
              "      <td>0.862545</td>\n",
              "    </tr>\n",
              "    <tr>\n",
              "      <th>21</th>\n",
              "      <td>0.797664</td>\n",
              "      <td>-0.921821</td>\n",
              "    </tr>\n",
              "    <tr>\n",
              "      <th>22</th>\n",
              "      <td>1.009634</td>\n",
              "      <td>0.185553</td>\n",
              "    </tr>\n",
              "    <tr>\n",
              "      <th>23</th>\n",
              "      <td>0.908669</td>\n",
              "      <td>-0.344337</td>\n",
              "    </tr>\n",
              "    <tr>\n",
              "      <th>24</th>\n",
              "      <td>0.273190</td>\n",
              "      <td>1.127827</td>\n",
              "    </tr>\n",
              "    <tr>\n",
              "      <th>25</th>\n",
              "      <td>0.122254</td>\n",
              "      <td>0.697728</td>\n",
              "    </tr>\n",
              "    <tr>\n",
              "      <th>26</th>\n",
              "      <td>0.669685</td>\n",
              "      <td>-0.871335</td>\n",
              "    </tr>\n",
              "    <tr>\n",
              "      <th>27</th>\n",
              "      <td>0.691202</td>\n",
              "      <td>-0.851424</td>\n",
              "    </tr>\n",
              "    <tr>\n",
              "      <th>28</th>\n",
              "      <td>0.750558</td>\n",
              "      <td>-0.982210</td>\n",
              "    </tr>\n",
              "    <tr>\n",
              "      <th>29</th>\n",
              "      <td>0.308444</td>\n",
              "      <td>1.083675</td>\n",
              "    </tr>\n",
              "    <tr>\n",
              "      <th>30</th>\n",
              "      <td>0.955921</td>\n",
              "      <td>-0.101472</td>\n",
              "    </tr>\n",
              "    <tr>\n",
              "      <th>31</th>\n",
              "      <td>0.584711</td>\n",
              "      <td>-0.409885</td>\n",
              "    </tr>\n",
              "    <tr>\n",
              "      <th>32</th>\n",
              "      <td>0.699162</td>\n",
              "      <td>-0.929936</td>\n",
              "    </tr>\n",
              "    <tr>\n",
              "      <th>33</th>\n",
              "      <td>0.865551</td>\n",
              "      <td>-0.641340</td>\n",
              "    </tr>\n",
              "    <tr>\n",
              "      <th>34</th>\n",
              "      <td>0.629935</td>\n",
              "      <td>-0.647986</td>\n",
              "    </tr>\n",
              "    <tr>\n",
              "      <th>35</th>\n",
              "      <td>0.779231</td>\n",
              "      <td>-0.854601</td>\n",
              "    </tr>\n",
              "    <tr>\n",
              "      <th>36</th>\n",
              "      <td>0.106708</td>\n",
              "      <td>0.867800</td>\n",
              "    </tr>\n",
              "    <tr>\n",
              "      <th>37</th>\n",
              "      <td>1.133011</td>\n",
              "      <td>0.770296</td>\n",
              "    </tr>\n",
              "    <tr>\n",
              "      <th>38</th>\n",
              "      <td>0.352826</td>\n",
              "      <td>1.008875</td>\n",
              "    </tr>\n",
              "    <tr>\n",
              "      <th>39</th>\n",
              "      <td>0.595124</td>\n",
              "      <td>-0.534459</td>\n",
              "    </tr>\n",
              "    <tr>\n",
              "      <th>40</th>\n",
              "      <td>1.215031</td>\n",
              "      <td>1.137923</td>\n",
              "    </tr>\n",
              "    <tr>\n",
              "      <th>41</th>\n",
              "      <td>0.806114</td>\n",
              "      <td>-0.820688</td>\n",
              "    </tr>\n",
              "    <tr>\n",
              "      <th>42</th>\n",
              "      <td>1.014944</td>\n",
              "      <td>0.159156</td>\n",
              "    </tr>\n",
              "    <tr>\n",
              "      <th>43</th>\n",
              "      <td>0.616218</td>\n",
              "      <td>-0.548577</td>\n",
              "    </tr>\n",
              "    <tr>\n",
              "      <th>44</th>\n",
              "      <td>0.727397</td>\n",
              "      <td>-0.845201</td>\n",
              "    </tr>\n",
              "    <tr>\n",
              "      <th>45</th>\n",
              "      <td>0.724449</td>\n",
              "      <td>-0.842366</td>\n",
              "    </tr>\n",
              "    <tr>\n",
              "      <th>46</th>\n",
              "      <td>0.867588</td>\n",
              "      <td>-0.711782</td>\n",
              "    </tr>\n",
              "    <tr>\n",
              "      <th>47</th>\n",
              "      <td>1.275930</td>\n",
              "      <td>1.056902</td>\n",
              "    </tr>\n",
              "    <tr>\n",
              "      <th>48</th>\n",
              "      <td>0.768379</td>\n",
              "      <td>-0.858189</td>\n",
              "    </tr>\n",
              "    <tr>\n",
              "      <th>49</th>\n",
              "      <td>0.351535</td>\n",
              "      <td>0.998419</td>\n",
              "    </tr>\n",
              "  </tbody>\n",
              "</table>\n",
              "</div>\n",
              "      <button class=\"colab-df-convert\" onclick=\"convertToInteractive('df-fd00a415-b28b-47d3-998f-e75b12677b8e')\"\n",
              "              title=\"Convert this dataframe to an interactive table.\"\n",
              "              style=\"display:none;\">\n",
              "        \n",
              "  <svg xmlns=\"http://www.w3.org/2000/svg\" height=\"24px\"viewBox=\"0 0 24 24\"\n",
              "       width=\"24px\">\n",
              "    <path d=\"M0 0h24v24H0V0z\" fill=\"none\"/>\n",
              "    <path d=\"M18.56 5.44l.94 2.06.94-2.06 2.06-.94-2.06-.94-.94-2.06-.94 2.06-2.06.94zm-11 1L8.5 8.5l.94-2.06 2.06-.94-2.06-.94L8.5 2.5l-.94 2.06-2.06.94zm10 10l.94 2.06.94-2.06 2.06-.94-2.06-.94-.94-2.06-.94 2.06-2.06.94z\"/><path d=\"M17.41 7.96l-1.37-1.37c-.4-.4-.92-.59-1.43-.59-.52 0-1.04.2-1.43.59L10.3 9.45l-7.72 7.72c-.78.78-.78 2.05 0 2.83L4 21.41c.39.39.9.59 1.41.59.51 0 1.02-.2 1.41-.59l7.78-7.78 2.81-2.81c.8-.78.8-2.07 0-2.86zM5.41 20L4 18.59l7.72-7.72 1.47 1.35L5.41 20z\"/>\n",
              "  </svg>\n",
              "      </button>\n",
              "      \n",
              "  <style>\n",
              "    .colab-df-container {\n",
              "      display:flex;\n",
              "      flex-wrap:wrap;\n",
              "      gap: 12px;\n",
              "    }\n",
              "\n",
              "    .colab-df-convert {\n",
              "      background-color: #E8F0FE;\n",
              "      border: none;\n",
              "      border-radius: 50%;\n",
              "      cursor: pointer;\n",
              "      display: none;\n",
              "      fill: #1967D2;\n",
              "      height: 32px;\n",
              "      padding: 0 0 0 0;\n",
              "      width: 32px;\n",
              "    }\n",
              "\n",
              "    .colab-df-convert:hover {\n",
              "      background-color: #E2EBFA;\n",
              "      box-shadow: 0px 1px 2px rgba(60, 64, 67, 0.3), 0px 1px 3px 1px rgba(60, 64, 67, 0.15);\n",
              "      fill: #174EA6;\n",
              "    }\n",
              "\n",
              "    [theme=dark] .colab-df-convert {\n",
              "      background-color: #3B4455;\n",
              "      fill: #D2E3FC;\n",
              "    }\n",
              "\n",
              "    [theme=dark] .colab-df-convert:hover {\n",
              "      background-color: #434B5C;\n",
              "      box-shadow: 0px 1px 3px 1px rgba(0, 0, 0, 0.15);\n",
              "      filter: drop-shadow(0px 1px 2px rgba(0, 0, 0, 0.3));\n",
              "      fill: #FFFFFF;\n",
              "    }\n",
              "  </style>\n",
              "\n",
              "      <script>\n",
              "        const buttonEl =\n",
              "          document.querySelector('#df-fd00a415-b28b-47d3-998f-e75b12677b8e button.colab-df-convert');\n",
              "        buttonEl.style.display =\n",
              "          google.colab.kernel.accessAllowed ? 'block' : 'none';\n",
              "\n",
              "        async function convertToInteractive(key) {\n",
              "          const element = document.querySelector('#df-fd00a415-b28b-47d3-998f-e75b12677b8e');\n",
              "          const dataTable =\n",
              "            await google.colab.kernel.invokeFunction('convertToInteractive',\n",
              "                                                     [key], {});\n",
              "          if (!dataTable) return;\n",
              "\n",
              "          const docLinkHtml = 'Like what you see? Visit the ' +\n",
              "            '<a target=\"_blank\" href=https://colab.research.google.com/notebooks/data_table.ipynb>data table notebook</a>'\n",
              "            + ' to learn more about interactive tables.';\n",
              "          element.innerHTML = '';\n",
              "          dataTable['output_type'] = 'display_data';\n",
              "          await google.colab.output.renderOutput(dataTable, element);\n",
              "          const docLink = document.createElement('div');\n",
              "          docLink.innerHTML = docLinkHtml;\n",
              "          element.appendChild(docLink);\n",
              "        }\n",
              "      </script>\n",
              "    </div>\n",
              "  </div>\n",
              "  "
            ]
          },
          "metadata": {},
          "execution_count": 357
        }
      ]
    },
    {
      "cell_type": "markdown",
      "source": [
        "## B) Obtain the prediction on testing set and compute the RMSE for regularized least squared polynomial regression models for order M =1, 2 and 5 . Also plot the estimated function and target function for the training set and testing set."
      ],
      "metadata": {
        "id": "BiPxEjs67B3x"
      },
      "id": "BiPxEjs67B3x"
    },
    {
      "cell_type": "code",
      "source": [
        "# Least Square Polynomial Regression\n",
        "def regularized_LSPR(vector_x, y_dataset, degree, Lambda):\n",
        "  no_of_rows = len(vector_x)\n",
        "  no_of_cols = int( ((degree+1)*((degree+1)+1))/2 )\n",
        "\n",
        "  # finding the X matrix\n",
        "  # initialize X matrix with 0 initially\n",
        "  X = np.zeros((no_of_rows, no_of_cols))\n",
        "  lam_I = np.identity(no_of_cols)*Lambda\n",
        "  for row in range (no_of_rows):\n",
        "    X[row][0] = 1\n",
        "    M = 1\n",
        "    n = M\n",
        "    for col in range(1, no_of_cols):\n",
        "      # Logic x1^(n) * x2^(M-n)\n",
        "      result = math.pow((vector_x['x1'].iloc[row]), n) * math.pow(vector_x['x2'].iloc[row], M-n)\n",
        "      X[row][col] = result\n",
        "      n -= 1\n",
        "\n",
        "      if n < 0:\n",
        "        M += 1\n",
        "        n = M\n",
        "      if M > degree:\n",
        "        break\n",
        "\n",
        "  # calculating ((X^T.X + λI)^(−1)) . X^T . Y\n",
        "  X_Trans_X = np.matrix((np.dot(X.T, X)))\n",
        "  X_Trans_X = np.add(X_Trans_X, lam_I)\n",
        "  X_Trans_X_Inv = X_Trans_X.I\n",
        "  temp = np.matrix(np.dot(X_Trans_X_Inv, X.T))\n",
        "  return np.dot(temp, y_dataset.values)\n",
        "\n",
        "\n",
        "\n",
        "reg_LSP_ord_1_0 = np.array(regularized_LSPR(x_vector_train, df_train['Y_train'], 1, 0))\n",
        "reg_LSP_ord_1_1 = np.array(regularized_LSPR(x_vector_train, df_train['Y_train'], 1, 1))\n",
        "reg_LSP_ord_1_5= np.array(regularized_LSPR(x_vector_train, df_train['Y_train'], 1, 5))\n",
        "reg_LSP_ord_1_10= np.array(regularized_LSPR(x_vector_train, df_train['Y_train'], 1, 10))\n",
        "\n",
        "reg_LSP_ord_2_0 = np.array(regularized_LSPR(x_vector_train, df_train['Y_train'], 2, 0))\n",
        "reg_LSP_ord_2_1 = np.array(regularized_LSPR(x_vector_train, df_train['Y_train'], 2, 1))\n",
        "reg_LSP_ord_2_5= np.array(regularized_LSPR(x_vector_train, df_train['Y_train'], 2, 5))\n",
        "reg_LSP_ord_2_10= np.array(regularized_LSPR(x_vector_train, df_train['Y_train'], 2, 10))\n",
        "\n",
        "reg_LSP_ord_5_0 = np.array(regularized_LSPR(x_vector_train, df_train['Y_train'], 5, 0))\n",
        "reg_LSP_ord_5_01 = np.array(regularized_LSPR(x_vector_train, df_train['Y_train'], 5, 0.01))\n",
        "reg_LSP_ord_5_001= np.array(regularized_LSPR(x_vector_train, df_train['Y_train'], 5, 0.001))\n",
        "reg_LSP_ord_5_1= np.array(regularized_LSPR(x_vector_train, df_train['Y_train'], 5, 1))"
      ],
      "metadata": {
        "id": "sRIsjxVwkdym"
      },
      "id": "sRIsjxVwkdym",
      "execution_count": null,
      "outputs": []
    },
    {
      "cell_type": "markdown",
      "source": [
        "### Order M = 1\n"
      ],
      "metadata": {
        "id": "d7KQ2ZGj0SEg"
      },
      "id": "d7KQ2ZGj0SEg"
    },
    {
      "cell_type": "code",
      "source": [
        "X = np.array(df_test['X_test'])\n",
        "y_predicted_m1_0, y_predicted_m1_1, y_predicted_m1_5, y_predicted_m1_10 = [], [], [] ,[]\n",
        "\n",
        "for val in X:\n",
        "  y_val = 0\n",
        "  for deg in range(1, -1, -1):\n",
        "    y_val += reg_LSP_ord_1_0[0][deg] * math.pow(val, deg)\n",
        "  y_predicted_m1_0.append(y_val)\n",
        "\n",
        "for val in X:\n",
        "  y_val = 0\n",
        "  for deg in range(1, -1, -1):\n",
        "    y_val += reg_LSP_ord_1_1[0][deg] * math.pow(val, deg)\n",
        "  y_predicted_m1_1.append(y_val)\n",
        "\n",
        "for val in X:\n",
        "  y_val = 0\n",
        "  for deg in range(1, -1, -1):\n",
        "    y_val += reg_LSP_ord_1_5[0][deg] * math.pow(val, deg)\n",
        "  y_predicted_m1_5.append(y_val)\n",
        "\n",
        "for val in X:\n",
        "  y_val = 0\n",
        "  for deg in range(1, -1, -1):\n",
        "    y_val += reg_LSP_ord_1_10[0][deg] * math.pow(val, deg)\n",
        "  y_predicted_m1_10.append(y_val)\n",
        "\n",
        "df_predicted_m1_0 = pd.DataFrame(data=(X, y_predicted_m1_0),index=['X', 'Y_predicted']).T\n",
        "df_predicted_m1_1 = pd.DataFrame(data=(X, y_predicted_m1_1),index=['X', 'Y_predicted']).T\n",
        "df_predicted_m1_5 = pd.DataFrame(data=(X, y_predicted_m1_5),index=['X', 'Y_predicted']).T\n",
        "df_predicted_m1_10 = pd.DataFrame(data=(X, y_predicted_m1_10),index=['X', 'Y_predicted']).T"
      ],
      "metadata": {
        "id": "vRqmhGrk0SEg"
      },
      "execution_count": null,
      "outputs": [],
      "id": "vRqmhGrk0SEg"
    },
    {
      "cell_type": "code",
      "source": [
        "# Plotting all the points to compare the regression graph\n",
        "\n",
        "fig, axes = plt.subplots(1, 2, figsize=(18, 10))\n",
        "\n",
        "df_train_sort = df_train.sort_values(by=['X_train'])\n",
        "df_pred_sort_m1_0 = df_predicted_m1_0.sort_values(by=['X'])\n",
        "df_pred_sort_m1_1 = df_predicted_m1_1.sort_values(by=['X'])\n",
        "df_pred_sort_m1_5 = df_predicted_m1_5.sort_values(by=['X'])\n",
        "df_pred_sort_m1_10 = df_predicted_m1_10.sort_values(by=['X'])\n",
        "\n",
        "axes[0].plot(df_train_sort['X_train'], df_train_sort['Y_train'], color='red')\n",
        "axes[0].scatter(df_test['X_test'], df_test['Y_test'], color='blue')\n",
        "axes[0].legend(['Training data', 'Test data'])\n",
        "axes[0].set_title('Polynomial Regression for Training Set')\n",
        "\n",
        "axes[1].scatter(df_train['X_train'], df_train['Y_train'], color='blue')\n",
        "axes[1].plot(df_pred_sort_m1_0['X'], df_pred_sort_m1_0['Y_predicted'], color='red')\n",
        "axes[1].plot(df_pred_sort_m1_1['X'], df_pred_sort_m1_1['Y_predicted'], color='orange')\n",
        "axes[1].plot(df_pred_sort_m1_5['X'], df_pred_sort_m1_5['Y_predicted'], color='magenta')\n",
        "axes[1].plot(df_pred_sort_m1_10['X'], df_pred_sort_m1_10['Y_predicted'], color='green')\n",
        "axes[1].legend(['λ=0 predicted values', 'λ=1 predicted values', 'λ=5 predicted values', 'λ=10 predicted values', 'Training Data'])\n",
        "axes[1].set_title('Polynomial Regression for Testing Set')"
      ],
      "metadata": {
        "outputId": "a6b29c5a-cd60-4458-f79b-5bd97144aaff",
        "colab": {
          "base_uri": "https://localhost:8080/"
        },
        "id": "ZRVuz5wu0SEh"
      },
      "execution_count": null,
      "outputs": [
        {
          "output_type": "execute_result",
          "data": {
            "text/plain": [
              "Text(0.5, 1.0, 'Polynomial Regression for Testing Set')"
            ]
          },
          "metadata": {},
          "execution_count": 360
        },
        {
          "output_type": "display_data",
          "data": {
            "text/plain": [
              "<Figure size 1296x720 with 2 Axes>"
            ],
            "image/png": "[encoded data removed]"
          },
          "metadata": {
            "needs_background": "light"
          }
        }
      ],
      "id": "ZRVuz5wu0SEh"
    },
    {
      "cell_type": "markdown",
      "source": [
        "#### RMSE for λ = 0, 1, 5, 10"
      ],
      "metadata": {
        "id": "2P_CQEUKtxzv"
      },
      "id": "2P_CQEUKtxzv"
    },
    {
      "cell_type": "code",
      "source": [
        "# λ = 0\n",
        "y_vs_y_hat_m1 = pd.DataFrame(data=(np.array(df_predicted_m1_0['Y_predicted']), Y_test),index=['y predicted m1 λ0','Y_train']).T\n",
        "y_vs_y_hat_m1['sum of square error'] = (y_vs_y_hat_m1['y predicted m1 λ0'] - y_vs_y_hat_m1['Y_train'])**2\n",
        "\n",
        "rmse_m1_λ0 = 0\n",
        "\n",
        "rmse_m1_λ0 = y_vs_y_hat_m1['sum of square error'].sum() / len(y_vs_y_hat_m1)\n",
        "rmse_m1_λ0 = math.sqrt(rmse_m1_λ0)\n",
        "rmse_m1_λ0"
      ],
      "metadata": {
        "colab": {
          "base_uri": "https://localhost:8080/"
        },
        "id": "U5JJzqbTsvlw",
        "outputId": "d70af202-67bd-4e5e-8c53-5470ae74e827"
      },
      "id": "U5JJzqbTsvlw",
      "execution_count": null,
      "outputs": [
        {
          "output_type": "execute_result",
          "data": {
            "text/plain": [
              "0.8383313507612224"
            ]
          },
          "metadata": {},
          "execution_count": 361
        }
      ]
    },
    {
      "cell_type": "code",
      "source": [
        "# λ = 1\n",
        "y_vs_y_hat_m1 = pd.DataFrame(data=(np.array(df_predicted_m1_1['Y_predicted']), Y_test),index=['y predicted m1 λ1','Y_train']).T\n",
        "y_vs_y_hat_m1['sum of square error'] = (y_vs_y_hat_m1['y predicted m1 λ1'] - y_vs_y_hat_m1['Y_train'])**2\n",
        "\n",
        "rmse_m1_λ1 = 0\n",
        "\n",
        "rmse_m1_λ1 = y_vs_y_hat_m1['sum of square error'].sum() / len(y_vs_y_hat_m1)\n",
        "rmse_m1_λ1 = math.sqrt(rmse_m1_λ1)\n",
        "rmse_m1_λ1"
      ],
      "metadata": {
        "colab": {
          "base_uri": "https://localhost:8080/"
        },
        "id": "OmDQSvgnt4Pw",
        "outputId": "e4a03e97-b671-4925-c3d7-9b9445bd0854"
      },
      "id": "OmDQSvgnt4Pw",
      "execution_count": null,
      "outputs": [
        {
          "output_type": "execute_result",
          "data": {
            "text/plain": [
              "0.800221181424874"
            ]
          },
          "metadata": {},
          "execution_count": 362
        }
      ]
    },
    {
      "cell_type": "code",
      "source": [
        "# λ = 5\n",
        "y_vs_y_hat_m1 = pd.DataFrame(data=(np.array(df_predicted_m1_5['Y_predicted']), Y_test),index=['y predicted m1 λ5','Y_train']).T\n",
        "y_vs_y_hat_m1['sum of square error'] = (y_vs_y_hat_m1['y predicted m1 λ5'] - y_vs_y_hat_m1['Y_train'])**2\n",
        "\n",
        "rmse_m1_λ5 = 0\n",
        "\n",
        "rmse_m1_λ5 = y_vs_y_hat_m1['sum of square error'].sum() / len(y_vs_y_hat_m1)\n",
        "rmse_m1_λ5 = math.sqrt(rmse_m1_λ5)\n",
        "rmse_m1_λ5"
      ],
      "metadata": {
        "colab": {
          "base_uri": "https://localhost:8080/"
        },
        "id": "IPBVmrTLuAkv",
        "outputId": "ea09bc28-f4ff-48bc-c10a-827a453d4c80"
      },
      "id": "IPBVmrTLuAkv",
      "execution_count": null,
      "outputs": [
        {
          "output_type": "execute_result",
          "data": {
            "text/plain": [
              "0.7601324751545184"
            ]
          },
          "metadata": {},
          "execution_count": 363
        }
      ]
    },
    {
      "cell_type": "code",
      "source": [
        "# λ = 10\n",
        "y_vs_y_hat_m1 = pd.DataFrame(data=(np.array(df_predicted_m1_10['Y_predicted']), Y_test),index=['y predicted m1 λ10','Y_train']).T\n",
        "y_vs_y_hat_m1['sum of square error'] = (y_vs_y_hat_m1['y predicted m1 λ10'] - y_vs_y_hat_m1['Y_train'])**2\n",
        "\n",
        "rmse_m1_λ10 = 0\n",
        "\n",
        "rmse_m1_λ10 = y_vs_y_hat_m1['sum of square error'].sum() / len(y_vs_y_hat_m1)\n",
        "rmse_m1_λ10 = math.sqrt(rmse_m1_λ10)\n",
        "rmse_m1_λ10"
      ],
      "metadata": {
        "colab": {
          "base_uri": "https://localhost:8080/"
        },
        "id": "QakqwyKBuNrg",
        "outputId": "7cbc5503-061a-4585-e40d-12771312cfe6"
      },
      "id": "QakqwyKBuNrg",
      "execution_count": null,
      "outputs": [
        {
          "output_type": "execute_result",
          "data": {
            "text/plain": [
              "0.7465511943094325"
            ]
          },
          "metadata": {},
          "execution_count": 364
        }
      ]
    },
    {
      "cell_type": "markdown",
      "source": [
        "### Order M = 2\n"
      ],
      "metadata": {
        "id": "RnGjEEgzyyE5"
      },
      "id": "RnGjEEgzyyE5"
    },
    {
      "cell_type": "code",
      "source": [
        "X = np.array(df_test['X_test'])\n",
        "y_predicted_m2_0, y_predicted_m2_1, y_predicted_m2_5, y_predicted_m2_10 = [], [], [] ,[]\n",
        "\n",
        "for val in X:\n",
        "  y_val = 0\n",
        "  for deg in range(2, -1, -1):\n",
        "    y_val += reg_LSP_ord_2_0[0][deg] * math.pow(val, deg)\n",
        "  y_predicted_m2_0.append(y_val)\n",
        "\n",
        "for val in X:\n",
        "  y_val = 0\n",
        "  for deg in range(2, -1, -1):\n",
        "    y_val += reg_LSP_ord_2_1[0][deg] * math.pow(val, deg)\n",
        "  y_predicted_m2_1.append(y_val)\n",
        "\n",
        "for val in X:\n",
        "  y_val = 0\n",
        "  for deg in range(2, -1, -1):\n",
        "    y_val += reg_LSP_ord_2_5[0][deg] * math.pow(val, deg)\n",
        "  y_predicted_m2_5.append(y_val)\n",
        "\n",
        "for val in X:\n",
        "  y_val = 0\n",
        "  for deg in range(2, -1, -1):\n",
        "    y_val += reg_LSP_ord_2_10[0][deg] * math.pow(val, deg)\n",
        "  y_predicted_m2_10.append(y_val)\n",
        "\n",
        "df_predicted_m2_0 = pd.DataFrame(data=(X, y_predicted_m2_0),index=['X', 'Y_predicted']).T\n",
        "df_predicted_m2_1 = pd.DataFrame(data=(X, y_predicted_m2_1),index=['X', 'Y_predicted']).T\n",
        "df_predicted_m2_5 = pd.DataFrame(data=(X, y_predicted_m2_5),index=['X', 'Y_predicted']).T\n",
        "df_predicted_m2_10 = pd.DataFrame(data=(X, y_predicted_m2_10),index=['X', 'Y_predicted']).T"
      ],
      "metadata": {
        "id": "-Em0BFCYytqr"
      },
      "id": "-Em0BFCYytqr",
      "execution_count": null,
      "outputs": []
    },
    {
      "cell_type": "code",
      "source": [
        "# Plotting all the points to compare the regression graph\n",
        "\n",
        "fig, axes = plt.subplots(1, 2, figsize=(18, 10))\n",
        "\n",
        "df_train_sort = df_train.sort_values(by=['X_train'])\n",
        "df_pred_sort_m2_0 = df_predicted_m2_0.sort_values(by=['X'])\n",
        "df_pred_sort_m2_1 = df_predicted_m2_1.sort_values(by=['X'])\n",
        "df_pred_sort_m2_5 = df_predicted_m2_5.sort_values(by=['X'])\n",
        "df_pred_sort_m2_10 = df_predicted_m2_10.sort_values(by=['X'])\n",
        "\n",
        "axes[0].plot(df_train_sort['X_train'], df_train_sort['Y_train'], color='red')\n",
        "axes[0].scatter(df_test['X_test'], df_test['Y_test'], color='blue')\n",
        "axes[0].legend(['Training data', 'Test data'])\n",
        "axes[0].set_title('Polynomial Regression for Training Set')\n",
        "\n",
        "axes[1].scatter(df_train['X_train'], df_train['Y_train'], color='blue')\n",
        "axes[1].plot(df_pred_sort_m2_0['X'], df_pred_sort_m2_0['Y_predicted'], color='red')\n",
        "axes[1].plot(df_pred_sort_m2_1['X'], df_pred_sort_m2_1['Y_predicted'], color='orange')\n",
        "axes[1].plot(df_pred_sort_m2_5['X'], df_pred_sort_m2_5['Y_predicted'], color='magenta')\n",
        "axes[1].plot(df_pred_sort_m2_10['X'], df_pred_sort_m2_10['Y_predicted'], color='green')\n",
        "axes[1].legend(['λ=0 predicted values', 'λ=1 predicted values', 'λ=5 predicted values', 'λ=10 predicted values', 'Training Data'])\n",
        "axes[1].set_title('Polynomial Regression for Testing Set')"
      ],
      "metadata": {
        "colab": {
          "base_uri": "https://localhost:8080/"
        },
        "id": "AyCNogBWywPs",
        "outputId": "7f394b07-9874-459f-987a-4e77096b2408"
      },
      "id": "AyCNogBWywPs",
      "execution_count": null,
      "outputs": [
        {
          "output_type": "execute_result",
          "data": {
            "text/plain": [
              "Text(0.5, 1.0, 'Polynomial Regression for Testing Set')"
            ]
          },
          "metadata": {},
          "execution_count": 366
        },
        {
          "output_type": "display_data",
          "data": {
            "text/plain": [
              "<Figure size 1296x720 with 2 Axes>"
            ],
            "image/png": "[encoded data removed]"
          },
          "metadata": {
            "needs_background": "light"
          }
        }
      ]
    },
    {
      "cell_type": "markdown",
      "source": [
        "#### RMSE for λ = 0, 1, 5, 10"
      ],
      "metadata": {
        "id": "DmggWhUputu5"
      },
      "id": "DmggWhUputu5"
    },
    {
      "cell_type": "code",
      "source": [
        "# λ = 0\n",
        "y_vs_y_hat_m2 = pd.DataFrame(data=(np.array(df_predicted_m2_0['Y_predicted']), Y_test),index=['y predicted m2 λ0','Y_train']).T\n",
        "y_vs_y_hat_m2['sum of square error'] = (y_vs_y_hat_m2['y predicted m2 λ0'] - y_vs_y_hat_m2['Y_train'])**2\n",
        "\n",
        "rmse_m2_λ0 = 0\n",
        "\n",
        "rmse_m2_λ0 = y_vs_y_hat_m2['sum of square error'].sum() / len(y_vs_y_hat_m2)\n",
        "rmse_m2_λ0 = math.sqrt(rmse_m2_λ0)\n",
        "rmse_m2_λ0"
      ],
      "metadata": {
        "outputId": "49abb251-02d0-4f4b-f76c-fbc5a8f6e55d",
        "colab": {
          "base_uri": "https://localhost:8080/"
        },
        "id": "G8boLO-Autu5"
      },
      "execution_count": null,
      "outputs": [
        {
          "output_type": "execute_result",
          "data": {
            "text/plain": [
              "11.06933946205293"
            ]
          },
          "metadata": {},
          "execution_count": 367
        }
      ],
      "id": "G8boLO-Autu5"
    },
    {
      "cell_type": "code",
      "source": [
        "# λ = 1\n",
        "y_vs_y_hat_m2 = pd.DataFrame(data=(np.array(df_predicted_m2_1['Y_predicted']), Y_test),index=['y predicted m2 λ1','Y_train']).T\n",
        "y_vs_y_hat_m2['sum of square error'] = (y_vs_y_hat_m2['y predicted m2 λ1'] - y_vs_y_hat_m2['Y_train'])**2\n",
        "\n",
        "rmse_m2_λ1 = 0\n",
        "\n",
        "rmse_m2_λ1 = y_vs_y_hat_m2['sum of square error'].sum() / len(y_vs_y_hat_m2)\n",
        "rmse_m2_λ1 = math.sqrt(rmse_m2_λ1)\n",
        "rmse_m2_λ1"
      ],
      "metadata": {
        "outputId": "7f132205-7bdc-4c1a-d0e7-5687273451ce",
        "colab": {
          "base_uri": "https://localhost:8080/"
        },
        "id": "GyfXlecdutu5"
      },
      "execution_count": null,
      "outputs": [
        {
          "output_type": "execute_result",
          "data": {
            "text/plain": [
              "0.7355330255029005"
            ]
          },
          "metadata": {},
          "execution_count": 368
        }
      ],
      "id": "GyfXlecdutu5"
    },
    {
      "cell_type": "code",
      "source": [
        "# λ = 5\n",
        "y_vs_y_hat_m2 = pd.DataFrame(data=(np.array(df_predicted_m2_5['Y_predicted']), Y_test),index=['y predicted m2 λ5','Y_train']).T\n",
        "y_vs_y_hat_m2['sum of square error'] = (y_vs_y_hat_m2['y predicted m2 λ5'] - y_vs_y_hat_m2['Y_train'])**2\n",
        "\n",
        "rmse_m2_λ5 = 0\n",
        "\n",
        "rmse_m2_λ5 = y_vs_y_hat_m2['sum of square error'].sum() / len(y_vs_y_hat_m2)\n",
        "rmse_m2_λ5 = math.sqrt(rmse_m2_λ5)\n",
        "rmse_m2_λ5"
      ],
      "metadata": {
        "outputId": "d3fd1c5a-89c2-4188-9f99-9c776e6b379e",
        "colab": {
          "base_uri": "https://localhost:8080/"
        },
        "id": "hRaIKoZGutu6"
      },
      "execution_count": null,
      "outputs": [
        {
          "output_type": "execute_result",
          "data": {
            "text/plain": [
              "0.7331499225477928"
            ]
          },
          "metadata": {},
          "execution_count": 369
        }
      ],
      "id": "hRaIKoZGutu6"
    },
    {
      "cell_type": "code",
      "source": [
        "# λ = 10\n",
        "y_vs_y_hat_m2 = pd.DataFrame(data=(np.array(df_predicted_m2_0['Y_predicted']), Y_test),index=['y predicted m2 λ10','Y_train']).T\n",
        "y_vs_y_hat_m2['sum of square error'] = (y_vs_y_hat_m2['y predicted m2 λ10'] - y_vs_y_hat_m2['Y_train'])**2\n",
        "\n",
        "rmse_m2_λ10 = 0\n",
        "\n",
        "rmse_m2_λ10 = y_vs_y_hat_m2['sum of square error'].sum() / len(y_vs_y_hat_m2)\n",
        "rmse_m2_λ10 = math.sqrt(rmse_m2_λ10)\n",
        "rmse_m2_λ10"
      ],
      "metadata": {
        "outputId": "b0484698-4e29-47d3-b2ce-43f90ef4b7a4",
        "colab": {
          "base_uri": "https://localhost:8080/"
        },
        "id": "TIEZbAmWutu6"
      },
      "execution_count": null,
      "outputs": [
        {
          "output_type": "execute_result",
          "data": {
            "text/plain": [
              "11.06933946205293"
            ]
          },
          "metadata": {},
          "execution_count": 370
        }
      ],
      "id": "TIEZbAmWutu6"
    },
    {
      "cell_type": "markdown",
      "source": [
        "### Order M = 5\n"
      ],
      "metadata": {
        "id": "_1dHrMM-0Q_a"
      },
      "id": "_1dHrMM-0Q_a"
    },
    {
      "cell_type": "code",
      "source": [
        "X = np.array(df_test['X_test'])\n",
        "y_predicted_m5_0, y_predicted_m5_01, y_predicted_m5_001, y_predicted_m5_1 = [], [], [] ,[]\n",
        "\n",
        "for val in X:\n",
        "  y_val = 0\n",
        "  for deg in range(5, -1, -1):\n",
        "    y_val += reg_LSP_ord_5_0[0][deg] * math.pow(val, deg)\n",
        "  y_predicted_m5_0.append(y_val)\n",
        "\n",
        "for val in X:\n",
        "  y_val = 0\n",
        "  for deg in range(5, -1, -1):\n",
        "    y_val += reg_LSP_ord_5_01[0][deg] * math.pow(val, deg)\n",
        "  y_predicted_m5_01.append(y_val)\n",
        "\n",
        "for val in X:\n",
        "  y_val = 0\n",
        "  for deg in range(5, -1, -1):\n",
        "    y_val += reg_LSP_ord_5_001[0][deg] * math.pow(val, deg)\n",
        "  y_predicted_m5_001.append(y_val)\n",
        "\n",
        "for val in X:\n",
        "  y_val = 0\n",
        "  for deg in range(5, -1, -1):\n",
        "    y_val += reg_LSP_ord_5_1[0][deg] * math.pow(val, deg)\n",
        "  y_predicted_m5_1.append(y_val)\n",
        "\n",
        "df_predicted_m5_0 = pd.DataFrame(data=(X, y_predicted_m5_0),index=['X', 'Y_predicted']).T\n",
        "df_predicted_m5_01 = pd.DataFrame(data=(X, y_predicted_m5_01),index=['X', 'Y_predicted']).T\n",
        "df_predicted_m5_001 = pd.DataFrame(data=(X, y_predicted_m5_001),index=['X', 'Y_predicted']).T\n",
        "df_predicted_m5_1 = pd.DataFrame(data=(X, y_predicted_m5_1),index=['X', 'Y_predicted']).T"
      ],
      "metadata": {
        "id": "R5DbIaYO0Q_h"
      },
      "execution_count": null,
      "outputs": [],
      "id": "R5DbIaYO0Q_h"
    },
    {
      "cell_type": "code",
      "source": [
        "# Plotting all the points to compare the regression graph\n",
        "\n",
        "fig, axes = plt.subplots(1, 2, figsize=(18, 10))\n",
        "\n",
        "df_train_sort = df_train.sort_values(by=['X_train'])\n",
        "df_pred_sort_m5_0 = df_predicted_m5_0.sort_values(by=['X'])\n",
        "df_pred_sort_m5_01 = df_predicted_m5_01.sort_values(by=['X'])\n",
        "df_pred_sort_m5_001 = df_predicted_m5_001.sort_values(by=['X'])\n",
        "df_pred_sort_m5_1 = df_predicted_m5_1.sort_values(by=['X'])\n",
        "\n",
        "axes[0].plot(df_train_sort['X_train'], df_train_sort['Y_train'], color='red')\n",
        "axes[0].scatter(df_test['X_test'], df_test['Y_test'], color='blue')\n",
        "axes[0].legend(['Training data', 'Test data'])\n",
        "axes[0].set_title('Polynomial Regression for Training Set')\n",
        "\n",
        "axes[1].scatter(df_train['X_train'], df_train['Y_train'], color='blue')\n",
        "axes[1].plot(df_pred_sort_m5_0['X'], df_pred_sort_m5_0['Y_predicted'], color='red')\n",
        "axes[1].plot(df_pred_sort_m5_01['X'], df_pred_sort_m5_01['Y_predicted'], color='orange')\n",
        "axes[1].plot(df_pred_sort_m5_001['X'], df_pred_sort_m5_001['Y_predicted'], color='magenta')\n",
        "axes[1].plot(df_pred_sort_m5_1['X'], df_pred_sort_m5_1['Y_predicted'], color='green')\n",
        "axes[1].set_ylim((-20, 10))\n",
        "axes[1].legend(['λ=0 predicted values', 'λ=0.01 predicted values', 'λ=0.001 predicted values', 'λ=1 predicted values', 'Training Data'])\n",
        "axes[1].set_title('Polynomial Regression for Testing Set')"
      ],
      "metadata": {
        "outputId": "9fd75300-f302-48fb-816d-17e5fc8bd0e6",
        "colab": {
          "base_uri": "https://localhost:8080/",
          "height": 625
        },
        "id": "6qXPCy5F0Q_i"
      },
      "execution_count": null,
      "outputs": [
        {
          "output_type": "execute_result",
          "data": {
            "text/plain": [
              "Text(0.5, 1.0, 'Polynomial Regression for Testing Set')"
            ]
          },
          "metadata": {},
          "execution_count": 372
        },
        {
          "output_type": "display_data",
          "data": {
            "text/plain": [
              "<Figure size 1296x720 with 2 Axes>"
            ],
            "image/png": "[encoded data removed]"
          },
          "metadata": {
            "needs_background": "light"
          }
        }
      ],
      "id": "6qXPCy5F0Q_i"
    },
    {
      "cell_type": "markdown",
      "source": [
        "#### RMSE for λ = 0, 1, 5, 10"
      ],
      "metadata": {
        "id": "1sb0CaPFvnSZ"
      },
      "id": "1sb0CaPFvnSZ"
    },
    {
      "cell_type": "code",
      "source": [
        "# λ = 0\n",
        "y_vs_y_hat_m5 = pd.DataFrame(data=(np.array(df_predicted_m5_0['Y_predicted']), Y_test),index=['y predicted m5 λ0','Y_train']).T\n",
        "y_vs_y_hat_m5['sum of square error'] = (y_vs_y_hat_m5['y predicted m5 λ0'] - y_vs_y_hat_m5['Y_train'])**2\n",
        "\n",
        "rmse_m5_λ0 = 0\n",
        "\n",
        "rmse_m5_λ0 = y_vs_y_hat_m5['sum of square error'].sum() / len(y_vs_y_hat_m5)\n",
        "rmse_m5_λ0 = math.sqrt(rmse_m5_λ0)\n",
        "rmse_m5_λ0"
      ],
      "metadata": {
        "outputId": "edfa277b-c14c-4181-a2f7-97ede45cf572",
        "colab": {
          "base_uri": "https://localhost:8080/"
        },
        "id": "2WqcqWI6vnSa"
      },
      "execution_count": null,
      "outputs": [
        {
          "output_type": "execute_result",
          "data": {
            "text/plain": [
              "10931.00905354445"
            ]
          },
          "metadata": {},
          "execution_count": 373
        }
      ],
      "id": "2WqcqWI6vnSa"
    },
    {
      "cell_type": "code",
      "source": [
        "# λ = 0.01\n",
        "y_vs_y_hat_m5 = pd.DataFrame(data=(np.array(df_predicted_m5_01['Y_predicted']), Y_test),index=['y predicted m5 λ01','Y_train']).T\n",
        "y_vs_y_hat_m5['sum of square error'] = (y_vs_y_hat_m5['y predicted m5 λ01'] - y_vs_y_hat_m5['Y_train'])**2\n",
        "\n",
        "rmse_m5_λ01 = 0\n",
        "\n",
        "rmse_m5_λ01 = y_vs_y_hat_m5['sum of square error'].sum() / len(y_vs_y_hat_m5)\n",
        "rmse_m5_λ01 = math.sqrt(rmse_m5_λ01)\n",
        "rmse_m5_λ01"
      ],
      "metadata": {
        "outputId": "14094473-57a7-4c8b-d4fc-130c86f57540",
        "colab": {
          "base_uri": "https://localhost:8080/"
        },
        "id": "nIzQQavsvnSa"
      },
      "execution_count": null,
      "outputs": [
        {
          "output_type": "execute_result",
          "data": {
            "text/plain": [
              "4.945837065232789"
            ]
          },
          "metadata": {},
          "execution_count": 374
        }
      ],
      "id": "nIzQQavsvnSa"
    },
    {
      "cell_type": "code",
      "source": [
        "# λ = 0.001\n",
        "y_vs_y_hat_m5 = pd.DataFrame(data=(np.array(df_predicted_m5_001['Y_predicted']), Y_test),index=['y predicted m5 λ001','Y_train']).T\n",
        "y_vs_y_hat_m5['sum of square error'] = (y_vs_y_hat_m5['y predicted m5 λ001'] - y_vs_y_hat_m5['Y_train'])**2\n",
        "\n",
        "rmse_m5_λ001 = 0\n",
        "\n",
        "rmse_m5_λ001 = y_vs_y_hat_m5['sum of square error'].sum() / len(y_vs_y_hat_m5)\n",
        "rmse_m5_λ001 = math.sqrt(rmse_m5_λ001)\n",
        "rmse_m5_λ001"
      ],
      "metadata": {
        "outputId": "c37082fa-a7e6-43f0-ddd3-6964a339d726",
        "colab": {
          "base_uri": "https://localhost:8080/"
        },
        "id": "93zh1HszvnSa"
      },
      "execution_count": null,
      "outputs": [
        {
          "output_type": "execute_result",
          "data": {
            "text/plain": [
              "6.121635748872599"
            ]
          },
          "metadata": {},
          "execution_count": 375
        }
      ],
      "id": "93zh1HszvnSa"
    },
    {
      "cell_type": "code",
      "source": [
        "# λ = 1\n",
        "y_vs_y_hat_m5 = pd.DataFrame(data=(np.array(df_predicted_m5_1['Y_predicted']), Y_test),index=['y predicted m5 λ1','Y_train']).T\n",
        "y_vs_y_hat_m5['sum of square error'] = (y_vs_y_hat_m5['y predicted m5 λ1'] - y_vs_y_hat_m5['Y_train'])**2\n",
        "\n",
        "rmse_m5_λ1 = 0\n",
        "\n",
        "rmse_m5_λ1 = y_vs_y_hat_m5['sum of square error'].sum() / len(y_vs_y_hat_m5)\n",
        "rmse_m5_λ1 = math.sqrt(rmse_m5_λ1)\n",
        "rmse_m5_λ1"
      ],
      "metadata": {
        "outputId": "571c184c-b3be-4d9e-fbfd-4ea1e735e996",
        "colab": {
          "base_uri": "https://localhost:8080/"
        },
        "id": "fDjKDMxZvnSa"
      },
      "execution_count": null,
      "outputs": [
        {
          "output_type": "execute_result",
          "data": {
            "text/plain": [
              "0.8761139769840955"
            ]
          },
          "metadata": {},
          "execution_count": 376
        }
      ],
      "id": "fDjKDMxZvnSa"
    },
    {
      "cell_type": "markdown",
      "source": [
        "# Real World Dataset"
      ],
      "metadata": {
        "id": "1bHiVRO-4guZ"
      },
      "id": "1bHiVRO-4guZ"
    },
    {
      "cell_type": "markdown",
      "source": [
        "## Consider the motorcycle dataset. Estimate the Regularized Least Square regression models using the n sigmoidal basis functions. A variant of sigmoidal basis function can be obtained using \n",
        "\n",
        "## σ(a, b, x) = $a^{T}$x + b , a ∈ $R^{n}$, b ∈ R for x ∈ $R^{n}$\n",
        "\n",
        "\n",
        "##I. Plot the estimated function and obtain the training RMSE error for n = 2, 5 , 10. What happens when you increase the number of basis functions.\n",
        "\n",
        "## II. For n =10, find the minimum mean and standard deviations of RMSE, NMSE and R2 using leave-one out method by tunning the parameter λ."
      ],
      "metadata": {
        "id": "0CZe_VWJ4r--"
      },
      "id": "0CZe_VWJ4r--"
    },
    {
      "cell_type": "code",
      "execution_count": null,
      "metadata": {
        "id": "380b1624"
      },
      "outputs": [],
      "source": [
        "import pandas as pd\n",
        "import numpy as np\n",
        "import matplotlib.pyplot as plt\n",
        "import seaborn as sns\n",
        "import math\n",
        "import random"
      ],
      "id": "380b1624"
    },
    {
      "cell_type": "code",
      "execution_count": null,
      "metadata": {
        "id": "bd5c7637"
      },
      "outputs": [],
      "source": [
        "#Lets export our data into your file which is in Excel format \n",
        "df=pd.read_excel('/content/motorcycle.xlsx')"
      ],
      "id": "bd5c7637"
    },
    {
      "cell_type": "code",
      "execution_count": null,
      "metadata": {
        "scrolled": true,
        "colab": {
          "base_uri": "https://localhost:8080/"
        },
        "id": "1a80d87a",
        "outputId": "f93c5502-df91-43ea-d42a-106d264a613f"
      },
      "outputs": [
        {
          "output_type": "stream",
          "name": "stdout",
          "text": [
            "<class 'pandas.core.frame.DataFrame'>\n",
            "RangeIndex: 133 entries, 0 to 132\n",
            "Data columns (total 2 columns):\n",
            " #   Column  Non-Null Count  Dtype  \n",
            "---  ------  --------------  -----  \n",
            " 0   x       133 non-null    float64\n",
            " 1   y       133 non-null    float64\n",
            "dtypes: float64(2)\n",
            "memory usage: 2.2 KB\n"
          ]
        }
      ],
      "source": [
        "# checking on our dataset : It will give top 5 values \n",
        "df.head()\n",
        "#the next step is to take out relavent information\n",
        "df.info()"
      ],
      "id": "1a80d87a"
    },
    {
      "cell_type": "code",
      "execution_count": null,
      "metadata": {
        "id": "fdc8f4da"
      },
      "outputs": [],
      "source": [
        "# Now lets analyse our given question below :\n"
      ],
      "id": "fdc8f4da"
    },
    {
      "cell_type": "code",
      "execution_count": null,
      "metadata": {
        "colab": {
          "base_uri": "https://localhost:8080/"
        },
        "id": "fb6c67e2",
        "outputId": "c7bee840-b987-40d1-9198-386d01c2e705"
      },
      "outputs": [
        {
          "output_type": "execute_result",
          "data": {
            "text/plain": [
              "0       0.0\n",
              "1      -1.3\n",
              "2      -2.7\n",
              "3       0.0\n",
              "4      -2.7\n",
              "       ... \n",
              "128   -14.7\n",
              "129    -2.7\n",
              "130    10.7\n",
              "131    -2.7\n",
              "132    10.7\n",
              "Name: y, Length: 133, dtype: float64"
            ]
          },
          "metadata": {},
          "execution_count": 381
        }
      ],
      "source": [
        "#The values of the features/input is as below\n",
        "x = df['x']\n",
        "x\n",
        "y= df['y']\n",
        "y"
      ],
      "id": "fb6c67e2"
    },
    {
      "cell_type": "code",
      "execution_count": null,
      "metadata": {
        "scrolled": true,
        "colab": {
          "base_uri": "https://localhost:8080/"
        },
        "id": "ea783a76",
        "outputId": "9269c889-4d0c-48e2-d5b8-c67556a0bf45"
      },
      "outputs": [
        {
          "output_type": "execute_result",
          "data": {
            "text/plain": [
              "132"
            ]
          },
          "metadata": {},
          "execution_count": 382
        }
      ],
      "source": [
        "#we will now put it in a list(our x variable) :\n",
        "x1=x.tolist()\n",
        "xtraining=x1[:-1]\n",
        "#we will now put it in a list(our y variable) :\n",
        "y1 = y.tolist()\n",
        "ytraining = y1[:-1]\n",
        "# let us reconfirm our length of the size :\n",
        "len(ytraining)\n",
        "len(xtraining)\n",
        "# hence we for now have removed our last element to treat it as testing set "
      ],
      "id": "ea783a76"
    },
    {
      "cell_type": "code",
      "execution_count": null,
      "metadata": {
        "colab": {
          "base_uri": "https://localhost:8080/"
        },
        "id": "4e842ae5",
        "outputId": "3a054c11-df82-46b3-80aa-e317a412d957"
      },
      "outputs": [
        {
          "output_type": "execute_result",
          "data": {
            "text/plain": [
              "132"
            ]
          },
          "metadata": {},
          "execution_count": 383
        }
      ],
      "source": [
        "#After this we have given with the sigmoidal function :\n",
        "#Lets work on this\n",
        "#This function will give the value between 0 and 1 for the infite number of its input\n",
        "\n",
        "sigmoidal = []\n",
        "\n",
        "for i in range(0,len(xtraining)):\n",
        "    sigmoidal.append(1/(1 + np.exp(-xtraining[i])))\n",
        "#lets check the output \n",
        "sigmoidal\n",
        "#to make sure that ever elemts has been taken we can check the length :\n",
        "len(sigmoidal)"
      ],
      "id": "4e842ae5"
    },
    {
      "cell_type": "code",
      "execution_count": null,
      "metadata": {
        "colab": {
          "base_uri": "https://localhost:8080/"
        },
        "id": "76aed819",
        "outputId": "b74854d6-68bb-4a74-f9a1-bd61dd4f0c4e"
      },
      "outputs": [
        {
          "output_type": "execute_result",
          "data": {
            "text/plain": [
              "[2.4,\n",
              " 2.6,\n",
              " 3.2,\n",
              " 3.6,\n",
              " 4.0,\n",
              " 6.2,\n",
              " 6.6,\n",
              " 6.8,\n",
              " 7.8,\n",
              " 8.2,\n",
              " 8.8,\n",
              " 8.8,\n",
              " 9.6,\n",
              " 10.0,\n",
              " 10.2,\n",
              " 10.6,\n",
              " 11.0,\n",
              " 11.4,\n",
              " 13.2,\n",
              " 13.6,\n",
              " 13.8,\n",
              " 14.6,\n",
              " 14.6,\n",
              " 14.6,\n",
              " 14.6,\n",
              " 14.6,\n",
              " 14.6,\n",
              " 14.8,\n",
              " 15.4,\n",
              " 15.4,\n",
              " 15.4,\n",
              " 15.4,\n",
              " 15.6,\n",
              " 15.6,\n",
              " 15.8,\n",
              " 15.8,\n",
              " 16.0,\n",
              " 16.0,\n",
              " 16.2,\n",
              " 16.2,\n",
              " 16.2,\n",
              " 16.4,\n",
              " 16.4,\n",
              " 16.6,\n",
              " 16.8,\n",
              " 16.8,\n",
              " 16.8,\n",
              " 17.6,\n",
              " 17.6,\n",
              " 17.6,\n",
              " 17.6,\n",
              " 17.8,\n",
              " 17.8,\n",
              " 18.6,\n",
              " 18.6,\n",
              " 19.2,\n",
              " 19.4,\n",
              " 19.4,\n",
              " 19.6,\n",
              " 20.2,\n",
              " 20.4,\n",
              " 21.2,\n",
              " 21.4,\n",
              " 21.8,\n",
              " 22.0,\n",
              " 23.2,\n",
              " 23.4,\n",
              " 24.0,\n",
              " 24.2,\n",
              " 24.2,\n",
              " 24.6,\n",
              " 25.0,\n",
              " 25.0,\n",
              " 25.4,\n",
              " 25.4,\n",
              " 25.6,\n",
              " 26.0,\n",
              " 26.2,\n",
              " 26.2,\n",
              " 26.4,\n",
              " 27.0,\n",
              " 27.2,\n",
              " 27.2,\n",
              " 27.2,\n",
              " 27.6,\n",
              " 28.2,\n",
              " 28.4,\n",
              " 28.4,\n",
              " 28.6,\n",
              " 29.4,\n",
              " 30.2,\n",
              " 31.0,\n",
              " 31.2,\n",
              " 32.0,\n",
              " 32.0,\n",
              " 32.8,\n",
              " 33.4,\n",
              " 33.8,\n",
              " 34.4,\n",
              " 34.8,\n",
              " 35.2,\n",
              " 35.2,\n",
              " 35.4,\n",
              " 35.6,\n",
              " 35.6,\n",
              " 36.2,\n",
              " 36.2,\n",
              " 38.0,\n",
              " 38.0,\n",
              " 39.2,\n",
              " 39.4,\n",
              " 40.0,\n",
              " 40.4,\n",
              " 41.6,\n",
              " 41.6,\n",
              " 42.4,\n",
              " 42.8,\n",
              " 42.8,\n",
              " 43.0,\n",
              " 44.0,\n",
              " 44.4,\n",
              " 45.0,\n",
              " 46.6,\n",
              " 47.8,\n",
              " 47.8,\n",
              " 48.8,\n",
              " 50.6,\n",
              " 52.0,\n",
              " 53.2,\n",
              " 55.0,\n",
              " 55.0,\n",
              " 55.4,\n",
              " 57.6]"
            ]
          },
          "metadata": {},
          "execution_count": 384
        }
      ],
      "source": [
        "#the comparison of the changed value :\n",
        "x1"
      ],
      "id": "76aed819"
    },
    {
      "cell_type": "code",
      "execution_count": null,
      "metadata": {
        "colab": {
          "base_uri": "https://localhost:8080/"
        },
        "id": "7b6e00ff",
        "outputId": "2a31a6d8-c202-4b9f-9e9f-e7d26ebddfb0"
      },
      "outputs": [
        {
          "output_type": "execute_result",
          "data": {
            "text/plain": [
              "[0.9168273035060777,\n",
              " 0.9308615796566533,\n",
              " 0.9608342772032357,\n",
              " 0.973403006423134,\n",
              " 0.9820137900379085,\n",
              " 0.9979746796109501,\n",
              " 0.9986414800495711,\n",
              " 0.9988874639671398,\n",
              " 0.9995904328350139,\n",
              " 0.9997254218438986,\n",
              " 0.9998492896419403,\n",
              " 0.9998492896419403,\n",
              " 0.9999322758503804,\n",
              " 0.9999546021312976,\n",
              " 0.9999628310628971,\n",
              " 0.9999750846110607,\n",
              " 0.999983298578152,\n",
              " 0.999988804640495,\n",
              " 0.9999981494022271,\n",
              " 0.9999987595064589,\n",
              " 0.9999989843695606,\n",
              " 0.9999995436475715,\n",
              " 0.9999995436475715,\n",
              " 0.9999995436475715,\n",
              " 0.9999995436475715,\n",
              " 0.9999995436475715,\n",
              " 0.9999995436475715,\n",
              " 0.9999996263702017,\n",
              " 0.9999997949475846,\n",
              " 0.9999997949475846,\n",
              " 0.9999997949475846,\n",
              " 0.9999997949475846,\n",
              " 0.9999998321172752,\n",
              " 0.9999998321172752,\n",
              " 0.9999998625492461,\n",
              " 0.9999998625492461,\n",
              " 0.9999998874648379,\n",
              " 0.9999998874648379,\n",
              " 0.9999999078640001,\n",
              " 0.9999999078640001,\n",
              " 0.9999999078640001,\n",
              " 0.9999999245654222,\n",
              " 0.9999999245654222,\n",
              " 0.9999999382393905,\n",
              " 0.9999999494346891,\n",
              " 0.9999999494346891,\n",
              " 0.9999999494346891,\n",
              " 0.9999999772795406,\n",
              " 0.9999999772795406,\n",
              " 0.9999999772795406,\n",
              " 0.9999999772795406,\n",
              " 0.999999981398061,\n",
              " 0.999999981398061,\n",
              " 0.9999999916416099,\n",
              " 0.9999999916416099,\n",
              " 0.9999999954128183,\n",
              " 0.9999999962443333,\n",
              " 0.9999999962443333,\n",
              " 0.9999999969251201,\n",
              " 0.9999999983124701,\n",
              " 0.9999999986183674,\n",
              " 0.9999999993791924,\n",
              " 0.9999999994917257,\n",
              " 0.9999999996592936,\n",
              " 0.9999999997210531,\n",
              " 0.9999999999159828,\n",
              " 0.9999999999312126,\n",
              " 0.9999999999622486,\n",
              " 0.9999999999690918,\n",
              " 0.9999999999690918,\n",
              " 0.9999999999792817,\n",
              " 0.999999999986112,\n",
              " 0.999999999986112,\n",
              " 0.9999999999906906,\n",
              " 0.9999999999906906,\n",
              " 0.9999999999923781,\n",
              " 0.999999999994891,\n",
              " 0.9999999999958171,\n",
              " 0.9999999999958171,\n",
              " 0.9999999999965752,\n",
              " 0.9999999999981204,\n",
              " 0.9999999999984612,\n",
              " 0.9999999999984612,\n",
              " 0.9999999999984612,\n",
              " 0.9999999999989686,\n",
              " 0.9999999999994338,\n",
              " 0.9999999999995366,\n",
              " 0.9999999999995366,\n",
              " 0.9999999999996205,\n",
              " 0.9999999999998295,\n",
              " 0.9999999999999234,\n",
              " 0.9999999999999656,\n",
              " 0.9999999999999718,\n",
              " 0.9999999999999873,\n",
              " 0.9999999999999873,\n",
              " 0.9999999999999942,\n",
              " 0.9999999999999969,\n",
              " 0.999999999999998,\n",
              " 0.9999999999999989,\n",
              " 0.9999999999999993,\n",
              " 0.9999999999999996,\n",
              " 0.9999999999999996,\n",
              " 0.9999999999999996,\n",
              " 0.9999999999999996,\n",
              " 0.9999999999999996,\n",
              " 0.9999999999999998,\n",
              " 0.9999999999999998,\n",
              " 1.0,\n",
              " 1.0,\n",
              " 1.0,\n",
              " 1.0,\n",
              " 1.0,\n",
              " 1.0,\n",
              " 1.0,\n",
              " 1.0,\n",
              " 1.0,\n",
              " 1.0,\n",
              " 1.0,\n",
              " 1.0,\n",
              " 1.0,\n",
              " 1.0,\n",
              " 1.0,\n",
              " 1.0,\n",
              " 1.0,\n",
              " 1.0,\n",
              " 1.0,\n",
              " 1.0,\n",
              " 1.0,\n",
              " 1.0,\n",
              " 1.0,\n",
              " 1.0,\n",
              " 1.0]"
            ]
          },
          "metadata": {},
          "execution_count": 385
        }
      ],
      "source": [
        "sigmoidal"
      ],
      "id": "7b6e00ff"
    },
    {
      "cell_type": "code",
      "execution_count": null,
      "metadata": {
        "colab": {
          "base_uri": "https://localhost:8080/"
        },
        "id": "820fa295",
        "outputId": "652e4941-2758-4190-fb8a-dae63514abbd"
      },
      "outputs": [
        {
          "output_type": "stream",
          "name": "stdout",
          "text": [
            "[57.6]\n",
            "[10.7]\n"
          ]
        },
        {
          "output_type": "execute_result",
          "data": {
            "text/plain": [
              "1"
            ]
          },
          "metadata": {},
          "execution_count": 386
        }
      ],
      "source": [
        "#Below are the value we will be considering for testing our model \n",
        "xtesting = np.array(x1[-1:])\n",
        "print(xtesting)\n",
        "\n",
        "ytesting = np.array(y1[-1:])\n",
        "print(ytesting)\n",
        "len(xtesting)"
      ],
      "id": "820fa295"
    },
    {
      "cell_type": "code",
      "execution_count": null,
      "metadata": {
        "colab": {
          "base_uri": "https://localhost:8080/"
        },
        "id": "fc51f5c0",
        "outputId": "317030a9-d7e0-4019-a5a8-6fec41562dd0"
      },
      "outputs": [
        {
          "output_type": "execute_result",
          "data": {
            "text/plain": [
              "(array([0.30908594, 0.57889732]), array([0.22750521, 0.48499792]))"
            ]
          },
          "metadata": {},
          "execution_count": 387
        }
      ],
      "source": [
        "#This fuction will help us with the basis function in determining the values of A and B :\n",
        "#We need to find : m1(Φ1)+ m2(Φ2) = y\n",
        "#We are finding Φ:\n",
        "\n",
        "def Coff_data(num_of_coff):\n",
        "    A =[]\n",
        "    B =[]\n",
        "    for i in range(num_of_coff):\n",
        "        A.append(random.random())\n",
        "        \n",
        "    for j in range(num_of_coff):\n",
        "        B.append(random.random())\n",
        "    #Sorting out values \n",
        "    A_coff =np.sort(np.array(A))\n",
        "    B_coff = np.sort(np.array(B))\n",
        "    return A_coff,B_coff\n",
        "#checking for a and b for m=2\n",
        "Coff_data(2)\n",
        "# #checking for a and b for m=5\n",
        "# Coff_data(5)\n",
        "# #checking for a and b for m=10\n",
        "# Coff_data(10)        \n",
        "            "
      ],
      "id": "fc51f5c0"
    },
    {
      "cell_type": "code",
      "execution_count": null,
      "metadata": {
        "id": "fa1a7cc2"
      },
      "outputs": [],
      "source": [
        "#assigning variables to the the cofficient to use it further in the code \n",
        "#this has been used for training and testing set both for cofficient A and B \n",
        "A2, B2= Coff_data(2)\n",
        "A5, B5= Coff_data(5)\n",
        "A10, B10= Coff_data(10)\n",
        "\n",
        "A2t, B2t= Coff_data(2)\n",
        "A5t, B5t= Coff_data(5)\n",
        "A10t, B10t= Coff_data(10)"
      ],
      "id": "fa1a7cc2"
    },
    {
      "cell_type": "code",
      "execution_count": null,
      "metadata": {
        "colab": {
          "base_uri": "https://localhost:8080/"
        },
        "id": "8e6a6dc8",
        "outputId": "f177a406-a69e-44d1-8b62-1cec5e1e0599"
      },
      "outputs": [
        {
          "output_type": "stream",
          "name": "stdout",
          "text": [
            "(132, 3)\n",
            "For m = 2  -> training data :  [[ 0.67480457  0.8378018   1.        ]\n",
            " [ 0.72135026  0.88660591  1.        ]\n",
            " [ 0.86098734  1.03301826  1.        ]\n",
            " [ 0.95407872  1.13062649  1.        ]\n",
            " [ 1.04717011  1.22823472  1.        ]\n",
            " [ 1.55917273  1.76507998  1.        ]\n",
            " [ 1.65226411  1.86268821  1.        ]\n",
            " [ 1.69880981  1.91149232  1.        ]\n",
            " [ 1.93153827  2.1555129   1.        ]\n",
            " [ 2.02462965  2.25312112  1.        ]\n",
            " [ 2.16426673  2.39953347  1.        ]\n",
            " [ 2.16426673  2.39953347  1.        ]\n",
            " [ 2.3504495   2.59474993  1.        ]\n",
            " [ 2.44354089  2.69235816  1.        ]\n",
            " [ 2.49008658  2.74116227  1.        ]\n",
            " [ 2.58317797  2.8387705   1.        ]\n",
            " [ 2.67626935  2.93637873  1.        ]\n",
            " [ 2.76936074  3.03398696  1.        ]\n",
            " [ 3.18827197  3.47322399  1.        ]\n",
            " [ 3.28136336  3.57083222  1.        ]\n",
            " [ 3.32790905  3.61963634  1.        ]\n",
            " [ 3.51409182  3.8148528   1.        ]\n",
            " [ 3.51409182  3.8148528   1.        ]\n",
            " [ 3.51409182  3.8148528   1.        ]\n",
            " [ 3.51409182  3.8148528   1.        ]\n",
            " [ 3.51409182  3.8148528   1.        ]\n",
            " [ 3.51409182  3.8148528   1.        ]\n",
            " [ 3.56063751  3.86365691  1.        ]\n",
            " [ 3.70027459  4.01006926  1.        ]\n",
            " [ 3.70027459  4.01006926  1.        ]\n",
            " [ 3.70027459  4.01006926  1.        ]\n",
            " [ 3.70027459  4.01006926  1.        ]\n",
            " [ 3.74682028  4.05887337  1.        ]\n",
            " [ 3.74682028  4.05887337  1.        ]\n",
            " [ 3.79336597  4.10767748  1.        ]\n",
            " [ 3.79336597  4.10767748  1.        ]\n",
            " [ 3.83991167  4.1564816   1.        ]\n",
            " [ 3.83991167  4.1564816   1.        ]\n",
            " [ 3.88645736  4.20528571  1.        ]\n",
            " [ 3.88645736  4.20528571  1.        ]\n",
            " [ 3.88645736  4.20528571  1.        ]\n",
            " [ 3.93300305  4.25408983  1.        ]\n",
            " [ 3.93300305  4.25408983  1.        ]\n",
            " [ 3.97954874  4.30289394  1.        ]\n",
            " [ 4.02609444  4.35169806  1.        ]\n",
            " [ 4.02609444  4.35169806  1.        ]\n",
            " [ 4.02609444  4.35169806  1.        ]\n",
            " [ 4.21227721  4.54691452  1.        ]\n",
            " [ 4.21227721  4.54691452  1.        ]\n",
            " [ 4.21227721  4.54691452  1.        ]\n",
            " [ 4.21227721  4.54691452  1.        ]\n",
            " [ 4.2588229   4.59571863  1.        ]\n",
            " [ 4.2588229   4.59571863  1.        ]\n",
            " [ 4.44500567  4.79093509  1.        ]\n",
            " [ 4.44500567  4.79093509  1.        ]\n",
            " [ 4.58464275  4.93734743  1.        ]\n",
            " [ 4.63118844  4.98615155  1.        ]\n",
            " [ 4.63118844  4.98615155  1.        ]\n",
            " [ 4.67773413  5.03495566  1.        ]\n",
            " [ 4.81737121  5.18136801  1.        ]\n",
            " [ 4.8639169   5.23017212  1.        ]\n",
            " [ 5.05009968  5.42538858  1.        ]\n",
            " [ 5.09664537  5.4741927   1.        ]\n",
            " [ 5.18973675  5.57180093  1.        ]\n",
            " [ 5.23628245  5.62060504  1.        ]\n",
            " [ 5.5155566   5.91342973  1.        ]\n",
            " [ 5.56210229  5.96223384  1.        ]\n",
            " [ 5.70173937  6.10864619  1.        ]\n",
            " [ 5.74828506  6.1574503   1.        ]\n",
            " [ 5.74828506  6.1574503   1.        ]\n",
            " [ 5.84137645  6.25505853  1.        ]\n",
            " [ 5.93446784  6.35266676  1.        ]\n",
            " [ 5.93446784  6.35266676  1.        ]\n",
            " [ 6.02755922  6.45027499  1.        ]\n",
            " [ 6.02755922  6.45027499  1.        ]\n",
            " [ 6.07410491  6.49907911  1.        ]\n",
            " [ 6.1671963   6.59668734  1.        ]\n",
            " [ 6.21374199  6.64549145  1.        ]\n",
            " [ 6.21374199  6.64549145  1.        ]\n",
            " [ 6.26028768  6.69429557  1.        ]\n",
            " [ 6.39992476  6.84070791  1.        ]\n",
            " [ 6.44647045  6.88951202  1.        ]\n",
            " [ 6.44647045  6.88951202  1.        ]\n",
            " [ 6.44647045  6.88951202  1.        ]\n",
            " [ 6.53956184  6.98712025  1.        ]\n",
            " [ 6.67919892  7.1335326   1.        ]\n",
            " [ 6.72574461  7.18233671  1.        ]\n",
            " [ 6.72574461  7.18233671  1.        ]\n",
            " [ 6.7722903   7.23114083  1.        ]\n",
            " [ 6.95847307  7.42635729  1.        ]\n",
            " [ 7.14465584  7.62157374  1.        ]\n",
            " [ 7.33083861  7.8167902   1.        ]\n",
            " [ 7.37738431  7.86559432  1.        ]\n",
            " [ 7.56356708  8.06081078  1.        ]\n",
            " [ 7.56356708  8.06081078  1.        ]\n",
            " [ 7.74974985  8.25602724  1.        ]\n",
            " [ 7.88938693  8.40243958  1.        ]\n",
            " [ 7.98247831  8.50004781  1.        ]\n",
            " [ 8.12211539  8.64646015  1.        ]\n",
            " [ 8.21520677  8.74406838  1.        ]\n",
            " [ 8.30829816  8.84167661  1.        ]\n",
            " [ 8.30829816  8.84167661  1.        ]\n",
            " [ 8.35484385  8.89048073  1.        ]\n",
            " [ 8.40138954  8.93928484  1.        ]\n",
            " [ 8.40138954  8.93928484  1.        ]\n",
            " [ 8.54102662  9.08569719  1.        ]\n",
            " [ 8.54102662  9.08569719  1.        ]\n",
            " [ 8.95993786  9.52493422  1.        ]\n",
            " [ 8.95993786  9.52493422  1.        ]\n",
            " [ 9.23921201  9.81775891  1.        ]\n",
            " [ 9.2857577   9.86656302  1.        ]\n",
            " [ 9.42539478 10.01297537  1.        ]\n",
            " [ 9.51848617 10.1105836   1.        ]\n",
            " [ 9.79776032 10.40340828  1.        ]\n",
            " [ 9.79776032 10.40340828  1.        ]\n",
            " [ 9.98394309 10.59862474  1.        ]\n",
            " [10.07703448 10.69623297  1.        ]\n",
            " [10.07703448 10.69623297  1.        ]\n",
            " [10.12358017 10.74503709  1.        ]\n",
            " [10.35630864 10.98905766  1.        ]\n",
            " [10.44940002 11.08666589  1.        ]\n",
            " [10.5890371  11.23307823  1.        ]\n",
            " [10.96140264 11.62351115  1.        ]\n",
            " [11.2406768  11.91633584  1.        ]\n",
            " [11.2406768  11.91633584  1.        ]\n",
            " [11.47340526 12.16035641  1.        ]\n",
            " [11.89231649 12.59959345  1.        ]\n",
            " [12.21813634 12.94122225  1.        ]\n",
            " [12.4974105  13.23404694  1.        ]\n",
            " [12.91632173 13.67328397  1.        ]\n",
            " [12.91632173 13.67328397  1.        ]\n",
            " [13.00941312 13.7708922   1.        ]]\n",
            "For m = 5  -> training data :  [[ 0.31328298  0.63836661  1.38102996  2.29601127  3.06482259  1.        ]\n",
            " [ 0.3295456   0.67776258  1.44236781  2.42293773  3.24911631  1.        ]\n",
            " [ 0.37833346  0.7959505   1.62638134  2.80371711  3.80199746  1.        ]\n",
            " [ 0.4108587   0.87474244  1.74905703  3.05757002  4.1705849   1.        ]\n",
            " [ 0.44338394  0.95353439  1.87173272  3.31142294  4.53917233  1.        ]\n",
            " [ 0.62227277  1.38689008  2.54644901  4.70761399  6.56640323  1.        ]\n",
            " [ 0.65479801  1.46568203  2.6691247   4.96146691  6.93499066  1.        ]\n",
            " [ 0.67106063  1.505078    2.73046254  5.08839337  7.11928438  1.        ]\n",
            " [ 0.75237373  1.70205786  3.03715176  5.72302566  8.04075297  1.        ]\n",
            " [ 0.78489898  1.78084981  3.15982745  5.97687858  8.40934041  1.        ]\n",
            " [ 0.83368684  1.89903772  3.34384099  6.35765796  8.96222156  1.        ]\n",
            " [ 0.83368684  1.89903772  3.34384099  6.35765796  8.96222156  1.        ]\n",
            " [ 0.89873732  2.05662161  3.58919236  6.86536379  9.69939643  1.        ]\n",
            " [ 0.93126256  2.13541356  3.71186805  7.11921671 10.06798387  1.        ]\n",
            " [ 0.94752518  2.17480953  3.7732059   7.24614317 10.25227758  1.        ]\n",
            " [ 0.98005042  2.25360147  3.89588159  7.49999609 10.62086502  1.        ]\n",
            " [ 1.01257566  2.33239342  4.01855727  7.75384901 10.98945246  1.        ]\n",
            " [ 1.0451009   2.41118536  4.14123296  8.00770193 11.35803989  1.        ]\n",
            " [ 1.19146449  2.76574911  4.69327356  9.15004006 13.01668335  1.        ]\n",
            " [ 1.22398973  2.84454106  4.81594925  9.40389297 13.38527079  1.        ]\n",
            " [ 1.24025235  2.88393703  4.8772871   9.53081943 13.5695645   1.        ]\n",
            " [ 1.30530283  3.04152092  5.12263847 10.03852527 14.30673938  1.        ]\n",
            " [ 1.30530283  3.04152092  5.12263847 10.03852527 14.30673938  1.        ]\n",
            " [ 1.30530283  3.04152092  5.12263847 10.03852527 14.30673938  1.        ]\n",
            " [ 1.30530283  3.04152092  5.12263847 10.03852527 14.30673938  1.        ]\n",
            " [ 1.30530283  3.04152092  5.12263847 10.03852527 14.30673938  1.        ]\n",
            " [ 1.30530283  3.04152092  5.12263847 10.03852527 14.30673938  1.        ]\n",
            " [ 1.32156545  3.08091689  5.18397632 10.16545173 14.49103309  1.        ]\n",
            " [ 1.37035332  3.19910481  5.36798985 10.54623111 15.04391425  1.        ]\n",
            " [ 1.37035332  3.19910481  5.36798985 10.54623111 15.04391425  1.        ]\n",
            " [ 1.37035332  3.19910481  5.36798985 10.54623111 15.04391425  1.        ]\n",
            " [ 1.37035332  3.19910481  5.36798985 10.54623111 15.04391425  1.        ]\n",
            " [ 1.38661594  3.23850078  5.4293277  10.67315756 15.22820796  1.        ]\n",
            " [ 1.38661594  3.23850078  5.4293277  10.67315756 15.22820796  1.        ]\n",
            " [ 1.40287856  3.27789675  5.49066554 10.80008402 15.41250168  1.        ]\n",
            " [ 1.40287856  3.27789675  5.49066554 10.80008402 15.41250168  1.        ]\n",
            " [ 1.41914118  3.31729273  5.55200339 10.92701048 15.5967954   1.        ]\n",
            " [ 1.41914118  3.31729273  5.55200339 10.92701048 15.5967954   1.        ]\n",
            " [ 1.4354038   3.3566887   5.61334123 11.05393694 15.78108912  1.        ]\n",
            " [ 1.4354038   3.3566887   5.61334123 11.05393694 15.78108912  1.        ]\n",
            " [ 1.4354038   3.3566887   5.61334123 11.05393694 15.78108912  1.        ]\n",
            " [ 1.45166642  3.39608467  5.67467907 11.1808634  15.96538284  1.        ]\n",
            " [ 1.45166642  3.39608467  5.67467907 11.1808634  15.96538284  1.        ]\n",
            " [ 1.46792904  3.43548064  5.73601692 11.30778986 16.14967655  1.        ]\n",
            " [ 1.48419166  3.47487662  5.79735476 11.43471632 16.33397027  1.        ]\n",
            " [ 1.48419166  3.47487662  5.79735476 11.43471632 16.33397027  1.        ]\n",
            " [ 1.48419166  3.47487662  5.79735476 11.43471632 16.33397027  1.        ]\n",
            " [ 1.54924214  3.6324605   6.04270614 11.94242216 17.07114514  1.        ]\n",
            " [ 1.54924214  3.6324605   6.04270614 11.94242216 17.07114514  1.        ]\n",
            " [ 1.54924214  3.6324605   6.04270614 11.94242216 17.07114514  1.        ]\n",
            " [ 1.54924214  3.6324605   6.04270614 11.94242216 17.07114514  1.        ]\n",
            " [ 1.56550476  3.67185648  6.10404398 12.06934861 17.25543886  1.        ]\n",
            " [ 1.56550476  3.67185648  6.10404398 12.06934861 17.25543886  1.        ]\n",
            " [ 1.63055524  3.82944037  6.34939536 12.57705445 17.99261373  1.        ]\n",
            " [ 1.63055524  3.82944037  6.34939536 12.57705445 17.99261373  1.        ]\n",
            " [ 1.67934311  3.94762828  6.5334089  12.95783383 18.54549488  1.        ]\n",
            " [ 1.69560573  3.98702426  6.59474674 13.08476029 18.7297886   1.        ]\n",
            " [ 1.69560573  3.98702426  6.59474674 13.08476029 18.7297886   1.        ]\n",
            " [ 1.71186835  4.02642023  6.65608458 13.21168675 18.91408232  1.        ]\n",
            " [ 1.76065621  4.14460814  6.84009812 13.59246612 19.46696347  1.        ]\n",
            " [ 1.77691883  4.18400412  6.90143596 13.71939258 19.65125719  1.        ]\n",
            " [ 1.84196931  4.34158801  7.14678734 14.22709842 20.38843206  1.        ]\n",
            " [ 1.85823193  4.38098398  7.20812518 14.35402488 20.57272578  1.        ]\n",
            " [ 1.89075717  4.45977592  7.33080087 14.60787779 20.94131321  1.        ]\n",
            " [ 1.90701979  4.4991719   7.39213872 14.73480425 21.12560693  1.        ]\n",
            " [ 2.00459552  4.73554773  7.76016578 15.49636301 22.23136924  1.        ]\n",
            " [ 2.02085814  4.7749437   7.82150363 15.62328947 22.41566296  1.        ]\n",
            " [ 2.069646    4.89313162  8.00551716 16.00406884 22.96854411  1.        ]\n",
            " [ 2.08590862  4.93252759  8.06685501 16.1309953  23.15283783  1.        ]\n",
            " [ 2.08590862  4.93252759  8.06685501 16.1309953  23.15283783  1.        ]\n",
            " [ 2.11843386  5.01131954  8.1895307  16.38484822 23.52142526  1.        ]\n",
            " [ 2.1509591   5.09011148  8.31220638 16.63870114 23.8900127   1.        ]\n",
            " [ 2.1509591   5.09011148  8.31220638 16.63870114 23.8900127   1.        ]\n",
            " [ 2.18348434  5.16890343  8.43488207 16.89255406 24.25860013  1.        ]\n",
            " [ 2.18348434  5.16890343  8.43488207 16.89255406 24.25860013  1.        ]\n",
            " [ 2.19974696  5.2082994   8.49621992 17.01948052 24.44289385  1.        ]\n",
            " [ 2.23227221  5.28709134  8.61889561 17.27333343 24.81148129  1.        ]\n",
            " [ 2.24853483  5.32648731  8.68023345 17.40025989 24.99577501  1.        ]\n",
            " [ 2.24853483  5.32648731  8.68023345 17.40025989 24.99577501  1.        ]\n",
            " [ 2.26479745  5.36588329  8.7415713  17.52718635 25.18006872  1.        ]\n",
            " [ 2.31358531  5.4840712   8.92558483 17.90796573 25.73294988  1.        ]\n",
            " [ 2.32984793  5.52346718  8.98692267 18.03489219 25.91724359  1.        ]\n",
            " [ 2.32984793  5.52346718  8.98692267 18.03489219 25.91724359  1.        ]\n",
            " [ 2.32984793  5.52346718  8.98692267 18.03489219 25.91724359  1.        ]\n",
            " [ 2.36237317  5.60225912  9.10959836 18.28874511 26.28583103  1.        ]\n",
            " [ 2.41116103  5.72044704  9.2936119  18.66952448 26.83871218  1.        ]\n",
            " [ 2.42742365  5.75984301  9.35494974 18.79645094 27.0230059   1.        ]\n",
            " [ 2.42742365  5.75984301  9.35494974 18.79645094 27.0230059   1.        ]\n",
            " [ 2.44368627  5.79923898  9.41628758 18.9233774  27.20729962  1.        ]\n",
            " [ 2.50873676  5.95682287  9.66163896 19.43108324 27.94447449  1.        ]\n",
            " [ 2.57378724  6.11440676  9.90699034 19.93878907 28.68164936  1.        ]\n",
            " [ 2.63883772  6.27199065 10.15234172 20.44649491 29.41882423  1.        ]\n",
            " [ 2.65510034  6.31138662 10.21367956 20.57342137 29.60311795  1.        ]\n",
            " [ 2.72015082  6.46897051 10.45903094 21.0811272  30.34029282  1.        ]\n",
            " [ 2.72015082  6.46897051 10.45903094 21.0811272  30.34029282  1.        ]\n",
            " [ 2.7852013   6.6265544  10.70438232 21.58883304 31.07746769  1.        ]\n",
            " [ 2.83398917  6.74474232 10.88839585 21.96961242 31.63034884  1.        ]\n",
            " [ 2.86651441  6.82353426 11.01107154 22.22346534 31.99893628  1.        ]\n",
            " [ 2.91530227  6.94172218 11.19508507 22.60424471 32.55181743  1.        ]\n",
            " [ 2.94782751  7.02051412 11.31776076 22.85809763 32.92040487  1.        ]\n",
            " [ 2.98035275  7.09930607 11.44043645 23.11195055 33.2889923   1.        ]\n",
            " [ 2.98035275  7.09930607 11.44043645 23.11195055 33.2889923   1.        ]\n",
            " [ 2.99661537  7.13870204 11.5017743  23.23887701 33.47328602  1.        ]\n",
            " [ 3.01287799  7.17809801 11.56311214 23.36580347 33.65757974  1.        ]\n",
            " [ 3.01287799  7.17809801 11.56311214 23.36580347 33.65757974  1.        ]\n",
            " [ 3.06166585  7.29628593 11.74712567 23.74658284 34.21046089  1.        ]\n",
            " [ 3.06166585  7.29628593 11.74712567 23.74658284 34.21046089  1.        ]\n",
            " [ 3.20802944  7.65084968 12.29916627 24.88892098 35.86910435  1.        ]\n",
            " [ 3.20802944  7.65084968 12.29916627 24.88892098 35.86910435  1.        ]\n",
            " [ 3.30560516  7.88722552 12.66719334 25.65047973 36.97486666  1.        ]\n",
            " [ 3.32186778  7.92662149 12.72853118 25.77740619 37.15916038  1.        ]\n",
            " [ 3.37065564  8.04480941 12.91254472 26.15818557 37.71204153  1.        ]\n",
            " [ 3.40318089  8.12360135 13.03522041 26.41203848 38.08062897  1.        ]\n",
            " [ 3.50075661  8.35997718 13.40324747 27.17359724 39.18639127  1.        ]\n",
            " [ 3.50075661  8.35997718 13.40324747 27.17359724 39.18639127  1.        ]\n",
            " [ 3.56580709  8.51756107 13.64859885 27.68130307 39.92356614  1.        ]\n",
            " [ 3.59833233  8.59635302 13.77127454 27.93515599 40.29215358  1.        ]\n",
            " [ 3.59833233  8.59635302 13.77127454 27.93515599 40.29215358  1.        ]\n",
            " [ 3.61459495  8.63574899 13.83261238 28.06208245 40.4764473   1.        ]\n",
            " [ 3.69590806  8.83272885 14.13930161 28.69671475 41.39791589  1.        ]\n",
            " [ 3.7284333   8.9115208  14.26197729 28.95056766 41.76650332  1.        ]\n",
            " [ 3.77722116  9.02970871 14.44599083 29.33134704 42.31938448  1.        ]\n",
            " [ 3.90732212  9.34487649 14.93669358 30.34675871 43.79373422  1.        ]\n",
            " [ 4.00489785  9.58125233 15.30472065 31.10831747 44.89949652  1.        ]\n",
            " [ 4.00489785  9.58125233 15.30472065 31.10831747 44.89949652  1.        ]\n",
            " [ 4.08621095  9.77823219 15.61140987 31.74294976 45.82096511  1.        ]\n",
            " [ 4.23257453 10.13279594 16.16345047 32.88528789 47.47960857  1.        ]\n",
            " [ 4.34641288 10.40856774 16.59281538 33.77377311 48.7696646   1.        ]\n",
            " [ 4.4439886  10.64494358 16.96084245 34.53533186 49.8754269   1.        ]\n",
            " [ 4.59035219 10.99950733 17.51288305 35.67766999 51.53407036  1.        ]\n",
            " [ 4.59035219 10.99950733 17.51288305 35.67766999 51.53407036  1.        ]\n",
            " [ 4.62287743 11.07829927 17.63555874 35.93152291 51.9026578   1.        ]]\n",
            "For m = 10  -> training data :  [[ 0.22673361  0.52971912  0.65246904 ...  3.0975298   3.1793976\n",
            "   1.        ]\n",
            " [ 0.24538934  0.56988323  0.69546225 ...  3.29651646  3.37863696\n",
            "   1.        ]\n",
            " [ 0.30135652  0.69037554  0.82444187 ...  3.89347642  3.97635504\n",
            "   1.        ]\n",
            " ...\n",
            " [ 5.13319013 11.09287839 11.95968233 ... 55.43101992 55.5793491\n",
            "   1.        ]\n",
            " [ 5.13319013 11.09287839 11.95968233 ... 55.43101992 55.5793491\n",
            "   1.        ]\n",
            " [ 5.17050159 11.1732066  12.04566874 ... 55.82899323 55.97782782\n",
            "   1.        ]]\n",
            "For m = 2  -> testing data :  [[31.55354077 40.06049452  1.        ]]\n",
            "For m = 5  -> testing data :  [[15.0968562  29.16011818 36.59308931 45.55112122 50.60030442  1.        ]]\n",
            "For m = 10  -> testing data :  [[ 2.15953768 11.18440931 15.90427407 22.99687007 26.19451412 27.88373265\n",
            "  27.99261479 33.19065361 36.09205745 45.72903281  1.        ]]\n"
          ]
        }
      ],
      "source": [
        "# Calculating Φ --> ax +b for m =2,5,10\n",
        "def sigmoid(A,B,X,n):\n",
        "  Sig=[]\n",
        "  for i in range(len(X)):\n",
        "    Sig.append([])\n",
        "    for j in range(n):\n",
        "      #print(A[j],x[i],B[j])\n",
        "      Sig[i].append((A[j]*X[i])+B[j])\n",
        "    Sig[i].append(1)\n",
        "  return Sig\n",
        "#Our traning set \n",
        "# m =2\n",
        "S2=np.array(sigmoid(A2,B2,xtraining,2))\n",
        "# m = 5\n",
        "S5=np.array(sigmoid(A5,B5,xtraining,5))\n",
        "# m = 10\n",
        "S10=np.array(sigmoid(A10,B10,xtraining,10))\n",
        "#Our testing set \n",
        "# m =2\n",
        "S2_testing=np.array(sigmoid(A2t,B2t,xtesting,2))\n",
        "# m = 5\n",
        "S5_testing=np.array(sigmoid(A5t,B5t,xtesting ,5))\n",
        "# m = 10\n",
        "S10_testing=np.array(sigmoid(A10t,B10t,xtesting,10))\n",
        "print(S2.shape) # To do calculation we will check it shape \n",
        " #lets analyse our data one by one \n",
        "print('For m = 2  -> training data : ',S2)\n",
        "print('For m = 5  -> training data : ',S5)\n",
        "print('For m = 10  -> training data : ',S10)\n",
        "print('For m = 2  -> testing data : ',S2_testing)\n",
        "print('For m = 5  -> testing data : ',S5_testing)\n",
        "print('For m = 10  -> testing data : ',S10_testing)"
      ],
      "id": "8e6a6dc8"
    },
    {
      "cell_type": "code",
      "execution_count": null,
      "metadata": {
        "id": "66a64fb8"
      },
      "outputs": [],
      "source": [
        "#Applying sigmoid function that we have learned earlier which give value between 0 and 1 \n",
        "#Please note that this function can take value from -infitity to + infinity\n",
        "def adding_sig_training(xe,n):\n",
        "    I = np.identity(n+1)\n",
        "    A_training=[]\n",
        "    for i in range(len(xtraining)):\n",
        "        A_training.append([])\n",
        "        for j in range(n+1):\n",
        "            A_training[i].append(1/(1 + np.exp(-xe[i][j])))\n",
        "    return A_training,I\n",
        "  \n",
        "def adding_sig_testing(xe,n):\n",
        "    I = np.identity(n+1)\n",
        "    A_testing=[]\n",
        "    for i in range(len(xtesting)):\n",
        "        A_testing.append([])\n",
        "        for j in range(n+1):\n",
        "            A_testing[i].append(1/(1 + np.exp(-xe[i][j])))\n",
        "    return A_testing,I"
      ],
      "id": "66a64fb8"
    },
    {
      "cell_type": "code",
      "execution_count": null,
      "metadata": {
        "id": "1ebd25cf"
      },
      "outputs": [],
      "source": [
        "# We will be using the these for out function , we further just need to get the dot product by taking different value of lambda\n",
        "\n",
        "A2_new,I2=adding_sig_training(S2,2)\n",
        "# print('The coff after the sigmoid function: ',A2_new,' ','Identity matrix: ',I2)\n",
        "A5_new,I5=adding_sig_training(S5,5)\n",
        "# print('The coff after the sigmoid function: ',A5_new,' ','Identity matrix: ',I5)\n",
        "A10_new,I10=adding_sig_training(S10,10)\n",
        "# print('The coff after the sigmoid function: ',A10_new,' ','Identity matrix: ',I10)\n",
        "\n",
        "A2_new_shape=np.array(A2_new)\n",
        "#print(A2_new_shape)\n",
        "i=np.array(I2)\n",
        "#print(i)\n",
        "A2_new_t,I2_t=adding_sig_testing(S2_testing,2)\n",
        "# print('The coff after the sigmoid function testing dataset: ',A2_new,' ','Identity matrix: ',I2)\n",
        "A5_new_t,I5_t=adding_sig_testing(S5_testing,5)\n",
        "# print('The coff after the sigmoid function testing dataset: ',A5_new,' ','Identity matrix: ',I5)\n",
        "A10_new_t,I10_t=adding_sig_testing(S10_testing,10)\n",
        "# print('The coff after the sigmoid function testing dataset: ',A10_new,' ','Identity matrix: ',I10)\n",
        "\n"
      ],
      "id": "1ebd25cf"
    },
    {
      "cell_type": "code",
      "execution_count": null,
      "metadata": {
        "id": "6212c59e"
      },
      "outputs": [],
      "source": [
        "#let the value of lambda be small as 0.01 \n",
        "def predict_new_coff(M,y1,I):\n",
        "    templ=np.dot(0.01,I)\n",
        "    temp=np.add(templ,np.dot(np.transpose(M),M))\n",
        "    temp1=np.linalg.inv(temp)\n",
        "    temp2=np.dot(np.transpose(M),y1)\n",
        "    temp3=np.dot(temp1,temp2)\n",
        "    return temp3"
      ],
      "id": "6212c59e"
    },
    {
      "cell_type": "code",
      "execution_count": null,
      "metadata": {
        "scrolled": true,
        "colab": {
          "base_uri": "https://localhost:8080/"
        },
        "id": "bfe57462",
        "outputId": "07f39f76-e5b1-4888-9e68-64b6e8dad1d8"
      },
      "outputs": [
        {
          "output_type": "stream",
          "name": "stdout",
          "text": [
            "[   4.25724001 -114.27420215  111.60021675]\n",
            "[ 468.29110118 -886.90703143  380.71248609  279.51546911  -55.32956781\n",
            " -238.48273118]\n",
            "[ 517.88215533 -648.7891187  -389.38772356  -57.84149766  -49.55738938\n",
            "  538.46270264  506.87611104  -37.39613368  -99.54743887 -114.58544375\n",
            " -215.48509689]\n",
            "[4.20523654 4.20523654 3.07427425]\n",
            "[1.92985861 1.92985915 1.92985915 1.92985915 1.92985915 1.41084008]\n",
            "[0.92703333 1.03397864 1.03399288 1.033993   1.033993   1.033993\n",
            " 1.033993   1.033993   1.033993   1.033993   0.75590946]\n"
          ]
        }
      ],
      "source": [
        "#printing coff\n",
        "#here we want to determine out m :#We need to find : m1(Φ1)+ m2(Φ2) = y\n",
        "#FOR M=2 \n",
        "A2_final_weight=predict_new_coff(A2_new,ytraining,I2)\n",
        "print(A2_final_weight)\n",
        "#FOR M=5\n",
        "A5_final_weight=predict_new_coff(A5_new,ytraining,I5)\n",
        "print(A5_final_weight)\n",
        "#FOR M=10\n",
        "A10_final_weight=predict_new_coff(A10_new,ytraining,I10)\n",
        "print(A10_final_weight)\n",
        "#testing data :\n",
        "#FOR M=2\n",
        "\n",
        "A2_final__t_weight=predict_new_coff(A2_new_t,ytesting,I2_t)\n",
        "print(A2_final__t_weight)\n",
        "#FOR M=5\n",
        "A5_final__t_weight=predict_new_coff(A5_new_t,ytesting,I5_t)\n",
        "print(A5_final__t_weight)\n",
        "#FOR M=10\n",
        "A10_final_t_weight=predict_new_coff(A10_new_t,ytesting,I10_t)\n",
        "print(A10_final_t_weight)"
      ],
      "id": "bfe57462"
    },
    {
      "cell_type": "code",
      "execution_count": null,
      "metadata": {
        "id": "79f7c11b"
      },
      "outputs": [],
      "source": [
        "#Now we will be getting our predicted value of the function\n",
        "\n",
        "def y_predicted(train,co):\n",
        "    y_predict=[]\n",
        "    y_predict.append(np.dot(train,co))\n",
        "    return y_predict\n"
      ],
      "id": "79f7c11b"
    },
    {
      "cell_type": "code",
      "execution_count": null,
      "metadata": {
        "id": "be930a58"
      },
      "outputs": [],
      "source": [
        "\n",
        "A2_y_pred=np.transpose(y_predicted(A2_new,A2_final_weight))\n",
        "A5_y_pred=np.transpose(y_predicted(A5_new,A5_final_weight))\n",
        "A10_y_pred=np.transpose(y_predicted(A10_new,A10_final_weight))\n",
        "\n",
        "\n",
        "A2_y_pred_t=np.transpose(y_predicted(A2_new_t,A2_final__t_weight))\n",
        "A5_y_pred_t=np.transpose(y_predicted(A5_new_t,A5_final__t_weight))\n",
        "A10_y_pred_t=np.transpose(y_predicted(A10_new_t,A10_final_t_weight))"
      ],
      "id": "be930a58"
    },
    {
      "cell_type": "code",
      "execution_count": null,
      "metadata": {
        "id": "e7edb407"
      },
      "outputs": [],
      "source": [
        "def cal_rmse(y_pred,y_train):\n",
        "  sum=0\n",
        "  for i in range(132):\n",
        "    mt_minus=(y_pred[i]-y_train[i]) ** 2\n",
        "    sum = sum + mt_minus\n",
        "  error=np.sqrt(sum/132)\n",
        "  return error\n",
        "\n",
        "\n",
        "def cal_rmse_test(y_pred,y_train):\n",
        "  sum=0\n",
        "  for i in range(1):\n",
        "    mt_minus=(y_pred[i]-y_train[i]) ** 2\n",
        "    sum = sum + mt_minus\n",
        "  error=np.sqrt(sum/1)\n",
        "  return error"
      ],
      "id": "e7edb407"
    },
    {
      "cell_type": "code",
      "execution_count": null,
      "metadata": {
        "colab": {
          "base_uri": "https://localhost:8080/"
        },
        "id": "a92e29b4",
        "outputId": "7e71d824-96c6-46c9-f5c4-b61b22fd4eff"
      },
      "outputs": [
        {
          "output_type": "stream",
          "name": "stdout",
          "text": [
            "[47.79162892]\n",
            "[41.16149927]\n",
            "[40.68698006]\n"
          ]
        }
      ],
      "source": [
        "#FOR M=2 the RMSE training is  :\n",
        "A2_rmse=cal_rmse(A2_y_pred,ytraining)\n",
        "#FOR M=5 the RMSE training is :\n",
        "A5_rmse=cal_rmse(A5_y_pred,ytraining)\n",
        "#FOR M=10 the RMSE training is :\n",
        "A10_rmse=cal_rmse(A10_y_pred,y)\n",
        "\n",
        "\n",
        "#FOR M=2 the RMSE testing is  :\n",
        "A2_rmse_test=cal_rmse_test(A2_y_pred_t,ytesting)\n",
        "\n",
        "#FOR M=5 the RMSE testing is  :\n",
        "A5_rmse_test=cal_rmse_test(A5_y_pred_t,ytesting)\n",
        "\n",
        "#FOR M=10 the RMSE testing is  :\n",
        "A10_rmse_test=cal_rmse_test(A10_y_pred_t,ytesting)\n",
        "\n",
        "#Output RMSE\n",
        "print(A2_rmse)\n",
        "print(A5_rmse)\n",
        "print(A10_rmse)\n"
      ],
      "id": "a92e29b4"
    },
    {
      "cell_type": "code",
      "execution_count": null,
      "metadata": {
        "colab": {
          "base_uri": "https://localhost:8080/",
          "height": 502
        },
        "id": "065046a8",
        "outputId": "d8111788-8e9d-40ec-a7aa-a9c0527fe8ed"
      },
      "outputs": [
        {
          "output_type": "display_data",
          "data": {
            "text/plain": [
              "<Figure size 792x576 with 1 Axes>"
            ],
            "image/png": "[encoded data removed]"
          },
          "metadata": {
            "needs_background": "light"
          }
        }
      ],
      "source": [
        "#This make a figure for your choice size \n",
        "plt.figure(figsize=(11,8))\n",
        "#this is the sigmoidal list we have used earlier in the step and xtraining data\n",
        "plt.plot(xtraining,sigmoidal,color='b', label='Linear Regression')\n",
        "\n",
        "\n",
        "plt.xlabel('Training Values(int)',fontsize=16)\n",
        "plt.ylabel('Predicted Value(float)',fontsize=16)\n",
        "\n",
        "plt.show()"
      ],
      "id": "065046a8"
    },
    {
      "cell_type": "code",
      "execution_count": null,
      "metadata": {
        "colab": {
          "base_uri": "https://localhost:8080/",
          "height": 393
        },
        "id": "7c691c97",
        "outputId": "fc44d69a-b2e6-445e-ac3b-f6d0467090aa"
      },
      "outputs": [
        {
          "output_type": "display_data",
          "data": {
            "text/plain": [
              "<Figure size 792x432 with 1 Axes>"
            ],
            "image/png": "[encoded data removed]"
          },
          "metadata": {
            "needs_background": "light"
          }
        }
      ],
      "source": [
        "#This make a figure for your choice size \n",
        "\n",
        "plt.figure(figsize=(11,6))\n",
        "plt.scatter(xtraining, A2_y_pred,color='black', label='2 basis func')\n",
        "plt.scatter(xtraining, A5_y_pred,color='blue', label='5 basis func')\n",
        "plt.scatter(xtraining, A10_y_pred,color='green', label='10 basis func')\n",
        "\n",
        "\n",
        "plt.xlabel('Training Set',fontsize=16)\n",
        "plt.ylabel('Predicted Set',fontsize=16)\n",
        "plt.legend()\n",
        "plt.show()"
      ],
      "id": "7c691c97"
    },
    {
      "cell_type": "code",
      "execution_count": null,
      "metadata": {
        "colab": {
          "base_uri": "https://localhost:8080/",
          "height": 393
        },
        "id": "de7b63ce",
        "outputId": "85b6e4f5-6387-4194-eb5c-0159b49d5402"
      },
      "outputs": [
        {
          "output_type": "display_data",
          "data": {
            "text/plain": [
              "<Figure size 792x432 with 1 Axes>"
            ],
            "image/png": "[encoded data removed]"
          },
          "metadata": {
            "needs_background": "light"
          }
        }
      ],
      "source": [
        "plt.figure(figsize=(11,6))\n",
        "plt.scatter(xtesting, A10_y_pred_t,color='pink', label='Linear Regression')\n",
        "plt.scatter(xtesting, A2_y_pred_t,color='blue', label='Linear Regression')\n",
        "plt.scatter(xtesting, A5_y_pred_t,color='black', label='Linear Regression')\n",
        "plt.xlabel('Testing Value',fontsize=16)\n",
        "plt.ylabel('Predicted Value',fontsize=16)\n",
        "\n",
        "plt.show()"
      ],
      "id": "de7b63ce"
    },
    {
      "cell_type": "markdown",
      "metadata": {
        "id": "bf42a441"
      },
      "source": [
        "##### After encountering leave one out method lets us see : What happens when you increase the number of basis functions."
      ],
      "id": "bf42a441"
    },
    {
      "cell_type": "markdown",
      "metadata": {
        "id": "2828a1c3"
      },
      "source": [
        "##### 1 )We can see that increasing the number of basis functions makes a better model, until we start overfitting.\n",
        "##### 2) Time complexity also increases \n",
        "##### 3 )RMSE Value decreases with increase in the value of M\n",
        "##### 4)We can see that even though we overfit to begin with, we can adjust the regularization parameter λ to prevent it"
      ],
      "id": "2828a1c3"
    },
    {
      "cell_type": "markdown",
      "metadata": {
        "id": "JFwA5Meqyhfl"
      },
      "source": [
        "## Consider the Boston Housing dataset. Use the ten-fold cross validation for obtaining the prediction of house price using the regularized least square RBF kernel regression model. By tunning the regularization parameter λ and RBF kernel parameter σ , obtain the minimum of mean of RMSE, NMSE, R2, MAE,training times (in seconds) along with their standard deviation across different folds.\n",
        "\n"
      ],
      "id": "JFwA5Meqyhfl"
    },
    {
      "cell_type": "code",
      "execution_count": null,
      "metadata": {
        "id": "Vmlr42XHwoTS"
      },
      "outputs": [],
      "source": [
        "import pandas as pd\n",
        "import math\n",
        "import numpy as np\n",
        "import matplotlib.pyplot as plt\n",
        "from matplotlib import cm"
      ],
      "id": "Vmlr42XHwoTS"
    },
    {
      "cell_type": "code",
      "execution_count": null,
      "metadata": {
        "colab": {
          "base_uri": "https://localhost:8080/"
        },
        "id": "nBM6aOr__Zr1",
        "outputId": "db952211-5573-452f-c376-6d6a18f8362a"
      },
      "outputs": [
        {
          "output_type": "stream",
          "name": "stdout",
          "text": [
            "<class 'pandas.core.frame.DataFrame'>\n",
            "RangeIndex: 506 entries, 0 to 505\n",
            "Data columns (total 14 columns):\n",
            " #   Column                                                Non-Null Count  Dtype  \n",
            "---  ------                                                --------------  -----  \n",
            " 0   x1                                                    506 non-null    float64\n",
            " 1   x2                                                    506 non-null    float64\n",
            " 2   x3                                                    506 non-null    float64\n",
            " 3   x4                                                    506 non-null    float64\n",
            " 4   x5                                                    506 non-null    int64  \n",
            " 5   x6                                                    506 non-null    float64\n",
            " 6   x7                                                    506 non-null    float64\n",
            " 7   x8                                                    506 non-null    float64\n",
            " 8   x9                                                    506 non-null    float64\n",
            " 9   x10                                                   506 non-null    int64  \n",
            " 10  x11                                                   506 non-null    int64  \n",
            " 11  x12                                                   506 non-null    float64\n",
            " 12  x13                                                   506 non-null    float64\n",
            " 13  MEDV Median value of owner-occupied homes in $1000's  506 non-null    float64\n",
            "dtypes: float64(11), int64(3)\n",
            "memory usage: 55.5 KB\n"
          ]
        }
      ],
      "source": [
        "df=pd.read_excel('/content/bostonhousing.xlsx')\n",
        "df.head()\n",
        "df.info()"
      ],
      "id": "nBM6aOr__Zr1"
    },
    {
      "cell_type": "code",
      "execution_count": null,
      "metadata": {
        "id": "KPajoXwE_Zr3"
      },
      "outputs": [],
      "source": [
        "trainx1=df['x1']\n",
        "trainx2=df['x2']\n",
        "trainx3=df['x3']\n",
        "trainx4=df['x4']\n",
        "trainx5=df['x5']\n",
        "trainx6=df['x6']\n",
        "trainx7=df['x7']\n",
        "trainx8=df['x8']\n",
        "trainx9=df['x9']\n",
        "trainx10=df['x10']\n",
        "trainx11=df['x11']\n",
        "trainx12=df['x12']\n",
        "trainx13=df['x13']"
      ],
      "id": "KPajoXwE_Zr3"
    },
    {
      "cell_type": "code",
      "execution_count": null,
      "metadata": {
        "id": "rih_cQSmQMyh"
      },
      "outputs": [],
      "source": [
        "def normal_distribution(std,mean,x):\n",
        "  return (np.pi*std) * np.exp(-0.5*((x-mean)/std)**2)"
      ],
      "id": "rih_cQSmQMyh"
    },
    {
      "cell_type": "code",
      "execution_count": null,
      "metadata": {
        "colab": {
          "base_uri": "https://localhost:8080/"
        },
        "id": "Wjo78NAfzPaZ",
        "outputId": "bd8dec32-a07e-4f3e-fcd5-dc89a6c3b883"
      },
      "outputs": [
        {
          "output_type": "stream",
          "name": "stderr",
          "text": [
            "/usr/local/lib/python3.7/dist-packages/ipykernel_launcher.py:2: RuntimeWarning: divide by zero encountered in double_scalars\n",
            "  \n"
          ]
        }
      ],
      "source": [
        "trainx=np.zeros([400,13])\n",
        "#group x1 and x2 in x\n",
        "for i in range(400):\n",
        "    trainx[i][0]=trainx1[i]\n",
        "    trainx[i][1]=trainx2[i]\n",
        "    trainx[i][2]=trainx3[i]\n",
        "    trainx[i][3]=trainx4[i]\n",
        "    trainx[i][4]=trainx5[i]\n",
        "    trainx[i][5]=trainx6[i]\n",
        "    trainx[i][6]=trainx7[i]\n",
        "    trainx[i][7]=trainx8[i]\n",
        "    trainx[i][8]=trainx9[i]\n",
        "    trainx[i][9]=trainx10[i]\n",
        "    trainx[i][10]=trainx11[i]\n",
        "    trainx[i][11]=trainx12[i]\n",
        "    trainx[i][12]=trainx13[i]\n",
        "trainy=np.zeros(400)\n",
        "for i in range(400):\n",
        "    trainy[i]=math.sin(2*math.pi*((trainx1[i]**2+trainx2[i]**2)**0.5))+ normal_distribution(0.0,0.25,trainx1[i])"
      ],
      "id": "Wjo78NAfzPaZ"
    },
    {
      "cell_type": "code",
      "execution_count": null,
      "metadata": {
        "id": "yqjf1x0eZWaA"
      },
      "outputs": [],
      "source": [
        "testx1=df['x1']\n",
        "testx2=df['x2']\n",
        "testx3=df['x3']\n",
        "testx4=df['x4']\n",
        "testx5=df['x5']\n",
        "testx6=df['x6']\n",
        "testx7=df['x7']\n",
        "testx8=df['x8']\n",
        "testx9=df['x9']\n",
        "testx10=df['x10']\n",
        "testx11=df['x11']\n",
        "testx12=df['x12']\n",
        "testx13=df['x13']"
      ],
      "id": "yqjf1x0eZWaA"
    },
    {
      "cell_type": "code",
      "execution_count": null,
      "metadata": {
        "colab": {
          "base_uri": "https://localhost:8080/"
        },
        "id": "Q6ln6VCQZVKG",
        "outputId": "ca23eca1-5618-49dc-878c-025de97b8a79"
      },
      "outputs": [
        {
          "output_type": "stream",
          "name": "stderr",
          "text": [
            "/usr/local/lib/python3.7/dist-packages/ipykernel_launcher.py:2: RuntimeWarning: divide by zero encountered in double_scalars\n",
            "  \n"
          ]
        }
      ],
      "source": [
        "\n",
        "testx=np.zeros([106,13])\n",
        "for i in range(106):\n",
        "    testx[i][0]=testx1[i]\n",
        "    testx[i][1]=testx2[i]\n",
        "    testx[i][2]=testx3[i]\n",
        "    testx[i][3]=testx4[i]\n",
        "    testx[i][4]=testx5[i]\n",
        "    testx[i][5]=testx6[i]\n",
        "    testx[i][6]=testx7[i]\n",
        "    testx[i][7]=testx8[i]\n",
        "    testx[i][8]=testx9[i]\n",
        "    testx[i][9]=testx10[i]\n",
        "    testx[i][10]=testx11[i]\n",
        "    testx[i][11]=testx12[i]\n",
        "    testx[i][12]=testx13[i]\n",
        "testy=np.zeros(106)\n",
        "\n",
        "for i in range(106):\n",
        "  testy[i]=math.sin(2*math.pi*(testx1[i]**2+testx2[i]**2)**0.5)+ normal_distribution(0.0,0.25,testx1[i])"
      ],
      "id": "Q6ln6VCQZVKG"
    },
    {
      "cell_type": "markdown",
      "metadata": {
        "id": "d8sBh-0KaUOM"
      },
      "source": [
        "##### compute the RMSE for regularizedleast squares kernel regression model with the RBF kernel K(x,y) = exp(- (||x-y|| 2 /σ). using the direct method. "
      ],
      "id": "d8sBh-0KaUOM"
    },
    {
      "cell_type": "code",
      "execution_count": null,
      "metadata": {
        "id": "fwS1u5l-1rJh"
      },
      "outputs": [],
      "source": [
        "def get_kernel(x1,x2,sigma):\n",
        "  kernel=math.exp(-np.linalg.norm(x1-x2)/sigma)\n",
        "  return kernel  "
      ],
      "id": "fwS1u5l-1rJh"
    },
    {
      "cell_type": "code",
      "execution_count": null,
      "metadata": {
        "id": "G-ryclGn2DTa"
      },
      "outputs": [],
      "source": [
        "def get_weights(x,y,sigma,lambd):\n",
        "  kernels=np.zeros((len(x),len(x)+1))\n",
        "  weights=np.zeros(len(x)+1)\n",
        "  for i in range(len(x)):\n",
        "    for j in range(len(x)):\n",
        "      kernels[i,j] = get_kernel(x[i],x[j],sigma)\n",
        "  #Adding Bias\n",
        "  kernels[:,len(x):len(x)+1]=1\n",
        "  identity=np.identity(kernels.shape[1])\n",
        "  weights=np.linalg.inv((kernels.T).dot(kernels)+lambd*identity).dot((kernels.T).dot(y))\n",
        "  return [weights,kernels]"
      ],
      "id": "G-ryclGn2DTa"
    },
    {
      "cell_type": "code",
      "execution_count": null,
      "metadata": {
        "id": "tSVIxHMd34jj"
      },
      "outputs": [],
      "source": [
        "def get_test_kernel(x,test_x,w,sigma):\n",
        "  kernel2=np.zeros([len(test_x),len(x)+1])\n",
        "  y_predicted=np.zeros(len(test_x))\n",
        "  for i in range(len(test_x)):\n",
        "    for j in range(len(x)):\n",
        "      kernel2[i,j]=get_kernel(x[j],test_x[i],sigma)\n",
        "  kernel2[:,len(x):len(x)+1]=1        \n",
        "  return kernel2\n",
        "def get_rms_kernel(kernel2,y,w): \n",
        "  y_predicted=np.dot(kernel2,w)\n",
        "  rms=((np.sum((y_predicted-y)**2))/len(y))**0.5\n",
        "  return [rms,y_predicted]"
      ],
      "id": "tSVIxHMd34jj"
    },
    {
      "cell_type": "code",
      "execution_count": null,
      "metadata": {
        "colab": {
          "base_uri": "https://localhost:8080/"
        },
        "id": "eYoq809z5PIc",
        "outputId": "326426b7-5c3a-4848-d744-69cc33a72d65"
      },
      "outputs": [
        {
          "output_type": "stream",
          "name": "stdout",
          "text": [
            "Predicted values for direct kernel\n",
            "[ 6.18042009e-06 -5.87820134e-01 -9.50989786e-01  5.87683777e-01\n",
            "  9.51063485e-01 -9.50952100e-01 -5.86853443e-01  5.89670371e-01\n",
            " -8.49512410e-03 -5.83841298e-01  1.05783007e-02 -5.85875731e-01\n",
            " -9.51341873e-01  5.37207161e-01  9.70193206e-01 -5.36261490e-01\n",
            "  7.02705422e-01 -1.10096702e-01  9.77094804e-01  9.75077048e-01\n",
            " -8.35594310e-01 -6.77608075e-01  9.99668131e-01 -2.09870375e-01\n",
            " -6.75131300e-01 -4.51829647e-01 -6.54554537e-01 -8.73689719e-01\n",
            "  5.02204597e-01  1.49738967e-01 -9.98985170e-01 -3.86584722e-01\n",
            "  9.89680189e-01  8.09960624e-01 -5.67203705e-01 -5.87127483e-01\n",
            "  1.51863430e-03  9.73883372e-04 -9.52143973e-01 -9.50947700e-01\n",
            " -5.87677981e-01 -5.89144641e-01  9.50048128e-01 -9.51951615e-01\n",
            "  9.51650998e-01  9.47690912e-01  7.44410657e-03 -5.95735385e-01\n",
            "  5.76279159e-01  5.81364027e-01 -9.51342497e-01 -2.95425553e-04\n",
            "  7.04007581e-04  5.87155445e-01 -5.87700961e-01  5.87715477e-01\n",
            " -9.50988786e-01 -5.87741846e-01  9.49925527e-01 -5.89112059e-01\n",
            " -9.51928969e-01  5.78769476e-03  9.51247375e-01  1.96281729e-03\n",
            "  6.04840820e-05 -1.53863384e-04  5.87490080e-01  4.70027358e-04\n",
            "  5.84959333e-01 -5.85640211e-01  9.51213176e-01 -9.52058878e-01\n",
            " -9.50545293e-01  5.83604833e-01  5.88384796e-01  5.86467200e-01\n",
            "  1.62113839e-03 -9.50376947e-01  9.51059615e-01  9.50607622e-01\n",
            "  2.40157357e-05 -5.87453124e-01 -9.50760067e-01 -5.87600006e-01\n",
            " -5.87360844e-01 -5.87963104e-01 -4.78107464e-04  9.51076532e-01\n",
            " -5.88072160e-01 -9.51009157e-01 -5.87963262e-01  2.02668178e-04\n",
            " -5.87540763e-01  1.01302429e-04 -5.87963311e-01  5.86393952e-01\n",
            "  5.86083937e-01 -9.51326275e-01 -9.50812005e-01  9.51035097e-01\n",
            " -2.50265984e-03 -1.55301976e-03 -5.94852314e-01  9.48638766e-01\n",
            "  5.90312467e-01 -3.52693830e-03]\n",
            "rms for direct kernel: 0.0003274401530490414\n"
          ]
        }
      ],
      "source": [
        "sigma=5\n",
        "lambd=0.0001\n",
        "[weight,train_kernel]=get_weights(trainx,trainy,sigma,lambd)\n",
        "test_kernel=get_test_kernel(trainx,testx,weight,sigma)\n",
        "[rms_kernel,y_predicted_kernel]=get_rms_kernel(test_kernel,testy,weight)\n",
        "print(\"Predicted values for direct kernel\")\n",
        "print(y_predicted_kernel)\n",
        "print(\"rms for direct kernel:\",rms_kernel)"
      ],
      "id": "eYoq809z5PIc"
    },
    {
      "cell_type": "markdown",
      "metadata": {
        "id": "o833iSObWT-a"
      },
      "source": [
        "**Kernel**\n",
        "\n",
        "---\n",
        "\n"
      ],
      "id": "o833iSObWT-a"
    },
    {
      "cell_type": "code",
      "execution_count": null,
      "metadata": {
        "id": "EWPtMLrRWYhx"
      },
      "outputs": [],
      "source": [
        "def gradient_descent_kernel(x,y,weight,epoch,learning_rate):\n",
        "  for i in range(epoch) :        \n",
        "            h = x.dot(weight)\n",
        "            error = h - y\n",
        "            weight = weight-learning_rate*( 1 / x.shape[1] ) *np.dot( x.T, error)         \n",
        "  return weight"
      ],
      "id": "EWPtMLrRWYhx"
    },
    {
      "cell_type": "code",
      "execution_count": null,
      "metadata": {
        "id": "oBcU3_k8w3z5"
      },
      "outputs": [],
      "source": [
        "[weight_kernel_gradient,train_kernel_gradient_descent]=get_weights(trainx,trainy,sigma,lambd)\n",
        "test_kernel_gradient_descent=get_test_kernel(trainx,testx,weight_kernel_gradient,sigma)\n",
        "initial_weight=np.zeros(train_kernel_gradient_descent.shape[1])\n",
        "epoch=200\n",
        "learning_rate=0.005\n",
        "weight_kernel_gradient=gradient_descent_kernel(train_kernel_gradient_descent,trainy,initial_weight,epoch,learning_rate)"
      ],
      "id": "oBcU3_k8w3z5"
    }
  ],
  "metadata": {
    "kernelspec": {
      "display_name": "Python 3 (ipykernel)",
      "language": "python",
      "name": "python3"
    },
    "language_info": {
      "codemirror_mode": {
        "name": "ipython",
        "version": 3
      },
      "file_extension": ".py",
      "mimetype": "text/x-python",
      "name": "python",
      "nbconvert_exporter": "python",
      "pygments_lexer": "ipython3",
      "version": "3.9.7"
    },
    "colab": {
      "provenance": []
    }
  },
  "nbformat": 4,
  "nbformat_minor": 5
}