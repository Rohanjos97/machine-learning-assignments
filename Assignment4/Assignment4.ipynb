{
  "nbformat": 4,
  "nbformat_minor": 0,
  "metadata": {
    "colab": {
      "provenance": [],
      "authorship_tag": "ABX9TyMuH/HU1ZlEeppF6btgQHIz",
      "include_colab_link": true
    },
    "kernelspec": {
      "name": "python3",
      "display_name": "Python 3"
    },
    "language_info": {
      "name": "python"
    }
  },
  "cells": [
    {
      "cell_type": "markdown",
      "metadata": {
        "id": "view-in-github",
        "colab_type": "text"
      },
      "source": [
        "<a href=\"https://colab.research.google.com/github/Rohanjos97/machine-learning-assignments/blob/main/Assignment4/Assignment4.ipynb\" target=\"_parent\"><img src=\"https://colab.research.google.com/assets/colab-badge.svg\" alt=\"Open In Colab\"/></a>"
      ]
    },
    {
      "cell_type": "markdown",
      "source": [
        "# 1. Generate 1000 real number for the variable X from the uniform distribution U [0,1]. Construct the training set\n",
        "# T = { ($x_1$, $y_1$), ($x_2$, $y_2$), ... ,($x_{100}$, $y_{100}$)} using the relation\n",
        "\n",
        "# $Y_i$ = sin(2 π $x_i$) + $ε_i$ where $ε_i$ ~ N(0,0.25).\n",
        "\n",
        "#In the similar way construct a testing set of size 50 i,e.\n",
        "#Test = { ($x'_1$, $y'_1$), ($x'_2$, $y'_2$), ..., ($x'_{50}$, $y'_{50}$)}."
      ],
      "metadata": {
        "id": "VPrMT92B5vak"
      }
    },
    {
      "cell_type": "code",
      "execution_count": 126,
      "metadata": {
        "id": "KwWsccw44ajw"
      },
      "outputs": [],
      "source": [
        "import numpy as np\n",
        "import matplotlib.pyplot as plt\n",
        "import math\n",
        "import pandas as pd\n",
        "from sklearn import metrics\n",
        "from sklearn.model_selection import train_test_split\n",
        "import time\n",
        "import random\n",
        "\n",
        "# Training Data\n",
        "train_x = np.random.uniform(0, 1, 1000)\n",
        "train_e = np.random.normal(0, 0.25, 1000)\n",
        "train_y = np.sin(2 * math.pi * train_x) + train_e\n",
        "\n",
        "# Testing Data\n",
        "test_x = np.random.uniform(0, 1, 50)\n",
        "test_e = np.random.normal(0, 0.25, 50)\n",
        "test_y = np.sin(2 * math.pi * test_x) + test_e"
      ]
    },
    {
      "cell_type": "code",
      "source": [
        "data_m9 = pd.DataFrame([train_x**9, train_x**8, train_x**7, train_x**6, train_x**5, train_x**4, train_x**3, train_x**2, train_x, np.ones(len(train_x))])\n",
        "data_m9 = data_m9.T\n",
        "data_m9.columns = ['x^9', 'x^8', 'x^7', 'x^6', 'x^5' , 'x^4', 'x^3', 'x^2', 'x', 'ones']\n",
        "data_m9"
      ],
      "metadata": {
        "colab": {
          "base_uri": "https://localhost:8080/",
          "height": 423
        },
        "id": "Y7LvAvCP3XWV",
        "outputId": "4d803254-edcb-4d66-cac5-4121cfbc4163"
      },
      "execution_count": 127,
      "outputs": [
        {
          "output_type": "execute_result",
          "data": {
            "text/plain": [
              "              x^9       x^8       x^7       x^6       x^5       x^4       x^3  \\\n",
              "0    8.492093e-07  0.000004  0.000019  0.000090  0.000424  0.002003  0.009470   \n",
              "1    5.258836e-06  0.000020  0.000078  0.000302  0.001167  0.004505  0.017390   \n",
              "2    2.666986e-01  0.308885  0.357743  0.414331  0.479869  0.555774  0.643685   \n",
              "3    1.560365e-01  0.191808  0.235781  0.289835  0.356281  0.437959  0.538363   \n",
              "4    7.692812e-03  0.013212  0.022690  0.038969  0.066927  0.114943  0.197407   \n",
              "..            ...       ...       ...       ...       ...       ...       ...   \n",
              "995  9.363857e-04  0.002032  0.004410  0.009571  0.020772  0.045080  0.097833   \n",
              "996  8.562197e-02  0.112509  0.147839  0.194263  0.255265  0.335423  0.440753   \n",
              "997  2.978654e-01  0.340771  0.389856  0.446012  0.510257  0.583756  0.667841   \n",
              "998  5.428571e-03  0.009691  0.017302  0.030888  0.055143  0.098445  0.175750   \n",
              "999  1.403346e-03  0.002912  0.006041  0.012535  0.026007  0.053960  0.111958   \n",
              "\n",
              "          x^2         x  ones  \n",
              "0    0.044760  0.211566   1.0  \n",
              "1    0.067122  0.259079   1.0  \n",
              "2    0.745502  0.863425   1.0  \n",
              "3    0.661785  0.813502   1.0  \n",
              "4    0.339032  0.582265   1.0  \n",
              "..        ...       ...   ...  \n",
              "995  0.212320  0.460781   1.0  \n",
              "996  0.579158  0.761024   1.0  \n",
              "997  0.764039  0.874093   1.0  \n",
              "998  0.313759  0.560142   1.0  \n",
              "999  0.232293  0.481968   1.0  \n",
              "\n",
              "[1000 rows x 10 columns]"
            ],
            "text/html": [
              "\n",
              "  <div id=\"df-7ef09e6f-0c1c-43c3-a651-98d94acdb8f0\">\n",
              "    <div class=\"colab-df-container\">\n",
              "      <div>\n",
              "<style scoped>\n",
              "    .dataframe tbody tr th:only-of-type {\n",
              "        vertical-align: middle;\n",
              "    }\n",
              "\n",
              "    .dataframe tbody tr th {\n",
              "        vertical-align: top;\n",
              "    }\n",
              "\n",
              "    .dataframe thead th {\n",
              "        text-align: right;\n",
              "    }\n",
              "</style>\n",
              "<table border=\"1\" class=\"dataframe\">\n",
              "  <thead>\n",
              "    <tr style=\"text-align: right;\">\n",
              "      <th></th>\n",
              "      <th>x^9</th>\n",
              "      <th>x^8</th>\n",
              "      <th>x^7</th>\n",
              "      <th>x^6</th>\n",
              "      <th>x^5</th>\n",
              "      <th>x^4</th>\n",
              "      <th>x^3</th>\n",
              "      <th>x^2</th>\n",
              "      <th>x</th>\n",
              "      <th>ones</th>\n",
              "    </tr>\n",
              "  </thead>\n",
              "  <tbody>\n",
              "    <tr>\n",
              "      <th>0</th>\n",
              "      <td>8.492093e-07</td>\n",
              "      <td>0.000004</td>\n",
              "      <td>0.000019</td>\n",
              "      <td>0.000090</td>\n",
              "      <td>0.000424</td>\n",
              "      <td>0.002003</td>\n",
              "      <td>0.009470</td>\n",
              "      <td>0.044760</td>\n",
              "      <td>0.211566</td>\n",
              "      <td>1.0</td>\n",
              "    </tr>\n",
              "    <tr>\n",
              "      <th>1</th>\n",
              "      <td>5.258836e-06</td>\n",
              "      <td>0.000020</td>\n",
              "      <td>0.000078</td>\n",
              "      <td>0.000302</td>\n",
              "      <td>0.001167</td>\n",
              "      <td>0.004505</td>\n",
              "      <td>0.017390</td>\n",
              "      <td>0.067122</td>\n",
              "      <td>0.259079</td>\n",
              "      <td>1.0</td>\n",
              "    </tr>\n",
              "    <tr>\n",
              "      <th>2</th>\n",
              "      <td>2.666986e-01</td>\n",
              "      <td>0.308885</td>\n",
              "      <td>0.357743</td>\n",
              "      <td>0.414331</td>\n",
              "      <td>0.479869</td>\n",
              "      <td>0.555774</td>\n",
              "      <td>0.643685</td>\n",
              "      <td>0.745502</td>\n",
              "      <td>0.863425</td>\n",
              "      <td>1.0</td>\n",
              "    </tr>\n",
              "    <tr>\n",
              "      <th>3</th>\n",
              "      <td>1.560365e-01</td>\n",
              "      <td>0.191808</td>\n",
              "      <td>0.235781</td>\n",
              "      <td>0.289835</td>\n",
              "      <td>0.356281</td>\n",
              "      <td>0.437959</td>\n",
              "      <td>0.538363</td>\n",
              "      <td>0.661785</td>\n",
              "      <td>0.813502</td>\n",
              "      <td>1.0</td>\n",
              "    </tr>\n",
              "    <tr>\n",
              "      <th>4</th>\n",
              "      <td>7.692812e-03</td>\n",
              "      <td>0.013212</td>\n",
              "      <td>0.022690</td>\n",
              "      <td>0.038969</td>\n",
              "      <td>0.066927</td>\n",
              "      <td>0.114943</td>\n",
              "      <td>0.197407</td>\n",
              "      <td>0.339032</td>\n",
              "      <td>0.582265</td>\n",
              "      <td>1.0</td>\n",
              "    </tr>\n",
              "    <tr>\n",
              "      <th>...</th>\n",
              "      <td>...</td>\n",
              "      <td>...</td>\n",
              "      <td>...</td>\n",
              "      <td>...</td>\n",
              "      <td>...</td>\n",
              "      <td>...</td>\n",
              "      <td>...</td>\n",
              "      <td>...</td>\n",
              "      <td>...</td>\n",
              "      <td>...</td>\n",
              "    </tr>\n",
              "    <tr>\n",
              "      <th>995</th>\n",
              "      <td>9.363857e-04</td>\n",
              "      <td>0.002032</td>\n",
              "      <td>0.004410</td>\n",
              "      <td>0.009571</td>\n",
              "      <td>0.020772</td>\n",
              "      <td>0.045080</td>\n",
              "      <td>0.097833</td>\n",
              "      <td>0.212320</td>\n",
              "      <td>0.460781</td>\n",
              "      <td>1.0</td>\n",
              "    </tr>\n",
              "    <tr>\n",
              "      <th>996</th>\n",
              "      <td>8.562197e-02</td>\n",
              "      <td>0.112509</td>\n",
              "      <td>0.147839</td>\n",
              "      <td>0.194263</td>\n",
              "      <td>0.255265</td>\n",
              "      <td>0.335423</td>\n",
              "      <td>0.440753</td>\n",
              "      <td>0.579158</td>\n",
              "      <td>0.761024</td>\n",
              "      <td>1.0</td>\n",
              "    </tr>\n",
              "    <tr>\n",
              "      <th>997</th>\n",
              "      <td>2.978654e-01</td>\n",
              "      <td>0.340771</td>\n",
              "      <td>0.389856</td>\n",
              "      <td>0.446012</td>\n",
              "      <td>0.510257</td>\n",
              "      <td>0.583756</td>\n",
              "      <td>0.667841</td>\n",
              "      <td>0.764039</td>\n",
              "      <td>0.874093</td>\n",
              "      <td>1.0</td>\n",
              "    </tr>\n",
              "    <tr>\n",
              "      <th>998</th>\n",
              "      <td>5.428571e-03</td>\n",
              "      <td>0.009691</td>\n",
              "      <td>0.017302</td>\n",
              "      <td>0.030888</td>\n",
              "      <td>0.055143</td>\n",
              "      <td>0.098445</td>\n",
              "      <td>0.175750</td>\n",
              "      <td>0.313759</td>\n",
              "      <td>0.560142</td>\n",
              "      <td>1.0</td>\n",
              "    </tr>\n",
              "    <tr>\n",
              "      <th>999</th>\n",
              "      <td>1.403346e-03</td>\n",
              "      <td>0.002912</td>\n",
              "      <td>0.006041</td>\n",
              "      <td>0.012535</td>\n",
              "      <td>0.026007</td>\n",
              "      <td>0.053960</td>\n",
              "      <td>0.111958</td>\n",
              "      <td>0.232293</td>\n",
              "      <td>0.481968</td>\n",
              "      <td>1.0</td>\n",
              "    </tr>\n",
              "  </tbody>\n",
              "</table>\n",
              "<p>1000 rows × 10 columns</p>\n",
              "</div>\n",
              "      <button class=\"colab-df-convert\" onclick=\"convertToInteractive('df-7ef09e6f-0c1c-43c3-a651-98d94acdb8f0')\"\n",
              "              title=\"Convert this dataframe to an interactive table.\"\n",
              "              style=\"display:none;\">\n",
              "        \n",
              "  <svg xmlns=\"http://www.w3.org/2000/svg\" height=\"24px\"viewBox=\"0 0 24 24\"\n",
              "       width=\"24px\">\n",
              "    <path d=\"M0 0h24v24H0V0z\" fill=\"none\"/>\n",
              "    <path d=\"M18.56 5.44l.94 2.06.94-2.06 2.06-.94-2.06-.94-.94-2.06-.94 2.06-2.06.94zm-11 1L8.5 8.5l.94-2.06 2.06-.94-2.06-.94L8.5 2.5l-.94 2.06-2.06.94zm10 10l.94 2.06.94-2.06 2.06-.94-2.06-.94-.94-2.06-.94 2.06-2.06.94z\"/><path d=\"M17.41 7.96l-1.37-1.37c-.4-.4-.92-.59-1.43-.59-.52 0-1.04.2-1.43.59L10.3 9.45l-7.72 7.72c-.78.78-.78 2.05 0 2.83L4 21.41c.39.39.9.59 1.41.59.51 0 1.02-.2 1.41-.59l7.78-7.78 2.81-2.81c.8-.78.8-2.07 0-2.86zM5.41 20L4 18.59l7.72-7.72 1.47 1.35L5.41 20z\"/>\n",
              "  </svg>\n",
              "      </button>\n",
              "      \n",
              "  <style>\n",
              "    .colab-df-container {\n",
              "      display:flex;\n",
              "      flex-wrap:wrap;\n",
              "      gap: 12px;\n",
              "    }\n",
              "\n",
              "    .colab-df-convert {\n",
              "      background-color: #E8F0FE;\n",
              "      border: none;\n",
              "      border-radius: 50%;\n",
              "      cursor: pointer;\n",
              "      display: none;\n",
              "      fill: #1967D2;\n",
              "      height: 32px;\n",
              "      padding: 0 0 0 0;\n",
              "      width: 32px;\n",
              "    }\n",
              "\n",
              "    .colab-df-convert:hover {\n",
              "      background-color: #E2EBFA;\n",
              "      box-shadow: 0px 1px 2px rgba(60, 64, 67, 0.3), 0px 1px 3px 1px rgba(60, 64, 67, 0.15);\n",
              "      fill: #174EA6;\n",
              "    }\n",
              "\n",
              "    [theme=dark] .colab-df-convert {\n",
              "      background-color: #3B4455;\n",
              "      fill: #D2E3FC;\n",
              "    }\n",
              "\n",
              "    [theme=dark] .colab-df-convert:hover {\n",
              "      background-color: #434B5C;\n",
              "      box-shadow: 0px 1px 3px 1px rgba(0, 0, 0, 0.15);\n",
              "      filter: drop-shadow(0px 1px 2px rgba(0, 0, 0, 0.3));\n",
              "      fill: #FFFFFF;\n",
              "    }\n",
              "  </style>\n",
              "\n",
              "      <script>\n",
              "        const buttonEl =\n",
              "          document.querySelector('#df-7ef09e6f-0c1c-43c3-a651-98d94acdb8f0 button.colab-df-convert');\n",
              "        buttonEl.style.display =\n",
              "          google.colab.kernel.accessAllowed ? 'block' : 'none';\n",
              "\n",
              "        async function convertToInteractive(key) {\n",
              "          const element = document.querySelector('#df-7ef09e6f-0c1c-43c3-a651-98d94acdb8f0');\n",
              "          const dataTable =\n",
              "            await google.colab.kernel.invokeFunction('convertToInteractive',\n",
              "                                                     [key], {});\n",
              "          if (!dataTable) return;\n",
              "\n",
              "          const docLinkHtml = 'Like what you see? Visit the ' +\n",
              "            '<a target=\"_blank\" href=https://colab.research.google.com/notebooks/data_table.ipynb>data table notebook</a>'\n",
              "            + ' to learn more about interactive tables.';\n",
              "          element.innerHTML = '';\n",
              "          dataTable['output_type'] = 'display_data';\n",
              "          await google.colab.output.renderOutput(dataTable, element);\n",
              "          const docLink = document.createElement('div');\n",
              "          docLink.innerHTML = docLinkHtml;\n",
              "          element.appendChild(docLink);\n",
              "        }\n",
              "      </script>\n",
              "    </div>\n",
              "  </div>\n",
              "  "
            ]
          },
          "metadata": {},
          "execution_count": 127
        }
      ]
    },
    {
      "cell_type": "markdown",
      "source": [
        "## (a) Estimate the L1- norm kernel regression model using the sub gradient descent method and RBF (Gaussian Kernel). Find the best RMSE and MAE by tuning the value of RBF kernel parameter σ and regularization parameter λ. Also obtain the corresponding plot of best estimate."
      ],
      "metadata": {
        "id": "gehu1qO_6cXH"
      }
    },
    {
      "cell_type": "code",
      "source": [
        "#gradient-descent\n",
        "alpha = 0.000982345\n",
        "lmda = 0.0002\n",
        "\n",
        "theta = np.array([0 for i in range(10)])\n",
        "\n",
        "for k in range(700):\n",
        "  temp1 = np.dot(data_m9, theta)\n",
        "  temp2 = train_y - temp1\n",
        "  temp3 = []\n",
        "\n",
        "  for j, i in enumerate(temp2):\n",
        "    if i > 0:\n",
        "      temp3.append(data_m9.iloc[j] * (-1))\n",
        "    elif i < 0:\n",
        "      temp3.append(data_m9.iloc[j])\n",
        "    else:\n",
        "      temp3.append(random.uniform(-1,1) * data_m9.iloc[j])\n",
        "  \n",
        "  temp3 = pd.DataFrame(temp3)\n",
        "  temp4 = lmda * theta + temp3.sum()\n",
        "  theta = theta - alpha * temp4"
      ],
      "metadata": {
        "id": "5Tpu8I-x3mwZ"
      },
      "execution_count": 128,
      "outputs": []
    },
    {
      "cell_type": "code",
      "source": [
        "plt.figure(figsize = (10,10))\n",
        "y_hat = np.dot(data_m9, theta)\n",
        "\n",
        "plt.scatter(train_x, train_y, color='red')\n",
        "plt.scatter(train_x, y_hat, color='blue')\n",
        "plt.legend(['y-train values', 'y-predicted values'])"
      ],
      "metadata": {
        "colab": {
          "base_uri": "https://localhost:8080/",
          "height": 610
        },
        "id": "1IXozyJQ4W2z",
        "outputId": "1fc9de57-e3d1-4895-d7c8-c23ea57316d7"
      },
      "execution_count": 129,
      "outputs": [
        {
          "output_type": "execute_result",
          "data": {
            "text/plain": [
              "<matplotlib.legend.Legend at 0x7faa178b3510>"
            ]
          },
          "metadata": {},
          "execution_count": 129
        },
        {
          "output_type": "display_data",
          "data": {
            "text/plain": [
              "<Figure size 720x720 with 1 Axes>"
            ],
            "image/png": "[encoded data removed]"
          },
          "metadata": {
            "needs_background": "light"
          }
        }
      ]
    },
    {
      "cell_type": "code",
      "source": [
        "rmse = math.sqrt(((train_y - y_hat)**2).mean())\n",
        "print(f'RMSE error: {rmse}')"
      ],
      "metadata": {
        "colab": {
          "base_uri": "https://localhost:8080/"
        },
        "id": "N1MnytRJ4qMX",
        "outputId": "3caadfd9-525c-4ea3-bedc-168fc8684b4c"
      },
      "execution_count": 130,
      "outputs": [
        {
          "output_type": "stream",
          "name": "stdout",
          "text": [
            "RMSE error: 0.7754046988962694\n"
          ]
        }
      ]
    },
    {
      "cell_type": "code",
      "source": [
        "n = 1000\n",
        "mae = math.fsum(abs(train_y - y_hat))/n\n",
        "print(f'MAE error: {mae}')"
      ],
      "metadata": {
        "colab": {
          "base_uri": "https://localhost:8080/"
        },
        "id": "wMhyBc0_FxaI",
        "outputId": "ec12e69a-e5d2-4bbd-a804-2c9792d4af8d"
      },
      "execution_count": 131,
      "outputs": [
        {
          "output_type": "stream",
          "name": "stdout",
          "text": [
            "MAE error: 0.6728700355410816\n"
          ]
        }
      ]
    },
    {
      "cell_type": "markdown",
      "source": [],
      "metadata": {
        "id": "NZOfie-cFkKN"
      }
    },
    {
      "cell_type": "code",
      "source": [
        "data_9_test = pd.DataFrame([test_x**9, test_x**8, test_x**7, test_x**6, test_x**5, test_x**4, test_x**3, test_x**2, test_x, np.ones(len(test_x))])\n",
        "data_9_test = data_9_test.T\n",
        "data_9_test.columns = ['x^9', 'x^8', 'x^7', 'x^6', 'x^5' , 'x^4', 'x^3', 'x^2', 'x', 'ones']\n",
        "y_hat_test = np.dot(data_9_test, theta)\n",
        "\n",
        "plt.figure(figsize = (10,10))\n",
        "plt.scatter(test_x, test_y, color='orange')\n",
        "plt.scatter(test_x, y_hat_test, color='purple')\n",
        "plt.legend(['y-test values', 'y-predicted value'])\n",
        "\n",
        "rmse = math.sqrt(((test_y - np.dot(data_9_test, theta)) ** 2).mean())\n",
        "print(f'RMSE is -> {rmse}')"
      ],
      "metadata": {
        "colab": {
          "base_uri": "https://localhost:8080/",
          "height": 610
        },
        "id": "v81MspM14uoJ",
        "outputId": "8e8e6c7c-02c9-4d1b-adbf-d9faf6c6fae8"
      },
      "execution_count": 132,
      "outputs": [
        {
          "output_type": "stream",
          "name": "stdout",
          "text": [
            "RMSE is -> 0.6967699646603093\n"
          ]
        },
        {
          "output_type": "display_data",
          "data": {
            "text/plain": [
              "<Figure size 720x720 with 1 Axes>"
            ],
            "image/png": "[encoded data removed]"
          },
          "metadata": {
            "needs_background": "light"
          }
        }
      ]
    },
    {
      "cell_type": "markdown",
      "source": [
        "## (b) Also, estimate the ε- Support Vector Regression model using the sub gradient descent method and RBF (Gaussian Kernel). Find the best RMSE and MAE by tuning the value of RBF kernel parameter σ, regularization parameter λ and ε . Find the sparsity of the obtained solution vector α."
      ],
      "metadata": {
        "id": "DFOxJPkl7QeB"
      }
    },
    {
      "cell_type": "code",
      "source": [
        "X = np.random.uniform(0.0,1.0,1000)\n",
        "\n",
        "def my_kernel(X,Y,sigma):\n",
        "  K = np.zeros((X.shape[0],Y.shape[0]))\n",
        "  for i,x in enumerate(X):\n",
        "    for j,y in enumerate(Y):\n",
        "      K[i,j] = np.exp((-(np.linalg.norm(x-y)**2))/(sigma))\n",
        "  return K\n",
        "\n",
        "x = my_kernel(X,X, 2**-8)\n",
        "x"
      ],
      "metadata": {
        "colab": {
          "base_uri": "https://localhost:8080/"
        },
        "id": "Gx9b0Ctp6LbC",
        "outputId": "e10649fc-ab92-40c2-c941-b0268f59ca16"
      },
      "execution_count": 133,
      "outputs": [
        {
          "output_type": "execute_result",
          "data": {
            "text/plain": [
              "array([[1.00000000e+00, 9.37740899e-08, 1.84501136e-05, ...,\n",
              "        1.68690985e-06, 4.97667645e-07, 1.09334443e-37],\n",
              "       [9.37740899e-08, 1.00000000e+00, 5.03526729e-24, ...,\n",
              "        2.88416001e-26, 9.55605835e-01, 5.97946239e-77],\n",
              "       [1.84501136e-05, 5.03526729e-24, 1.00000000e+00, ...,\n",
              "        8.88200596e-01, 1.09138291e-22, 5.75898539e-16],\n",
              "       ...,\n",
              "       [1.68690985e-06, 2.88416001e-26, 8.88200596e-01, ...,\n",
              "        1.00000000e+00, 7.23944722e-25, 3.02338287e-14],\n",
              "       [4.97667645e-07, 9.55605835e-01, 1.09138291e-22, ...,\n",
              "        7.23944722e-25, 1.00000000e+00, 1.61828610e-74],\n",
              "       [1.09334443e-37, 5.97946239e-77, 5.75898539e-16, ...,\n",
              "        3.02338287e-14, 1.61828610e-74, 1.00000000e+00]])"
            ]
          },
          "metadata": {},
          "execution_count": 133
        }
      ]
    },
    {
      "cell_type": "code",
      "source": [
        "h_mat = np.zeros([1000,1000])\n",
        "sigma = 2**-7\n",
        "def kernel(x1, x2, sigma):\n",
        "  return np.exp(((-1) / (2 * sigma)) * np.linalg.norm(x1-x2)**2)\n",
        "\n",
        "for i in range(len(data_m9)):\n",
        "  if i % 100 == 0:\n",
        "    print(i)\n",
        "  for j in range(len(data_m9)):\n",
        "    h_mat[i,j] = kernel(data_m9.iloc[i], data_m9.iloc[j], sigma)"
      ],
      "metadata": {
        "colab": {
          "base_uri": "https://localhost:8080/"
        },
        "id": "JgEKutdU7AF6",
        "outputId": "47edd61f-7dbe-49de-ed70-e4f0e316c6af"
      },
      "execution_count": 134,
      "outputs": [
        {
          "output_type": "stream",
          "name": "stdout",
          "text": [
            "0\n",
            "100\n",
            "200\n",
            "300\n",
            "400\n",
            "500\n",
            "600\n",
            "700\n",
            "800\n",
            "900\n"
          ]
        }
      ]
    },
    {
      "cell_type": "code",
      "source": [
        "lmda = 2**(-1)\n",
        "alpha = 0.00001\n",
        "theta = np.array([0 for _ in range(len(data_m9) + 1)])\n",
        "b = 0\n",
        "sigma = 2**-8\n",
        "h_mat = np.column_stack((h_mat, np.ones(1000)))\n",
        "for k in range(500):\n",
        "  sub_grad = (2**(-1)*theta - np.dot(h_mat.T,np.sign(train_y - np.dot(h_mat,theta))))\n",
        "  theta = theta - sub_grad*alpha"
      ],
      "metadata": {
        "id": "UkvlpLux7PfM"
      },
      "execution_count": 135,
      "outputs": []
    },
    {
      "cell_type": "code",
      "source": [
        "y_hat = []\n",
        "\n",
        "for i in range(len(data_m9)):\n",
        "  y_hat.append(np.dot(h_mat[i].T, theta) + b)\n",
        "\n",
        "plt.figure(figsize=(10,10))\n",
        "plt.scatter(train_x, train_y, color='red')\n",
        "plt.scatter(train_x, y_hat, color='blue')\n",
        "plt.legend(['Training set data', 'Predicted values'])"
      ],
      "metadata": {
        "colab": {
          "base_uri": "https://localhost:8080/",
          "height": 610
        },
        "id": "473qJmh87VKW",
        "outputId": "e00a49be-e998-48ef-8cf2-7879bbc55204"
      },
      "execution_count": 136,
      "outputs": [
        {
          "output_type": "execute_result",
          "data": {
            "text/plain": [
              "<matplotlib.legend.Legend at 0x7faa16fa6dd0>"
            ]
          },
          "metadata": {},
          "execution_count": 136
        },
        {
          "output_type": "display_data",
          "data": {
            "text/plain": [
              "<Figure size 720x720 with 1 Axes>"
            ],
            "image/png": "[encoded data removed]"
          },
          "metadata": {
            "needs_background": "light"
          }
        }
      ]
    },
    {
      "cell_type": "code",
      "source": [
        "rmse = math.sqrt(((train_y - y_hat)**2).mean())\n",
        "print(f'RMSE error: {rmse}')"
      ],
      "metadata": {
        "colab": {
          "base_uri": "https://localhost:8080/"
        },
        "id": "XSy2I_HWGO2y",
        "outputId": "dc25df64-7dc0-470a-e2a6-75db0449d38c"
      },
      "execution_count": 137,
      "outputs": [
        {
          "output_type": "stream",
          "name": "stdout",
          "text": [
            "RMSE error: 0.24470035733287465\n"
          ]
        }
      ]
    },
    {
      "cell_type": "code",
      "source": [
        "n = 1000\n",
        "mae = math.fsum(abs(train_y - y_hat))/n\n",
        "print(f'MAE error: {mae}')"
      ],
      "metadata": {
        "colab": {
          "base_uri": "https://localhost:8080/"
        },
        "id": "yCMWJ6LPGksC",
        "outputId": "56a09915-a4bf-47c2-a182-8ddb4038d7ba"
      },
      "execution_count": 138,
      "outputs": [
        {
          "output_type": "stream",
          "name": "stdout",
          "text": [
            "MAE error: 0.19189681009709184\n"
          ]
        }
      ]
    },
    {
      "cell_type": "markdown",
      "source": [
        "# 2. Consider the motorcycle dataset. Estimate the L1- norm kernel regression model using RBF kernel (Gaussian Kernel) . Find the best RMSE and MAE using leave- one out by tuning the value of kernel parameter σ and regularization parameter λ. Also obtain the corresponding plot of best estimate."
      ],
      "metadata": {
        "id": "6VzO7fxm7j_h"
      }
    },
    {
      "cell_type": "code",
      "source": [
        "motorcycle_data = pd.read_excel(\"/content/motorcycle.xlsx\")"
      ],
      "metadata": {
        "id": "ChLIkDqq7mNQ"
      },
      "execution_count": 139,
      "outputs": []
    },
    {
      "cell_type": "code",
      "source": [
        "scaled_x = (motorcycle_data['x'] - motorcycle_data['x'].mean()) / (motorcycle_data['x'].max() - motorcycle_data['x'].min())\n",
        "# scaled_x = motorcycle_data['x']\n",
        "\n",
        "data_m9 = pd.DataFrame([scaled_x**9 ,scaled_x**8, scaled_x**7 ,scaled_x**6, scaled_x**5, scaled_x**4, scaled_x**3, scaled_x**2, scaled_x, np.ones(len(scaled_x))])\n",
        "data_m9 = data_m9.T\n",
        "6\n",
        "data_m9.columns = ['x^9', 'x^8', 'x^7', 'x^6', 'x^5' , 'x^4', 'x^3', 'x^2', 'x', 'ones']\n",
        "data_m9"
      ],
      "metadata": {
        "colab": {
          "base_uri": "https://localhost:8080/",
          "height": 423
        },
        "id": "3eAKqOBV7wwM",
        "outputId": "93d0807a-9fa9-4b92-f01e-40eb7637024c"
      },
      "execution_count": 140,
      "outputs": [
        {
          "output_type": "execute_result",
          "data": {
            "text/plain": [
              "          x^9       x^8       x^7       x^6       x^5       x^4       x^3  \\\n",
              "0   -0.000347  0.000841 -0.002038  0.004938 -0.011967  0.028999 -0.070272   \n",
              "1   -0.000321  0.000784 -0.001916  0.004684 -0.011450  0.027994 -0.068437   \n",
              "2   -0.000252  0.000632 -0.001587  0.003985 -0.010008  0.025135 -0.063125   \n",
              "3   -0.000213  0.000545 -0.001395  0.003569 -0.009130  0.023354 -0.059741   \n",
              "4   -0.000180  0.000470 -0.001224  0.003190 -0.008314  0.021670 -0.056480   \n",
              "..        ...       ...       ...       ...       ...       ...       ...   \n",
              "128  0.002238  0.004409  0.008686  0.017111  0.033708  0.066402  0.130809   \n",
              "129  0.003920  0.007256  0.013430  0.024860  0.046017  0.085180  0.157671   \n",
              "130  0.003920  0.007256  0.013430  0.024860  0.046017  0.085180  0.157671   \n",
              "131  0.004419  0.008072  0.014743  0.026929  0.049187  0.089843  0.164101   \n",
              "132  0.008317  0.014161  0.024111  0.041051  0.069894  0.119001  0.202612   \n",
              "\n",
              "          x^2         x  ones  \n",
              "0    0.170290 -0.412662   1.0  \n",
              "1    0.167313 -0.409039   1.0  \n",
              "2    0.158539 -0.398169   1.0  \n",
              "3    0.152821 -0.390923   1.0  \n",
              "4    0.147208 -0.383677   1.0  \n",
              "..        ...       ...   ...  \n",
              "128  0.257686  0.507628   1.0  \n",
              "129  0.291855  0.540236   1.0  \n",
              "130  0.291855  0.540236   1.0  \n",
              "131  0.299737  0.547483   1.0  \n",
              "132  0.344966  0.587338   1.0  \n",
              "\n",
              "[133 rows x 10 columns]"
            ],
            "text/html": [
              "\n",
              "  <div id=\"df-726cd4eb-a8bb-49e7-a54c-9d91843a380b\">\n",
              "    <div class=\"colab-df-container\">\n",
              "      <div>\n",
              "<style scoped>\n",
              "    .dataframe tbody tr th:only-of-type {\n",
              "        vertical-align: middle;\n",
              "    }\n",
              "\n",
              "    .dataframe tbody tr th {\n",
              "        vertical-align: top;\n",
              "    }\n",
              "\n",
              "    .dataframe thead th {\n",
              "        text-align: right;\n",
              "    }\n",
              "</style>\n",
              "<table border=\"1\" class=\"dataframe\">\n",
              "  <thead>\n",
              "    <tr style=\"text-align: right;\">\n",
              "      <th></th>\n",
              "      <th>x^9</th>\n",
              "      <th>x^8</th>\n",
              "      <th>x^7</th>\n",
              "      <th>x^6</th>\n",
              "      <th>x^5</th>\n",
              "      <th>x^4</th>\n",
              "      <th>x^3</th>\n",
              "      <th>x^2</th>\n",
              "      <th>x</th>\n",
              "      <th>ones</th>\n",
              "    </tr>\n",
              "  </thead>\n",
              "  <tbody>\n",
              "    <tr>\n",
              "      <th>0</th>\n",
              "      <td>-0.000347</td>\n",
              "      <td>0.000841</td>\n",
              "      <td>-0.002038</td>\n",
              "      <td>0.004938</td>\n",
              "      <td>-0.011967</td>\n",
              "      <td>0.028999</td>\n",
              "      <td>-0.070272</td>\n",
              "      <td>0.170290</td>\n",
              "      <td>-0.412662</td>\n",
              "      <td>1.0</td>\n",
              "    </tr>\n",
              "    <tr>\n",
              "      <th>1</th>\n",
              "      <td>-0.000321</td>\n",
              "      <td>0.000784</td>\n",
              "      <td>-0.001916</td>\n",
              "      <td>0.004684</td>\n",
              "      <td>-0.011450</td>\n",
              "      <td>0.027994</td>\n",
              "      <td>-0.068437</td>\n",
              "      <td>0.167313</td>\n",
              "      <td>-0.409039</td>\n",
              "      <td>1.0</td>\n",
              "    </tr>\n",
              "    <tr>\n",
              "      <th>2</th>\n",
              "      <td>-0.000252</td>\n",
              "      <td>0.000632</td>\n",
              "      <td>-0.001587</td>\n",
              "      <td>0.003985</td>\n",
              "      <td>-0.010008</td>\n",
              "      <td>0.025135</td>\n",
              "      <td>-0.063125</td>\n",
              "      <td>0.158539</td>\n",
              "      <td>-0.398169</td>\n",
              "      <td>1.0</td>\n",
              "    </tr>\n",
              "    <tr>\n",
              "      <th>3</th>\n",
              "      <td>-0.000213</td>\n",
              "      <td>0.000545</td>\n",
              "      <td>-0.001395</td>\n",
              "      <td>0.003569</td>\n",
              "      <td>-0.009130</td>\n",
              "      <td>0.023354</td>\n",
              "      <td>-0.059741</td>\n",
              "      <td>0.152821</td>\n",
              "      <td>-0.390923</td>\n",
              "      <td>1.0</td>\n",
              "    </tr>\n",
              "    <tr>\n",
              "      <th>4</th>\n",
              "      <td>-0.000180</td>\n",
              "      <td>0.000470</td>\n",
              "      <td>-0.001224</td>\n",
              "      <td>0.003190</td>\n",
              "      <td>-0.008314</td>\n",
              "      <td>0.021670</td>\n",
              "      <td>-0.056480</td>\n",
              "      <td>0.147208</td>\n",
              "      <td>-0.383677</td>\n",
              "      <td>1.0</td>\n",
              "    </tr>\n",
              "    <tr>\n",
              "      <th>...</th>\n",
              "      <td>...</td>\n",
              "      <td>...</td>\n",
              "      <td>...</td>\n",
              "      <td>...</td>\n",
              "      <td>...</td>\n",
              "      <td>...</td>\n",
              "      <td>...</td>\n",
              "      <td>...</td>\n",
              "      <td>...</td>\n",
              "      <td>...</td>\n",
              "    </tr>\n",
              "    <tr>\n",
              "      <th>128</th>\n",
              "      <td>0.002238</td>\n",
              "      <td>0.004409</td>\n",
              "      <td>0.008686</td>\n",
              "      <td>0.017111</td>\n",
              "      <td>0.033708</td>\n",
              "      <td>0.066402</td>\n",
              "      <td>0.130809</td>\n",
              "      <td>0.257686</td>\n",
              "      <td>0.507628</td>\n",
              "      <td>1.0</td>\n",
              "    </tr>\n",
              "    <tr>\n",
              "      <th>129</th>\n",
              "      <td>0.003920</td>\n",
              "      <td>0.007256</td>\n",
              "      <td>0.013430</td>\n",
              "      <td>0.024860</td>\n",
              "      <td>0.046017</td>\n",
              "      <td>0.085180</td>\n",
              "      <td>0.157671</td>\n",
              "      <td>0.291855</td>\n",
              "      <td>0.540236</td>\n",
              "      <td>1.0</td>\n",
              "    </tr>\n",
              "    <tr>\n",
              "      <th>130</th>\n",
              "      <td>0.003920</td>\n",
              "      <td>0.007256</td>\n",
              "      <td>0.013430</td>\n",
              "      <td>0.024860</td>\n",
              "      <td>0.046017</td>\n",
              "      <td>0.085180</td>\n",
              "      <td>0.157671</td>\n",
              "      <td>0.291855</td>\n",
              "      <td>0.540236</td>\n",
              "      <td>1.0</td>\n",
              "    </tr>\n",
              "    <tr>\n",
              "      <th>131</th>\n",
              "      <td>0.004419</td>\n",
              "      <td>0.008072</td>\n",
              "      <td>0.014743</td>\n",
              "      <td>0.026929</td>\n",
              "      <td>0.049187</td>\n",
              "      <td>0.089843</td>\n",
              "      <td>0.164101</td>\n",
              "      <td>0.299737</td>\n",
              "      <td>0.547483</td>\n",
              "      <td>1.0</td>\n",
              "    </tr>\n",
              "    <tr>\n",
              "      <th>132</th>\n",
              "      <td>0.008317</td>\n",
              "      <td>0.014161</td>\n",
              "      <td>0.024111</td>\n",
              "      <td>0.041051</td>\n",
              "      <td>0.069894</td>\n",
              "      <td>0.119001</td>\n",
              "      <td>0.202612</td>\n",
              "      <td>0.344966</td>\n",
              "      <td>0.587338</td>\n",
              "      <td>1.0</td>\n",
              "    </tr>\n",
              "  </tbody>\n",
              "</table>\n",
              "<p>133 rows × 10 columns</p>\n",
              "</div>\n",
              "      <button class=\"colab-df-convert\" onclick=\"convertToInteractive('df-726cd4eb-a8bb-49e7-a54c-9d91843a380b')\"\n",
              "              title=\"Convert this dataframe to an interactive table.\"\n",
              "              style=\"display:none;\">\n",
              "        \n",
              "  <svg xmlns=\"http://www.w3.org/2000/svg\" height=\"24px\"viewBox=\"0 0 24 24\"\n",
              "       width=\"24px\">\n",
              "    <path d=\"M0 0h24v24H0V0z\" fill=\"none\"/>\n",
              "    <path d=\"M18.56 5.44l.94 2.06.94-2.06 2.06-.94-2.06-.94-.94-2.06-.94 2.06-2.06.94zm-11 1L8.5 8.5l.94-2.06 2.06-.94-2.06-.94L8.5 2.5l-.94 2.06-2.06.94zm10 10l.94 2.06.94-2.06 2.06-.94-2.06-.94-.94-2.06-.94 2.06-2.06.94z\"/><path d=\"M17.41 7.96l-1.37-1.37c-.4-.4-.92-.59-1.43-.59-.52 0-1.04.2-1.43.59L10.3 9.45l-7.72 7.72c-.78.78-.78 2.05 0 2.83L4 21.41c.39.39.9.59 1.41.59.51 0 1.02-.2 1.41-.59l7.78-7.78 2.81-2.81c.8-.78.8-2.07 0-2.86zM5.41 20L4 18.59l7.72-7.72 1.47 1.35L5.41 20z\"/>\n",
              "  </svg>\n",
              "      </button>\n",
              "      \n",
              "  <style>\n",
              "    .colab-df-container {\n",
              "      display:flex;\n",
              "      flex-wrap:wrap;\n",
              "      gap: 12px;\n",
              "    }\n",
              "\n",
              "    .colab-df-convert {\n",
              "      background-color: #E8F0FE;\n",
              "      border: none;\n",
              "      border-radius: 50%;\n",
              "      cursor: pointer;\n",
              "      display: none;\n",
              "      fill: #1967D2;\n",
              "      height: 32px;\n",
              "      padding: 0 0 0 0;\n",
              "      width: 32px;\n",
              "    }\n",
              "\n",
              "    .colab-df-convert:hover {\n",
              "      background-color: #E2EBFA;\n",
              "      box-shadow: 0px 1px 2px rgba(60, 64, 67, 0.3), 0px 1px 3px 1px rgba(60, 64, 67, 0.15);\n",
              "      fill: #174EA6;\n",
              "    }\n",
              "\n",
              "    [theme=dark] .colab-df-convert {\n",
              "      background-color: #3B4455;\n",
              "      fill: #D2E3FC;\n",
              "    }\n",
              "\n",
              "    [theme=dark] .colab-df-convert:hover {\n",
              "      background-color: #434B5C;\n",
              "      box-shadow: 0px 1px 3px 1px rgba(0, 0, 0, 0.15);\n",
              "      filter: drop-shadow(0px 1px 2px rgba(0, 0, 0, 0.3));\n",
              "      fill: #FFFFFF;\n",
              "    }\n",
              "  </style>\n",
              "\n",
              "      <script>\n",
              "        const buttonEl =\n",
              "          document.querySelector('#df-726cd4eb-a8bb-49e7-a54c-9d91843a380b button.colab-df-convert');\n",
              "        buttonEl.style.display =\n",
              "          google.colab.kernel.accessAllowed ? 'block' : 'none';\n",
              "\n",
              "        async function convertToInteractive(key) {\n",
              "          const element = document.querySelector('#df-726cd4eb-a8bb-49e7-a54c-9d91843a380b');\n",
              "          const dataTable =\n",
              "            await google.colab.kernel.invokeFunction('convertToInteractive',\n",
              "                                                     [key], {});\n",
              "          if (!dataTable) return;\n",
              "\n",
              "          const docLinkHtml = 'Like what you see? Visit the ' +\n",
              "            '<a target=\"_blank\" href=https://colab.research.google.com/notebooks/data_table.ipynb>data table notebook</a>'\n",
              "            + ' to learn more about interactive tables.';\n",
              "          element.innerHTML = '';\n",
              "          dataTable['output_type'] = 'display_data';\n",
              "          await google.colab.output.renderOutput(dataTable, element);\n",
              "          const docLink = document.createElement('div');\n",
              "          docLink.innerHTML = docLinkHtml;\n",
              "          element.appendChild(docLink);\n",
              "        }\n",
              "      </script>\n",
              "    </div>\n",
              "  </div>\n",
              "  "
            ]
          },
          "metadata": {},
          "execution_count": 140
        }
      ]
    },
    {
      "cell_type": "code",
      "source": [
        "lmda = 0.00015\n",
        "alpha = 0.8\n",
        "theta = np.array([0 for _ in range(len(data_m9))])\n",
        "b = 0\n",
        "sigma = 2**-8\n",
        "\n",
        "def kernel(x1, x2, sigma):\n",
        "  d = (x1 - x2)**2\n",
        "  d = ((-1) / (2 * sigma**2)) * d\n",
        "  ans = math.e ** (d.sum())\n",
        "  return ans\n",
        "\n",
        "\n",
        "def create_kernel_vector(i):\n",
        "  temp = []\n",
        "  for j in range(len(data_m9)):\n",
        "    temp.append(kernel(data_m9.iloc[i], data_m9.iloc[j], sigma))\n",
        "  return np.array(temp)\n",
        "\n",
        "\n",
        "for k in range(50):\n",
        "  main_vector = []\n",
        "  b_vector = []\n",
        "  \n",
        "  for i in range(len(data_m9)):\n",
        "    b_temp = 1\n",
        "    temp1 = create_kernel_vector(i)\n",
        "    temp2 = np.dot(temp1, theta.T) + b\n",
        "\n",
        "    if motorcycle_data['y'].iloc[i] - temp2 > 0:\n",
        "      temp1 = temp1 * (-1)\n",
        "      b_temp *= (-1)\n",
        "\n",
        "    elif motorcycle_data['y'].iloc[i] - temp2 == 0:\n",
        "      temp1 = np.random.uniform(-1,1) * temp1\n",
        "      b_temp *= np.random.uniform(-1,1)\n",
        "  \n",
        "    main_vector.append(temp1)\n",
        "    b_vector.append(b_temp)\n",
        "  \n",
        "  main_vector = pd.DataFrame(main_vector)\n",
        "  temp = lmda * theta + (1/2) * main_vector.sum()\n",
        "  theta = theta - alpha * temp\n",
        "  b = b - alpha * (1/2) * sum(b_vector)"
      ],
      "metadata": {
        "id": "2Aa1Htn28hVU"
      },
      "execution_count": 141,
      "outputs": []
    },
    {
      "cell_type": "code",
      "source": [
        "y_hat = []\n",
        "for i in range(len(data_m9)):\n",
        "  temp1 = create_kernel_vector(i)\n",
        "  y_hat.append(np.dot(temp1.T, theta) + b)"
      ],
      "metadata": {
        "id": "-1NlDq6K9TXB"
      },
      "execution_count": 142,
      "outputs": []
    },
    {
      "cell_type": "code",
      "source": [
        "plt.figure(figsize=(10,10))\n",
        "plt.scatter(motorcycle_data['x'], motorcycle_data['y'], color='red')\n",
        "plt.scatter(motorcycle_data['x'], y_hat, color='blue')\n",
        "plt.legend(['original motorcycle data', 'predicted values'])"
      ],
      "metadata": {
        "colab": {
          "base_uri": "https://localhost:8080/",
          "height": 610
        },
        "id": "K9ANXCu2-tg7",
        "outputId": "dd297c4d-1569-47c5-db29-21ac6e25bb09"
      },
      "execution_count": 143,
      "outputs": [
        {
          "output_type": "execute_result",
          "data": {
            "text/plain": [
              "<matplotlib.legend.Legend at 0x7faa1753ac50>"
            ]
          },
          "metadata": {},
          "execution_count": 143
        },
        {
          "output_type": "display_data",
          "data": {
            "text/plain": [
              "<Figure size 720x720 with 1 Axes>"
            ],
            "image/png": "[encoded data removed]"
          },
          "metadata": {
            "needs_background": "light"
          }
        }
      ]
    },
    {
      "cell_type": "code",
      "source": [
        "rmse = math.sqrt(((motorcycle_data['y'] - y_hat)**2).mean())\n",
        "print(f'RMSE error: {rmse}')"
      ],
      "metadata": {
        "colab": {
          "base_uri": "https://localhost:8080/"
        },
        "id": "lVQDyUonGVbY",
        "outputId": "075908a4-4636-4d91-fc9d-eeedf3237c8b"
      },
      "execution_count": 144,
      "outputs": [
        {
          "output_type": "stream",
          "name": "stdout",
          "text": [
            "RMSE error: 28.587078193464585\n"
          ]
        }
      ]
    },
    {
      "cell_type": "code",
      "source": [
        "n = 1000\n",
        "mae = math.fsum(abs(motorcycle_data['y'] - y_hat))/n\n",
        "print(f'MAE error: {mae}')"
      ],
      "metadata": {
        "colab": {
          "base_uri": "https://localhost:8080/"
        },
        "id": "TbtNe4NFGiJN",
        "outputId": "6f758b8c-c658-4f74-9b68-1d1bc3c15282"
      },
      "execution_count": 145,
      "outputs": [
        {
          "output_type": "stream",
          "name": "stdout",
          "text": [
            "MAE error: 2.7099636451908293\n"
          ]
        }
      ]
    },
    {
      "cell_type": "markdown",
      "source": [
        "# 3. Consider the motorcycle dataset. Estimate the ε- Support Vector Regression model using RBF kernel (Gaussian Kernel). Find the best RMSE and MAE using leave-one out by tuning the value of kernel parameter σ, regularization parameter λ and user defined parameter ε. Also obtain the corresponding plot of best estimate. Find the sparsity of the obtained solution vector α."
      ],
      "metadata": {
        "id": "_TVReZTa-3Oi"
      }
    },
    {
      "cell_type": "code",
      "source": [
        "motorcycle_data = pd.read_excel(\"/content/motorcycle.xlsx\")"
      ],
      "metadata": {
        "id": "nwX4Vt5I-5NE"
      },
      "execution_count": 146,
      "outputs": []
    },
    {
      "cell_type": "code",
      "source": [
        "scaled_x = (motorcycle_data['x'] - motorcycle_data['x'].mean()) / (motorcycle_data['x'].max() - motorcycle_data['x'].min())\n",
        "# scaled_x = motorcycle_data['x']\n",
        "\n",
        "data_m9 = pd.DataFrame([scaled_x**9 ,scaled_x**8, scaled_x**7 ,scaled_x**6, scaled_x**5, scaled_x**4, scaled_x**3, scaled_x**2, scaled_x, np.ones(len(scaled_x))])\n",
        "data_m9 = data_m9.T\n",
        "\n",
        "data_m9.columns = ['x^9', 'x^8', 'x^7', 'x^6', 'x^5' , 'x^4', 'x^3', 'x^2','x', 'ones']"
      ],
      "metadata": {
        "id": "k4g-owWd-8s7"
      },
      "execution_count": 147,
      "outputs": []
    },
    {
      "cell_type": "code",
      "source": [
        "lmda = 0.0015\n",
        "alpha = 0.999\n",
        "theta = np.array([0 for _ in range(len(data_m9))])\n",
        "b = 0\n",
        "sigma = 2**-8\n",
        "\n",
        "def kernel(x1, x2, sigma):\n",
        "  d = (x1 - x2)**2\n",
        "  d = ((-1) / (2 * sigma**2)) * d\n",
        "  ans = math.e ** (d.sum())\n",
        "  return ans\n",
        "\n",
        "def create_kernel_vector(i):\n",
        "  temp = []\n",
        "  for j in range(len(data_m9)):\n",
        "    temp.append(kernel(data_m9.iloc[i], data_m9.iloc[j], sigma))\n",
        "\n",
        "  return np.array(temp)\n",
        "\n",
        "for k in range(50):\n",
        "  main_vector = []\n",
        "  b_vector = []\n",
        "  for i in range(len(data_m9)):\n",
        "    b_temp = 1\n",
        "    temp1 = create_kernel_vector(i)\n",
        "    temp2 = np.dot(temp1, theta.T) + b\n",
        "    \n",
        "    if motorcycle_data['y'].iloc[i] - temp2 < math.e:\n",
        "      temp1 = np.zeros(len(temp1))\n",
        "      b_temp = 0\n",
        "    \n",
        "    elif motorcycle_data['y'].iloc[i] - temp2 > math.e:\n",
        "      temp1 = temp1 * (-1)\n",
        "      b_temp *= (-1)\n",
        "    \n",
        "    elif motorcycle_data['y'].iloc[i] - temp2 == 0:\n",
        "      temp1 = np.random.uniform(-1,1) * temp1\n",
        "      b_temp *= np.random.uniform(-1,1)\n",
        "    \n",
        "    main_vector.append(temp1)\n",
        "    b_vector.append(b_temp)\n",
        "\n",
        "  main_vector = pd.DataFrame(main_vector)\n",
        "  temp = lmda * theta + (1/2) * main_vector.sum()\n",
        "  theta = theta - alpha * temp\n",
        "\n",
        "  b = b - alpha * (1/2) * sum(b_vector)"
      ],
      "metadata": {
        "id": "iiOO5na1_Gsa"
      },
      "execution_count": 148,
      "outputs": []
    },
    {
      "cell_type": "code",
      "source": [
        "y_hat = []\n",
        "for i in range(len(data_m9)):\n",
        "  temp1 = create_kernel_vector(i)\n",
        "  y_hat.append(np.dot(temp1.T, theta) + b)\n",
        "\n",
        "plt.figure(figsize=(10,10))\n",
        "plt.scatter(motorcycle_data['x'], motorcycle_data['y'], color='red')\n",
        "plt.scatter(motorcycle_data['x'], y_hat, color='blue')\n",
        "plt.legend(['motorcycle data', 'predicted motorcycle data'])"
      ],
      "metadata": {
        "colab": {
          "base_uri": "https://localhost:8080/",
          "height": 610
        },
        "id": "EIDs6gNeAKhc",
        "outputId": "ff21e02f-0b04-4ac7-dc6f-9a78e302a496"
      },
      "execution_count": 149,
      "outputs": [
        {
          "output_type": "execute_result",
          "data": {
            "text/plain": [
              "<matplotlib.legend.Legend at 0x7faa1736d490>"
            ]
          },
          "metadata": {},
          "execution_count": 149
        },
        {
          "output_type": "display_data",
          "data": {
            "text/plain": [
              "<Figure size 720x720 with 1 Axes>"
            ],
            "image/png": "[encoded data removed]"
          },
          "metadata": {
            "needs_background": "light"
          }
        }
      ]
    },
    {
      "cell_type": "code",
      "source": [
        "rmse = math.sqrt(((motorcycle_data['y'] - y_hat)**2).mean())\n",
        "print(f'RMSE error: {rmse}')"
      ],
      "metadata": {
        "colab": {
          "base_uri": "https://localhost:8080/"
        },
        "id": "iBSfb1WFGb25",
        "outputId": "fd421ae6-5faf-4814-92a2-5725b30f4d34"
      },
      "execution_count": 150,
      "outputs": [
        {
          "output_type": "stream",
          "name": "stdout",
          "text": [
            "RMSE error: 98.82746797775933\n"
          ]
        }
      ]
    },
    {
      "cell_type": "code",
      "source": [
        "n = 1000\n",
        "mae = math.fsum(abs(motorcycle_data['y'] - y_hat))/n\n",
        "print(f'MAE error: {mae}')"
      ],
      "metadata": {
        "colab": {
          "base_uri": "https://localhost:8080/"
        },
        "id": "iR2JwP61GdVX",
        "outputId": "504a6c38-d8b0-461c-84b0-4b5e062aacee"
      },
      "execution_count": 151,
      "outputs": [
        {
          "output_type": "stream",
          "name": "stdout",
          "text": [
            "MAE error: 11.606677738176046\n"
          ]
        }
      ]
    },
    {
      "cell_type": "code",
      "source": [],
      "metadata": {
        "id": "Zg68wa9OI7tg"
      },
      "execution_count": 151,
      "outputs": []
    }
  ]
}