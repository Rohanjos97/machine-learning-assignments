{
  "nbformat": 4,
  "nbformat_minor": 0,
  "metadata": {
    "colab": {
      "provenance": [],
      "authorship_tag": "ABX9TyNmxlO7b7l4RmrfDCoueJt4",
      "include_colab_link": true
    },
    "kernelspec": {
      "name": "python3",
      "display_name": "Python 3"
    },
    "language_info": {
      "name": "python"
    }
  },
  "cells": [
    {
      "cell_type": "markdown",
      "metadata": {
        "id": "view-in-github",
        "colab_type": "text"
      },
      "source": [
        "<a href=\"https://colab.research.google.com/github/Rohanjos97/machine-learning-assignments/blob/main/Assignment%204/Assignment4.ipynb\" target=\"_parent\"><img src=\"https://colab.research.google.com/assets/colab-badge.svg\" alt=\"Open In Colab\"/></a>"
      ]
    },
    {
      "cell_type": "markdown",
      "source": [
        "# 1. Generate 1000 real number for the variable X from the uniform distribution U [0,1]. Construct the training set\n",
        "# T = { ($x_1$, $y_1$), ($x_2$, $y_2$), ... ,($x_{100}$, $y_{100}$)} using the relation\n",
        "\n",
        "# $Y_i$ = sin(2 π $x_i$) + $ε_i$ where $ε_i$ ~ N(0,0.25).\n",
        "\n",
        "#In the similar way construct a testing set of size 50 i,e.\n",
        "#Test = { ($x'_1$, $y'_1$), ($x'_2$, $y'_2$), ..., ($x'_{50}$, $y'_{50}$)}."
      ],
      "metadata": {
        "id": "VPrMT92B5vak"
      }
    },
    {
      "cell_type": "code",
      "execution_count": 66,
      "metadata": {
        "id": "KwWsccw44ajw"
      },
      "outputs": [],
      "source": [
        "import numpy as np\n",
        "import matplotlib.pyplot as plt\n",
        "import math\n",
        "import pandas as pd\n",
        "from sklearn import metrics\n",
        "from sklearn.model_selection import train_test_split\n",
        "import time\n",
        "import random\n",
        "\n",
        "# Training Data\n",
        "train_x = np.random.uniform(0, 1, 1000)\n",
        "train_e = np.random.normal(0, 0.25, 1000)\n",
        "train_y = np.sin(2 * math.pi * train_x) + train_e\n",
        "\n",
        "# Testing Data\n",
        "test_x = np.random.uniform(0, 1, 50)\n",
        "test_e = np.random.normal(0, 0.25, 50)\n",
        "test_y = np.sin(2 * math.pi * test_x) + test_e"
      ]
    },
    {
      "cell_type": "code",
      "source": [
        "data_m9 = pd.DataFrame([train_x**9, train_x**8, train_x**7, train_x**6, train_x**5, train_x**4, train_x**3, train_x**2, train_x, np.ones(len(train_x))])\n",
        "data_m9 = data_m9.T\n",
        "data_m9.columns = ['x^9', 'x^8', 'x^7', 'x^6', 'x^5' , 'x^4', 'x^3', 'x^2', 'x', 'ones']\n",
        "data_m9"
      ],
      "metadata": {
        "colab": {
          "base_uri": "https://localhost:8080/",
          "height": 423
        },
        "id": "Y7LvAvCP3XWV",
        "outputId": "5fde9891-b72b-413c-d7e4-05ff17cc8d0f"
      },
      "execution_count": 70,
      "outputs": [
        {
          "output_type": "execute_result",
          "data": {
            "text/plain": [
              "              x^9           x^8           x^7           x^6           x^5  \\\n",
              "0    8.410698e-07  3.979703e-06  1.883083e-05  8.910212e-05  4.216059e-04   \n",
              "1    2.588899e-06  1.081136e-05  4.514869e-05  1.885429e-04  7.873632e-04   \n",
              "2    1.094995e-17  8.393090e-16  6.433268e-14  4.931073e-12  3.779646e-10   \n",
              "3    4.898058e-08  3.178655e-07  2.062828e-06  1.338698e-05  8.687647e-05   \n",
              "4    6.298074e-02  8.563063e-02  1.164261e-01  1.582967e-01  2.152252e-01   \n",
              "..            ...           ...           ...           ...           ...   \n",
              "995  3.174966e-05  1.003566e-04  3.172142e-04  1.002673e-03  3.169320e-03   \n",
              "996  4.074014e-04  9.698101e-04  2.308612e-03  5.495599e-03  1.308215e-02   \n",
              "997  3.009143e-01  3.438695e-01  3.929565e-01  4.490506e-01  5.131520e-01   \n",
              "998  2.584779e-06  1.079606e-05  4.509279e-05  1.883428e-04  7.866668e-04   \n",
              "999  1.418757e-03  2.940103e-03  6.092804e-03  1.262618e-02  2.616535e-02   \n",
              "\n",
              "              x^4       x^3       x^2         x  ones  \n",
              "0    1.994919e-03  0.009439  0.044665  0.211340   1.0  \n",
              "1    3.288063e-03  0.013731  0.057342  0.239461   1.0  \n",
              "2    2.897083e-08  0.000002  0.000170  0.013046   1.0  \n",
              "3    5.637957e-04  0.003659  0.023744  0.154092   1.0  \n",
              "4    2.926271e-01  0.397865  0.540950  0.735493   1.0  \n",
              "..            ...       ...       ...       ...   ...  \n",
              "995  1.001781e-02  0.031665  0.100089  0.316368   1.0  \n",
              "996  3.114177e-02  0.074132  0.176470  0.420084   1.0  \n",
              "997  5.864039e-01  0.670112  0.765770  0.875083   1.0  \n",
              "998  3.285736e-03  0.013724  0.057321  0.239419   1.0  \n",
              "999  5.422272e-02  0.112366  0.232858  0.482553   1.0  \n",
              "\n",
              "[1000 rows x 10 columns]"
            ],
            "text/html": [
              "\n",
              "  <div id=\"df-2b1d76e8-5924-40cc-b862-4cd4d00d7b37\">\n",
              "    <div class=\"colab-df-container\">\n",
              "      <div>\n",
              "<style scoped>\n",
              "    .dataframe tbody tr th:only-of-type {\n",
              "        vertical-align: middle;\n",
              "    }\n",
              "\n",
              "    .dataframe tbody tr th {\n",
              "        vertical-align: top;\n",
              "    }\n",
              "\n",
              "    .dataframe thead th {\n",
              "        text-align: right;\n",
              "    }\n",
              "</style>\n",
              "<table border=\"1\" class=\"dataframe\">\n",
              "  <thead>\n",
              "    <tr style=\"text-align: right;\">\n",
              "      <th></th>\n",
              "      <th>x^9</th>\n",
              "      <th>x^8</th>\n",
              "      <th>x^7</th>\n",
              "      <th>x^6</th>\n",
              "      <th>x^5</th>\n",
              "      <th>x^4</th>\n",
              "      <th>x^3</th>\n",
              "      <th>x^2</th>\n",
              "      <th>x</th>\n",
              "      <th>ones</th>\n",
              "    </tr>\n",
              "  </thead>\n",
              "  <tbody>\n",
              "    <tr>\n",
              "      <th>0</th>\n",
              "      <td>8.410698e-07</td>\n",
              "      <td>3.979703e-06</td>\n",
              "      <td>1.883083e-05</td>\n",
              "      <td>8.910212e-05</td>\n",
              "      <td>4.216059e-04</td>\n",
              "      <td>1.994919e-03</td>\n",
              "      <td>0.009439</td>\n",
              "      <td>0.044665</td>\n",
              "      <td>0.211340</td>\n",
              "      <td>1.0</td>\n",
              "    </tr>\n",
              "    <tr>\n",
              "      <th>1</th>\n",
              "      <td>2.588899e-06</td>\n",
              "      <td>1.081136e-05</td>\n",
              "      <td>4.514869e-05</td>\n",
              "      <td>1.885429e-04</td>\n",
              "      <td>7.873632e-04</td>\n",
              "      <td>3.288063e-03</td>\n",
              "      <td>0.013731</td>\n",
              "      <td>0.057342</td>\n",
              "      <td>0.239461</td>\n",
              "      <td>1.0</td>\n",
              "    </tr>\n",
              "    <tr>\n",
              "      <th>2</th>\n",
              "      <td>1.094995e-17</td>\n",
              "      <td>8.393090e-16</td>\n",
              "      <td>6.433268e-14</td>\n",
              "      <td>4.931073e-12</td>\n",
              "      <td>3.779646e-10</td>\n",
              "      <td>2.897083e-08</td>\n",
              "      <td>0.000002</td>\n",
              "      <td>0.000170</td>\n",
              "      <td>0.013046</td>\n",
              "      <td>1.0</td>\n",
              "    </tr>\n",
              "    <tr>\n",
              "      <th>3</th>\n",
              "      <td>4.898058e-08</td>\n",
              "      <td>3.178655e-07</td>\n",
              "      <td>2.062828e-06</td>\n",
              "      <td>1.338698e-05</td>\n",
              "      <td>8.687647e-05</td>\n",
              "      <td>5.637957e-04</td>\n",
              "      <td>0.003659</td>\n",
              "      <td>0.023744</td>\n",
              "      <td>0.154092</td>\n",
              "      <td>1.0</td>\n",
              "    </tr>\n",
              "    <tr>\n",
              "      <th>4</th>\n",
              "      <td>6.298074e-02</td>\n",
              "      <td>8.563063e-02</td>\n",
              "      <td>1.164261e-01</td>\n",
              "      <td>1.582967e-01</td>\n",
              "      <td>2.152252e-01</td>\n",
              "      <td>2.926271e-01</td>\n",
              "      <td>0.397865</td>\n",
              "      <td>0.540950</td>\n",
              "      <td>0.735493</td>\n",
              "      <td>1.0</td>\n",
              "    </tr>\n",
              "    <tr>\n",
              "      <th>...</th>\n",
              "      <td>...</td>\n",
              "      <td>...</td>\n",
              "      <td>...</td>\n",
              "      <td>...</td>\n",
              "      <td>...</td>\n",
              "      <td>...</td>\n",
              "      <td>...</td>\n",
              "      <td>...</td>\n",
              "      <td>...</td>\n",
              "      <td>...</td>\n",
              "    </tr>\n",
              "    <tr>\n",
              "      <th>995</th>\n",
              "      <td>3.174966e-05</td>\n",
              "      <td>1.003566e-04</td>\n",
              "      <td>3.172142e-04</td>\n",
              "      <td>1.002673e-03</td>\n",
              "      <td>3.169320e-03</td>\n",
              "      <td>1.001781e-02</td>\n",
              "      <td>0.031665</td>\n",
              "      <td>0.100089</td>\n",
              "      <td>0.316368</td>\n",
              "      <td>1.0</td>\n",
              "    </tr>\n",
              "    <tr>\n",
              "      <th>996</th>\n",
              "      <td>4.074014e-04</td>\n",
              "      <td>9.698101e-04</td>\n",
              "      <td>2.308612e-03</td>\n",
              "      <td>5.495599e-03</td>\n",
              "      <td>1.308215e-02</td>\n",
              "      <td>3.114177e-02</td>\n",
              "      <td>0.074132</td>\n",
              "      <td>0.176470</td>\n",
              "      <td>0.420084</td>\n",
              "      <td>1.0</td>\n",
              "    </tr>\n",
              "    <tr>\n",
              "      <th>997</th>\n",
              "      <td>3.009143e-01</td>\n",
              "      <td>3.438695e-01</td>\n",
              "      <td>3.929565e-01</td>\n",
              "      <td>4.490506e-01</td>\n",
              "      <td>5.131520e-01</td>\n",
              "      <td>5.864039e-01</td>\n",
              "      <td>0.670112</td>\n",
              "      <td>0.765770</td>\n",
              "      <td>0.875083</td>\n",
              "      <td>1.0</td>\n",
              "    </tr>\n",
              "    <tr>\n",
              "      <th>998</th>\n",
              "      <td>2.584779e-06</td>\n",
              "      <td>1.079606e-05</td>\n",
              "      <td>4.509279e-05</td>\n",
              "      <td>1.883428e-04</td>\n",
              "      <td>7.866668e-04</td>\n",
              "      <td>3.285736e-03</td>\n",
              "      <td>0.013724</td>\n",
              "      <td>0.057321</td>\n",
              "      <td>0.239419</td>\n",
              "      <td>1.0</td>\n",
              "    </tr>\n",
              "    <tr>\n",
              "      <th>999</th>\n",
              "      <td>1.418757e-03</td>\n",
              "      <td>2.940103e-03</td>\n",
              "      <td>6.092804e-03</td>\n",
              "      <td>1.262618e-02</td>\n",
              "      <td>2.616535e-02</td>\n",
              "      <td>5.422272e-02</td>\n",
              "      <td>0.112366</td>\n",
              "      <td>0.232858</td>\n",
              "      <td>0.482553</td>\n",
              "      <td>1.0</td>\n",
              "    </tr>\n",
              "  </tbody>\n",
              "</table>\n",
              "<p>1000 rows × 10 columns</p>\n",
              "</div>\n",
              "      <button class=\"colab-df-convert\" onclick=\"convertToInteractive('df-2b1d76e8-5924-40cc-b862-4cd4d00d7b37')\"\n",
              "              title=\"Convert this dataframe to an interactive table.\"\n",
              "              style=\"display:none;\">\n",
              "        \n",
              "  <svg xmlns=\"http://www.w3.org/2000/svg\" height=\"24px\"viewBox=\"0 0 24 24\"\n",
              "       width=\"24px\">\n",
              "    <path d=\"M0 0h24v24H0V0z\" fill=\"none\"/>\n",
              "    <path d=\"M18.56 5.44l.94 2.06.94-2.06 2.06-.94-2.06-.94-.94-2.06-.94 2.06-2.06.94zm-11 1L8.5 8.5l.94-2.06 2.06-.94-2.06-.94L8.5 2.5l-.94 2.06-2.06.94zm10 10l.94 2.06.94-2.06 2.06-.94-2.06-.94-.94-2.06-.94 2.06-2.06.94z\"/><path d=\"M17.41 7.96l-1.37-1.37c-.4-.4-.92-.59-1.43-.59-.52 0-1.04.2-1.43.59L10.3 9.45l-7.72 7.72c-.78.78-.78 2.05 0 2.83L4 21.41c.39.39.9.59 1.41.59.51 0 1.02-.2 1.41-.59l7.78-7.78 2.81-2.81c.8-.78.8-2.07 0-2.86zM5.41 20L4 18.59l7.72-7.72 1.47 1.35L5.41 20z\"/>\n",
              "  </svg>\n",
              "      </button>\n",
              "      \n",
              "  <style>\n",
              "    .colab-df-container {\n",
              "      display:flex;\n",
              "      flex-wrap:wrap;\n",
              "      gap: 12px;\n",
              "    }\n",
              "\n",
              "    .colab-df-convert {\n",
              "      background-color: #E8F0FE;\n",
              "      border: none;\n",
              "      border-radius: 50%;\n",
              "      cursor: pointer;\n",
              "      display: none;\n",
              "      fill: #1967D2;\n",
              "      height: 32px;\n",
              "      padding: 0 0 0 0;\n",
              "      width: 32px;\n",
              "    }\n",
              "\n",
              "    .colab-df-convert:hover {\n",
              "      background-color: #E2EBFA;\n",
              "      box-shadow: 0px 1px 2px rgba(60, 64, 67, 0.3), 0px 1px 3px 1px rgba(60, 64, 67, 0.15);\n",
              "      fill: #174EA6;\n",
              "    }\n",
              "\n",
              "    [theme=dark] .colab-df-convert {\n",
              "      background-color: #3B4455;\n",
              "      fill: #D2E3FC;\n",
              "    }\n",
              "\n",
              "    [theme=dark] .colab-df-convert:hover {\n",
              "      background-color: #434B5C;\n",
              "      box-shadow: 0px 1px 3px 1px rgba(0, 0, 0, 0.15);\n",
              "      filter: drop-shadow(0px 1px 2px rgba(0, 0, 0, 0.3));\n",
              "      fill: #FFFFFF;\n",
              "    }\n",
              "  </style>\n",
              "\n",
              "      <script>\n",
              "        const buttonEl =\n",
              "          document.querySelector('#df-2b1d76e8-5924-40cc-b862-4cd4d00d7b37 button.colab-df-convert');\n",
              "        buttonEl.style.display =\n",
              "          google.colab.kernel.accessAllowed ? 'block' : 'none';\n",
              "\n",
              "        async function convertToInteractive(key) {\n",
              "          const element = document.querySelector('#df-2b1d76e8-5924-40cc-b862-4cd4d00d7b37');\n",
              "          const dataTable =\n",
              "            await google.colab.kernel.invokeFunction('convertToInteractive',\n",
              "                                                     [key], {});\n",
              "          if (!dataTable) return;\n",
              "\n",
              "          const docLinkHtml = 'Like what you see? Visit the ' +\n",
              "            '<a target=\"_blank\" href=https://colab.research.google.com/notebooks/data_table.ipynb>data table notebook</a>'\n",
              "            + ' to learn more about interactive tables.';\n",
              "          element.innerHTML = '';\n",
              "          dataTable['output_type'] = 'display_data';\n",
              "          await google.colab.output.renderOutput(dataTable, element);\n",
              "          const docLink = document.createElement('div');\n",
              "          docLink.innerHTML = docLinkHtml;\n",
              "          element.appendChild(docLink);\n",
              "        }\n",
              "      </script>\n",
              "    </div>\n",
              "  </div>\n",
              "  "
            ]
          },
          "metadata": {},
          "execution_count": 70
        }
      ]
    },
    {
      "cell_type": "markdown",
      "source": [
        "## (a) Estimate the L1- norm kernel regression model using the sub gradient descent method and RBF (Gaussian Kernel). Find the best RMSE and MAE by tuning the value of RBF kernel parameter σ and regularization parameter λ. Also obtain the corresponding plot of best estimate."
      ],
      "metadata": {
        "id": "gehu1qO_6cXH"
      }
    },
    {
      "cell_type": "code",
      "source": [
        "#gradient-descent\n",
        "alpha = 0.000982345\n",
        "lmda = 0.0002\n",
        "\n",
        "theta = np.array([0 for i in range(10)])\n",
        "\n",
        "for k in range(700):\n",
        "  temp1 = np.dot(data_m9, theta)\n",
        "  temp2 = train_y - temp1\n",
        "  temp3 = []\n",
        "\n",
        "  for j, i in enumerate(temp2):\n",
        "    if i > 0:\n",
        "      temp3.append(data_m9.iloc[j] * (-1))\n",
        "    elif i < 0:\n",
        "      temp3.append(data_m9.iloc[j])\n",
        "    else:\n",
        "      temp3.append(random.uniform(-1,1) * data_m9.iloc[j])\n",
        "  \n",
        "  temp3 = pd.DataFrame(temp3)\n",
        "  temp4 = lmda * theta + temp3.sum()\n",
        "  theta = theta - alpha * temp4"
      ],
      "metadata": {
        "id": "5Tpu8I-x3mwZ"
      },
      "execution_count": 71,
      "outputs": []
    },
    {
      "cell_type": "code",
      "source": [
        "plt.figure(figsize = (10,10))\n",
        "y_hat = np.dot(data_m9, theta)\n",
        "\n",
        "plt.scatter(train_x, train_y, color='red')\n",
        "plt.scatter(train_x, y_hat, color='blue')\n",
        "plt.legend(['y-train values', 'y-predicted values'])"
      ],
      "metadata": {
        "colab": {
          "base_uri": "https://localhost:8080/",
          "height": 610
        },
        "id": "1IXozyJQ4W2z",
        "outputId": "2509e828-9f44-4c42-8b8c-e041f0e9c523"
      },
      "execution_count": 81,
      "outputs": [
        {
          "output_type": "execute_result",
          "data": {
            "text/plain": [
              "<matplotlib.legend.Legend at 0x7faa17605290>"
            ]
          },
          "metadata": {},
          "execution_count": 81
        },
        {
          "output_type": "display_data",
          "data": {
            "text/plain": [
              "<Figure size 720x720 with 1 Axes>"
            ],
            "image/png": "[encoded data removed]"
          },
          "metadata": {
            "needs_background": "light"
          }
        }
      ]
    },
    {
      "cell_type": "code",
      "source": [
        "rmse = math.sqrt(((train_y - y_hat)**2).mean())\n",
        "rmse"
      ],
      "metadata": {
        "colab": {
          "base_uri": "https://localhost:8080/"
        },
        "id": "N1MnytRJ4qMX",
        "outputId": "a556a0bd-f54e-41f0-dcc4-6aa72c66c359"
      },
      "execution_count": 73,
      "outputs": [
        {
          "output_type": "execute_result",
          "data": {
            "text/plain": [
              "0.9524900003988467"
            ]
          },
          "metadata": {},
          "execution_count": 73
        }
      ]
    },
    {
      "cell_type": "code",
      "source": [
        "data_9_test = pd.DataFrame([test_x**9, test_x**8, test_x**7, test_x**6, test_x**5, test_x**4, test_x**3, test_x**2, test_x, np.ones(len(test_x))])\n",
        "data_9_test = data_9_test.T\n",
        "data_9_test.columns = ['x^9', 'x^8', 'x^7', 'x^6', 'x^5' , 'x^4', 'x^3', 'x^2', 'x', 'ones']\n",
        "y_hat_test = np.dot(data_9_test, theta)\n",
        "\n",
        "plt.figure(figsize = (10,10))\n",
        "plt.scatter(test_x, test_y, color='orange')\n",
        "plt.scatter(test_x, y_hat_test, color='purple')\n",
        "plt.legend(['y-test values', 'y-predicted value'])\n",
        "\n",
        "rmse = math.sqrt(((test_y - np.dot(data_9_test, theta)) ** 2).mean())\n",
        "print(f'RMSE is -> {rmse}')"
      ],
      "metadata": {
        "colab": {
          "base_uri": "https://localhost:8080/",
          "height": 610
        },
        "id": "v81MspM14uoJ",
        "outputId": "e404d4c2-5182-4aae-b884-ffe15e5f95cc"
      },
      "execution_count": 80,
      "outputs": [
        {
          "output_type": "stream",
          "name": "stdout",
          "text": [
            "RMSE is -> 1.0172988917400043\n"
          ]
        },
        {
          "output_type": "display_data",
          "data": {
            "text/plain": [
              "<Figure size 720x720 with 1 Axes>"
            ],
            "image/png": "[encoded data removed]"
          },
          "metadata": {
            "needs_background": "light"
          }
        }
      ]
    },
    {
      "cell_type": "markdown",
      "source": [
        "## (b) Also, estimate the ε- Support Vector Regression model using the sub gradient descent method and RBF (Gaussian Kernel). Find the best RMSE and MAE by tuning the value of RBF kernel parameter σ, regularization parameter λ and ε . Find the sparsity of the obtained solution vector α."
      ],
      "metadata": {
        "id": "DFOxJPkl7QeB"
      }
    },
    {
      "cell_type": "code",
      "source": [
        "X = np.random.uniform(0.0,1.0,1000)\n",
        "\n",
        "def my_kernel(X,Y,sigma):\n",
        "  K = np.zeros((X.shape[0],Y.shape[0]))\n",
        "  for i,x in enumerate(X):\n",
        "    for j,y in enumerate(Y):\n",
        "      K[i,j] = np.exp((-(np.linalg.norm(x-y)**2))/(sigma))\n",
        "  return K\n",
        "\n",
        "x = my_kernel(X,X, 2**-8)\n",
        "x"
      ],
      "metadata": {
        "colab": {
          "base_uri": "https://localhost:8080/"
        },
        "id": "Gx9b0Ctp6LbC",
        "outputId": "4bbc1c93-76b9-4799-ad34-2e2178aa9b24"
      },
      "execution_count": 76,
      "outputs": [
        {
          "output_type": "execute_result",
          "data": {
            "text/plain": [
              "array([[1.00000000e+00, 6.91088068e-14, 4.98537871e-80, ...,\n",
              "        2.37155932e-02, 3.42756445e-01, 8.96155149e-32],\n",
              "       [6.91088068e-14, 1.00000000e+00, 1.40779691e-28, ...,\n",
              "        2.90682119e-06, 2.67221046e-19, 1.65838542e-04],\n",
              "       [4.98537871e-80, 1.40779691e-28, 1.00000000e+00, ...,\n",
              "        5.97514081e-59, 1.22305053e-92, 7.76503477e-12],\n",
              "       ...,\n",
              "       [2.37155932e-02, 2.90682119e-06, 5.97514081e-59, ...,\n",
              "        1.00000000e+00, 1.48414755e-04, 3.41378364e-19],\n",
              "       [3.42756445e-01, 2.67221046e-19, 1.22305053e-92, ...,\n",
              "        1.48414755e-04, 1.00000000e+00, 7.72687004e-40],\n",
              "       [8.96155149e-32, 1.65838542e-04, 7.76503477e-12, ...,\n",
              "        3.41378364e-19, 7.72687004e-40, 1.00000000e+00]])"
            ]
          },
          "metadata": {},
          "execution_count": 76
        }
      ]
    },
    {
      "cell_type": "code",
      "source": [
        "h_mat = np.zeros([1000,1000])\n",
        "sigma = 2**-7\n",
        "def kernel(x1, x2, sigma):\n",
        "  return np.exp(((-1) / (2 * sigma)) * np.linalg.norm(x1-x2)**2)\n",
        "\n",
        "for i in range(len(data_m9)):\n",
        "  if i % 100 == 0:\n",
        "    print(i)\n",
        "  for j in range(len(data_m9)):\n",
        "    h_mat[i,j] = kernel(data_m9.iloc[i], data_m9.iloc[j], sigma)"
      ],
      "metadata": {
        "colab": {
          "base_uri": "https://localhost:8080/"
        },
        "id": "JgEKutdU7AF6",
        "outputId": "70a841b2-f723-4ec0-c9b5-b52dd882dbd9"
      },
      "execution_count": 77,
      "outputs": [
        {
          "output_type": "stream",
          "name": "stdout",
          "text": [
            "0\n",
            "100\n",
            "200\n",
            "300\n",
            "400\n",
            "500\n",
            "600\n",
            "700\n",
            "800\n",
            "900\n"
          ]
        }
      ]
    },
    {
      "cell_type": "code",
      "source": [
        "lmda = 2**(-1)\n",
        "alpha = 0.00001\n",
        "theta = np.array([0 for _ in range(len(data_m9) + 1)])\n",
        "b = 0\n",
        "sigma = 2**-8\n",
        "h_mat = np.column_stack((h_mat, np.ones(1000)))\n",
        "for k in range(500):\n",
        "  sub_grad = (2**(-1)*theta - np.dot(h_mat.T,np.sign(train_y - np.dot(h_mat,theta))))\n",
        "  theta = theta - sub_grad*alpha"
      ],
      "metadata": {
        "id": "UkvlpLux7PfM"
      },
      "execution_count": 82,
      "outputs": []
    },
    {
      "cell_type": "code",
      "source": [
        "y_hat = []\n",
        "\n",
        "for i in range(len(data_m9)):\n",
        "  y_hat.append(np.dot(h_mat[i].T, theta) + b)\n",
        "\n",
        "plt.figure(figsize=(10,10))\n",
        "plt.scatter(train_x, train_y, color='red')\n",
        "plt.scatter(train_x, y_hat, color='blue')"
      ],
      "metadata": {
        "colab": {
          "base_uri": "https://localhost:8080/",
          "height": 610
        },
        "id": "473qJmh87VKW",
        "outputId": "190aec64-00e2-4cdc-bf9f-6950778b7ad4"
      },
      "execution_count": 83,
      "outputs": [
        {
          "output_type": "execute_result",
          "data": {
            "text/plain": [
              "<matplotlib.collections.PathCollection at 0x7faa17686250>"
            ]
          },
          "metadata": {},
          "execution_count": 83
        },
        {
          "output_type": "display_data",
          "data": {
            "text/plain": [
              "<Figure size 720x720 with 1 Axes>"
            ],
            "image/png": "[encoded data removed]"
          },
          "metadata": {
            "needs_background": "light"
          }
        }
      ]
    },
    {
      "cell_type": "markdown",
      "source": [
        "# 2. Consider the motorcycle dataset. Estimate the L1- norm kernel regression model using RBF kernel (Gaussian Kernel) . Find the best RMSE and MAE using leave- one out by tuning the value of kernel parameter σ and regularization parameter λ. Also obtain the corresponding plot of best estimate."
      ],
      "metadata": {
        "id": "6VzO7fxm7j_h"
      }
    },
    {
      "cell_type": "code",
      "source": [
        "motorcycle_data = pd.read_excel(\"/content/motorcycle.xlsx\")"
      ],
      "metadata": {
        "id": "ChLIkDqq7mNQ"
      },
      "execution_count": 78,
      "outputs": []
    },
    {
      "cell_type": "code",
      "source": [
        "scaled_x = (motorcycle_data['x'] - motorcycle_data['x'].mean()) / (motorcycle_data['x'].max() - motorcycle_data['x'].min())\n",
        "# scaled_x = motorcycle_data['x']\n",
        "\n",
        "data_m9 = pd.DataFrame([scaled_x**9 ,scaled_x**8, scaled_x**7 ,scaled_x**6, scaled_x**5, scaled_x**4, scaled_x**3, scaled_x**2, scaled_x, np.ones(len(scaled_x))])\n",
        "data_m9 = data_m9.T\n",
        "6\n",
        "data_m9.columns = ['x^9', 'x^8', 'x^7', 'x^6', 'x^5' , 'x^4', 'x^3', 'x^2', 'x', 'ones']\n",
        "data_m9"
      ],
      "metadata": {
        "colab": {
          "base_uri": "https://localhost:8080/",
          "height": 423
        },
        "id": "3eAKqOBV7wwM",
        "outputId": "4af994d7-ce04-40ef-c2fe-003b9413abce"
      },
      "execution_count": 85,
      "outputs": [
        {
          "output_type": "execute_result",
          "data": {
            "text/plain": [
              "          x^9       x^8       x^7       x^6       x^5       x^4       x^3  \\\n",
              "0   -0.000347  0.000841 -0.002038  0.004938 -0.011967  0.028999 -0.070272   \n",
              "1   -0.000321  0.000784 -0.001916  0.004684 -0.011450  0.027994 -0.068437   \n",
              "2   -0.000252  0.000632 -0.001587  0.003985 -0.010008  0.025135 -0.063125   \n",
              "3   -0.000213  0.000545 -0.001395  0.003569 -0.009130  0.023354 -0.059741   \n",
              "4   -0.000180  0.000470 -0.001224  0.003190 -0.008314  0.021670 -0.056480   \n",
              "..        ...       ...       ...       ...       ...       ...       ...   \n",
              "128  0.002238  0.004409  0.008686  0.017111  0.033708  0.066402  0.130809   \n",
              "129  0.003920  0.007256  0.013430  0.024860  0.046017  0.085180  0.157671   \n",
              "130  0.003920  0.007256  0.013430  0.024860  0.046017  0.085180  0.157671   \n",
              "131  0.004419  0.008072  0.014743  0.026929  0.049187  0.089843  0.164101   \n",
              "132  0.008317  0.014161  0.024111  0.041051  0.069894  0.119001  0.202612   \n",
              "\n",
              "          x^2         x  ones  \n",
              "0    0.170290 -0.412662   1.0  \n",
              "1    0.167313 -0.409039   1.0  \n",
              "2    0.158539 -0.398169   1.0  \n",
              "3    0.152821 -0.390923   1.0  \n",
              "4    0.147208 -0.383677   1.0  \n",
              "..        ...       ...   ...  \n",
              "128  0.257686  0.507628   1.0  \n",
              "129  0.291855  0.540236   1.0  \n",
              "130  0.291855  0.540236   1.0  \n",
              "131  0.299737  0.547483   1.0  \n",
              "132  0.344966  0.587338   1.0  \n",
              "\n",
              "[133 rows x 10 columns]"
            ],
            "text/html": [
              "\n",
              "  <div id=\"df-eb080046-779d-45a6-8be1-8fb096782701\">\n",
              "    <div class=\"colab-df-container\">\n",
              "      <div>\n",
              "<style scoped>\n",
              "    .dataframe tbody tr th:only-of-type {\n",
              "        vertical-align: middle;\n",
              "    }\n",
              "\n",
              "    .dataframe tbody tr th {\n",
              "        vertical-align: top;\n",
              "    }\n",
              "\n",
              "    .dataframe thead th {\n",
              "        text-align: right;\n",
              "    }\n",
              "</style>\n",
              "<table border=\"1\" class=\"dataframe\">\n",
              "  <thead>\n",
              "    <tr style=\"text-align: right;\">\n",
              "      <th></th>\n",
              "      <th>x^9</th>\n",
              "      <th>x^8</th>\n",
              "      <th>x^7</th>\n",
              "      <th>x^6</th>\n",
              "      <th>x^5</th>\n",
              "      <th>x^4</th>\n",
              "      <th>x^3</th>\n",
              "      <th>x^2</th>\n",
              "      <th>x</th>\n",
              "      <th>ones</th>\n",
              "    </tr>\n",
              "  </thead>\n",
              "  <tbody>\n",
              "    <tr>\n",
              "      <th>0</th>\n",
              "      <td>-0.000347</td>\n",
              "      <td>0.000841</td>\n",
              "      <td>-0.002038</td>\n",
              "      <td>0.004938</td>\n",
              "      <td>-0.011967</td>\n",
              "      <td>0.028999</td>\n",
              "      <td>-0.070272</td>\n",
              "      <td>0.170290</td>\n",
              "      <td>-0.412662</td>\n",
              "      <td>1.0</td>\n",
              "    </tr>\n",
              "    <tr>\n",
              "      <th>1</th>\n",
              "      <td>-0.000321</td>\n",
              "      <td>0.000784</td>\n",
              "      <td>-0.001916</td>\n",
              "      <td>0.004684</td>\n",
              "      <td>-0.011450</td>\n",
              "      <td>0.027994</td>\n",
              "      <td>-0.068437</td>\n",
              "      <td>0.167313</td>\n",
              "      <td>-0.409039</td>\n",
              "      <td>1.0</td>\n",
              "    </tr>\n",
              "    <tr>\n",
              "      <th>2</th>\n",
              "      <td>-0.000252</td>\n",
              "      <td>0.000632</td>\n",
              "      <td>-0.001587</td>\n",
              "      <td>0.003985</td>\n",
              "      <td>-0.010008</td>\n",
              "      <td>0.025135</td>\n",
              "      <td>-0.063125</td>\n",
              "      <td>0.158539</td>\n",
              "      <td>-0.398169</td>\n",
              "      <td>1.0</td>\n",
              "    </tr>\n",
              "    <tr>\n",
              "      <th>3</th>\n",
              "      <td>-0.000213</td>\n",
              "      <td>0.000545</td>\n",
              "      <td>-0.001395</td>\n",
              "      <td>0.003569</td>\n",
              "      <td>-0.009130</td>\n",
              "      <td>0.023354</td>\n",
              "      <td>-0.059741</td>\n",
              "      <td>0.152821</td>\n",
              "      <td>-0.390923</td>\n",
              "      <td>1.0</td>\n",
              "    </tr>\n",
              "    <tr>\n",
              "      <th>4</th>\n",
              "      <td>-0.000180</td>\n",
              "      <td>0.000470</td>\n",
              "      <td>-0.001224</td>\n",
              "      <td>0.003190</td>\n",
              "      <td>-0.008314</td>\n",
              "      <td>0.021670</td>\n",
              "      <td>-0.056480</td>\n",
              "      <td>0.147208</td>\n",
              "      <td>-0.383677</td>\n",
              "      <td>1.0</td>\n",
              "    </tr>\n",
              "    <tr>\n",
              "      <th>...</th>\n",
              "      <td>...</td>\n",
              "      <td>...</td>\n",
              "      <td>...</td>\n",
              "      <td>...</td>\n",
              "      <td>...</td>\n",
              "      <td>...</td>\n",
              "      <td>...</td>\n",
              "      <td>...</td>\n",
              "      <td>...</td>\n",
              "      <td>...</td>\n",
              "    </tr>\n",
              "    <tr>\n",
              "      <th>128</th>\n",
              "      <td>0.002238</td>\n",
              "      <td>0.004409</td>\n",
              "      <td>0.008686</td>\n",
              "      <td>0.017111</td>\n",
              "      <td>0.033708</td>\n",
              "      <td>0.066402</td>\n",
              "      <td>0.130809</td>\n",
              "      <td>0.257686</td>\n",
              "      <td>0.507628</td>\n",
              "      <td>1.0</td>\n",
              "    </tr>\n",
              "    <tr>\n",
              "      <th>129</th>\n",
              "      <td>0.003920</td>\n",
              "      <td>0.007256</td>\n",
              "      <td>0.013430</td>\n",
              "      <td>0.024860</td>\n",
              "      <td>0.046017</td>\n",
              "      <td>0.085180</td>\n",
              "      <td>0.157671</td>\n",
              "      <td>0.291855</td>\n",
              "      <td>0.540236</td>\n",
              "      <td>1.0</td>\n",
              "    </tr>\n",
              "    <tr>\n",
              "      <th>130</th>\n",
              "      <td>0.003920</td>\n",
              "      <td>0.007256</td>\n",
              "      <td>0.013430</td>\n",
              "      <td>0.024860</td>\n",
              "      <td>0.046017</td>\n",
              "      <td>0.085180</td>\n",
              "      <td>0.157671</td>\n",
              "      <td>0.291855</td>\n",
              "      <td>0.540236</td>\n",
              "      <td>1.0</td>\n",
              "    </tr>\n",
              "    <tr>\n",
              "      <th>131</th>\n",
              "      <td>0.004419</td>\n",
              "      <td>0.008072</td>\n",
              "      <td>0.014743</td>\n",
              "      <td>0.026929</td>\n",
              "      <td>0.049187</td>\n",
              "      <td>0.089843</td>\n",
              "      <td>0.164101</td>\n",
              "      <td>0.299737</td>\n",
              "      <td>0.547483</td>\n",
              "      <td>1.0</td>\n",
              "    </tr>\n",
              "    <tr>\n",
              "      <th>132</th>\n",
              "      <td>0.008317</td>\n",
              "      <td>0.014161</td>\n",
              "      <td>0.024111</td>\n",
              "      <td>0.041051</td>\n",
              "      <td>0.069894</td>\n",
              "      <td>0.119001</td>\n",
              "      <td>0.202612</td>\n",
              "      <td>0.344966</td>\n",
              "      <td>0.587338</td>\n",
              "      <td>1.0</td>\n",
              "    </tr>\n",
              "  </tbody>\n",
              "</table>\n",
              "<p>133 rows × 10 columns</p>\n",
              "</div>\n",
              "      <button class=\"colab-df-convert\" onclick=\"convertToInteractive('df-eb080046-779d-45a6-8be1-8fb096782701')\"\n",
              "              title=\"Convert this dataframe to an interactive table.\"\n",
              "              style=\"display:none;\">\n",
              "        \n",
              "  <svg xmlns=\"http://www.w3.org/2000/svg\" height=\"24px\"viewBox=\"0 0 24 24\"\n",
              "       width=\"24px\">\n",
              "    <path d=\"M0 0h24v24H0V0z\" fill=\"none\"/>\n",
              "    <path d=\"M18.56 5.44l.94 2.06.94-2.06 2.06-.94-2.06-.94-.94-2.06-.94 2.06-2.06.94zm-11 1L8.5 8.5l.94-2.06 2.06-.94-2.06-.94L8.5 2.5l-.94 2.06-2.06.94zm10 10l.94 2.06.94-2.06 2.06-.94-2.06-.94-.94-2.06-.94 2.06-2.06.94z\"/><path d=\"M17.41 7.96l-1.37-1.37c-.4-.4-.92-.59-1.43-.59-.52 0-1.04.2-1.43.59L10.3 9.45l-7.72 7.72c-.78.78-.78 2.05 0 2.83L4 21.41c.39.39.9.59 1.41.59.51 0 1.02-.2 1.41-.59l7.78-7.78 2.81-2.81c.8-.78.8-2.07 0-2.86zM5.41 20L4 18.59l7.72-7.72 1.47 1.35L5.41 20z\"/>\n",
              "  </svg>\n",
              "      </button>\n",
              "      \n",
              "  <style>\n",
              "    .colab-df-container {\n",
              "      display:flex;\n",
              "      flex-wrap:wrap;\n",
              "      gap: 12px;\n",
              "    }\n",
              "\n",
              "    .colab-df-convert {\n",
              "      background-color: #E8F0FE;\n",
              "      border: none;\n",
              "      border-radius: 50%;\n",
              "      cursor: pointer;\n",
              "      display: none;\n",
              "      fill: #1967D2;\n",
              "      height: 32px;\n",
              "      padding: 0 0 0 0;\n",
              "      width: 32px;\n",
              "    }\n",
              "\n",
              "    .colab-df-convert:hover {\n",
              "      background-color: #E2EBFA;\n",
              "      box-shadow: 0px 1px 2px rgba(60, 64, 67, 0.3), 0px 1px 3px 1px rgba(60, 64, 67, 0.15);\n",
              "      fill: #174EA6;\n",
              "    }\n",
              "\n",
              "    [theme=dark] .colab-df-convert {\n",
              "      background-color: #3B4455;\n",
              "      fill: #D2E3FC;\n",
              "    }\n",
              "\n",
              "    [theme=dark] .colab-df-convert:hover {\n",
              "      background-color: #434B5C;\n",
              "      box-shadow: 0px 1px 3px 1px rgba(0, 0, 0, 0.15);\n",
              "      filter: drop-shadow(0px 1px 2px rgba(0, 0, 0, 0.3));\n",
              "      fill: #FFFFFF;\n",
              "    }\n",
              "  </style>\n",
              "\n",
              "      <script>\n",
              "        const buttonEl =\n",
              "          document.querySelector('#df-eb080046-779d-45a6-8be1-8fb096782701 button.colab-df-convert');\n",
              "        buttonEl.style.display =\n",
              "          google.colab.kernel.accessAllowed ? 'block' : 'none';\n",
              "\n",
              "        async function convertToInteractive(key) {\n",
              "          const element = document.querySelector('#df-eb080046-779d-45a6-8be1-8fb096782701');\n",
              "          const dataTable =\n",
              "            await google.colab.kernel.invokeFunction('convertToInteractive',\n",
              "                                                     [key], {});\n",
              "          if (!dataTable) return;\n",
              "\n",
              "          const docLinkHtml = 'Like what you see? Visit the ' +\n",
              "            '<a target=\"_blank\" href=https://colab.research.google.com/notebooks/data_table.ipynb>data table notebook</a>'\n",
              "            + ' to learn more about interactive tables.';\n",
              "          element.innerHTML = '';\n",
              "          dataTable['output_type'] = 'display_data';\n",
              "          await google.colab.output.renderOutput(dataTable, element);\n",
              "          const docLink = document.createElement('div');\n",
              "          docLink.innerHTML = docLinkHtml;\n",
              "          element.appendChild(docLink);\n",
              "        }\n",
              "      </script>\n",
              "    </div>\n",
              "  </div>\n",
              "  "
            ]
          },
          "metadata": {},
          "execution_count": 85
        }
      ]
    },
    {
      "cell_type": "code",
      "source": [
        "lmda = 0.00015\n",
        "alpha = 0.8\n",
        "theta = np.array([0 for _ in range(len(data_m9))])\n",
        "b = 0\n",
        "sigma = 2**-8\n",
        "\n",
        "def kernel(x1, x2, sigma):\n",
        "  d = (x1 - x2)**2\n",
        "  d = ((-1) / (2 * sigma**2)) * d\n",
        "  ans = math.e ** (d.sum())\n",
        "  return ans\n",
        "\n",
        "\n",
        "def create_kernel_vector(i):\n",
        "  temp = []\n",
        "  for j in range(len(data_m9)):\n",
        "    temp.append(kernel(data_m9.iloc[i], data_m9.iloc[j], sigma))\n",
        "  return np.array(temp)\n",
        "\n",
        "\n",
        "for k in range(50):\n",
        "  main_vector = []\n",
        "  b_vector = []\n",
        "  \n",
        "  for i in range(len(data_m9)):\n",
        "    b_temp = 1\n",
        "    temp1 = create_kernel_vector(i)\n",
        "    temp2 = np.dot(temp1, theta.T) + b\n",
        "\n",
        "    if motorcycle_data['y'].iloc[i] - temp2 > 0:\n",
        "      temp1 = temp1 * (-1)\n",
        "      b_temp *= (-1)\n",
        "\n",
        "    elif motorcycle_data['y'].iloc[i] - temp2 == 0:\n",
        "      temp1 = np.random.uniform(-1,1) * temp1\n",
        "      b_temp *= np.random.uniform(-1,1)\n",
        "  \n",
        "    main_vector.append(temp1)\n",
        "    b_vector.append(b_temp)\n",
        "  \n",
        "  main_vector = pd.DataFrame(main_vector)\n",
        "  temp = lmda * theta + (1/2) * main_vector.sum()\n",
        "  theta = theta - alpha * temp\n",
        "  b = b - alpha * (1/2) * sum(b_vector)"
      ],
      "metadata": {
        "id": "2Aa1Htn28hVU"
      },
      "execution_count": null,
      "outputs": []
    },
    {
      "cell_type": "code",
      "source": [
        "y_hat = []\n",
        "for i in range(len(data_m9)):\n",
        "temp1 = create_kernel_vector(i)\n",
        "y_hat.append(np.dot(temp1.T, theta) + b)"
      ],
      "metadata": {
        "id": "-1NlDq6K9TXB"
      },
      "execution_count": null,
      "outputs": []
    }
  ]
}